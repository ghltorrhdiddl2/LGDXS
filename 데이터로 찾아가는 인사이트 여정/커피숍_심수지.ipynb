{
 "cells": [
  {
   "cell_type": "code",
   "execution_count": 1,
   "id": "6350d08f-0ab0-4ed5-92f4-3e7e210fbef5",
   "metadata": {},
   "outputs": [],
   "source": [
    "import pandas as pd"
   ]
  },
  {
   "cell_type": "code",
   "execution_count": 7,
   "id": "7f48ba8e-bd9d-45f1-86d4-736f5a0d2e8a",
   "metadata": {},
   "outputs": [
    {
     "data": {
      "text/html": [
       "<div>\n",
       "<style scoped>\n",
       "    .dataframe tbody tr th:only-of-type {\n",
       "        vertical-align: middle;\n",
       "    }\n",
       "\n",
       "    .dataframe tbody tr th {\n",
       "        vertical-align: top;\n",
       "    }\n",
       "\n",
       "    .dataframe thead th {\n",
       "        text-align: right;\n",
       "    }\n",
       "</style>\n",
       "<table border=\"1\" class=\"dataframe\">\n",
       "  <thead>\n",
       "    <tr style=\"text-align: right;\">\n",
       "      <th></th>\n",
       "      <th>거래번호</th>\n",
       "      <th>거래날짜</th>\n",
       "      <th>거래시간</th>\n",
       "      <th>거래수량</th>\n",
       "      <th>카페일련번호</th>\n",
       "      <th>카페지역</th>\n",
       "      <th>상품번호</th>\n",
       "      <th>제품가격</th>\n",
       "      <th>카테고리</th>\n",
       "      <th>제품명</th>\n",
       "      <th>제품설명</th>\n",
       "    </tr>\n",
       "  </thead>\n",
       "  <tbody>\n",
       "    <tr>\n",
       "      <th>0</th>\n",
       "      <td>1</td>\n",
       "      <td>2023-01-01</td>\n",
       "      <td>7:06:11</td>\n",
       "      <td>2</td>\n",
       "      <td>5</td>\n",
       "      <td>Lower Manhattan</td>\n",
       "      <td>32</td>\n",
       "      <td>3.0</td>\n",
       "      <td>Coffee</td>\n",
       "      <td>Gourmet brewed coffee</td>\n",
       "      <td>Ethiopia Rg</td>\n",
       "    </tr>\n",
       "    <tr>\n",
       "      <th>1</th>\n",
       "      <td>2</td>\n",
       "      <td>2023-01-01</td>\n",
       "      <td>7:08:56</td>\n",
       "      <td>2</td>\n",
       "      <td>5</td>\n",
       "      <td>Lower Manhattan</td>\n",
       "      <td>57</td>\n",
       "      <td>3.1</td>\n",
       "      <td>Tea</td>\n",
       "      <td>Brewed Chai tea</td>\n",
       "      <td>Spicy Eye Opener Chai Lg</td>\n",
       "    </tr>\n",
       "    <tr>\n",
       "      <th>2</th>\n",
       "      <td>3</td>\n",
       "      <td>2023-01-01</td>\n",
       "      <td>7:14:04</td>\n",
       "      <td>2</td>\n",
       "      <td>5</td>\n",
       "      <td>Lower Manhattan</td>\n",
       "      <td>59</td>\n",
       "      <td>4.5</td>\n",
       "      <td>Drinking Chocolate</td>\n",
       "      <td>Hot chocolate</td>\n",
       "      <td>Dark chocolate Lg</td>\n",
       "    </tr>\n",
       "    <tr>\n",
       "      <th>3</th>\n",
       "      <td>4</td>\n",
       "      <td>2023-01-01</td>\n",
       "      <td>7:20:24</td>\n",
       "      <td>1</td>\n",
       "      <td>5</td>\n",
       "      <td>Lower Manhattan</td>\n",
       "      <td>22</td>\n",
       "      <td>2.0</td>\n",
       "      <td>Coffee</td>\n",
       "      <td>Drip coffee</td>\n",
       "      <td>Our Old Time Diner Blend Sm</td>\n",
       "    </tr>\n",
       "    <tr>\n",
       "      <th>4</th>\n",
       "      <td>5</td>\n",
       "      <td>2023-01-01</td>\n",
       "      <td>7:22:41</td>\n",
       "      <td>2</td>\n",
       "      <td>5</td>\n",
       "      <td>Lower Manhattan</td>\n",
       "      <td>57</td>\n",
       "      <td>3.1</td>\n",
       "      <td>Tea</td>\n",
       "      <td>Brewed Chai tea</td>\n",
       "      <td>Spicy Eye Opener Chai Lg</td>\n",
       "    </tr>\n",
       "  </tbody>\n",
       "</table>\n",
       "</div>"
      ],
      "text/plain": [
       "   거래번호        거래날짜     거래시간  거래수량  카페일련번호             카페지역  상품번호  제품가격  \\\n",
       "0     1  2023-01-01  7:06:11     2       5  Lower Manhattan    32   3.0   \n",
       "1     2  2023-01-01  7:08:56     2       5  Lower Manhattan    57   3.1   \n",
       "2     3  2023-01-01  7:14:04     2       5  Lower Manhattan    59   4.5   \n",
       "3     4  2023-01-01  7:20:24     1       5  Lower Manhattan    22   2.0   \n",
       "4     5  2023-01-01  7:22:41     2       5  Lower Manhattan    57   3.1   \n",
       "\n",
       "                 카테고리                    제품명                         제품설명  \n",
       "0              Coffee  Gourmet brewed coffee                  Ethiopia Rg  \n",
       "1                 Tea        Brewed Chai tea     Spicy Eye Opener Chai Lg  \n",
       "2  Drinking Chocolate          Hot chocolate            Dark chocolate Lg  \n",
       "3              Coffee            Drip coffee  Our Old Time Diner Blend Sm  \n",
       "4                 Tea        Brewed Chai tea     Spicy Eye Opener Chai Lg  "
      ]
     },
     "execution_count": 7,
     "metadata": {},
     "output_type": "execute_result"
    }
   ],
   "source": [
    "df = pd.read_csv(\"./data/Coffee Shop Sales.csv\")\n",
    "df.head()"
   ]
  },
  {
   "cell_type": "code",
   "execution_count": 11,
   "id": "91ed03eb-13d0-4062-80be-f81298ae9270",
   "metadata": {},
   "outputs": [
    {
     "data": {
      "text/plain": [
       "(149116, 11)"
      ]
     },
     "execution_count": 11,
     "metadata": {},
     "output_type": "execute_result"
    }
   ],
   "source": [
    "df.shape"
   ]
  },
  {
   "cell_type": "code",
   "execution_count": 9,
   "id": "a17e152e-7c07-4854-a4d3-4fe70a215b57",
   "metadata": {},
   "outputs": [
    {
     "name": "stdout",
     "output_type": "stream",
     "text": [
      "<class 'pandas.core.frame.DataFrame'>\n",
      "RangeIndex: 149116 entries, 0 to 149115\n",
      "Data columns (total 11 columns):\n",
      " #   Column  Non-Null Count   Dtype  \n",
      "---  ------  --------------   -----  \n",
      " 0   거래번호    149116 non-null  int64  \n",
      " 1   거래날짜    149116 non-null  object \n",
      " 2   거래시간    149116 non-null  object \n",
      " 3   거래수량    149116 non-null  int64  \n",
      " 4   카페일련번호  149116 non-null  int64  \n",
      " 5   카페지역    149116 non-null  object \n",
      " 6   상품번호    149116 non-null  int64  \n",
      " 7   제품가격    149116 non-null  float64\n",
      " 8   카테고리    149116 non-null  object \n",
      " 9   제품명     149116 non-null  object \n",
      " 10  제품설명    149116 non-null  object \n",
      "dtypes: float64(1), int64(4), object(6)\n",
      "memory usage: 12.5+ MB\n"
     ]
    }
   ],
   "source": [
    "df.info()"
   ]
  },
  {
   "cell_type": "markdown",
   "id": "233213de-0ab4-48f7-9523-7b00323b5407",
   "metadata": {},
   "source": [
    "- 날짜, 시간 dtype변환"
   ]
  },
  {
   "cell_type": "code",
   "execution_count": null,
   "id": "a78af4ae-47ef-4163-8a3e-3c5a6346ec1e",
   "metadata": {},
   "outputs": [],
   "source": []
  }
 ],
 "metadata": {
  "kernelspec": {
   "display_name": "Python [conda env:base] *",
   "language": "python",
   "name": "conda-base-py"
  },
  "language_info": {
   "codemirror_mode": {
    "name": "ipython",
    "version": 3
   },
   "file_extension": ".py",
   "mimetype": "text/x-python",
   "name": "python",
   "nbconvert_exporter": "python",
   "pygments_lexer": "ipython3",
   "version": "3.12.7"
  }
 },
 "nbformat": 4,
 "nbformat_minor": 5
}
