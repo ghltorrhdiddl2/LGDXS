{
 "cells": [
  {
   "cell_type": "code",
   "execution_count": 5,
   "id": "1616415f-de05-449a-900a-9c45cfe8f4d7",
   "metadata": {},
   "outputs": [],
   "source": [
    "import pandas as pd\n",
    "train = pd.read_csv('./part2/ch4/train.csv')\n",
    "test = pd.read_csv('./part2/ch4/test.csv')"
   ]
  },
  {
   "cell_type": "code",
   "execution_count": 7,
   "id": "318c937a-a994-4070-baa7-49b8d7377ec9",
   "metadata": {},
   "outputs": [
    {
     "data": {
      "text/plain": [
       "((6818, 12), (1705, 11))"
      ]
     },
     "execution_count": 7,
     "metadata": {},
     "output_type": "execute_result"
    }
   ],
   "source": [
    "train.shape, test.shape"
   ]
  },
  {
   "cell_type": "code",
   "execution_count": 9,
   "id": "e400ec6c-be35-43ef-a529-d79e8af8a05f",
   "metadata": {},
   "outputs": [
    {
     "data": {
      "text/html": [
       "<div>\n",
       "<style scoped>\n",
       "    .dataframe tbody tr th:only-of-type {\n",
       "        vertical-align: middle;\n",
       "    }\n",
       "\n",
       "    .dataframe tbody tr th {\n",
       "        vertical-align: top;\n",
       "    }\n",
       "\n",
       "    .dataframe thead th {\n",
       "        text-align: right;\n",
       "    }\n",
       "</style>\n",
       "<table border=\"1\" class=\"dataframe\">\n",
       "  <thead>\n",
       "    <tr style=\"text-align: right;\">\n",
       "      <th></th>\n",
       "      <th>Item_Identifier</th>\n",
       "      <th>Item_Weight</th>\n",
       "      <th>Item_Fat_Content</th>\n",
       "      <th>Item_Visibility</th>\n",
       "      <th>Item_Type</th>\n",
       "      <th>Item_MRP</th>\n",
       "      <th>Outlet_Identifier</th>\n",
       "      <th>Outlet_Establishment_Year</th>\n",
       "      <th>Outlet_Size</th>\n",
       "      <th>Outlet_Location_Type</th>\n",
       "      <th>Outlet_Type</th>\n",
       "      <th>Item_Outlet_Sales</th>\n",
       "    </tr>\n",
       "  </thead>\n",
       "  <tbody>\n",
       "    <tr>\n",
       "      <th>0</th>\n",
       "      <td>NCR06</td>\n",
       "      <td>12.500</td>\n",
       "      <td>Low Fat</td>\n",
       "      <td>0.006760</td>\n",
       "      <td>Household</td>\n",
       "      <td>42.8112</td>\n",
       "      <td>OUT013</td>\n",
       "      <td>1987</td>\n",
       "      <td>High</td>\n",
       "      <td>Tier 3</td>\n",
       "      <td>Supermarket Type1</td>\n",
       "      <td>639.1680</td>\n",
       "    </tr>\n",
       "    <tr>\n",
       "      <th>1</th>\n",
       "      <td>FDW11</td>\n",
       "      <td>12.600</td>\n",
       "      <td>Low Fat</td>\n",
       "      <td>0.048741</td>\n",
       "      <td>Breads</td>\n",
       "      <td>60.4194</td>\n",
       "      <td>OUT013</td>\n",
       "      <td>1987</td>\n",
       "      <td>High</td>\n",
       "      <td>Tier 3</td>\n",
       "      <td>Supermarket Type1</td>\n",
       "      <td>990.7104</td>\n",
       "    </tr>\n",
       "    <tr>\n",
       "      <th>2</th>\n",
       "      <td>FDH32</td>\n",
       "      <td>12.800</td>\n",
       "      <td>Low Fat</td>\n",
       "      <td>0.075997</td>\n",
       "      <td>Fruits and Vegetables</td>\n",
       "      <td>97.1410</td>\n",
       "      <td>OUT013</td>\n",
       "      <td>1987</td>\n",
       "      <td>High</td>\n",
       "      <td>Tier 3</td>\n",
       "      <td>Supermarket Type1</td>\n",
       "      <td>2799.6890</td>\n",
       "    </tr>\n",
       "    <tr>\n",
       "      <th>3</th>\n",
       "      <td>FDL52</td>\n",
       "      <td>6.635</td>\n",
       "      <td>Regular</td>\n",
       "      <td>0.046351</td>\n",
       "      <td>Frozen Foods</td>\n",
       "      <td>37.4506</td>\n",
       "      <td>OUT017</td>\n",
       "      <td>2007</td>\n",
       "      <td>NaN</td>\n",
       "      <td>Tier 2</td>\n",
       "      <td>Supermarket Type1</td>\n",
       "      <td>1176.4686</td>\n",
       "    </tr>\n",
       "    <tr>\n",
       "      <th>4</th>\n",
       "      <td>FDO09</td>\n",
       "      <td>13.500</td>\n",
       "      <td>Regular</td>\n",
       "      <td>0.125170</td>\n",
       "      <td>Snack Foods</td>\n",
       "      <td>261.4910</td>\n",
       "      <td>OUT013</td>\n",
       "      <td>1987</td>\n",
       "      <td>High</td>\n",
       "      <td>Tier 3</td>\n",
       "      <td>Supermarket Type1</td>\n",
       "      <td>3418.8830</td>\n",
       "    </tr>\n",
       "  </tbody>\n",
       "</table>\n",
       "</div>"
      ],
      "text/plain": [
       "  Item_Identifier  Item_Weight Item_Fat_Content  Item_Visibility  \\\n",
       "0           NCR06       12.500          Low Fat         0.006760   \n",
       "1           FDW11       12.600          Low Fat         0.048741   \n",
       "2           FDH32       12.800          Low Fat         0.075997   \n",
       "3           FDL52        6.635          Regular         0.046351   \n",
       "4           FDO09       13.500          Regular         0.125170   \n",
       "\n",
       "               Item_Type  Item_MRP Outlet_Identifier  \\\n",
       "0              Household   42.8112            OUT013   \n",
       "1                 Breads   60.4194            OUT013   \n",
       "2  Fruits and Vegetables   97.1410            OUT013   \n",
       "3           Frozen Foods   37.4506            OUT017   \n",
       "4            Snack Foods  261.4910            OUT013   \n",
       "\n",
       "   Outlet_Establishment_Year Outlet_Size Outlet_Location_Type  \\\n",
       "0                       1987        High               Tier 3   \n",
       "1                       1987        High               Tier 3   \n",
       "2                       1987        High               Tier 3   \n",
       "3                       2007         NaN               Tier 2   \n",
       "4                       1987        High               Tier 3   \n",
       "\n",
       "         Outlet_Type  Item_Outlet_Sales  \n",
       "0  Supermarket Type1           639.1680  \n",
       "1  Supermarket Type1           990.7104  \n",
       "2  Supermarket Type1          2799.6890  \n",
       "3  Supermarket Type1          1176.4686  \n",
       "4  Supermarket Type1          3418.8830  "
      ]
     },
     "execution_count": 9,
     "metadata": {},
     "output_type": "execute_result"
    }
   ],
   "source": [
    "train.head()"
   ]
  },
  {
   "cell_type": "code",
   "execution_count": 11,
   "id": "52085065-19b9-47b4-b56a-461a8353b379",
   "metadata": {},
   "outputs": [
    {
     "name": "stdout",
     "output_type": "stream",
     "text": [
      "<class 'pandas.core.frame.DataFrame'>\n",
      "RangeIndex: 6818 entries, 0 to 6817\n",
      "Data columns (total 12 columns):\n",
      " #   Column                     Non-Null Count  Dtype  \n",
      "---  ------                     --------------  -----  \n",
      " 0   Item_Identifier            6818 non-null   object \n",
      " 1   Item_Weight                5656 non-null   float64\n",
      " 2   Item_Fat_Content           6818 non-null   object \n",
      " 3   Item_Visibility            6818 non-null   float64\n",
      " 4   Item_Type                  6818 non-null   object \n",
      " 5   Item_MRP                   6818 non-null   float64\n",
      " 6   Outlet_Identifier          6818 non-null   object \n",
      " 7   Outlet_Establishment_Year  6818 non-null   int64  \n",
      " 8   Outlet_Size                4878 non-null   object \n",
      " 9   Outlet_Location_Type       6818 non-null   object \n",
      " 10  Outlet_Type                6818 non-null   object \n",
      " 11  Item_Outlet_Sales          6818 non-null   float64\n",
      "dtypes: float64(4), int64(1), object(7)\n",
      "memory usage: 639.3+ KB\n"
     ]
    }
   ],
   "source": [
    "train.info()"
   ]
  },
  {
   "cell_type": "code",
   "execution_count": 13,
   "id": "a9468df0-452f-4909-a94f-389285ae6fa4",
   "metadata": {},
   "outputs": [
    {
     "data": {
      "text/html": [
       "<div>\n",
       "<style scoped>\n",
       "    .dataframe tbody tr th:only-of-type {\n",
       "        vertical-align: middle;\n",
       "    }\n",
       "\n",
       "    .dataframe tbody tr th {\n",
       "        vertical-align: top;\n",
       "    }\n",
       "\n",
       "    .dataframe thead th {\n",
       "        text-align: right;\n",
       "    }\n",
       "</style>\n",
       "<table border=\"1\" class=\"dataframe\">\n",
       "  <thead>\n",
       "    <tr style=\"text-align: right;\">\n",
       "      <th></th>\n",
       "      <th>Item_Weight</th>\n",
       "      <th>Item_Visibility</th>\n",
       "      <th>Item_MRP</th>\n",
       "      <th>Outlet_Establishment_Year</th>\n",
       "      <th>Item_Outlet_Sales</th>\n",
       "    </tr>\n",
       "  </thead>\n",
       "  <tbody>\n",
       "    <tr>\n",
       "      <th>count</th>\n",
       "      <td>5656.000000</td>\n",
       "      <td>6818.000000</td>\n",
       "      <td>6818.000000</td>\n",
       "      <td>6818.000000</td>\n",
       "      <td>6818.000000</td>\n",
       "    </tr>\n",
       "    <tr>\n",
       "      <th>mean</th>\n",
       "      <td>12.872703</td>\n",
       "      <td>0.066121</td>\n",
       "      <td>140.419533</td>\n",
       "      <td>1997.885890</td>\n",
       "      <td>2190.941459</td>\n",
       "    </tr>\n",
       "    <tr>\n",
       "      <th>std</th>\n",
       "      <td>4.651034</td>\n",
       "      <td>0.051383</td>\n",
       "      <td>62.067861</td>\n",
       "      <td>8.339795</td>\n",
       "      <td>1706.131256</td>\n",
       "    </tr>\n",
       "    <tr>\n",
       "      <th>min</th>\n",
       "      <td>4.555000</td>\n",
       "      <td>0.000000</td>\n",
       "      <td>31.290000</td>\n",
       "      <td>1985.000000</td>\n",
       "      <td>33.290000</td>\n",
       "    </tr>\n",
       "    <tr>\n",
       "      <th>25%</th>\n",
       "      <td>8.785000</td>\n",
       "      <td>0.026914</td>\n",
       "      <td>93.610050</td>\n",
       "      <td>1987.000000</td>\n",
       "      <td>836.577700</td>\n",
       "    </tr>\n",
       "    <tr>\n",
       "      <th>50%</th>\n",
       "      <td>12.600000</td>\n",
       "      <td>0.053799</td>\n",
       "      <td>142.448300</td>\n",
       "      <td>1999.000000</td>\n",
       "      <td>1806.648300</td>\n",
       "    </tr>\n",
       "    <tr>\n",
       "      <th>75%</th>\n",
       "      <td>17.000000</td>\n",
       "      <td>0.095273</td>\n",
       "      <td>185.060150</td>\n",
       "      <td>2004.000000</td>\n",
       "      <td>3115.944000</td>\n",
       "    </tr>\n",
       "    <tr>\n",
       "      <th>max</th>\n",
       "      <td>21.350000</td>\n",
       "      <td>0.328391</td>\n",
       "      <td>266.888400</td>\n",
       "      <td>2009.000000</td>\n",
       "      <td>13086.964800</td>\n",
       "    </tr>\n",
       "  </tbody>\n",
       "</table>\n",
       "</div>"
      ],
      "text/plain": [
       "       Item_Weight  Item_Visibility     Item_MRP  Outlet_Establishment_Year  \\\n",
       "count  5656.000000      6818.000000  6818.000000                6818.000000   \n",
       "mean     12.872703         0.066121   140.419533                1997.885890   \n",
       "std       4.651034         0.051383    62.067861                   8.339795   \n",
       "min       4.555000         0.000000    31.290000                1985.000000   \n",
       "25%       8.785000         0.026914    93.610050                1987.000000   \n",
       "50%      12.600000         0.053799   142.448300                1999.000000   \n",
       "75%      17.000000         0.095273   185.060150                2004.000000   \n",
       "max      21.350000         0.328391   266.888400                2009.000000   \n",
       "\n",
       "       Item_Outlet_Sales  \n",
       "count        6818.000000  \n",
       "mean         2190.941459  \n",
       "std          1706.131256  \n",
       "min            33.290000  \n",
       "25%           836.577700  \n",
       "50%          1806.648300  \n",
       "75%          3115.944000  \n",
       "max         13086.964800  "
      ]
     },
     "execution_count": 13,
     "metadata": {},
     "output_type": "execute_result"
    }
   ],
   "source": [
    "train.describe()"
   ]
  },
  {
   "cell_type": "markdown",
   "id": "6d8d7ed0-15cf-4153-ac3b-78e55c32fc40",
   "metadata": {},
   "source": [
    "object 꽤 많음 -> 원핫 인코딩보다는 라벨 인코딩이 적절!"
   ]
  },
  {
   "cell_type": "code",
   "execution_count": 16,
   "id": "8d789493-f6a7-4920-8c76-a863629ce4fc",
   "metadata": {},
   "outputs": [
    {
     "data": {
      "text/plain": [
       "Item_Identifier                 0\n",
       "Item_Weight                  1162\n",
       "Item_Fat_Content                0\n",
       "Item_Visibility                 0\n",
       "Item_Type                       0\n",
       "Item_MRP                        0\n",
       "Outlet_Identifier               0\n",
       "Outlet_Establishment_Year       0\n",
       "Outlet_Size                  1940\n",
       "Outlet_Location_Type            0\n",
       "Outlet_Type                     0\n",
       "Item_Outlet_Sales               0\n",
       "dtype: int64"
      ]
     },
     "execution_count": 16,
     "metadata": {},
     "output_type": "execute_result"
    }
   ],
   "source": [
    "train.isnull().sum()"
   ]
  },
  {
   "cell_type": "code",
   "execution_count": 18,
   "id": "cc6a1273-646f-4c57-b1d5-947dd5e4df9f",
   "metadata": {},
   "outputs": [
    {
     "data": {
      "text/plain": [
       "Item_Identifier                0\n",
       "Item_Weight                  301\n",
       "Item_Fat_Content               0\n",
       "Item_Visibility                0\n",
       "Item_Type                      0\n",
       "Item_MRP                       0\n",
       "Outlet_Identifier              0\n",
       "Outlet_Establishment_Year      0\n",
       "Outlet_Size                  470\n",
       "Outlet_Location_Type           0\n",
       "Outlet_Type                    0\n",
       "dtype: int64"
      ]
     },
     "execution_count": 18,
     "metadata": {},
     "output_type": "execute_result"
    }
   ],
   "source": [
    "test.isnull().sum()"
   ]
  },
  {
   "cell_type": "code",
   "execution_count": 21,
   "id": "2ed789a6-83f9-4d61-aeef-204c930da29d",
   "metadata": {},
   "outputs": [
    {
     "name": "stdout",
     "output_type": "stream",
     "text": [
      "(6818, 11) (1705, 11)\n",
      "(8523, 11)\n"
     ]
    }
   ],
   "source": [
    "# 데이터 전처리, y 답지 pop()\n",
    "target = train.pop('Item_Outlet_Sales')  # y답지\n",
    "print(train.shape, test.shape)\n",
    "df = pd.concat([train,test])\n",
    "print(df.shape)"
   ]
  },
  {
   "cell_type": "code",
   "execution_count": 25,
   "id": "668a17f1-84ac-4b58-bcd6-79b4e548179c",
   "metadata": {},
   "outputs": [],
   "source": [
    "cols = ['Item_Fat_Content','Item_Type','Outlet_Identifier','Outlet_Size','Outlet_Location_Type','Outlet_Type']"
   ]
  },
  {
   "cell_type": "code",
   "execution_count": 27,
   "id": "a8b5d5ea-a330-4825-9234-cdf8178d3247",
   "metadata": {},
   "outputs": [
    {
     "data": {
      "text/html": [
       "<div>\n",
       "<style scoped>\n",
       "    .dataframe tbody tr th:only-of-type {\n",
       "        vertical-align: middle;\n",
       "    }\n",
       "\n",
       "    .dataframe tbody tr th {\n",
       "        vertical-align: top;\n",
       "    }\n",
       "\n",
       "    .dataframe thead th {\n",
       "        text-align: right;\n",
       "    }\n",
       "</style>\n",
       "<table border=\"1\" class=\"dataframe\">\n",
       "  <thead>\n",
       "    <tr style=\"text-align: right;\">\n",
       "      <th></th>\n",
       "      <th>Item_Identifier</th>\n",
       "      <th>Item_Weight</th>\n",
       "      <th>Item_Fat_Content</th>\n",
       "      <th>Item_Visibility</th>\n",
       "      <th>Item_Type</th>\n",
       "      <th>Item_MRP</th>\n",
       "      <th>Outlet_Identifier</th>\n",
       "      <th>Outlet_Establishment_Year</th>\n",
       "      <th>Outlet_Size</th>\n",
       "      <th>Outlet_Location_Type</th>\n",
       "      <th>Outlet_Type</th>\n",
       "    </tr>\n",
       "  </thead>\n",
       "  <tbody>\n",
       "    <tr>\n",
       "      <th>0</th>\n",
       "      <td>NCR06</td>\n",
       "      <td>12.500</td>\n",
       "      <td>1</td>\n",
       "      <td>0.006760</td>\n",
       "      <td>9</td>\n",
       "      <td>42.8112</td>\n",
       "      <td>1</td>\n",
       "      <td>1987</td>\n",
       "      <td>0</td>\n",
       "      <td>2</td>\n",
       "      <td>1</td>\n",
       "    </tr>\n",
       "    <tr>\n",
       "      <th>1</th>\n",
       "      <td>FDW11</td>\n",
       "      <td>12.600</td>\n",
       "      <td>1</td>\n",
       "      <td>0.048741</td>\n",
       "      <td>1</td>\n",
       "      <td>60.4194</td>\n",
       "      <td>1</td>\n",
       "      <td>1987</td>\n",
       "      <td>0</td>\n",
       "      <td>2</td>\n",
       "      <td>1</td>\n",
       "    </tr>\n",
       "    <tr>\n",
       "      <th>2</th>\n",
       "      <td>FDH32</td>\n",
       "      <td>12.800</td>\n",
       "      <td>1</td>\n",
       "      <td>0.075997</td>\n",
       "      <td>6</td>\n",
       "      <td>97.1410</td>\n",
       "      <td>1</td>\n",
       "      <td>1987</td>\n",
       "      <td>0</td>\n",
       "      <td>2</td>\n",
       "      <td>1</td>\n",
       "    </tr>\n",
       "    <tr>\n",
       "      <th>3</th>\n",
       "      <td>FDL52</td>\n",
       "      <td>6.635</td>\n",
       "      <td>2</td>\n",
       "      <td>0.046351</td>\n",
       "      <td>5</td>\n",
       "      <td>37.4506</td>\n",
       "      <td>2</td>\n",
       "      <td>2007</td>\n",
       "      <td>3</td>\n",
       "      <td>1</td>\n",
       "      <td>1</td>\n",
       "    </tr>\n",
       "    <tr>\n",
       "      <th>4</th>\n",
       "      <td>FDO09</td>\n",
       "      <td>13.500</td>\n",
       "      <td>2</td>\n",
       "      <td>0.125170</td>\n",
       "      <td>13</td>\n",
       "      <td>261.4910</td>\n",
       "      <td>1</td>\n",
       "      <td>1987</td>\n",
       "      <td>0</td>\n",
       "      <td>2</td>\n",
       "      <td>1</td>\n",
       "    </tr>\n",
       "  </tbody>\n",
       "</table>\n",
       "</div>"
      ],
      "text/plain": [
       "  Item_Identifier  Item_Weight  Item_Fat_Content  Item_Visibility  Item_Type  \\\n",
       "0           NCR06       12.500                 1         0.006760          9   \n",
       "1           FDW11       12.600                 1         0.048741          1   \n",
       "2           FDH32       12.800                 1         0.075997          6   \n",
       "3           FDL52        6.635                 2         0.046351          5   \n",
       "4           FDO09       13.500                 2         0.125170         13   \n",
       "\n",
       "   Item_MRP  Outlet_Identifier  Outlet_Establishment_Year  Outlet_Size  \\\n",
       "0   42.8112                  1                       1987            0   \n",
       "1   60.4194                  1                       1987            0   \n",
       "2   97.1410                  1                       1987            0   \n",
       "3   37.4506                  2                       2007            3   \n",
       "4  261.4910                  1                       1987            0   \n",
       "\n",
       "   Outlet_Location_Type  Outlet_Type  \n",
       "0                     2            1  \n",
       "1                     2            1  \n",
       "2                     2            1  \n",
       "3                     1            1  \n",
       "4                     2            1  "
      ]
     },
     "execution_count": 27,
     "metadata": {},
     "output_type": "execute_result"
    }
   ],
   "source": [
    "# 레이블 인코딩\n",
    "from sklearn.preprocessing import LabelEncoder\n",
    "le = LabelEncoder()\n",
    "for col in cols:\n",
    "    df[col] = le.fit_transform(df[col])\n",
    "\n",
    "df.head()"
   ]
  },
  {
   "cell_type": "code",
   "execution_count": 29,
   "id": "d0fff220-c0ce-4528-a14f-ca4c3dfee0f7",
   "metadata": {},
   "outputs": [
    {
     "data": {
      "text/plain": [
       "((6818, 11), (1705, 11))"
      ]
     },
     "execution_count": 29,
     "metadata": {},
     "output_type": "execute_result"
    }
   ],
   "source": [
    "train = df.iloc[:len(train)].copy()\n",
    "test = df.iloc[len(train):].copy()\n",
    "train.shape, test.shape"
   ]
  },
  {
   "cell_type": "code",
   "execution_count": 33,
   "id": "6826dd3d-4972-43e1-b8ef-999434de4f15",
   "metadata": {},
   "outputs": [
    {
     "name": "stdout",
     "output_type": "stream",
     "text": [
      "(6818, 11) (1705, 11)\n"
     ]
    }
   ],
   "source": [
    "# 결측치 채우기\n",
    "train['Item_Weight'] = train['Item_Weight'].fillna(train['Item_Weight'].min())\n",
    "train['Outlet_Size'] = train['Outlet_Size'].fillna(train['Outlet_Size'].mode()[0])\n",
    "\n",
    "test['Item_Weight'] = test['Item_Weight'].fillna(train['Item_Weight'].min())\n",
    "test['Outlet_Size'] = test['Outlet_Size'].fillna(train['Outlet_Size'].mode()[0])\n",
    "\n",
    "print(train.shape, test.shape)"
   ]
  },
  {
   "cell_type": "code",
   "execution_count": 35,
   "id": "3cfa2f4b-f762-4460-a8e3-49b061450f90",
   "metadata": {},
   "outputs": [
    {
     "name": "stdout",
     "output_type": "stream",
     "text": [
      "(6818, 10) (1705, 10)\n"
     ]
    }
   ],
   "source": [
    "train.drop('Item_Identifier', axis=1, inplace=True)\n",
    "test.drop('Item_Identifier', axis=1, inplace=True)\n",
    "print(train.shape, test.shape)"
   ]
  },
  {
   "cell_type": "code",
   "execution_count": 39,
   "id": "6a94eec1-9e7a-42b2-b3ba-6ae50039ecba",
   "metadata": {},
   "outputs": [
    {
     "data": {
      "text/plain": [
       "((5454, 10), (1364, 10), (5454,), (1364,))"
      ]
     },
     "execution_count": 39,
     "metadata": {},
     "output_type": "execute_result"
    }
   ],
   "source": [
    "# 검증 데이터 나누기\n",
    "from sklearn.model_selection import train_test_split\n",
    "\n",
    "X_train,X_val, y_train, y_val = train_test_split(train,target,test_size=0.2,random_state=0)\n",
    "X_train.shape,X_val.shape, y_train.shape, y_val.shape"
   ]
  },
  {
   "cell_type": "code",
   "execution_count": 41,
   "id": "4b0a3483-d896-4343-a42c-bbe942d1e659",
   "metadata": {},
   "outputs": [],
   "source": [
    "# 머신러닝 학습\n",
    "from sklearn.metrics import mean_squared_error\n",
    "from sklearn.metrics import mean_absolute_error\n",
    "from sklearn.metrics import r2_score"
   ]
  },
  {
   "cell_type": "code",
   "execution_count": 45,
   "id": "317f61d7-536c-4e78-be08-159f5bcae4e4",
   "metadata": {},
   "outputs": [
    {
     "name": "stdout",
     "output_type": "stream",
     "text": [
      "MSE: 1282923.0729833895\n",
      "R2: 0.5058168396924843\n"
     ]
    }
   ],
   "source": [
    "# 선형학습\n",
    "from sklearn.linear_model import LinearRegression\n",
    "lr = LinearRegression()\n",
    "lr.fit(X_train, y_train)\n",
    "y_pred = lr.predict(X_val)\n",
    "\n",
    "result = mean_squared_error(y_val,y_pred)\n",
    "print('MSE:', result)\n",
    "r2_result = r2_score(y_val,y_pred)\n",
    "print('R2:',r2_result)"
   ]
  },
  {
   "cell_type": "code",
   "execution_count": 47,
   "id": "651cbdec-63b5-4fba-8d99-04d575e18181",
   "metadata": {},
   "outputs": [
    {
     "name": "stdout",
     "output_type": "stream",
     "text": [
      "MSE: 1101802.8117346708\n",
      "R2: 0.5755845326933362\n"
     ]
    }
   ],
   "source": [
    "# 랜덤포레스트\n",
    "from sklearn.ensemble import RandomForestRegressor\n",
    "rf = RandomForestRegressor(random_state=0)\n",
    "rf.fit(X_train, y_train)\n",
    "y_pred = rf.predict(X_val)\n",
    "\n",
    "result = mean_squared_error(y_val,y_pred)\n",
    "print('MSE:',result)\n",
    "\n",
    "r2_result = r2_score(y_val,y_pred)\n",
    "print('R2:', r2_result)"
   ]
  },
  {
   "cell_type": "code",
   "execution_count": 49,
   "id": "f133e24a-fb39-4fa2-bc83-44fe21342676",
   "metadata": {},
   "outputs": [
    {
     "name": "stdout",
     "output_type": "stream",
     "text": [
      "MSE: 1115654.3482227568\n",
      "R2: 0.5702489079618556\n"
     ]
    }
   ],
   "source": [
    "# LightGBM\n",
    "import lightgbm as lgb\n",
    "model = lgb.LGBMRegressor(random_state=0, verbose=-1)\n",
    "model.fit(X_train,y_train)\n",
    "y_pred = model.predict(X_val)\n",
    "\n",
    "result = mean_squared_error(y_val,y_pred)\n",
    "print('MSE:',result)\n",
    "\n",
    "r2_result = r2_score(y_val,y_pred)\n",
    "print('R2:',r2_result)"
   ]
  },
  {
   "cell_type": "code",
   "execution_count": 51,
   "id": "c92e9dbc-a7ab-4664-9f56-5e69eadfc375",
   "metadata": {},
   "outputs": [
    {
     "data": {
      "text/plain": [
       "array([1226.50504175,  830.18920951, 1788.76644309, ..., 3666.34876099,\n",
       "        990.65125496, 1224.1960178 ])"
      ]
     },
     "execution_count": 51,
     "metadata": {},
     "output_type": "execute_result"
    }
   ],
   "source": [
    "# 예측 및 결과 파일 생성\n",
    "pred = model.predict(test)\n",
    "pred"
   ]
  },
  {
   "cell_type": "code",
   "execution_count": 53,
   "id": "b0cb97ff-2825-4c52-a7dc-48eeccf6a12a",
   "metadata": {},
   "outputs": [
    {
     "data": {
      "text/html": [
       "<div>\n",
       "<style scoped>\n",
       "    .dataframe tbody tr th:only-of-type {\n",
       "        vertical-align: middle;\n",
       "    }\n",
       "\n",
       "    .dataframe tbody tr th {\n",
       "        vertical-align: top;\n",
       "    }\n",
       "\n",
       "    .dataframe thead th {\n",
       "        text-align: right;\n",
       "    }\n",
       "</style>\n",
       "<table border=\"1\" class=\"dataframe\">\n",
       "  <thead>\n",
       "    <tr style=\"text-align: right;\">\n",
       "      <th></th>\n",
       "      <th>pred</th>\n",
       "    </tr>\n",
       "  </thead>\n",
       "  <tbody>\n",
       "    <tr>\n",
       "      <th>0</th>\n",
       "      <td>1226.505042</td>\n",
       "    </tr>\n",
       "    <tr>\n",
       "      <th>1</th>\n",
       "      <td>830.189210</td>\n",
       "    </tr>\n",
       "    <tr>\n",
       "      <th>2</th>\n",
       "      <td>1788.766443</td>\n",
       "    </tr>\n",
       "    <tr>\n",
       "      <th>3</th>\n",
       "      <td>1644.510784</td>\n",
       "    </tr>\n",
       "    <tr>\n",
       "      <th>4</th>\n",
       "      <td>2831.798098</td>\n",
       "    </tr>\n",
       "  </tbody>\n",
       "</table>\n",
       "</div>"
      ],
      "text/plain": [
       "          pred\n",
       "0  1226.505042\n",
       "1   830.189210\n",
       "2  1788.766443\n",
       "3  1644.510784\n",
       "4  2831.798098"
      ]
     },
     "execution_count": 53,
     "metadata": {},
     "output_type": "execute_result"
    }
   ],
   "source": [
    "submit = pd.DataFrame({'pred':pred})\n",
    "submit.to_csv('result.csv',index=False)\n",
    "submit.head()"
   ]
  }
 ],
 "metadata": {
  "kernelspec": {
   "display_name": "Python [conda env:base] *",
   "language": "python",
   "name": "conda-base-py"
  },
  "language_info": {
   "codemirror_mode": {
    "name": "ipython",
    "version": 3
   },
   "file_extension": ".py",
   "mimetype": "text/x-python",
   "name": "python",
   "nbconvert_exporter": "python",
   "pygments_lexer": "ipython3",
   "version": "3.12.7"
  }
 },
 "nbformat": 4,
 "nbformat_minor": 5
}
