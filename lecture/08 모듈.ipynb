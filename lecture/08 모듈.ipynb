{
 "cells": [
  {
   "cell_type": "markdown",
   "id": "fed7628c-9b2a-4882-b086-4c78b22254e6",
   "metadata": {},
   "source": [
    "#### 학습목표\n",
    "- 모듈과 패키지 개념을 이해하자\n",
    "- 모듈을 직접 만들고 사용해보자"
   ]
  },
  {
   "cell_type": "code",
   "execution_count": 3,
   "id": "8fd62e3a-2e65-450f-b839-5de86d491c0d",
   "metadata": {},
   "outputs": [],
   "source": [
    "# 모듈 불러오기\n",
    "import my_number"
   ]
  },
  {
   "cell_type": "code",
   "execution_count": 5,
   "id": "75c11b2c-b0e3-4589-a0aa-c0b5c42ac9a6",
   "metadata": {},
   "outputs": [
    {
     "name": "stdout",
     "output_type": "stream",
     "text": [
      "True\n",
      "False\n"
     ]
    }
   ],
   "source": [
    "# 함수호출\n",
    "print(my_number.is_odd(7))\n",
    "print(my_number.is_even(7))"
   ]
  },
  {
   "cell_type": "code",
   "execution_count": 1,
   "id": "148f7b98-c291-4a0c-9f4a-b7fab5178a92",
   "metadata": {},
   "outputs": [
    {
     "name": "stdout",
     "output_type": "stream",
     "text": [
      "True\n"
     ]
    }
   ],
   "source": [
    "# 필요한 기능만 불러오기\n",
    "from my_number import is_odd\n",
    "\n",
    "print(is_odd(7))"
   ]
  },
  {
   "cell_type": "code",
   "execution_count": null,
   "id": "7c05732b-edc0-437d-9edd-77571bf97a22",
   "metadata": {},
   "outputs": [],
   "source": []
  }
 ],
 "metadata": {
  "kernelspec": {
   "display_name": "Python [conda env:base] *",
   "language": "python",
   "name": "conda-base-py"
  },
  "language_info": {
   "codemirror_mode": {
    "name": "ipython",
    "version": 3
   },
   "file_extension": ".py",
   "mimetype": "text/x-python",
   "name": "python",
   "nbconvert_exporter": "python",
   "pygments_lexer": "ipython3",
   "version": "3.12.7"
  }
 },
 "nbformat": 4,
 "nbformat_minor": 5
}
