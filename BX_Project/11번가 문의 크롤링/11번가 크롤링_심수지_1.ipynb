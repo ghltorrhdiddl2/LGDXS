{
 "cells": [
  {
   "cell_type": "code",
   "execution_count": 187,
   "id": "cc5d27e8-a4e3-4f9c-ac90-eef0bb534212",
   "metadata": {},
   "outputs": [],
   "source": [
    "# 포함할 단어\n",
    "# \"가로\",\"깊이\",\"사이즈\",\"세로\",\"cm\",\"mm\",\"냉장고장\"\n",
    "contain_word = [\"가로\",\"깊이\",\"사이즈\",\"세로\",\"cm\",\"mm\",\"냉장고장\"]"
   ]
  },
  {
   "cell_type": "code",
   "execution_count": 189,
   "id": "2cb47ae2-79b5-4ac4-888f-85c5c4da231a",
   "metadata": {},
   "outputs": [],
   "source": [
    "import undetected_chromedriver as uc\n",
    "from selenium.webdriver.common.by import By\n",
    "from selenium.webdriver.common.keys import Keys\n",
    "import time\n",
    "import pandas as pd"
   ]
  },
  {
   "cell_type": "code",
   "execution_count": 232,
   "id": "1f70b351-5023-431a-9126-dd783a39ab5c",
   "metadata": {
    "scrolled": true
   },
   "outputs": [],
   "source": [
    "driver = uc.Chrome()\n",
    "driver.get(\"https://www.11st.co.kr/?gclid=CjwKCAiAnKi8BhB0EiwA58DA4RyGJVWD-UEPgBXu925_lOKs7RUrY62ogwYZtMPwlaxTrDK7Nfh1bRoC6cMQAvD_BwE&gad_source=1&utm_term=11+%B9%F8%B0%A1&utm_campaign=%B1%B8%B1%DBPC_11%B9%F8%B0%A1&utm_source=%B1%B8%B1%DB_PC_S&utm_medium=%B0%CB%BB%F6\")\n",
    "driver.maximize_window()\n",
    "time.sleep(0.5)\n",
    "\n",
    "# home appliances = [\"LG TV\",\"LG오브제냉장고\",\"LG세탁기\",\"LG건조기\",\"LG에어컨\"]\n",
    "driver.find_element(By.CSS_SELECTOR,\"#tSearch > form > fieldset > input\").send_keys(\"LG오브제냉장고\",Keys.ENTER)\n",
    "time.sleep(1)\n",
    "refri_url = driver.find_elements(By.CSS_SELECTOR,\"#section_list > div > ul > li > div > a\")\n",
    "url_list = []\n",
    "for i in refri_url:\n",
    "    url_list.append(i.get_attribute('href'))\n",
    "\n",
    "# print(url_list)\n",
    "# len(url_list)  # 한 페이지에 25개 아이템\n",
    "driver.get(url_list[0]) # 첫 번째 페이지로 이동\n",
    "time.sleep(1)\n",
    "ifrmQnA = driver.find_element(By.CSS_SELECTOR,\"#ifrmQnA\") # QnA iframe으로 이동\n",
    "driver.switch_to.frame(ifrmQnA)\n",
    "# qna[0].text\n",
    "# len(qna) # 한 페이지에 10개 문의글\n",
    "# ------------------------\n",
    "qna = driver.find_elements(By.CSS_SELECTOR,\"#showCloseDetail\")\n",
    "refri_qna_list = []\n",
    "for i in qna:\n",
    "    if any(word in i.text for word in contain_word):  # 관련 단어가 들어가 있으면 리스트에 추가\n",
    "        refri_qna_list.append(i.text)\n",
    "\n",
    "for j in range(9):\n",
    "    driver.find_elements(By.CSS_SELECTOR,\"#paging_page\")[j].click() # 0이 2 페이지로 이동, 8이 10페이지로 이동\n",
    "    time.sleep(2)\n",
    "    qna = driver.find_elements(By.CSS_SELECTOR,\"#showCloseDetail\")\n",
    "    for i in qna:\n",
    "        if any(word in i.text for word in contain_word):  # 관련 단어가 들어가 있으면 리스트에 추가\n",
    "            refri_qna_list.append(i.text)\n",
    "    \n",
    "driver.quit()"
   ]
  },
  {
   "cell_type": "code",
   "execution_count": 233,
   "id": "606fbe63-a081-44ee-b305-a3575e6b71a4",
   "metadata": {},
   "outputs": [
    {
     "data": {
      "text/plain": [
       "['냉장고장이 가로 앞면100. 깊이85인데 냉장냉동 안들어가는거죠',\n",
       " '1200사이즈인데 냉장냉동 안들어갈까요? 장이기존에있어서 거기에마춰야할것같거든요',\n",
       " '냉동 ,냉장 놓고. 냉동손잡이 우측, 냉장손잡이 좌측, 이렇게 가운데로 여는 양문형으로 사용시 냉장고장 제작사이즈 알려주세여',\n",
       " '냉장,냉동고 양문형처럼 마주보게 오픈하여 사용하려면 냉장고장 사이즈가 어떻게 되야하나요? 냉장고장을 제작하려고 해서 사이즈를 알려주셨음 좋겠어요',\n",
       " '냉장고장 가로 사이즈가 작은데 냉장고 장 가운데 칸막이 제거하고 설치 해주시기도 하나요? 추가비용이 들까요?',\n",
       " '김치냉장고만. 단품 구매 가능할까요? 가격은 어떻게 될까요? 셋트. 구입예정인데 냉장고장 중간칸막이. 때문에 빌트인. 양문냉장고+김치냉장고. 조합으로도 생각해봐야 될듯해서요',\n",
       " '냉장고장이. 1070 과. 1200. 중간에. 합판있는데 1200에. 냉장,김치. 안들어가면. 중간 합판 제거해 줄수. 있나요? 가능하면. 추가비용. 얼마인가요?',\n",
       " '새로. 이사할. 아파트 냉장고장이. 가운데. 패널이 있어요!! 왼쪽은 1070. 오른쪽은 1200 왼쪽에. 냉장고. 오른쪽에. 냉동,김치. 설치 가능할까요? 59+595=1190. 10 정도 여유가. 있네요~~ 설치가. 된다면 이럴경우. 연결키트. 1개만. 구입하면되죠?',\n",
       " '냉장2대,냉동1대 구입하면 연결키트 추가로 구입해야되나요?',\n",
       " '냉동+김치 사서 김치냉장고를 일반냉장고로 사용하고 싶은데 김치냉장고의 칸칸 선반을 일반냉장고처럼 위아래로 조절할수 있나요? 그리고 연결키트 없으면 2개 나란히 놓을때 가로폭이 몇이면 되나요?',\n",
       " '안녕하세요 가로 폭이 1200이면 냉장 냉동 컨버터블 설치가 불가능할까요?ㅠㅠ',\n",
       " '안녕하세요 가로 폭이 1200이면 냉장 냉동 컨버터블 설치가 불가능할까요?ㅠㅠ',\n",
       " '컨버터블 냉장+냉동+김치+모던엣지 조합 주문했어요. 컨버터블 모두 좌핸들로 하고 모던엣지에 연결키트 3개 설치하면 사이즈 어떻게 되나요? 컨버터블이랑 모던엣지 모두 미스트베이지 색상으로 주문했는데 같은 색상 맞는거죠?',\n",
       " '냉장+냉동 제품 구입하고싶은데 냉장고 들어갈 자리가 가로 1220인데 냉장냉동고 설치가능한가요? 세로는 670인데 제품설치시 세로 길이는 얼마나되나요? 그리고 냉동고용량은 몇리터인가요? 냉장과냉동 주문하면 연결고리?그걸 추가로 꼭주문해야하나요?? 용도가 뭐죠??',\n",
       " '냉장 + 냉동으로 하면 공간이 얼마나 필요한가요? 부모님 집 냉장고 칸이 딱 가로 120cm인데 가능한지 궁금합니다.',\n",
       " '장이 세로190 / 가로107 / 앞으로나오는길이 73cm 인데 냉장+냉동 가로폭안에 들어가나요?',\n",
       " '냉장 냉동을 구매예정입니다. 냉장고 자리 몇 cm이 있어야 장에 넣을 수 있을까요?',\n",
       " '냉장.냉동.김치 3가지 주문할려구합니다.냉장고장을 다시 설치해야할꺼같은데 사이즈 부탁드립니다.',\n",
       " '냉장 +냉동으로 주문했었는데,, 이사갈곳의 냉장고 들어갈 자리 가로사이즈가 작대요 재봤는데 못들어간대요ㅠㅠ 주문할때 배송 요청일을 2월3일로 해두어서, 배송 출고도 안되어있고, 해피콜도 안왔어요. 11번가 고객센터 통해서 환불요청 처리는 했습니다.취소처리 부탁드립니다.',\n",
       " '냉장고 들어갈 자리가 가로 1200mm 높이 1900mm인데, 냉장+김치 페어로 두개가 저 한자리에 들어갈까요?',\n",
       " '안녕하세요. 구매문의 입니다. 냉장고장의 가로가 1200입니다. 냉장+냉동 구성으로 구매하면 여유공간 포함해서 설치가 가능한가요?']"
      ]
     },
     "execution_count": 233,
     "metadata": {},
     "output_type": "execute_result"
    }
   ],
   "source": [
    "refri_qna_list"
   ]
  },
  {
   "cell_type": "code",
   "execution_count": null,
   "id": "d05f532d-60a5-49df-891f-537f5fc9e8dd",
   "metadata": {},
   "outputs": [],
   "source": []
  }
 ],
 "metadata": {
  "kernelspec": {
   "display_name": "Python [conda env:base] *",
   "language": "python",
   "name": "conda-base-py"
  },
  "language_info": {
   "codemirror_mode": {
    "name": "ipython",
    "version": 3
   },
   "file_extension": ".py",
   "mimetype": "text/x-python",
   "name": "python",
   "nbconvert_exporter": "python",
   "pygments_lexer": "ipython3",
   "version": "3.12.7"
  }
 },
 "nbformat": 4,
 "nbformat_minor": 5
}
