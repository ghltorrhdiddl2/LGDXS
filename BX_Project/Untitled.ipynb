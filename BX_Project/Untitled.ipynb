{
 "cells": [
  {
   "cell_type": "code",
   "execution_count": null,
   "id": "af93ea48-5ec5-48dd-b809-dc525e85ab53",
   "metadata": {},
   "outputs": [],
   "source": [
    "options = Options()\n",
    "options.add_argument(\"--start-maximized\")\n",
    "driver = uc.Chrome(options=options)\n",
    " \n",
    "review_list = []\n",
    " \n",
    "for title in total_title_list[:10]:\n",
    "    url = f\"{title}\"\n",
    "    driver.get(url)\n",
    "    try:\n",
    "        tap = WebDriverWait(driver, 10).until(\n",
    "            EC.element_to_be_clickable((By.CSS_SELECTOR, \"#tap_moving_2 > a\")))\n",
    "        tap.click()\n",
    "    except (NoSuchElementException, TimeoutException):\n",
    "        print(f\"{title} 에는 리뷰 섹션이 없습니다. 건너뜁니다.\")\n",
    "        continue  \n",
    "    while True:\n",
    "        try:\n",
    "            WebDriverWait(driver, 10).until(\n",
    "                EC.presence_of_all_elements_located(\n",
    "                    (By.CSS_SELECTOR, \"div.box__content > div.box__review-text > p\")))\n",
    "            reviews = driver.find_elements(By.CSS_SELECTOR, \"div.box__content > div.box__review-text > p\")\n",
    "            if len(reviews) == 0:\n",
    "                continue\n",
    "            for review in reviews:\n",
    "                review_text = review.text.strip()\n",
    "                if review_text:\n",
    "                    review_list.append(review_text)\n",
    "            next_buttons = driver.find_elements(By.CSS_SELECTOR, \"#divVipReview > div > a.link__page-move.link__page-next\")\n",
    "            if not next_buttons:\n",
    "                print(f\"{title}의 리뷰가 더 이상 없습니다.\")\n",
    "                break  \n",
    "            next_button = next_buttons[0]\n",
    "            if 'disabled' in next_button.get_attribute('class'):\n",
    "                print(f\"{title}의 마지막 페이지에 도달했습니다.\")\n",
    "                break \n",
    "            try:\n",
    "                WebDriverWait(driver, 10).until(\n",
    "                    EC.element_to_be_clickable((By.CSS_SELECTOR, \"#divVipReview > div > a.link__page-move.link__page-next\")))\n",
    "                next_button.click()\n",
    "                print(\"다음 페이지로 이동합니다.\")\n",
    "                WebDriverWait(driver, 10).until(\n",
    "                    EC.staleness_of(next_button))\n",
    "            except (StaleElementReferenceException, ElementClickInterceptedException) as e:\n",
    "                print(f\"다음 페이지 버튼 클릭 중 오류 발생: {e}. 다시 시도합니다.\")\n",
    "                continue  \n",
    "        except (NoSuchElementException, TimeoutException):\n",
    "            print(f\"{title}의 리뷰를 더 이상 가져올 수 없습니다.\")\n",
    "            break  \n",
    "        except StaleElementReferenceException:\n",
    "            print(\"요소가 유효하지 않습니다. 다시 시도합니다.\")\n",
    "            break  \n",
    " \n",
    "driver.quit()\n",
    "print(review_list)"
   ]
  }
 ],
 "metadata": {
  "kernelspec": {
   "display_name": "Python [conda env:base] *",
   "language": "python",
   "name": "conda-base-py"
  },
  "language_info": {
   "codemirror_mode": {
    "name": "ipython",
    "version": 3
   },
   "file_extension": ".py",
   "mimetype": "text/x-python",
   "name": "python",
   "nbconvert_exporter": "python",
   "pygments_lexer": "ipython3",
   "version": "3.12.7"
  }
 },
 "nbformat": 4,
 "nbformat_minor": 5
}
