{
 "cells": [
  {
   "cell_type": "markdown",
   "id": "764cfb90-c4a9-459b-afda-f79cb447f975",
   "metadata": {},
   "source": [
    "### 목표\n",
    "- 머신러닝의 과정에 대해서 정리해보자\n",
    "- 실제 데이터를 통해서 고객에게 서비스 할 제품에 대해 근거가 될만한 자료를 생성해보자"
   ]
  },
  {
   "cell_type": "markdown",
   "id": "37683f58-d2e6-4b97-b787-56f10836078b",
   "metadata": {},
   "source": [
    "#### 1. 문제 정의\n",
    "- 모델을 구축하는 목표 설정\n",
    "- 모델 선택 내용 정의\n",
    "- 분류 vs 회귀 정의\n",
    "- 어떤 데이터가 필요할까?\n",
    "-------\n",
    "> **시나리오** 🌏 (서비스기획자)\n",
    " \n",
    "```\n",
    "- A업체는 가정 내 온습도를 측정하는 기존 제품을 통해 고객에게 서비스를 제공해 왔음\n",
    "- 한때 업계 선두를 유지했으나, 다양한 경쟁사의 등장으로 인해 최근 판매량이 감소하고 있는 상황임\n",
    "- 단순히 제품 판매에 의존하는 비즈니스 모델로는 지속적인 성장이 어렵다고 판단하여, 새로운 고객 가치를 창출할 수 있는 제품 개발을 추진하게 됨\n",
    "- 온습도 센서로부터 수집한 데이터를 기반으로 AI 제습기를 개발하여, 고객의 편의성을 높이고 경쟁사 대비 우위를 선점하려고 함\n",
    "```"
   ]
  },
  {
   "cell_type": "code",
   "execution_count": 2,
   "id": "a858a8ca-4dd3-4b66-a4a4-2d71129e253e",
   "metadata": {},
   "outputs": [],
   "source": [
    "import numpy as np\n",
    "import pandas as pd\n",
    "import matplotlib.pyplot as plt\n",
    "import seaborn as sns"
   ]
  },
  {
   "cell_type": "markdown",
   "id": "54f0cbcb-d1d5-4a9e-a766-9364ad6bfe17",
   "metadata": {},
   "source": [
    "#### 2. 데이터 수집\n",
    "- 데이터 정리\n",
    "- 웹 크롤링\n",
    "- API\n",
    "- csv 파일\n",
    "- DB\n",
    "- 설문조사"
   ]
  },
  {
   "cell_type": "code",
   "execution_count": 4,
   "id": "b4baa205-f0d6-41c5-9e03-ecd702acdab1",
   "metadata": {},
   "outputs": [
    {
     "name": "stdout",
     "output_type": "stream",
     "text": [
      "<class 'pandas.core.frame.DataFrame'>\n",
      "RangeIndex: 1546 entries, 0 to 1545\n",
      "Data columns (total 4 columns):\n",
      " #   Column       Non-Null Count  Dtype  \n",
      "---  ------       --------------  -----  \n",
      " 0   T            1546 non-null   float64\n",
      " 1   RH           1546 non-null   float64\n",
      " 2   AH           1546 non-null   float64\n",
      " 3   Comfortable  1546 non-null   int64  \n",
      "dtypes: float64(3), int64(1)\n",
      "memory usage: 48.4 KB\n"
     ]
    }
   ],
   "source": [
    "# 출처 : kaggle\n",
    "data  = pd.read_csv('./data/온습도 관측 데이터.csv')\n",
    "data.info()"
   ]
  },
  {
   "cell_type": "code",
   "execution_count": 6,
   "id": "543a6054-eb5f-4365-ac6f-e072d53807d6",
   "metadata": {},
   "outputs": [
    {
     "data": {
      "text/html": [
       "<div>\n",
       "<style scoped>\n",
       "    .dataframe tbody tr th:only-of-type {\n",
       "        vertical-align: middle;\n",
       "    }\n",
       "\n",
       "    .dataframe tbody tr th {\n",
       "        vertical-align: top;\n",
       "    }\n",
       "\n",
       "    .dataframe thead th {\n",
       "        text-align: right;\n",
       "    }\n",
       "</style>\n",
       "<table border=\"1\" class=\"dataframe\">\n",
       "  <thead>\n",
       "    <tr style=\"text-align: right;\">\n",
       "      <th></th>\n",
       "      <th>T</th>\n",
       "      <th>RH</th>\n",
       "      <th>AH</th>\n",
       "      <th>Comfortable</th>\n",
       "    </tr>\n",
       "  </thead>\n",
       "  <tbody>\n",
       "    <tr>\n",
       "      <th>0</th>\n",
       "      <td>21.025</td>\n",
       "      <td>30.625000</td>\n",
       "      <td>0.753814</td>\n",
       "      <td>0</td>\n",
       "    </tr>\n",
       "    <tr>\n",
       "      <th>1</th>\n",
       "      <td>9.250</td>\n",
       "      <td>37.550000</td>\n",
       "      <td>0.439072</td>\n",
       "      <td>1</td>\n",
       "    </tr>\n",
       "    <tr>\n",
       "      <th>2</th>\n",
       "      <td>35.825</td>\n",
       "      <td>28.724999</td>\n",
       "      <td>1.662621</td>\n",
       "      <td>0</td>\n",
       "    </tr>\n",
       "    <tr>\n",
       "      <th>3</th>\n",
       "      <td>15.975</td>\n",
       "      <td>35.824999</td>\n",
       "      <td>0.645597</td>\n",
       "      <td>1</td>\n",
       "    </tr>\n",
       "    <tr>\n",
       "      <th>4</th>\n",
       "      <td>12.200</td>\n",
       "      <td>69.575001</td>\n",
       "      <td>0.985989</td>\n",
       "      <td>0</td>\n",
       "    </tr>\n",
       "  </tbody>\n",
       "</table>\n",
       "</div>"
      ],
      "text/plain": [
       "        T         RH        AH  Comfortable\n",
       "0  21.025  30.625000  0.753814            0\n",
       "1   9.250  37.550000  0.439072            1\n",
       "2  35.825  28.724999  1.662621            0\n",
       "3  15.975  35.824999  0.645597            1\n",
       "4  12.200  69.575001  0.985989            0"
      ]
     },
     "execution_count": 6,
     "metadata": {},
     "output_type": "execute_result"
    }
   ],
   "source": [
    "data.head()"
   ]
  },
  {
   "cell_type": "markdown",
   "id": "fdde3b20-062b-468e-b8c4-481b920d4dbd",
   "metadata": {},
   "source": [
    "- 행 1546, 열 4\n",
    "- 결측치 x\n",
    "- 데이터 타입 : 수치형\n",
    "- Comfortable : 분류"
   ]
  },
  {
   "cell_type": "markdown",
   "id": "c77ed738-22dd-48eb-bb1f-2da2aa2b7032",
   "metadata": {},
   "source": [
    "> **데이터 설명**\n",
    " \n",
    "* 3개의 센서 데이터가 수집됨 (원활한 실습을 위해 라벨은 미리 달아두었음)\n",
    "* 데이터 명세\n",
    " \n",
    "| Column Name | 컬럼명 | 설명 |\n",
    "|-------------|--------|------|\n",
    "| T | 온도 | 주변 환경의 온도 (섭씨) |\n",
    "| RH | 상대습도 | 공기 중 습도의 비율 (%) |\n",
    "| AH | 절대습도 | 공기 중 실제 수증기량 |\n",
    "| Comfortable | 쾌적 여부 | 환경이 쾌적한지 나타내는 이진값 - 0(불쾌), 1(상쾌) |"
   ]
  },
  {
   "cell_type": "markdown",
   "id": "f3aa4975-f963-4fe3-8371-666036787fbf",
   "metadata": {},
   "source": [
    "#### 3. 데이터 전처리(preprocessing)\n",
    "- 결측치 제거 및 대체\n",
    "- 이상치 제거 및 대체\n",
    "- 변수(컬럼, 특성, feature) 처리 : 특성추가, 삭제, 선택, 스케일링(단위 조정), 인코딩\n",
    "------"
   ]
  },
  {
   "cell_type": "markdown",
   "id": "f2416202-17c9-4786-b36a-490093a4cb7c",
   "metadata": {},
   "source": [
    "#### 4. EDA(탐색적 데이터 분석)\n",
    "- 데이터의 기술통계량(최대,최소,사분위수,평균,중앙 등), 시각화 등을 통한 다양한 각도에서 데이터를 관찰하는 단계\n",
    "- 데이터 전처리를 하게되는 근거로 삼을수 있음"
   ]
  },
  {
   "cell_type": "code",
   "execution_count": 20,
   "id": "c57c3cb1-a599-4420-b7ab-ec021311fd63",
   "metadata": {},
   "outputs": [
    {
     "data": {
      "text/html": [
       "<div>\n",
       "<style scoped>\n",
       "    .dataframe tbody tr th:only-of-type {\n",
       "        vertical-align: middle;\n",
       "    }\n",
       "\n",
       "    .dataframe tbody tr th {\n",
       "        vertical-align: top;\n",
       "    }\n",
       "\n",
       "    .dataframe thead th {\n",
       "        text-align: right;\n",
       "    }\n",
       "</style>\n",
       "<table border=\"1\" class=\"dataframe\">\n",
       "  <thead>\n",
       "    <tr style=\"text-align: right;\">\n",
       "      <th></th>\n",
       "      <th>count</th>\n",
       "      <th>mean</th>\n",
       "      <th>std</th>\n",
       "      <th>min</th>\n",
       "      <th>25%</th>\n",
       "      <th>50%</th>\n",
       "      <th>75%</th>\n",
       "      <th>max</th>\n",
       "    </tr>\n",
       "  </thead>\n",
       "  <tbody>\n",
       "    <tr>\n",
       "      <th>T</th>\n",
       "      <td>1546.0</td>\n",
       "      <td>18.702808</td>\n",
       "      <td>8.787124</td>\n",
       "      <td>-1.900000</td>\n",
       "      <td>11.825000</td>\n",
       "      <td>19.225000</td>\n",
       "      <td>25.168750</td>\n",
       "      <td>44.600000</td>\n",
       "    </tr>\n",
       "    <tr>\n",
       "      <th>RH</th>\n",
       "      <td>1546.0</td>\n",
       "      <td>43.917987</td>\n",
       "      <td>14.464104</td>\n",
       "      <td>9.225000</td>\n",
       "      <td>36.150000</td>\n",
       "      <td>38.724999</td>\n",
       "      <td>51.468750</td>\n",
       "      <td>88.725000</td>\n",
       "    </tr>\n",
       "    <tr>\n",
       "      <th>AH</th>\n",
       "      <td>1546.0</td>\n",
       "      <td>0.977192</td>\n",
       "      <td>0.423748</td>\n",
       "      <td>0.198757</td>\n",
       "      <td>0.639129</td>\n",
       "      <td>0.959642</td>\n",
       "      <td>1.289465</td>\n",
       "      <td>2.139496</td>\n",
       "    </tr>\n",
       "    <tr>\n",
       "      <th>Comfortable</th>\n",
       "      <td>1546.0</td>\n",
       "      <td>0.482536</td>\n",
       "      <td>0.499857</td>\n",
       "      <td>0.000000</td>\n",
       "      <td>0.000000</td>\n",
       "      <td>0.000000</td>\n",
       "      <td>1.000000</td>\n",
       "      <td>1.000000</td>\n",
       "    </tr>\n",
       "  </tbody>\n",
       "</table>\n",
       "</div>"
      ],
      "text/plain": [
       "              count       mean        std       min        25%        50%  \\\n",
       "T            1546.0  18.702808   8.787124 -1.900000  11.825000  19.225000   \n",
       "RH           1546.0  43.917987  14.464104  9.225000  36.150000  38.724999   \n",
       "AH           1546.0   0.977192   0.423748  0.198757   0.639129   0.959642   \n",
       "Comfortable  1546.0   0.482536   0.499857  0.000000   0.000000   0.000000   \n",
       "\n",
       "                   75%        max  \n",
       "T            25.168750  44.600000  \n",
       "RH           51.468750  88.725000  \n",
       "AH            1.289465   2.139496  \n",
       "Comfortable   1.000000   1.000000  "
      ]
     },
     "execution_count": 20,
     "metadata": {},
     "output_type": "execute_result"
    }
   ],
   "source": [
    "# 기술통계량\n",
    "data.describe().T"
   ]
  },
  {
   "cell_type": "code",
   "execution_count": 28,
   "id": "37a0be06-4d31-4376-a839-b13c4b9de6d5",
   "metadata": {},
   "outputs": [
    {
     "data": {
      "text/plain": [
       "T              0.080162\n",
       "RH            -0.431584\n",
       "AH            -0.113466\n",
       "Comfortable    1.000000\n",
       "Name: Comfortable, dtype: float64"
      ]
     },
     "execution_count": 28,
     "metadata": {},
     "output_type": "execute_result"
    }
   ],
   "source": [
    "# 불쾌/상쾌를 판단하기 위한 가장 중요한 특성(T,RH,AH)은 무엇일까?\n",
    "# -- 여러 특성간의 관계를 파악해보자!\n",
    "# corr : 상관계수 값을 통해서 특성간의 연관성을 파악하자(상관관계)\n",
    "# 특성간의 방향성을 파악해서 비례, 반비례, 의미x\n",
    "# -1 ~ 1 범위로 수치 표현\n",
    "# 0 의미가 없음\n",
    "data.corr()['Comfortable']"
   ]
  },
  {
   "cell_type": "markdown",
   "id": "06d2b2ef-d8cf-4244-a0d6-24a8ecd9bb7b",
   "metadata": {},
   "source": [
    "#### 상관계수 해석\n",
    " \n",
    "```\n",
    "|r| = 절대값  \n",
    " \n",
    "· 0.0 <= |r| < 0.2 : 상관관계가 없다. = 선형의 관계가 없다.  \n",
    " \n",
    "· 0.2 <= |r| < 0.4 : 약한 상관관계가 있다.  \n",
    " \n",
    "· 0.4 <= |r| < 0.6 : 보통의 상관관계가 있다.  \n",
    " \n",
    "· 0.6 <= |r| < 0.8 : 강한 (높은) 상관관계가 있다.  \n",
    " \n",
    "· 0.8 <= |r| <= 1.0 : 매우 강한 (매우 높은) 상관관계가 있다.\n",
    "```"
   ]
  },
  {
   "cell_type": "markdown",
   "id": "61899fb7-5a7e-4a1c-8933-262f1e8c2460",
   "metadata": {},
   "source": [
    "- RH : 상대습도가 상대적으로 상관관계가 높음! (약한 상관관계)"
   ]
  },
  {
   "cell_type": "code",
   "execution_count": 33,
   "id": "70922f98-6879-4c10-a83e-4327ccb1ad6d",
   "metadata": {},
   "outputs": [
    {
     "data": {
      "text/html": [
       "<div>\n",
       "<style scoped>\n",
       "    .dataframe tbody tr th:only-of-type {\n",
       "        vertical-align: middle;\n",
       "    }\n",
       "\n",
       "    .dataframe tbody tr th {\n",
       "        vertical-align: top;\n",
       "    }\n",
       "\n",
       "    .dataframe thead th {\n",
       "        text-align: right;\n",
       "    }\n",
       "</style>\n",
       "<table border=\"1\" class=\"dataframe\">\n",
       "  <thead>\n",
       "    <tr style=\"text-align: right;\">\n",
       "      <th></th>\n",
       "      <th>T</th>\n",
       "      <th>RH</th>\n",
       "      <th>AH</th>\n",
       "      <th>Comfortable</th>\n",
       "    </tr>\n",
       "  </thead>\n",
       "  <tbody>\n",
       "    <tr>\n",
       "      <th>0</th>\n",
       "      <td>21.025</td>\n",
       "      <td>30.625000</td>\n",
       "      <td>0.753814</td>\n",
       "      <td>0</td>\n",
       "    </tr>\n",
       "    <tr>\n",
       "      <th>1</th>\n",
       "      <td>9.250</td>\n",
       "      <td>37.550000</td>\n",
       "      <td>0.439072</td>\n",
       "      <td>1</td>\n",
       "    </tr>\n",
       "    <tr>\n",
       "      <th>2</th>\n",
       "      <td>35.825</td>\n",
       "      <td>28.724999</td>\n",
       "      <td>1.662621</td>\n",
       "      <td>0</td>\n",
       "    </tr>\n",
       "    <tr>\n",
       "      <th>3</th>\n",
       "      <td>15.975</td>\n",
       "      <td>35.824999</td>\n",
       "      <td>0.645597</td>\n",
       "      <td>1</td>\n",
       "    </tr>\n",
       "    <tr>\n",
       "      <th>4</th>\n",
       "      <td>12.200</td>\n",
       "      <td>69.575001</td>\n",
       "      <td>0.985989</td>\n",
       "      <td>0</td>\n",
       "    </tr>\n",
       "  </tbody>\n",
       "</table>\n",
       "</div>"
      ],
      "text/plain": [
       "        T         RH        AH  Comfortable\n",
       "0  21.025  30.625000  0.753814            0\n",
       "1   9.250  37.550000  0.439072            1\n",
       "2  35.825  28.724999  1.662621            0\n",
       "3  15.975  35.824999  0.645597            1\n",
       "4  12.200  69.575001  0.985989            0"
      ]
     },
     "execution_count": 33,
     "metadata": {},
     "output_type": "execute_result"
    }
   ],
   "source": [
    "# 데이터 분리 진행하기\n",
    "# 문제, 답 분리\n",
    "# 문제 : 특성, 독립변수, 설명변수, feature, X\n",
    "# 답 : label, 레이블, 라벨, 종속변수, 반응변수, y\n",
    "# * 왜 X 대문자인가? 문제데이터 컬럼은 여러개(차원 개수 많음 > 대문자로 표현)\n",
    "data.head()"
   ]
  },
  {
   "cell_type": "code",
   "execution_count": 39,
   "id": "d1c16733-a19f-42e1-ab6f-1d4b65387b2b",
   "metadata": {},
   "outputs": [],
   "source": [
    "X = data.iloc[:,:3]\n",
    "y = data['Comfortable']"
   ]
  },
  {
   "cell_type": "code",
   "execution_count": null,
   "id": "7212cb3c-1990-4747-b5ea-1d16724b1014",
   "metadata": {},
   "outputs": [],
   "source": []
  }
 ],
 "metadata": {
  "kernelspec": {
   "display_name": "Python [conda env:base] *",
   "language": "python",
   "name": "conda-base-py"
  },
  "language_info": {
   "codemirror_mode": {
    "name": "ipython",
    "version": 3
   },
   "file_extension": ".py",
   "mimetype": "text/x-python",
   "name": "python",
   "nbconvert_exporter": "python",
   "pygments_lexer": "ipython3",
   "version": "3.12.7"
  }
 },
 "nbformat": 4,
 "nbformat_minor": 5
}
