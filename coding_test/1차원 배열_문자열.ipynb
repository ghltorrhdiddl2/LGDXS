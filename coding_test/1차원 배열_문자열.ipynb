{
 "cells": [
  {
   "cell_type": "code",
   "execution_count": 1,
   "id": "8c0539fa-0aee-47c1-a928-275e796370ca",
   "metadata": {},
   "outputs": [
    {
     "name": "stdin",
     "output_type": "stream",
     "text": [
      " 11\n",
      " 1 4 1 2 4 2 4 2 3 4 4\n",
      " 2\n"
     ]
    },
    {
     "name": "stdout",
     "output_type": "stream",
     "text": [
      "3\n"
     ]
    }
   ],
   "source": [
    "#10807\n",
    "n = int(input())\n",
    "n_list = list(map(int, input().split()))\n",
    "v = int(input())\n",
    "\n",
    "print(n_list.count(v))"
   ]
  },
  {
   "cell_type": "code",
   "execution_count": 5,
   "id": "3a3b3ded-7054-4e12-bb2c-fdd485e54251",
   "metadata": {},
   "outputs": [
    {
     "name": "stdin",
     "output_type": "stream",
     "text": [
      " 10 5\n",
      " 1 10 4 9 2 3 8 5 7 6\n"
     ]
    },
    {
     "name": "stdout",
     "output_type": "stream",
     "text": [
      "1423"
     ]
    }
   ],
   "source": [
    "# 10871\n",
    "n, x = map(int, input().split())\n",
    "n_list = list(map(int, input().split()))\n",
    "\n",
    "for i in range(n):\n",
    "    if n_list[i]<x:\n",
    "        print(n_list[i], end=' ')"
   ]
  },
  {
   "cell_type": "code",
   "execution_count": 25,
   "id": "7ab516b9-d32a-4840-a0c6-345dd2cbc51b",
   "metadata": {},
   "outputs": [
    {
     "name": "stdin",
     "output_type": "stream",
     "text": [
      " 5 4\n",
      " 1 2 3\n",
      " 3 4 4\n",
      " 1 4 1\n",
      " 2 2 2\n"
     ]
    },
    {
     "name": "stdout",
     "output_type": "stream",
     "text": [
      "1 2 1 1 0 "
     ]
    }
   ],
   "source": [
    "# 10810\n",
    "basket, time = map(int, input().split())\n",
    "basket_list = [0 for i in range(basket)]\n",
    "\n",
    "for _ in range(time):\n",
    "    i, j, k = map(int, input().split())   # i번 바구니부터 j번 바구니까지에 k번공을 넣는다\n",
    "    for ball in range(i-1,j,1):\n",
    "        basket_list[ball] = k\n",
    "\n",
    "print(*basket_list)  # >> for i in basket_list: print(i, end=' ')"
   ]
  },
  {
   "cell_type": "code",
   "execution_count": 35,
   "id": "e7097df8-e38e-4b85-831d-dcbb5a937944",
   "metadata": {},
   "outputs": [
    {
     "name": "stdin",
     "output_type": "stream",
     "text": [
      " 5 4\n",
      " 1 2\n",
      " 3 4\n",
      " 1 4\n",
      " 2 2\n"
     ]
    },
    {
     "name": "stdout",
     "output_type": "stream",
     "text": [
      "3 1 4 2 5\n"
     ]
    }
   ],
   "source": [
    "# 10813\n",
    "n, m = map(int, input().split())  # n개 바구니, m번 스위칭\n",
    "\n",
    "basket_list = [i for i in range(1,n+1)]\n",
    "for _ in range(m):\n",
    "    i, j = map(int, input().split())\n",
    "    basket_list[i-1], basket_list[j-1] = basket_list[j-1], basket_list[i-1]\n",
    "\n",
    "print(*basket_list)"
   ]
  },
  {
   "cell_type": "code",
   "execution_count": 55,
   "id": "75baa172-7a93-4da0-8169-d6c382282f88",
   "metadata": {
    "scrolled": true
   },
   "outputs": [
    {
     "name": "stdin",
     "output_type": "stream",
     "text": [
      " 3\n",
      " 1\n",
      " 4\n",
      " 5\n",
      " 7\n",
      " 9\n",
      " 6\n",
      " 10\n",
      " 11\n",
      " 12\n",
      " 13\n",
      " 14\n",
      " 15\n",
      " 16\n",
      " 17\n",
      " 18\n",
      " 19\n",
      " 20\n",
      " 21\n",
      " 22\n",
      " 23\n",
      " 24\n",
      " 25\n",
      " 26\n",
      " 27\n",
      " 28\n",
      " 29\n",
      " 30\n"
     ]
    },
    {
     "name": "stdout",
     "output_type": "stream",
     "text": [
      "2\n",
      "8\n"
     ]
    }
   ],
   "source": [
    "# 5597\n",
    "s_list = [i for i in range(1,31)]\n",
    "for _ in range(28):\n",
    "    s_list.remove(int(input()))\n",
    "print(s_list[0])\n",
    "print(s_list[1])"
   ]
  },
  {
   "cell_type": "code",
   "execution_count": 118,
   "id": "78334eef-4f5d-4d0e-a0cd-8f72179fa106",
   "metadata": {},
   "outputs": [
    {
     "name": "stdin",
     "output_type": "stream",
     "text": [
      " 5 4\n",
      " 1 2\n",
      " 3 4\n",
      " 1 4\n",
      " 2 2\n"
     ]
    },
    {
     "name": "stdout",
     "output_type": "stream",
     "text": [
      "3 4 1 2 5\n"
     ]
    }
   ],
   "source": [
    "# 10811\n",
    "# 바구니 N개, M 역순으로 횟수\n",
    "n, m = map(int, input().split())\n",
    "b_list = [i+1 for i in range(n)]\n",
    "\n",
    "for _ in range(m):\n",
    "    i, j = map(int, input().split())\n",
    "    arr = b_list[i-1:j]\n",
    "    arr.reverse()\n",
    "    b_list[i-1:j] = arr\n",
    "\n",
    "print(*b_list)"
   ]
  },
  {
   "cell_type": "code",
   "execution_count": 126,
   "id": "9418ad86-ff0c-4297-9172-9eff74dc5bbc",
   "metadata": {},
   "outputs": [
    {
     "name": "stdin",
     "output_type": "stream",
     "text": [
      " Sprout\n",
      " 3\n"
     ]
    },
    {
     "name": "stdout",
     "output_type": "stream",
     "text": [
      "r\n"
     ]
    }
   ],
   "source": [
    "# 27866\n",
    "# 단어 S의 i번째 글자를 출력\n",
    "s = input()\n",
    "i = int(input())\n",
    "print(s[i-1])"
   ]
  },
  {
   "cell_type": "code",
   "execution_count": 128,
   "id": "cbde49ee-dc44-46e3-ae79-eb1a07d01de2",
   "metadata": {},
   "outputs": [
    {
     "name": "stdin",
     "output_type": "stream",
     "text": [
      " pulljima\n"
     ]
    },
    {
     "name": "stdout",
     "output_type": "stream",
     "text": [
      "8\n"
     ]
    }
   ],
   "source": [
    "# 2743\n",
    "print(len(input()))"
   ]
  },
  {
   "cell_type": "code",
   "execution_count": 138,
   "id": "03b4f183-3d94-4caa-ac03-4dfa6a0baced",
   "metadata": {},
   "outputs": [
    {
     "name": "stdin",
     "output_type": "stream",
     "text": [
      " 3\n",
      " ACDKJFOWIEGHE\n"
     ]
    },
    {
     "name": "stdout",
     "output_type": "stream",
     "text": [
      "AE\n"
     ]
    },
    {
     "name": "stdin",
     "output_type": "stream",
     "text": [
      " O\n"
     ]
    },
    {
     "name": "stdout",
     "output_type": "stream",
     "text": [
      "OO\n"
     ]
    },
    {
     "name": "stdin",
     "output_type": "stream",
     "text": [
      " AB\n"
     ]
    },
    {
     "name": "stdout",
     "output_type": "stream",
     "text": [
      "AB\n"
     ]
    }
   ],
   "source": [
    "# 9086\n",
    "n = int(input())\n",
    "for i in range(n):\n",
    "    t = input()\n",
    "    print(t[0]+t[-1])"
   ]
  },
  {
   "cell_type": "code",
   "execution_count": 146,
   "id": "53631546-67d7-4973-a446-2f681bd58ef0",
   "metadata": {},
   "outputs": [
    {
     "name": "stdin",
     "output_type": "stream",
     "text": [
      " UNUCIC\n"
     ]
    },
    {
     "name": "stdout",
     "output_type": "stream",
     "text": [
      "36\n"
     ]
    }
   ],
   "source": [
    "# 5622\n",
    "# 숫자 1-> 2초, 숫자2-> 3초\n",
    "w = input(); t = 0\n",
    "for i in range(len(w)):\n",
    "    if w[i] in 'ABC':\n",
    "        t+=3\n",
    "    elif w[i] in 'DEF':\n",
    "        t+=4\n",
    "    elif w[i] in 'GHI':\n",
    "        t+=5\n",
    "    elif w[i] in 'JKL':\n",
    "        t+=6\n",
    "    elif w[i] in 'MNO':\n",
    "        t+=7\n",
    "    elif w[i] in 'PQRS':\n",
    "        t+=8\n",
    "    elif w[i] in 'TUV':\n",
    "        t+=9\n",
    "    elif w[i] in 'WXYZ':\n",
    "        t+=10\n",
    "print(t)"
   ]
  },
  {
   "cell_type": "code",
   "execution_count": 150,
   "id": "d1db14ce-657e-4de5-81db-d74b3b1ae404",
   "metadata": {},
   "outputs": [
    {
     "name": "stdin",
     "output_type": "stream",
     "text": [
      " Hello\n"
     ]
    },
    {
     "name": "stdout",
     "output_type": "stream",
     "text": [
      "Hello\n"
     ]
    },
    {
     "name": "stdin",
     "output_type": "stream",
     "text": [
      " Online Judge\n"
     ]
    },
    {
     "name": "stdout",
     "output_type": "stream",
     "text": [
      "Online Judge\n"
     ]
    },
    {
     "name": "stdin",
     "output_type": "stream",
     "text": [
      " 222rw\n"
     ]
    },
    {
     "name": "stdout",
     "output_type": "stream",
     "text": [
      "222rw\n"
     ]
    },
    {
     "name": "stdin",
     "output_type": "stream",
     "text": [
      " 0\n"
     ]
    }
   ],
   "source": [
    "# 11718\n",
    "while True:\n",
    "    try:\n",
    "        print(input())\n",
    "    except: break"
   ]
  }
 ],
 "metadata": {
  "kernelspec": {
   "display_name": "Python [conda env:base] *",
   "language": "python",
   "name": "conda-base-py"
  },
  "language_info": {
   "codemirror_mode": {
    "name": "ipython",
    "version": 3
   },
   "file_extension": ".py",
   "mimetype": "text/x-python",
   "name": "python",
   "nbconvert_exporter": "python",
   "pygments_lexer": "ipython3",
   "version": "3.12.7"
  }
 },
 "nbformat": 4,
 "nbformat_minor": 5
}
