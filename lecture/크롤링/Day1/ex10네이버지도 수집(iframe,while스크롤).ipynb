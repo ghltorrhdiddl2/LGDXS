{
 "cells": [
  {
   "cell_type": "code",
   "execution_count": 1,
   "id": "7040664e-41f8-4f11-b541-829e06637368",
   "metadata": {},
   "outputs": [],
   "source": [
    "from selenium import webdriver as wb\n",
    "from selenium.webdriver.common.by import By\n",
    "from selenium.webdriver.common.keys import Keys\n",
    "import time"
   ]
  },
  {
   "cell_type": "code",
   "execution_count": 174,
   "id": "6e9b17e2-990e-41a3-8e7b-2ba4f6331e0b",
   "metadata": {},
   "outputs": [],
   "source": [
    "# 브라우저 실행 -> 네이버 지도 이동\n",
    "driver = wb.Chrome()\n",
    "driver.get(\"https://map.naver.com/p?c=15.00,0,0,0,dh\")\n",
    "driver.maximize_window()"
   ]
  },
  {
   "cell_type": "code",
   "execution_count": 176,
   "id": "4c765382-2667-4aa7-8970-c4a41d4b63e2",
   "metadata": {},
   "outputs": [],
   "source": [
    "# 검색창에 동명동맛집 입력 -> 검색\n",
    "# 선택자가 랜덤으로 변하는 경우가 있다.\n",
    "#  How? 변하지 않는 선택자를찾자 ex) class, 계층선택자\n",
    "driver.find_element(By.CSS_SELECTOR,\"input.input_search\").send_keys(\"동명동맛집\",Keys.ENTER)"
   ]
  },
  {
   "cell_type": "markdown",
   "id": "b7e7660f-2fde-4f73-a2c7-4522c581b621",
   "metadata": {},
   "source": [
    "- id(#input_search1736919279757)의 난수값이 계속 변경되므로 이때는 class(.input_search)를 사용하자!"
   ]
  },
  {
   "cell_type": "code",
   "execution_count": 73,
   "id": "f0c39ee0-ad93-4820-969c-23be887cffd6",
   "metadata": {},
   "outputs": [],
   "source": [
    "# 검색된 가게들의 태그를 수집\n",
    "# Why? -> 하나씩 클릭\n",
    "# 가게이름 첫 번째꺼 클릭 -> 오른쪽 데이터 수집 -> 두 번째.....\n",
    "title = driver.find_elements(By.CSS_SELECTOR,\"#_pcmap_list_scroll_container > ul > li > div.CHC5F > a.tzwk0\")"
   ]
  },
  {
   "cell_type": "code",
   "execution_count": 75,
   "id": "7df03f4c-ee8c-4766-922e-c004fb05f628",
   "metadata": {},
   "outputs": [
    {
     "data": {
      "text/plain": [
       "0"
      ]
     },
     "execution_count": 75,
     "metadata": {},
     "output_type": "execute_result"
    }
   ],
   "source": [
    "len(title)"
   ]
  },
  {
   "cell_type": "markdown",
   "id": "53b17832-5a95-4abd-8203-110853366d2c",
   "metadata": {},
   "source": [
    "## 화면에는 보이는데.. 접근이 안된다..?\n",
    "- iframe을 의심해봐라\n",
    "- iframe : 다른 서버에 저장된 데이터를 보여주기만 하는 태그\n",
    "- 우리가 필요한건 실제 서버의 주소 -> src속 경로를 파악\n",
    "- 상대경로이면 -> 절대경로로 변경 -> req로 크롤링할 때 사용하는 방식\n",
    "- But! selenium은 브라우저 자체를 제어하는 목적 -> 링크를 옮겨가는 게 아닌 화면에서 조작 실행\n",
    "- How? driver가 현재 가지고 있는 화면(처음 검색된 결과)을 iframe으로 변경"
   ]
  },
  {
   "cell_type": "code",
   "execution_count": 178,
   "id": "fa2171e5-1936-49a3-9b48-1dac0599e115",
   "metadata": {},
   "outputs": [],
   "source": [
    "# 원본데이터에서 iframe으로 변경\n",
    "# 이동할 iframe태그 찾기 -> 드라이버에게 변경 명령 내기기\n",
    "# 원본에서 iframe으로 변경 -> switch_to.frame(iframe의 태그위치(선택자))\n",
    "search_iframe = driver.find_element(By.CSS_SELECTOR,\"#searchIframe\")\n",
    "driver.switch_to.frame(search_iframe)"
   ]
  },
  {
   "cell_type": "code",
   "execution_count": 80,
   "id": "a9fc673a-41e2-47ef-8ac1-bf6619463d98",
   "metadata": {},
   "outputs": [
    {
     "data": {
      "text/plain": [
       "10"
      ]
     },
     "execution_count": 80,
     "metadata": {},
     "output_type": "execute_result"
    }
   ],
   "source": [
    "# 다시 수집해보기\n",
    "title = driver.find_elements(By.CSS_SELECTOR,\"#_pcmap_list_scroll_container > ul > li > div.CHC5F > a.tzwk0\")\n",
    "len(title)"
   ]
  },
  {
   "cell_type": "markdown",
   "id": "b3bda2b2-14fb-459a-8448-2cb2b36d5d03",
   "metadata": {},
   "source": [
    "### 전체 결과가 아니다 -> 스크롤링 필요\n",
    "- 기존방식 : body태그에게 키보드의 end를 보내는 방식을 사용\n",
    "- 간혹 iframe인 경우에는 body에게 스크롤을 명령할 수 없다.\n",
    "#### 해결책 : iframe속 데이터를 담고 있는 태그(div) -> 옆에 scroll이라고 태그가 붙은 div가 존재"
   ]
  },
  {
   "cell_type": "code",
   "execution_count": 180,
   "id": "28fcd58f-4d10-4f99-9664-217c8bbf76bd",
   "metadata": {},
   "outputs": [],
   "source": [
    "div = driver.find_element(By.CSS_SELECTOR,\"#_pcmap_list_scroll_container\")\n",
    "div.send_keys(Keys.END)"
   ]
  },
  {
   "cell_type": "markdown",
   "id": "a4e6bbb4-cac4-4846-92a6-908b62c6ee1f",
   "metadata": {},
   "source": [
    "- 기존 스크롤 : 임의의 횟수 만큼 for문 작성\n",
    "- 단점 : 반복횟수가 낭비, 부족할수도 있다\n",
    "#### while문을 통해서 알아서 끝까지 반복하는 문법\n",
    "- 대화 : 스크롤을 내리기 전 데이터와 스크롤을 내린 후 데이터를 비교해라!\n",
    "- 만약에 두 데이터가 다르다면? 스크롤이 된다 -> 스크롤 해라\n",
    "- 만약에 두 데이터가 같다면? 스크롤이 안된다 -> 스크롤을 멈춰라"
   ]
  },
  {
   "cell_type": "code",
   "execution_count": 182,
   "id": "4f04e1b1-cbad-436c-bc10-a6e3b81488ef",
   "metadata": {},
   "outputs": [],
   "source": [
    "while True:\n",
    "    # 스크롤 내리기 전 데이터 저장\n",
    "    first_data = driver.page_source\n",
    "    # 스크롤 내리기\n",
    "    div.send_keys(Keys.END)\n",
    "    # 시간부여\n",
    "    time.sleep(0.5)\n",
    "    # 내린 후 데이터 저장\n",
    "    last_data = driver.page_source\n",
    "    # 멈추는 조건 부여\n",
    "    if first_data == last_data:\n",
    "        break"
   ]
  },
  {
   "cell_type": "code",
   "execution_count": null,
   "id": "b2bfe219-ff46-4fdf-b713-771129b4af00",
   "metadata": {},
   "outputs": [],
   "source": [
    "# 다른 코드에 활용할 때는 div -> body태그로 변경\n",
    "body = drive.find_element(By.CSS_SELECTOR,\"body\")\n",
    "while True:\n",
    "    # 스크롤 내리기 전 데이터 저장\n",
    "    first_data = driver.page_source\n",
    "    # 스크롤 내리기\n",
    "    body.send_keys(Keys.END)\n",
    "    # 시간부여\n",
    "    time.sleep(0.5)\n",
    "    # 내린 후 데이터 저장\n",
    "    last_data = driver.page_source\n",
    "    # 멈추는 조건 부여\n",
    "    if first_data == last_data:\n",
    "        break"
   ]
  },
  {
   "cell_type": "code",
   "execution_count": 184,
   "id": "5ac24481-7a52-4948-881c-80ce74fd9c41",
   "metadata": {},
   "outputs": [
    {
     "data": {
      "text/plain": [
       "56"
      ]
     },
     "execution_count": 184,
     "metadata": {},
     "output_type": "execute_result"
    }
   ],
   "source": [
    "# 스크롤 후 데이터 다시 수집\n",
    "title = driver.find_elements(By.CSS_SELECTOR,\"#_pcmap_list_scroll_container > ul > li > div.CHC5F > a.tzwk0\")\n",
    "len(title)"
   ]
  },
  {
   "cell_type": "code",
   "execution_count": 186,
   "id": "9008f5dd-8cd6-41b0-8569-5eac14c01ba3",
   "metadata": {},
   "outputs": [],
   "source": [
    "# 첫번째 가게 클릭 -> 디테일 정보 얻기 위해서\n",
    "title[0].click()"
   ]
  },
  {
   "cell_type": "code",
   "execution_count": 103,
   "id": "ad6742aa-c79b-4bea-8318-047e97ac65ad",
   "metadata": {},
   "outputs": [
    {
     "data": {
      "text/plain": [
       "[]"
      ]
     },
     "execution_count": 103,
     "metadata": {},
     "output_type": "execute_result"
    }
   ],
   "source": [
    "# 우측 디테일 창에서 가게이름 수집\n",
    "title[0].find_elements(By.CSS_SELECTOR,\"#_title > div > span.GHAhO\")"
   ]
  },
  {
   "cell_type": "markdown",
   "id": "6232f231-60ba-44b2-94a2-8d6dc5ddf5bc",
   "metadata": {},
   "source": [
    "- 또 iframe 문제!"
   ]
  },
  {
   "cell_type": "code",
   "execution_count": 110,
   "id": "dce263da-1240-472a-a839-8701fc8e15dd",
   "metadata": {
    "scrolled": true
   },
   "outputs": [
    {
     "ename": "NoSuchElementException",
     "evalue": "Message: no such element: Unable to locate element: {\"method\":\"css selector\",\"selector\":\"#entryIframe\"}\n  (Session info: chrome=131.0.6778.265); For documentation on this error, please visit: https://www.selenium.dev/documentation/webdriver/troubleshooting/errors#no-such-element-exception\nStacktrace:\n\tGetHandleVerifier [0x00007FF6E1C580D5+2992373]\n\t(No symbol) [0x00007FF6E18EBFD0]\n\t(No symbol) [0x00007FF6E178590A]\n\t(No symbol) [0x00007FF6E17D926E]\n\t(No symbol) [0x00007FF6E17D955C]\n\t(No symbol) [0x00007FF6E18227D7]\n\t(No symbol) [0x00007FF6E17FF3AF]\n\t(No symbol) [0x00007FF6E181F584]\n\t(No symbol) [0x00007FF6E17FF113]\n\t(No symbol) [0x00007FF6E17CA918]\n\t(No symbol) [0x00007FF6E17CBA81]\n\tGetHandleVerifier [0x00007FF6E1CB6A2D+3379789]\n\tGetHandleVerifier [0x00007FF6E1CCC32D+3468109]\n\tGetHandleVerifier [0x00007FF6E1CC0043+3418211]\n\tGetHandleVerifier [0x00007FF6E1A4C78B+847787]\n\t(No symbol) [0x00007FF6E18F757F]\n\t(No symbol) [0x00007FF6E18F2FC4]\n\t(No symbol) [0x00007FF6E18F315D]\n\t(No symbol) [0x00007FF6E18E2979]\n\tBaseThreadInitThunk [0x00007FFDC1B1259D+29]\n\tRtlUserThreadStart [0x00007FFDC27EAF38+40]\n",
     "output_type": "error",
     "traceback": [
      "\u001b[1;31m---------------------------------------------------------------------------\u001b[0m",
      "\u001b[1;31mNoSuchElementException\u001b[0m                    Traceback (most recent call last)",
      "Cell \u001b[1;32mIn[110], line 2\u001b[0m\n\u001b[0;32m      1\u001b[0m \u001b[38;5;66;03m# 새로운 iframe으로 변환\u001b[39;00m\n\u001b[1;32m----> 2\u001b[0m entry_iframe \u001b[38;5;241m=\u001b[39m driver\u001b[38;5;241m.\u001b[39mfind_element(By\u001b[38;5;241m.\u001b[39mCSS_SELECTOR,\u001b[38;5;124m\"\u001b[39m\u001b[38;5;124m#entryIframe\u001b[39m\u001b[38;5;124m\"\u001b[39m)\n\u001b[0;32m      3\u001b[0m driver\u001b[38;5;241m.\u001b[39mswitch_to\u001b[38;5;241m.\u001b[39mframe(entry_iframe)\n",
      "File \u001b[1;32m~\\anaconda3\\Lib\\site-packages\\selenium\\webdriver\\remote\\webdriver.py:770\u001b[0m, in \u001b[0;36mWebDriver.find_element\u001b[1;34m(self, by, value)\u001b[0m\n\u001b[0;32m    767\u001b[0m         \u001b[38;5;28;01mraise\u001b[39;00m NoSuchElementException(\u001b[38;5;124mf\u001b[39m\u001b[38;5;124m\"\u001b[39m\u001b[38;5;124mCannot locate relative element with: \u001b[39m\u001b[38;5;132;01m{\u001b[39;00mby\u001b[38;5;241m.\u001b[39mroot\u001b[38;5;132;01m}\u001b[39;00m\u001b[38;5;124m\"\u001b[39m)\n\u001b[0;32m    768\u001b[0m     \u001b[38;5;28;01mreturn\u001b[39;00m elements[\u001b[38;5;241m0\u001b[39m]\n\u001b[1;32m--> 770\u001b[0m \u001b[38;5;28;01mreturn\u001b[39;00m \u001b[38;5;28mself\u001b[39m\u001b[38;5;241m.\u001b[39mexecute(Command\u001b[38;5;241m.\u001b[39mFIND_ELEMENT, {\u001b[38;5;124m\"\u001b[39m\u001b[38;5;124musing\u001b[39m\u001b[38;5;124m\"\u001b[39m: by, \u001b[38;5;124m\"\u001b[39m\u001b[38;5;124mvalue\u001b[39m\u001b[38;5;124m\"\u001b[39m: value})[\u001b[38;5;124m\"\u001b[39m\u001b[38;5;124mvalue\u001b[39m\u001b[38;5;124m\"\u001b[39m]\n",
      "File \u001b[1;32m~\\anaconda3\\Lib\\site-packages\\selenium\\webdriver\\remote\\webdriver.py:384\u001b[0m, in \u001b[0;36mWebDriver.execute\u001b[1;34m(self, driver_command, params)\u001b[0m\n\u001b[0;32m    382\u001b[0m response \u001b[38;5;241m=\u001b[39m \u001b[38;5;28mself\u001b[39m\u001b[38;5;241m.\u001b[39mcommand_executor\u001b[38;5;241m.\u001b[39mexecute(driver_command, params)\n\u001b[0;32m    383\u001b[0m \u001b[38;5;28;01mif\u001b[39;00m response:\n\u001b[1;32m--> 384\u001b[0m     \u001b[38;5;28mself\u001b[39m\u001b[38;5;241m.\u001b[39merror_handler\u001b[38;5;241m.\u001b[39mcheck_response(response)\n\u001b[0;32m    385\u001b[0m     response[\u001b[38;5;124m\"\u001b[39m\u001b[38;5;124mvalue\u001b[39m\u001b[38;5;124m\"\u001b[39m] \u001b[38;5;241m=\u001b[39m \u001b[38;5;28mself\u001b[39m\u001b[38;5;241m.\u001b[39m_unwrap_value(response\u001b[38;5;241m.\u001b[39mget(\u001b[38;5;124m\"\u001b[39m\u001b[38;5;124mvalue\u001b[39m\u001b[38;5;124m\"\u001b[39m, \u001b[38;5;28;01mNone\u001b[39;00m))\n\u001b[0;32m    386\u001b[0m     \u001b[38;5;28;01mreturn\u001b[39;00m response\n",
      "File \u001b[1;32m~\\anaconda3\\Lib\\site-packages\\selenium\\webdriver\\remote\\errorhandler.py:232\u001b[0m, in \u001b[0;36mErrorHandler.check_response\u001b[1;34m(self, response)\u001b[0m\n\u001b[0;32m    230\u001b[0m         alert_text \u001b[38;5;241m=\u001b[39m value[\u001b[38;5;124m\"\u001b[39m\u001b[38;5;124malert\u001b[39m\u001b[38;5;124m\"\u001b[39m]\u001b[38;5;241m.\u001b[39mget(\u001b[38;5;124m\"\u001b[39m\u001b[38;5;124mtext\u001b[39m\u001b[38;5;124m\"\u001b[39m)\n\u001b[0;32m    231\u001b[0m     \u001b[38;5;28;01mraise\u001b[39;00m exception_class(message, screen, stacktrace, alert_text)  \u001b[38;5;66;03m# type: ignore[call-arg]  # mypy is not smart enough here\u001b[39;00m\n\u001b[1;32m--> 232\u001b[0m \u001b[38;5;28;01mraise\u001b[39;00m exception_class(message, screen, stacktrace)\n",
      "\u001b[1;31mNoSuchElementException\u001b[0m: Message: no such element: Unable to locate element: {\"method\":\"css selector\",\"selector\":\"#entryIframe\"}\n  (Session info: chrome=131.0.6778.265); For documentation on this error, please visit: https://www.selenium.dev/documentation/webdriver/troubleshooting/errors#no-such-element-exception\nStacktrace:\n\tGetHandleVerifier [0x00007FF6E1C580D5+2992373]\n\t(No symbol) [0x00007FF6E18EBFD0]\n\t(No symbol) [0x00007FF6E178590A]\n\t(No symbol) [0x00007FF6E17D926E]\n\t(No symbol) [0x00007FF6E17D955C]\n\t(No symbol) [0x00007FF6E18227D7]\n\t(No symbol) [0x00007FF6E17FF3AF]\n\t(No symbol) [0x00007FF6E181F584]\n\t(No symbol) [0x00007FF6E17FF113]\n\t(No symbol) [0x00007FF6E17CA918]\n\t(No symbol) [0x00007FF6E17CBA81]\n\tGetHandleVerifier [0x00007FF6E1CB6A2D+3379789]\n\tGetHandleVerifier [0x00007FF6E1CCC32D+3468109]\n\tGetHandleVerifier [0x00007FF6E1CC0043+3418211]\n\tGetHandleVerifier [0x00007FF6E1A4C78B+847787]\n\t(No symbol) [0x00007FF6E18F757F]\n\t(No symbol) [0x00007FF6E18F2FC4]\n\t(No symbol) [0x00007FF6E18F315D]\n\t(No symbol) [0x00007FF6E18E2979]\n\tBaseThreadInitThunk [0x00007FFDC1B1259D+29]\n\tRtlUserThreadStart [0x00007FFDC27EAF38+40]\n"
     ]
    }
   ],
   "source": [
    "# 새로운 iframe으로 변환\n",
    "entry_iframe = driver.find_element(By.CSS_SELECTOR,\"#entryIframe\")\n",
    "driver.switch_to.frame(entry_iframe)"
   ]
  },
  {
   "cell_type": "markdown",
   "id": "a8770aad-3d73-49f5-8567-4e8059d9cecb",
   "metadata": {},
   "source": [
    "### 해당 코드가 오류가 나는 이유\n",
    "- 2번 iframe과 3번 iframe은 서로 모르는 관계(불포함 관계)\n",
    "- How? 2번 -> 원본 -> 3번"
   ]
  },
  {
   "cell_type": "code",
   "execution_count": 188,
   "id": "9dff5ed7-8ea3-47ac-9743-f9c01099632e",
   "metadata": {},
   "outputs": [],
   "source": [
    "# iframe에서 원본으로 이동하는 방법\n",
    "driver.switch_to.default_content()"
   ]
  },
  {
   "cell_type": "code",
   "execution_count": 190,
   "id": "b1cc6da4-cb95-4270-8301-a77f00fce4cc",
   "metadata": {},
   "outputs": [],
   "source": [
    "# 다시 iframe으로 이동\n",
    "entry_iframe = driver.find_element(By.CSS_SELECTOR,\"#entryIframe\")\n",
    "driver.switch_to.frame(entry_iframe)"
   ]
  },
  {
   "cell_type": "code",
   "execution_count": 192,
   "id": "db06f522-90da-48f6-a0e9-944680ed7f3f",
   "metadata": {},
   "outputs": [
    {
     "data": {
      "text/plain": [
       "'쭈꾸미잡스'"
      ]
     },
     "execution_count": 192,
     "metadata": {},
     "output_type": "execute_result"
    }
   ],
   "source": [
    "# 우측 디테일 속의 가게 이름 수집\n",
    "store_name = driver.find_element(By.CSS_SELECTOR,\"#_title > div > span.GHAhO\")\n",
    "store_name.text"
   ]
  },
  {
   "cell_type": "markdown",
   "id": "11980a76-e30c-4817-8251-1b9666ef21a2",
   "metadata": {},
   "source": [
    "### 목적 : 2번째 검색 결과를 클릭 후, 디테일 정보 중 가게 타이틀 수집\n",
    "- 키포인트 : 현재 위치는 3번 iframe\n",
    "- 1) 원본으로 이동\n",
    "  2) 2번 iframe으로 이동\n",
    "  3) 가게 클릭\n",
    "  4) 원본으로 이동\n",
    "  5) 3번 iframe 이동\n",
    "  6) 가게 타이틀 수집"
   ]
  },
  {
   "cell_type": "code",
   "execution_count": 204,
   "id": "bd55a766-361a-4532-acc6-f63b8b9eda3f",
   "metadata": {},
   "outputs": [
    {
     "data": {
      "text/plain": [
       "'아이다요'"
      ]
     },
     "execution_count": 204,
     "metadata": {},
     "output_type": "execute_result"
    }
   ],
   "source": [
    "driver.switch_to.default_content()\n",
    "driver.switch_to.frame(search_iframe)\n",
    "title[1].click()\n",
    "time.sleep(1)\n",
    "driver.switch_to.default_content()\n",
    "entry_iframe = driver.find_element(By.CSS_SELECTOR,\"#entryIframe\") # 화면 초기화(화면 깜박거림)가 되기 때문에 다시 찾아와야 함!\n",
    "driver.switch_to.frame(entry_iframe)\n",
    "store_name = driver.find_element(By.CSS_SELECTOR,\"#_title > div > span.GHAhO\")\n",
    "store_name.text"
   ]
  },
  {
   "cell_type": "code",
   "execution_count": 206,
   "id": "c5517e6e-25b2-4d36-ba24-8e1353ef553f",
   "metadata": {},
   "outputs": [],
   "source": [
    "# 반복문을 통해서 모든 가게 정보 수집\n",
    "name_list = []\n",
    "for i in range(len(title)):\n",
    "    driver.switch_to.default_content()\n",
    "    driver.switch_to.frame(search_iframe)\n",
    "    title[i].click()\n",
    "    time.sleep(3)\n",
    "    driver.switch_to.default_content()\n",
    "    entry_iframe = driver.find_element(By.CSS_SELECTOR,\"#entryIframe\") # 화면 초기화(화면 깜박거림)가 되기 때문에 다시 찾아와야 함!\n",
    "    driver.switch_to.frame(entry_iframe)\n",
    "    store_name = driver.find_element(By.CSS_SELECTOR,\"#_title > div > span.GHAhO\")\n",
    "    name_list.append(store_name.text)"
   ]
  },
  {
   "cell_type": "code",
   "execution_count": 207,
   "id": "d91b1efc-60f1-44b2-af74-f2c8fc721cee",
   "metadata": {
    "scrolled": true
   },
   "outputs": [
    {
     "data": {
      "text/plain": [
       "['쭈꾸미잡스',\n",
       " '아이다요',\n",
       " '캬베츠',\n",
       " '왕산식당 동명점',\n",
       " '아이다요',\n",
       " '아비오',\n",
       " '비미',\n",
       " '수을상',\n",
       " '라그로쏘',\n",
       " '컴피코지',\n",
       " '동백카츠 동명점',\n",
       " '대풍쪽갈비 본점',\n",
       " '황톳길 본점',\n",
       " '육값어치',\n",
       " '코다',\n",
       " '한식경',\n",
       " '녹지',\n",
       " '오감탄 본점',\n",
       " '온우',\n",
       " '천지라멘',\n",
       " '파블로츄러스',\n",
       " '소보쿠',\n",
       " '동명동2F',\n",
       " '소바 쿄다이',\n",
       " '규슈 동명본점',\n",
       " '틸트틸트 동명',\n",
       " '영원',\n",
       " '올데이우동 동명점',\n",
       " '윤슬베이커리',\n",
       " '폴리아',\n",
       " '부엌간 동명 직영점',\n",
       " '900달러',\n",
       " '꾀꾀로',\n",
       " '그랩앤고 크레페 동명본점',\n",
       " '구미구미',\n",
       " '라이드올스테이카페클럽',\n",
       " '연어쁘다 광주본점',\n",
       " '블루웨일',\n",
       " '동명식빵',\n",
       " '사보타지',\n",
       " '녹는당',\n",
       " '차오르면',\n",
       " '돌애',\n",
       " '사월의파랑',\n",
       " '달곰식당',\n",
       " '퀴비',\n",
       " '오월의동명동',\n",
       " '밀물',\n",
       " '포카포카',\n",
       " '선데이즈가든',\n",
       " '송경솥밥',\n",
       " '오펜스커피',\n",
       " '카프테일러',\n",
       " '클로우치',\n",
       " '중정',\n",
       " '동명 모락']"
      ]
     },
     "execution_count": 207,
     "metadata": {},
     "output_type": "execute_result"
    }
   ],
   "source": [
    "name_list"
   ]
  },
  {
   "cell_type": "code",
   "execution_count": 211,
   "id": "79e75f81-162d-4762-91c4-685bb50ce36a",
   "metadata": {},
   "outputs": [
    {
     "data": {
      "text/plain": [
       "56"
      ]
     },
     "execution_count": 211,
     "metadata": {},
     "output_type": "execute_result"
    }
   ],
   "source": [
    "len(name_list)"
   ]
  },
  {
   "cell_type": "markdown",
   "id": "cf5aed93-a875-422e-a76d-6dd8705cd17c",
   "metadata": {},
   "source": [
    "## 오늘 파일 정리\n",
    "- 아이디가 바뀌는 선택자 존재 -> class, 계층을 활용하자\n",
    "- selenium에서 iframe을 처리하는 방법\n",
    "- 1) 원본데이터 -> iframe 이동 : driver.switch_to.frame(이동할 iframe 위치)\n",
    "  2) frame -> frame 불가능 = frame -> 원본 -> frame 이동\n",
    "     - driver.switch_to.default_content()로 이동 후에 변환 가능\n",
    "- 태그를 수집할 때 그냥 검색된거 수집하지 말고 태그를 분석하자\n",
    "  - 글자를 클릭했을 때 화면이 바뀐다면 반드시 a태그를 수집\n",
    "  - 글자를 입력하는 공간을 수집할 때는 반드시 input태그를 수집\n",
    "  - 광고 같은 키워드로 인해서 클릭이 되지 않는 경우 -> 넓은 영역을 수집\n",
    "- iframe에서 스크롤 작업할 때 body가 안되는 경우가 있다\n",
    "  - 영역을 포함한 div들 중 옆에 태그로 scroll을 확인 후, 그 div에게 end 보내기\n",
    "- 앞으로 스크롤 내리는 작업할 때는 while문 코드 사용하기"
   ]
  },
  {
   "cell_type": "code",
   "execution_count": null,
   "id": "cea698f2-0ff2-4cf5-bf58-e21eb74836fa",
   "metadata": {},
   "outputs": [],
   "source": [
    "from selenium import webdriver as wb\n",
    "import undetected_chromedriver as uc\n",
    "from selenium.webdriver.common.keys import Keys\n",
    "from selenium.webdriver.common.by import By\n",
    "import time\n",
    " \n",
    " \n",
    "# 사이트 실행 및 요청\n",
    "driver = wb.Chrome()\n",
    "driver.maximize_window()\n",
    "driver.get('https://map.naver.com/p?c=15.00,0,0,0,dh1')\n",
    " \n",
    "input = driver.find_element(By.CSS_SELECTOR,'.input_search')\n",
    " \n",
    "input.send_keys('동명동 맛집')\n",
    "input.send_keys(Keys.ENTER)\n",
    "time.sleep(3)\n",
    " \n",
    "search_iframe = driver.find_element(By.CSS_SELECTOR, '#searchIframe')\n",
    "iframe_src = search_iframe.get_attribute('src')\n",
    " \n",
    "driver.get(iframe_src)\n",
    "time.sleep(2)\n",
    "title_list=[]\n",
    "container = driver.find_element(By.CSS_SELECTOR, '#_pcmap_list_scroll_container')\n",
    "title = driver.find_elements(By.CSS_SELECTOR, '#_pcmap_list_scroll_container > ul > li > div > a > div > div > span.TYaxT')\n",
    "scroll_count = 0  \n",
    "while scroll_count < 5:\n",
    "    container = driver.find_element(By.CSS_SELECTOR, '#_pcmap_list_scroll_container')\n",
    "    for _ in range(10):\n",
    "        container.send_keys(Keys.END)\n",
    "        time.sleep(0.2)\n",
    " \n",
    "    titles = driver.find_elements(By.CSS_SELECTOR, '#_pcmap_list_scroll_container > ul > li > div > a > div > div > span.TYaxT')\n",
    "    for title in titles:\n",
    "        text = title.text.strip()\n",
    "        if text and text not in title_list:\n",
    "            title_list.append(text)\n",
    " \n",
    "    next_buttons = driver.find_element(By.CSS_SELECTOR, '#app-root > div > div.XUrfU > div.zRM9F > a:nth-child(7) > svg')\n",
    "    if next_buttons:\n",
    "        next_buttons.click()  \n",
    "        scroll_count += 1  \n",
    "        time.sleep(2) \n",
    "\n",
    " \n",
    "# 드라이버 종료\n",
    "driver.quit()\n",
    "len(title_list)"
   ]
  }
 ],
 "metadata": {
  "kernelspec": {
   "display_name": "Python [conda env:base] *",
   "language": "python",
   "name": "conda-base-py"
  },
  "language_info": {
   "codemirror_mode": {
    "name": "ipython",
    "version": 3
   },
   "file_extension": ".py",
   "mimetype": "text/x-python",
   "name": "python",
   "nbconvert_exporter": "python",
   "pygments_lexer": "ipython3",
   "version": "3.12.7"
  }
 },
 "nbformat": 4,
 "nbformat_minor": 5
}
