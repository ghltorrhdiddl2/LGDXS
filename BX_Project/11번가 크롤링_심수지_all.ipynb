{
 "cells": [
  {
   "cell_type": "code",
   "execution_count": 102,
   "id": "cc5d27e8-a4e3-4f9c-ac90-eef0bb534212",
   "metadata": {},
   "outputs": [],
   "source": [
    "# 포함할 단어\n",
    "# \"가로\",\"깊이\",\"사이즈\",\"세로\",\"cm\",\"mm\",\"냉장고장\"\n",
    "# contain_word = [\"가로\",\"깊이\",\"사이즈\",\"세로\",\"cm\",\"mm\",\"냉장고장\"]\n",
    "\n",
    "# contain_word = [\"가로\", \"깊이\", \"사이즈\", \"세로\", \"cm\", \"mm\", \"냉장고장\",\"높이\", \"폭\", \"부피\", \"측정\", \"실측\", \"공간\", \"위치\", \"배치\", \n",
    "#                 \"설치공간\", \"배선\", \"콘센트\", \"전원\", \"연결\", \"제약\", \"제한\", \"문제\", \"트러블\", \"조정\", \"조립\", \"위치조정\", \n",
    "#                 \"기사\", \"설치사\", \"방문\", \"방문비\", \"유료\", \"무료\", \"서비스\", \"지원\", \"고객지원\", \"지원서비스\", \"요금\",\"연장선\", \n",
    "#                 \"설계\", \"조립도구\", \"설치장소\", \"설치환경\", \"설치조건\",\"전력\", \"선호\", \"제한사항\", \"공간제약\", \"배치문제\", \"배치이슈\",\"불편\", \n",
    "#                 \"어려움\", \"불만\", \"만족\", \"추천\", \"비추천\", \"편리함\", \"불편함\", \"좁은 공간\", \"높은 곳\", \"전력 공급\", \"배선 문제\",\"인치\" ]"
   ]
  },
  {
   "cell_type": "code",
   "execution_count": 1,
   "id": "2cb47ae2-79b5-4ac4-888f-85c5c4da231a",
   "metadata": {},
   "outputs": [],
   "source": [
    "import undetected_chromedriver as uc\n",
    "from selenium.webdriver.common.by import By\n",
    "from selenium.webdriver.common.keys import Keys\n",
    "import time\n",
    "import pandas as pd"
   ]
  },
  {
   "cell_type": "code",
   "execution_count": 7,
   "id": "1f70b351-5023-431a-9126-dd783a39ab5c",
   "metadata": {
    "scrolled": true
   },
   "outputs": [
    {
     "ename": "NameError",
     "evalue": "name 'contain_word' is not defined",
     "output_type": "error",
     "traceback": [
      "\u001b[1;31m---------------------------------------------------------------------------\u001b[0m",
      "\u001b[1;31mNameError\u001b[0m                                 Traceback (most recent call last)",
      "Cell \u001b[1;32mIn[7], line 36\u001b[0m\n\u001b[0;32m     34\u001b[0m         qna \u001b[38;5;241m=\u001b[39m driver\u001b[38;5;241m.\u001b[39mfind_elements(By\u001b[38;5;241m.\u001b[39mCSS_SELECTOR,\u001b[38;5;124m\"\u001b[39m\u001b[38;5;124m#showCloseDetail\u001b[39m\u001b[38;5;124m\"\u001b[39m)\n\u001b[0;32m     35\u001b[0m         \u001b[38;5;28;01mfor\u001b[39;00m i \u001b[38;5;129;01min\u001b[39;00m qna:\n\u001b[1;32m---> 36\u001b[0m             \u001b[38;5;28;01mif\u001b[39;00m \u001b[38;5;28many\u001b[39m(word \u001b[38;5;129;01min\u001b[39;00m i\u001b[38;5;241m.\u001b[39mtext \u001b[38;5;28;01mfor\u001b[39;00m word \u001b[38;5;129;01min\u001b[39;00m contain_word):  \u001b[38;5;66;03m# 관련 단어가 들어가 있으면 리스트에 추가\u001b[39;00m\n\u001b[0;32m     37\u001b[0m                 refri_qna_list\u001b[38;5;241m.\u001b[39mappend(i\u001b[38;5;241m.\u001b[39mtext)\n\u001b[0;32m     39\u001b[0m driver\u001b[38;5;241m.\u001b[39mquit()\n",
      "\u001b[1;31mNameError\u001b[0m: name 'contain_word' is not defined"
     ]
    }
   ],
   "source": [
    "driver = uc.Chrome()\n",
    "driver.get(\"https://www.11st.co.kr/?gclid=CjwKCAiAnKi8BhB0EiwA58DA4RyGJVWD-UEPgBXu925_lOKs7RUrY62ogwYZtMPwlaxTrDK7Nfh1bRoC6cMQAvD_BwE&gad_source=1&utm_term=11+%B9%F8%B0%A1&utm_campaign=%B1%B8%B1%DBPC_11%B9%F8%B0%A1&utm_source=%B1%B8%B1%DB_PC_S&utm_medium=%B0%CB%BB%F6\")\n",
    "driver.maximize_window()\n",
    "time.sleep(0.5)\n",
    "\n",
    "# home appliances = [\"LG TV\",\"LG오브제냉장고\",\"LG세탁기\",\"LG건조기\",\"LG에어컨\"]\n",
    "driver.find_element(By.CSS_SELECTOR,\"#tSearch > form > fieldset > input\").send_keys(\"LG오브제냉장고\",Keys.ENTER)\n",
    "time.sleep(1)\n",
    "refri_url = driver.find_elements(By.CSS_SELECTOR,\"#section_list > div > ul > li > div > a\")\n",
    "url_list = []; refri_qna_list = []\n",
    "for i in refri_url:\n",
    "    url_list.append(i.get_attribute('href'))\n",
    "\n",
    "# print(url_list)\n",
    "# len(url_list)  # 한 페이지에 25개 아이템\n",
    "for k in range(len(url_list)):\n",
    "    driver.get(url_list[k]) # 첫 번째 페이지로 이동\n",
    "    time.sleep(1)\n",
    "    ifrmQnA = driver.find_element(By.CSS_SELECTOR,\"#ifrmQnA\") # QnA iframe으로 이동\n",
    "    driver.switch_to.frame(ifrmQnA)\n",
    "    # qna[0].text\n",
    "    # len(qna) # 한 페이지에 10개 문의글\n",
    "#     # ------------------------\n",
    "    qna = driver.find_elements(By.CSS_SELECTOR,\"#showCloseDetail\")\n",
    "    \n",
    "    page = driver.find_elements(By.CSS_SELECTOR,\"#paging_page\")\n",
    "    for i in qna:\n",
    "        # if any(word in i.text for word in contain_word):  # 관련 단어가 들어가 있으면 리스트에 추가\n",
    "        refri_qna_list.append(i.text)\n",
    "\n",
    "    for j in range(len(page)):\n",
    "        driver.find_elements(By.CSS_SELECTOR,\"#paging_page\")[j].click() # 0이 2 페이지로 이동, 8이 10페이지로 이동\n",
    "        time.sleep(1)\n",
    "        qna = driver.find_elements(By.CSS_SELECTOR,\"#showCloseDetail\")\n",
    "        for i in qna:\n",
    "            if any(word in i.text for word in contain_word):  # 관련 단어가 들어가 있으면 리스트에 추가\n",
    "                refri_qna_list.append(i.text)\n",
    "    \n",
    "driver.quit()"
   ]
  },
  {
   "cell_type": "code",
   "execution_count": null,
   "id": "9e6e5e6d-7897-44f2-bfd9-0d1c7d1fa9b3",
   "metadata": {
    "scrolled": true
   },
   "outputs": [],
   "source": [
    "refri_qna_list"
   ]
  },
  {
   "cell_type": "code",
   "execution_count": null,
   "id": "48684d1c-26a1-47a4-b3eb-f92f7f32badd",
   "metadata": {},
   "outputs": [],
   "source": [
    "len(refri_qna_list)"
   ]
  },
  {
   "cell_type": "code",
   "execution_count": 9,
   "id": "e404b714-b43b-4c3d-bb97-c691e7a223c6",
   "metadata": {},
   "outputs": [
    {
     "ename": "NameError",
     "evalue": "name 'contain_word' is not defined",
     "output_type": "error",
     "traceback": [
      "\u001b[1;31m---------------------------------------------------------------------------\u001b[0m",
      "\u001b[1;31mNameError\u001b[0m                                 Traceback (most recent call last)",
      "Cell \u001b[1;32mIn[9], line 37\u001b[0m\n\u001b[0;32m     35\u001b[0m         qna \u001b[38;5;241m=\u001b[39m driver\u001b[38;5;241m.\u001b[39mfind_elements(By\u001b[38;5;241m.\u001b[39mCSS_SELECTOR,\u001b[38;5;124m\"\u001b[39m\u001b[38;5;124m#showCloseDetail\u001b[39m\u001b[38;5;124m\"\u001b[39m)\n\u001b[0;32m     36\u001b[0m         \u001b[38;5;28;01mfor\u001b[39;00m i \u001b[38;5;129;01min\u001b[39;00m qna:\n\u001b[1;32m---> 37\u001b[0m             \u001b[38;5;28;01mif\u001b[39;00m \u001b[38;5;28many\u001b[39m(word \u001b[38;5;129;01min\u001b[39;00m i\u001b[38;5;241m.\u001b[39mtext \u001b[38;5;28;01mfor\u001b[39;00m word \u001b[38;5;129;01min\u001b[39;00m contain_word):  \u001b[38;5;66;03m# 관련 단어가 들어가 있으면 리스트에 추가\u001b[39;00m\n\u001b[0;32m     38\u001b[0m                 tv_qna_list\u001b[38;5;241m.\u001b[39mappend(i\u001b[38;5;241m.\u001b[39mtext)\n\u001b[0;32m     40\u001b[0m driver\u001b[38;5;241m.\u001b[39mquit()\n",
      "\u001b[1;31mNameError\u001b[0m: name 'contain_word' is not defined"
     ]
    }
   ],
   "source": [
    "driver = uc.Chrome()\n",
    "driver.get(\"https://www.11st.co.kr/?gclid=CjwKCAiAnKi8BhB0EiwA58DA4RyGJVWD-UEPgBXu925_lOKs7RUrY62ogwYZtMPwlaxTrDK7Nfh1bRoC6cMQAvD_BwE&gad_source=1&utm_term=11+%B9%F8%B0%A1&utm_campaign=%B1%B8%B1%DBPC_11%B9%F8%B0%A1&utm_source=%B1%B8%B1%DB_PC_S&utm_medium=%B0%CB%BB%F6\")\n",
    "driver.maximize_window()\n",
    "time.sleep(0.5)\n",
    "\n",
    "# home appliances = [\"LG TV\",\"LG오브제냉장고\",\"LG세탁기\",\"LG건조기\",\"LG에어컨\"]\n",
    "driver.find_element(By.CSS_SELECTOR,\"#tSearch > form > fieldset > input\").send_keys(\"LG TV\",Keys.ENTER)\n",
    "time.sleep(1)\n",
    "refri_url = driver.find_elements(By.CSS_SELECTOR,\"#section_list > div > ul > li > div > a\")\n",
    "url_list = []; tv_qna_list = []\n",
    "for i in refri_url:\n",
    "    url_list.append(i.get_attribute('href'))\n",
    "\n",
    "# print(url_list)\n",
    "# len(url_list)  # 한 페이지에 25개 아이템\n",
    "for k in range(len(url_list)):\n",
    "    driver.get(url_list[k]) # 첫 번째 페이지로 이동\n",
    "    time.sleep(1)\n",
    "    ifrmQnA = driver.find_element(By.CSS_SELECTOR,\"#ifrmQnA\") # QnA iframe으로 이동\n",
    "    driver.switch_to.frame(ifrmQnA)\n",
    "    # qna[0].text\n",
    "    # len(qna) # 한 페이지에 10개 문의글\n",
    "#     # ------------------------\n",
    "    qna = driver.find_elements(By.CSS_SELECTOR,\"#showCloseDetail\")\n",
    "    \n",
    "    page = driver.find_elements(By.CSS_SELECTOR,\"#paging_page\")\n",
    "\n",
    "    for i in qna:\n",
    "        # if any(word in i.text for word in contain_word):  # 관련 단어가 들어가 있으면 리스트에 추가\n",
    "        tv_qna_list.append(i.text)\n",
    "\n",
    "    for j in range(len(page)):\n",
    "        driver.find_elements(By.CSS_SELECTOR,\"#paging_page\")[j].click() # 0이 2 페이지로 이동, 8이 10페이지로 이동\n",
    "        time.sleep(1)\n",
    "        qna = driver.find_elements(By.CSS_SELECTOR,\"#showCloseDetail\")\n",
    "        for i in qna:\n",
    "            if any(word in i.text for word in contain_word):  # 관련 단어가 들어가 있으면 리스트에 추가\n",
    "                tv_qna_list.append(i.text)\n",
    "    \n",
    "driver.quit()"
   ]
  },
  {
   "cell_type": "code",
   "execution_count": null,
   "id": "ec1dbbdc-41d9-4dd7-91cc-8ca94bc96da6",
   "metadata": {
    "scrolled": true
   },
   "outputs": [],
   "source": [
    "tv_qna_list"
   ]
  },
  {
   "cell_type": "code",
   "execution_count": null,
   "id": "2e5842ae-22da-4fda-8765-aea8090df24b",
   "metadata": {},
   "outputs": [],
   "source": [
    "len(tv_qna_list)"
   ]
  },
  {
   "cell_type": "code",
   "execution_count": null,
   "id": "c5b83121-188b-4c4f-9cd0-275c69d36b95",
   "metadata": {},
   "outputs": [],
   "source": [
    "driver = uc.Chrome()\n",
    "driver.get(\"https://www.11st.co.kr/?gclid=CjwKCAiAnKi8BhB0EiwA58DA4RyGJVWD-UEPgBXu925_lOKs7RUrY62ogwYZtMPwlaxTrDK7Nfh1bRoC6cMQAvD_BwE&gad_source=1&utm_term=11+%B9%F8%B0%A1&utm_campaign=%B1%B8%B1%DBPC_11%B9%F8%B0%A1&utm_source=%B1%B8%B1%DB_PC_S&utm_medium=%B0%CB%BB%F6\")\n",
    "driver.maximize_window()\n",
    "time.sleep(0.5)\n",
    "\n",
    "# home appliances = [\"LG TV\",\"LG오브제냉장고\",\"LG세탁기\",\"LG건조기\",\"LG에어컨\"]\n",
    "driver.find_element(By.CSS_SELECTOR,\"#tSearch > form > fieldset > input\").send_keys(\"LG 세탁기\",Keys.ENTER)\n",
    "time.sleep(1)\n",
    "refri_url = driver.find_elements(By.CSS_SELECTOR,\"#section_list > div > ul > li > div > a\")\n",
    "url_list = []; washingM_qna_list = []\n",
    "for i in refri_url:\n",
    "    url_list.append(i.get_attribute('href'))\n",
    "\n",
    "# print(url_list)\n",
    "# len(url_list)  # 한 페이지에 25개 아이템\n",
    "for k in range(len(url_list)):\n",
    "    driver.get(url_list[k]) # 첫 번째 페이지로 이동\n",
    "    time.sleep(1)\n",
    "    ifrmQnA = driver.find_element(By.CSS_SELECTOR,\"#ifrmQnA\") # QnA iframe으로 이동\n",
    "    driver.switch_to.frame(ifrmQnA)\n",
    "    # qna[0].text\n",
    "    # len(qna) # 한 페이지에 10개 문의글\n",
    "#     # ------------------------\n",
    "    qna = driver.find_elements(By.CSS_SELECTOR,\"#showCloseDetail\")\n",
    "    \n",
    "    page = driver.find_elements(By.CSS_SELECTOR,\"#paging_page\")\n",
    "\n",
    "    for i in qna:\n",
    "        # if any(word in i.text for word in contain_word):  # 관련 단어가 들어가 있으면 리스트에 추가\n",
    "        washingM_qna_list.append(i.text)\n",
    "\n",
    "    for j in range(len(page)):\n",
    "        driver.find_elements(By.CSS_SELECTOR,\"#paging_page\")[j].click() # 0이 2 페이지로 이동, 8이 10페이지로 이동\n",
    "        time.sleep(1)\n",
    "        qna = driver.find_elements(By.CSS_SELECTOR,\"#showCloseDetail\")\n",
    "        for i in qna:\n",
    "            if any(word in i.text for word in contain_word):  # 관련 단어가 들어가 있으면 리스트에 추가\n",
    "                washingM_qna_list.append(i.text)\n",
    "    \n",
    "driver.quit()"
   ]
  },
  {
   "cell_type": "code",
   "execution_count": null,
   "id": "0b9cea25-4110-44f7-8f6c-452e5b6b671a",
   "metadata": {
    "scrolled": true
   },
   "outputs": [],
   "source": [
    "washingM_qna_list"
   ]
  },
  {
   "cell_type": "code",
   "execution_count": null,
   "id": "25272d82-5843-4cdc-a0e8-baf052b43223",
   "metadata": {},
   "outputs": [],
   "source": [
    "len(washingM_qna_list)"
   ]
  },
  {
   "cell_type": "code",
   "execution_count": null,
   "id": "7e16829f-2e96-4942-8eb2-f5c2f0137f0f",
   "metadata": {},
   "outputs": [],
   "source": [
    "driver = uc.Chrome()\n",
    "driver.get(\"https://www.11st.co.kr/?gclid=CjwKCAiAnKi8BhB0EiwA58DA4RyGJVWD-UEPgBXu925_lOKs7RUrY62ogwYZtMPwlaxTrDK7Nfh1bRoC6cMQAvD_BwE&gad_source=1&utm_term=11+%B9%F8%B0%A1&utm_campaign=%B1%B8%B1%DBPC_11%B9%F8%B0%A1&utm_source=%B1%B8%B1%DB_PC_S&utm_medium=%B0%CB%BB%F6\")\n",
    "driver.maximize_window()\n",
    "time.sleep(0.5)\n",
    "\n",
    "# home appliances = [\"LG TV\",\"LG오브제냉장고\",\"LG세탁기\",\"LG건조기\",\"LG에어컨\"]\n",
    "driver.find_element(By.CSS_SELECTOR,\"#tSearch > form > fieldset > input\").send_keys(\"LG 건조기\",Keys.ENTER)\n",
    "time.sleep(1)\n",
    "refri_url = driver.find_elements(By.CSS_SELECTOR,\"#section_list > div > ul > li > div > a\")\n",
    "url_list = []; dryer_qna_list = []\n",
    "for i in refri_url:\n",
    "    url_list.append(i.get_attribute('href'))\n",
    "\n",
    "# print(url_list)\n",
    "# len(url_list)  # 한 페이지에 25개 아이템\n",
    "for k in range(len(url_list)):\n",
    "    driver.get(url_list[k]) # 첫 번째 페이지로 이동\n",
    "    time.sleep(1)\n",
    "    ifrmQnA = driver.find_element(By.CSS_SELECTOR,\"#ifrmQnA\") # QnA iframe으로 이동\n",
    "    driver.switch_to.frame(ifrmQnA)\n",
    "    # qna[0].text\n",
    "    # len(qna) # 한 페이지에 10개 문의글\n",
    "#     # ------------------------\n",
    "    qna = driver.find_elements(By.CSS_SELECTOR,\"#showCloseDetail\")\n",
    "    \n",
    "    page = driver.find_elements(By.CSS_SELECTOR,\"#paging_page\")\n",
    "    for i in qna:\n",
    "        # if any(word in i.text for word in contain_word):  # 관련 단어가 들어가 있으면 리스트에 추가\n",
    "        dryer_qna_list.append(i.text)\n",
    "\n",
    "    for j in range(len(page)):\n",
    "        driver.find_elements(By.CSS_SELECTOR,\"#paging_page\")[j].click() # 0이 2 페이지로 이동, 8이 10페이지로 이동\n",
    "        time.sleep(1)\n",
    "        qna = driver.find_elements(By.CSS_SELECTOR,\"#showCloseDetail\")\n",
    "        for i in qna:\n",
    "            # if any(word in i.text for word in contain_word):  # 관련 단어가 들어가 있으면 리스트에 추가\n",
    "            dryer_qna_list.append(i.text)\n",
    "    \n",
    "driver.quit()"
   ]
  },
  {
   "cell_type": "code",
   "execution_count": null,
   "id": "f5d06b95-b430-4773-b86b-639a86d24453",
   "metadata": {},
   "outputs": [],
   "source": [
    "dryer_qna_list"
   ]
  },
  {
   "cell_type": "code",
   "execution_count": null,
   "id": "aa62beb3-005e-49bf-8486-46de7a16d3e0",
   "metadata": {},
   "outputs": [],
   "source": [
    "len(dryer_qna_list)"
   ]
  },
  {
   "cell_type": "code",
   "execution_count": null,
   "id": "5ab71729-1f2a-4278-ac0d-3177f9cfdb73",
   "metadata": {},
   "outputs": [],
   "source": [
    "driver = uc.Chrome()\n",
    "driver.get(\"https://www.11st.co.kr/?gclid=CjwKCAiAnKi8BhB0EiwA58DA4RyGJVWD-UEPgBXu925_lOKs7RUrY62ogwYZtMPwlaxTrDK7Nfh1bRoC6cMQAvD_BwE&gad_source=1&utm_term=11+%B9%F8%B0%A1&utm_campaign=%B1%B8%B1%DBPC_11%B9%F8%B0%A1&utm_source=%B1%B8%B1%DB_PC_S&utm_medium=%B0%CB%BB%F6\")\n",
    "driver.maximize_window()\n",
    "time.sleep(0.5)\n",
    "\n",
    "# home appliances = [\"LG TV\",\"LG오브제냉장고\",\"LG세탁기\",\"LG건조기\",\"LG에어컨\"]\n",
    "driver.find_element(By.CSS_SELECTOR,\"#tSearch > form > fieldset > input\").send_keys(\"LG 에어컨\",Keys.ENTER)\n",
    "time.sleep(1)\n",
    "refri_url = driver.find_elements(By.CSS_SELECTOR,\"#section_list > div > ul > li > div > a\")\n",
    "url_list = []; airC_qna_list = []\n",
    "for i in refri_url:\n",
    "    url_list.append(i.get_attribute('href'))\n",
    "\n",
    "# print(url_list)\n",
    "# len(url_list)  # 한 페이지에 25개 아이템\n",
    "for k in range(len(url_list)):\n",
    "    driver.get(url_list[k]) # 첫 번째 페이지로 이동\n",
    "    time.sleep(1)\n",
    "    ifrmQnA = driver.find_element(By.CSS_SELECTOR,\"#ifrmQnA\") # QnA iframe으로 이동\n",
    "    driver.switch_to.frame(ifrmQnA)\n",
    "    # qna[0].text\n",
    "    # len(qna) # 한 페이지에 10개 문의글\n",
    "#     # ------------------------\n",
    "    qna = driver.find_elements(By.CSS_SELECTOR,\"#showCloseDetail\")\n",
    "    \n",
    "    page = driver.find_elements(By.CSS_SELECTOR,\"#paging_page\")\n",
    "\n",
    "    for i in qna:\n",
    "        # if any(word in i.text for word in contain_word):  # 관련 단어가 들어가 있으면 리스트에 추가\n",
    "        airC_qna_list.append(i.text)\n",
    "\n",
    "    for j in range(len(page)):\n",
    "        driver.find_elements(By.CSS_SELECTOR,\"#paging_page\")[j].click() # 0이 2 페이지로 이동, 8이 10페이지로 이동\n",
    "        time.sleep(0.5)\n",
    "        qna = driver.find_elements(By.CSS_SELECTOR,\"#showCloseDetail\")\n",
    "        for i in qna:\n",
    "            if any(word in i.text for word in contain_word):  # 관련 단어가 들어가 있으면 리스트에 추가\n",
    "                airC_qna_list.append(i.text)\n",
    "    \n",
    "driver.quit()"
   ]
  },
  {
   "cell_type": "code",
   "execution_count": null,
   "id": "47ada17a-3d88-478f-a664-94dace6cc91c",
   "metadata": {
    "scrolled": true
   },
   "outputs": [],
   "source": [
    "airC_qna_list"
   ]
  },
  {
   "cell_type": "code",
   "execution_count": null,
   "id": "9585dc6e-87b3-46bc-a93e-1d5c1d10c1e0",
   "metadata": {},
   "outputs": [],
   "source": [
    "len(airC_qna_list)"
   ]
  },
  {
   "cell_type": "markdown",
   "id": "9e8f88a0-eabf-476b-8656-f9d4b30c04cb",
   "metadata": {},
   "source": [
    "----"
   ]
  },
  {
   "cell_type": "code",
   "execution_count": null,
   "id": "2770f166-e850-4da9-8825-a39074b939bf",
   "metadata": {},
   "outputs": [],
   "source": [
    "all_qna_list = refri_qna_list + tv_qna_list + washingM_qna_list + dryer_qna_list + airC_qna_list"
   ]
  },
  {
   "cell_type": "code",
   "execution_count": null,
   "id": "9a6e67ba-3abb-400f-8d85-9f468062eb22",
   "metadata": {},
   "outputs": [],
   "source": [
    "len(all_qna_list)"
   ]
  },
  {
   "cell_type": "code",
   "execution_count": null,
   "id": "04e73768-333d-4819-92f9-599f6d978f82",
   "metadata": {},
   "outputs": [],
   "source": []
  },
  {
   "cell_type": "code",
   "execution_count": null,
   "id": "d99ac233-87ba-4ed3-802e-419b1f317262",
   "metadata": {},
   "outputs": [],
   "source": []
  },
  {
   "cell_type": "code",
   "execution_count": 111,
   "id": "a512bbee-d837-476d-ae9b-43ebf76e36c8",
   "metadata": {},
   "outputs": [],
   "source": [
    "import pickle"
   ]
  },
  {
   "cell_type": "code",
   "execution_count": 140,
   "id": "ece8816f-87fa-455a-a74d-af0109c46343",
   "metadata": {},
   "outputs": [],
   "source": [
    "all_qna_list = [refri_qna_list, tv_qna_list, washingM_qna_list, dryer_qna_list, airC_qna_list]"
   ]
  },
  {
   "cell_type": "code",
   "execution_count": 142,
   "id": "a3565283-362a-4fa1-b2e5-31ca69032b88",
   "metadata": {},
   "outputs": [],
   "source": [
    "with open(\"all_qna_list.pickle\",\"wb\") as fw:\n",
    "    pickle.dump(all_qna_list, fw)"
   ]
  },
  {
   "cell_type": "code",
   "execution_count": 144,
   "id": "17350dee-827c-4437-9dca-85cf1d0f3be9",
   "metadata": {
    "scrolled": true
   },
   "outputs": [],
   "source": [
    "with open(\"all_qna_list.pickle\",\"rb\") as fr:\n",
    "    all_QnA_list = pickle.load(fr)\n",
    "refri, tv, washingM, dryer, airC = all_QnA_list"
   ]
  },
  {
   "cell_type": "code",
   "execution_count": 146,
   "id": "a1e05d0a-ca36-461c-a0e7-7aef491c5fec",
   "metadata": {
    "scrolled": true
   },
   "outputs": [
    {
     "data": {
      "text/plain": [
       "['엘지 정품이 맞나요? 엘지 엔지니어가 설치를 해주시나요?',\n",
       " '상품상세 설명이 잘안보여요ㅜㅜ 제품크기가 어떻게 되나요? 일단 구매 후 크기 맞으면 바로 설치하고 아니면 취소하려해서요',\n",
       " '냉장고 위에 디퓨저를 올려놨다가 다시 위치를 정한다고 손가락 위로 빧어서 까닥까딱하다가 쏟았습니다ㅜㅜ 냉장고 방수 되나요? 안으로 스며들진 않았을까요? 도와주세용..',\n",
       " '전남강진도 무료배송인가요?',\n",
       " '홈바가 따로없나요? 기존 냉장고는 무료수거해가시나요?',\n",
       " '다용도실 문이 805w x 1890h 인데 설치가 가능한가요',\n",
       " '현관넓이880 중문넓이800 설치할장소 넓이1000 깊이1200인데요 상품 주문 가능한가요?',\n",
       " '설치하려면 가로 세로 높이등 실제로 몇cm가 필요한가요?',\n",
       " '현관으로 들어가려면 현관문사이즈 몇정도 나와야하나요? 오후 1:57',\n",
       " '현관으로 들어가려면 현관문사이즈 몇정도 나와야하나요? 오후 1:57 현관문이 좁으면 어떻게 되나요?',\n",
       " '냉장고 설치 후 기존 냉장고는 삼성 제품인데 이것도 무료로 가져가시나요?',\n",
       " '냉장고 선반 높이조절되나요?',\n",
       " '14일이나 15일 설치 안되요?',\n",
       " '냉장고 설치 시간도 맞춰주시나요?',\n",
       " '냉장고 설치 잘 받아서 사용중인데요. 냉장고 소음이 갈수록 커지는 느낌이 듭니다. 냉장고 돌아가는 소리가 원래 이렇게 클까요?',\n",
       " '주문하려고 하니 희망 설치일에 12월 12일 이후로는 선택 할 수가 없네요..',\n",
       " '12월 12일 이후로도 설치 가능한가요?',\n",
       " '한쪽이 벽에직각으로 만날경우 얼마를 띄워야 문이 열리나요 90도 꺽인 모서리에 설치예정',\n",
       " '홈바가 없나요? 물 꺼낼때 앞쪽에 작은문 열 수 있는 공간이요. 이？게 없어요?',\n",
       " '사이즈가어케되나요?',\n",
       " 'LG냉장고가 고장이 났네요. 진입로가 83cm입니다. 설치가능한지요? 답변 주시면 감사합니다.',\n",
       " '구입했습니다. 설치날짜는 3월25일 이사하는날이구요 12~2시사이 설치원합니다.날짜는 꼭 맞춰주셔하고 시간도 가급적맞춰주세요. 부탁드립니다. 폐가전은 1층에내려놓겠습니다 . 수거해주세요~',\n",
       " '냉장고 양문 연다고 치면 가로폭 어느정도필요할까요? 제품 크기보다. 몇센치 정도 여유있어야할지요',\n",
       " '패널교체는 주문전에는 못 하나요? 설치후 교체한다면 비용은 얼마나 되나요?',\n",
       " '사이즈가 궁금합니다',\n",
       " '냉장고 주문할려고 하는데 김치냉징고 엘지 2개 가져가신다고 기사님이 그러시던데 맡는가요 빠른답변 해주세요 그리고 오늘주문하면 월요일에 도착할수 있는지요',\n",
       " '수고 하십니다~ 냉장고 구매할려는데요~ 설치장소가 방인데, 방문 치수가 폭이 812미리가 나옵니다~ 기존 설치시 문짝 탈거후 설치를 했는데~ 이제품은 912미리던데,설치 가능할까요~??',\n",
       " '지마켓에서 lg에서 설치기사님이 나온다고하시는데 11번가도 동일한가요?',\n",
       " '8/21(월) 주문시 8/25(금) 오후 늦게라도 설치 받을수 있나요? 25일이 이사라 가능여부 알고싶네요. 5층인데 엘리베이터는 있으나 좁을거 같아서 사다리차가 필요할거 같습니다. 배송 일자 가능 여부 확인부탁드려요',\n",
       " '냉장고 도어를 분리해서 다시 연결할경우 제품에 문제는 없나요?',\n",
       " '판매자님! 후기가 좋고 가격도 좋아 주문합니다! 하자없는 냉장고로 부탁드립니다! 옛날단층 주택입니다! 기사님이 친절하신분이 오셨으면 좋겠습니다',\n",
       " '어제 설치 받았는데요, 이거 리퍼상품인가요? 냉동실 맨밑서랍 뚜껑이 깨져있네요? 비닐도 안뜯었는데오',\n",
       " '원룸엘베없는3층 무배에 사다리차해주나요? 사이즈가 들어와지는지는 모르겠어요~ 그리고 지금 주문시 희망배송일 지정 가능한가요?',\n",
       " '상품 사이즈 말고 문열고 닫는것까지해서 설치공간이 최소 얼마나 있어야하나요? 가로 세로 깊이요',\n",
       " '안녕하세요~~ 냉장고 주문하려고하는데 무료설치에 사다리차도 필요한경우 무상지원맞나요? 엘베에 안들어갈수도 있을거같아서ㅜ',\n",
       " '저번 빠른배송 너무 감사했습니다.재구매하려고 합니다. 현관이 90cm인데 냉장고 문 분해후 설치 가능 할까요?',\n",
       " '가로1m공간에 설치가능한가요',\n",
       " '1. S834MKE10 과 S834BP20 외형은 비슷한데 가격이 30만원점도 차이 있던데, 스펙 차이점이 무엇인가요? 2. S834MKE10의 기능을 알고 싶습니다. (UV안심제균Plus, 5세대 인버터컴프레서, 매직스페이스[앞문 음료공간 열리는 곳]) 이 3가지 해당되나요? 3. 부모님집 냉장고가 고장나서, 급한데 만약 7월1일에 주문하면 언제 받아 볼수 있나요? (기존 폐가전 수거되는거 맞죠?)',\n",
       " '지방(광주)인데 배송 및 설치 비용은 어떻게 진행되는지 궁금합니다 폐가전 수거도 알려주시면 감사하겠습니다',\n",
       " '케어서비스 가입해야 한다고 되어있는데 케어서비스 월비용과 의무가입기간 같은게 있는지 궁금해요 예를들어 1년케어받고 해지가 되는지 아님 언제까지 케어서비스를 써야하는 약정기간이 있는지요',\n",
       " '제품은 배송 기사님이 직접 설치해주시나요?',\n",
       " '대문이 가로몇센치이상이면 들어올수있나요?',\n",
       " '가로가 913이죠?',\n",
       " '폐가전 무료수거 부탁합니다.',\n",
       " '빌트인 용인가요? 그냥 일반으로는 설치안되는건가요?',\n",
       " '구매하고싶은데 세로 길이 받침대 포함 높이인가요? 놓으려는 주방 높이가 세로 사이즈가 186이거든요',\n",
       " '이거 2024년도 제품이 맞나요? 배송비는 별도로 받나요? 설치비는 따로 받나요? 제품을 주문하면 소요기간이 며칠인가요? 이 제품을 고려중입니다. 정확한 답변 부탁 드립니다.',\n",
       " '김치냉장고 김치통 상칸사이즈좀 알려주세요',\n",
       " '안녕하세요 냉장고 가로 750 이던데 저희짓 김치냉장고 자리가 800이네요 설치가능한가요? 가능하면 구입하고 싶어서요',\n",
       " '냉장고장 가로길이 75.5cm 나오는데 설치 가능할까요 ? ?',\n",
       " '1. 상부의 문짝이 위.아래 이격이 0.3mm나 돼서 눈에 거슬려서 설치시 배송기사에게 말했는데 수평자를 재본후 다 수평은 맞다고하네요. 문높이는 상부하부 같은 높이입니다. 제품불량이면 교환받고 싶습니다. 2. 상부장 내측 상단 모서리부분 고무패킹에 기름기가 있는데 왜 그런가요? 3. 제품 문짝 겉면에 제거해야하는 비닐막이 있는건가요? 서랍장 측면의 비닐이 약간 떨어져 있어요.',\n",
       " '냉장고장 가로가 795 입니다 벽면과 최소 5cm이상 권장은 알겠는데 정말 문제되나요?',\n",
       " '문이 작은데 냉장고가 들어갈까요 가로기준80cm나오는데요ㅜㅠ 세로는긴데 가로가 ㅈ니정도밖에안나오는데 방에 들어갈수있을까요?',\n",
       " '상품수령시 추가배송설치비용이 있을수 있다는데 인천광역시 는 얼 마나 추가가 되나요 그리고 12월 24일 주문 했는데 언제쯤 받아볼수있는지요',\n",
       " '안녕하세요. 자체 물류 기사님이 LG기사님 이신가요? 그리고 색상은 베이지만 가능한지, 매장 상품이랑 같은거죠? 주문하면 받는데까지 대략 얼마정도 걸리나요? 기존 냉장고 수거도 가능한지 따로 신청하는건지 함께 문의드립니다. 감사합니다.',\n",
       " 'Lg에서 배송해주시는것 맞나요? 김냉을 다른곳에서 구매하면 lg기사님과 협의해서 함께받을수있나요?',\n",
       " 'Lg에서 배송해주시는것 맞나요? 김냉을 다른곳에서 구매하면 lg기사님과 협의해서 함께받을수있나요?']"
      ]
     },
     "execution_count": 146,
     "metadata": {},
     "output_type": "execute_result"
    }
   ],
   "source": [
    "refri"
   ]
  },
  {
   "cell_type": "code",
   "execution_count": 148,
   "id": "f88bb1c5-dfec-4882-b405-3fdbec44e5eb",
   "metadata": {},
   "outputs": [
    {
     "data": {
      "text/plain": [
       "['수납함 무료증정을 선택했는데 잘못했나봐요 수납함을 따로 받을수없나요',\n",
       " '세탁기 설치 위치가 조금 낮은 상황이라 아래 선반이 필요한데 하단의 수납함 높이가 궁금합니다.',\n",
       " '이제는 키높이 수납함도 무료로 주네요.. 먼저 산 사람은 개호구로 만들어 버리네.. 이렇게 소비자 우롱해도 되는거요? 가정의달 이벤트상품, 5만원상품권 빨리보내요 뚜껑 열릴라고 하니까',\n",
       " '소비전력 건조570w 확실한가요 삼성제품은 1700w이던데?',\n",
       " '안방 창문 밑 설치도 가능할까요? 1회 사용 전기요금은 얼마인지 궁금합니다.',\n",
       " '전화연결이 안되네요. 건조기 연결키트를 같이주문해야 세탁기위에 올릴수있다고해서 연락드렸어요. 추가 주문같이 되나요? 내일 배송일자인데,(11/30) 안되면 (12/1)에라도 받고싶어요',\n",
       " '건조기 크기(가로,높이,폭) 19~21Kg는 다 똑같나요? 물받이가 따로 내장되어 있을까요? 배수관 없는 실내에 설치 하려는데요',\n",
       " '건조기 주문하면 사다리차 무상지원되나요? 저희 아파트가 엘베없는5층이라서 사다리차가 필요할거 같은데...',\n",
       " '이불도 건조 가능한 사이즈인가요?',\n",
       " '새로 이사갈 집에 넣으려는데 아직 이사는 안가고 집은 비어있어요. 세탁기 없이 앵글 설치해서 건조기를 윗쪽에 먼저 둔다면 세탁기 설치에 어려움이 있나요?',\n",
       " '건조통 뒤쪽 돌아가는 연결부위가 플라스틱인가요?',\n",
       " '.lg정수기 올해 5월달로 약정끝났고 롯데제휴카드 로 할인도 받았었습니다. 신규설치시 가존 정수기 철거 수거 다 하시나요? 기존발급받았던 lg전자롯데제휴카드로 렌탈비결제시 할인적용 같을까요? 방문주기는 12개월만 가능한가요?',\n",
       " '리뷰작성했습니다~ LG퓨리케어 만족합니다!',\n",
       " '주문제작이 어떻게 됩니까',\n",
       " '실측 사이즈는 어떻게 되나요? 베란다가 협소해서요 또 수도꼭지랑 연결되야 되는건가요? 방에도 설치 가능한걸로 알고 있는데요']"
      ]
     },
     "execution_count": 148,
     "metadata": {},
     "output_type": "execute_result"
    }
   ],
   "source": [
    "dryer"
   ]
  },
  {
   "cell_type": "code",
   "execution_count": null,
   "id": "66cbc12a-0d8d-4bc8-ac70-6a7896962125",
   "metadata": {},
   "outputs": [],
   "source": []
  }
 ],
 "metadata": {
  "kernelspec": {
   "display_name": "Python [conda env:base] *",
   "language": "python",
   "name": "conda-base-py"
  },
  "language_info": {
   "codemirror_mode": {
    "name": "ipython",
    "version": 3
   },
   "file_extension": ".py",
   "mimetype": "text/x-python",
   "name": "python",
   "nbconvert_exporter": "python",
   "pygments_lexer": "ipython3",
   "version": "3.12.7"
  }
 },
 "nbformat": 4,
 "nbformat_minor": 5
}
