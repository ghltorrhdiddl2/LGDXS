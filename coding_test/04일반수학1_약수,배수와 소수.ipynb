{
 "cells": [
  {
   "cell_type": "code",
   "execution_count": 47,
   "id": "4589ae47-32c0-4eee-8c84-22b8675e06e6",
   "metadata": {},
   "outputs": [
    {
     "name": "stdin",
     "output_type": "stream",
     "text": [
      " ZZZZZ 36\n"
     ]
    },
    {
     "name": "stdout",
     "output_type": "stream",
     "text": [
      "4\n",
      "3\n",
      "2\n",
      "1\n",
      "0\n",
      "60466175\n"
     ]
    }
   ],
   "source": [
    "# 2745\n",
    "# B진법 수 N이 주어진다. 이 수를 10진법으로 바꿔 출력\n",
    "# A: 10, B: 11, ..., F: 15, ..., Y: 34, Z: 35\n",
    "# 12×36^2 + 11×36^1 + 3×36^0 \n",
    "\n",
    "n, b = map(str, input().split())\n",
    "b = int(b)\n",
    "\n",
    "alphaList = [chr(c) for c in range(ord('A'), ord('Z')+1)]\n",
    "sum = 0\n",
    "for i in range(len(n)-1,-1,-1):\n",
    "    print(i)\n",
    "    sum += (alphaList.index(n[i])+10)*(b**i)\n",
    "\n",
    "print(sum)"
   ]
  },
  {
   "cell_type": "code",
   "execution_count": 59,
   "id": "e3c15389-f024-4a88-ad2b-483fd43c705c",
   "metadata": {},
   "outputs": [
    {
     "name": "stdin",
     "output_type": "stream",
     "text": [
      " ZZZA3 36\n"
     ]
    },
    {
     "name": "stdout",
     "output_type": "stream",
     "text": [
      "0 3\n",
      "1 A\n",
      "2 Z\n",
      "3 Z\n",
      "4 Z\n",
      "60465243\n"
     ]
    }
   ],
   "source": [
    "n, b = input().split()\n",
    "b = int(b) # 진수\n",
    "\n",
    "sum = 0\n",
    "for i, char in enumerate(reversed(n)):\n",
    "    print(i,char)\n",
    "    try:\n",
    "        sum += int(char)*(b**i)\n",
    "    except:\n",
    "        sum += (ord(char) - ord('A') + 10) * (b ** i)\n",
    "\n",
    "print(sum)"
   ]
  },
  {
   "cell_type": "code",
   "execution_count": 71,
   "id": "2af02185-4ba9-484b-9804-6c6b0975977a",
   "metadata": {},
   "outputs": [
    {
     "name": "stdin",
     "output_type": "stream",
     "text": [
      " ZZZA3 36\n"
     ]
    },
    {
     "name": "stdout",
     "output_type": "stream",
     "text": [
      "60465243\n"
     ]
    }
   ],
   "source": [
    "a,b=input().split()\n",
    "print(int(a,int(b))) "
   ]
  },
  {
   "cell_type": "markdown",
   "id": "b9e272d4-3d76-4e4a-b212-7bb7988f0bff",
   "metadata": {},
   "source": [
    "### 파이썬에서는 진법 변환 int() 기능을 지원한다!!"
   ]
  },
  {
   "cell_type": "code",
   "execution_count": 83,
   "id": "ab82f14c-b4e3-45e5-abd1-2625a4b25213",
   "metadata": {},
   "outputs": [
    {
     "name": "stdout",
     "output_type": "stream",
     "text": [
      "417\n"
     ]
    }
   ],
   "source": [
    "print(int('1A1',16))"
   ]
  },
  {
   "cell_type": "code",
   "execution_count": 148,
   "id": "deba8f11-1397-4a3c-8519-f07aa69cdb67",
   "metadata": {},
   "outputs": [
    {
     "name": "stdin",
     "output_type": "stream",
     "text": [
      " 60465243 36\n"
     ]
    },
    {
     "name": "stdout",
     "output_type": "stream",
     "text": [
      "ZZZA3"
     ]
    }
   ],
   "source": [
    "# 11005\n",
    "# 10진법 수 N을 B진법으로 출력\n",
    "\n",
    "# 틀린 코드\n",
    "n, b = map(int, input().split())\n",
    "\n",
    "arr = []\n",
    "while True:\n",
    "    arr.append(n%b)\n",
    "    n //= b\n",
    "    if n<b:\n",
    "        arr.append(n)\n",
    "        break\n",
    "arr.reverse()\n",
    "for i in arr:\n",
    "    if i>=10:\n",
    "        print(chr(i+55), end='')\n",
    "    else:\n",
    "        print(str(i), end='')"
   ]
  },
  {
   "cell_type": "code",
   "execution_count": 128,
   "id": "a6d3925b-2ab4-4386-bc58-ad55322403f9",
   "metadata": {},
   "outputs": [
    {
     "data": {
      "text/plain": [
       "'A'"
      ]
     },
     "execution_count": 128,
     "metadata": {},
     "output_type": "execute_result"
    }
   ],
   "source": [
    "chr(65-10)"
   ]
  },
  {
   "cell_type": "code",
   "execution_count": 150,
   "id": "e6114beb-e3fb-4437-b491-09ad7b301abc",
   "metadata": {},
   "outputs": [
    {
     "name": "stdin",
     "output_type": "stream",
     "text": [
      " 60465243 36\n"
     ]
    },
    {
     "name": "stdout",
     "output_type": "stream",
     "text": [
      "ZZZA3\n"
     ]
    }
   ],
   "source": [
    "# 맞은 코드\n",
    "n, b = map(int, input().split())\n",
    "\n",
    "result = \"\"\n",
    "while n:\n",
    "    result = (str(n % b) if n % b < 10 else chr(n % b + 55)) + result\n",
    "    n //= b\n",
    "\n",
    "print(result)"
   ]
  },
  {
   "cell_type": "code",
   "execution_count": null,
   "id": "eeaa258a-266c-4adc-9abd-23cd5237830a",
   "metadata": {},
   "outputs": [],
   "source": [
    "ord() chr()"
   ]
  },
  {
   "cell_type": "code",
   "execution_count": null,
   "id": "ecaabbc4-1749-476a-a944-44d7da73d95f",
   "metadata": {},
   "outputs": [],
   "source": [
    "# 2720\n",
    "# 쿼터(Quarter, $0.25), 다임(Dime, $0.10), 니켈(Nickel, $0.05), 페니(Penny, $0.01)의 개수를 구하는 프로그램을 작성하시오.\n",
    "#거스름돈은 항상 $5.00 이하이고, 손님이 받는 동전의 개수를 최소로\n",
    "t = int(input())\n",
    "q = 0; d = 0; n = 0; p = 0\n",
    "\n",
    "for i in range(t):\n",
    "  m = int(input())\n",
    "  q =  m//25\n",
    "  d = (m%25)//10\n",
    "  n = (m%25%10)//5\n",
    "  p = (m%25%10%5)//1\n",
    "  print(q,d,n,p)"
   ]
  },
  {
   "cell_type": "code",
   "execution_count": null,
   "id": "ddb97c18-6e34-435f-8fe6-38fdf65b8e30",
   "metadata": {},
   "outputs": [],
   "source": [
    "# 2903\n",
    "n = int(input())\n",
    "print((1+2**n)**2)"
   ]
  },
  {
   "cell_type": "code",
   "execution_count": null,
   "id": "b341d7af-6c2c-4244-86c9-66f63a917c03",
   "metadata": {},
   "outputs": [],
   "source": [
    "# 1193\n",
    "# 1/1 -> 1/2 -> 2/1 -> 3/1 -> 2/2 -> 1/3 -> 1/4-> 2/3\n",
    "num = int(input())\n",
    "line = 1\n",
    "\n",
    "while num > line:\n",
    "    num -= line\n",
    "    line += 1\n",
    "\n",
    "# 짝수일경우\n",
    "if line % 2 == 0:\n",
    "    a = num\n",
    "    b = line - num + 1\n",
    "# 홀수일경우\n",
    "elif line % 2 == 1:\n",
    "    a = line - num + 1\n",
    "    b = num\n",
    "\n",
    "print(f'{a}/{b}')"
   ]
  },
  {
   "cell_type": "code",
   "execution_count": null,
   "id": "0765162f-3036-472b-94d6-d4ad09e224ea",
   "metadata": {},
   "outputs": [],
   "source": [
    "# 2869\n",
    "# 아침 +a, 밤 -b, 높이 v\n",
    "import math\n",
    "a,b,v = map(int, input().split())\n",
    "# 올라가야 할 거리 (v-b)\n",
    "# 하루에 올라갈 수 있는 거리 (a-b)\n",
    "print(math.ceil((v-b)/(a-b)))"
   ]
  },
  {
   "cell_type": "code",
   "execution_count": null,
   "id": "88233df3-b57f-4f1c-9f25-09dc5708a566",
   "metadata": {},
   "outputs": [],
   "source": [
    "# 5086\n",
    "while True:\n",
    "  a,b=map(int,input().split())\n",
    "  if a == 0: break\n",
    "  if a < b:\n",
    "    if b%a ==0:\n",
    "      print('factor')\n",
    "    else:\n",
    "      print('neither')\n",
    "  else:\n",
    "    if a%b==0:\n",
    "      print('multiple')\n",
    "    else:\n",
    "      print('neither')"
   ]
  },
  {
   "cell_type": "code",
   "execution_count": null,
   "id": "feba648b-172a-49d4-b8de-5cc664b98b48",
   "metadata": {},
   "outputs": [],
   "source": [
    "# 2501\n",
    "# 6 3\n",
    "# 1,2,3,6 => 3번째 약수는 3\n",
    "n,k = map(int, input().split())\n",
    "arr = []\n",
    "for i in range(1,n+1):\n",
    "  if n%i ==0:\n",
    "    arr.append(i)\n",
    "try:\n",
    "  print(arr[k-1])\n",
    "except:\n",
    "  print(0)"
   ]
  },
  {
   "cell_type": "code",
   "execution_count": 39,
   "id": "4941a531-4850-4a32-9bd0-481867569617",
   "metadata": {},
   "outputs": [
    {
     "name": "stdin",
     "output_type": "stream",
     "text": [
      " 28\n"
     ]
    },
    {
     "name": "stdout",
     "output_type": "stream",
     "text": [
      "[1, 2, 4, 7, 14]\n",
      "28 = 1 + 2 + 4 + 7 + 14\n"
     ]
    },
    {
     "name": "stdin",
     "output_type": "stream",
     "text": [
      " -1\n"
     ]
    }
   ],
   "source": [
    "# 9506\n",
    "# 완전수\n",
    "while True:\n",
    "    n = int(input()); arr = []\n",
    "    if n == -1: break\n",
    "    for i in range(1,n):\n",
    "        if n%i==0:\n",
    "            arr.append(i)\n",
    "    if sum(arr)== n:\n",
    "        print(n,'=',end=' ')\n",
    "        print(*arr, sep=' + ')\n",
    "    else:\n",
    "        print(n,'is NOT perfect.')"
   ]
  },
  {
   "cell_type": "code",
   "execution_count": 7,
   "id": "af3531e9-248e-4a17-a540-fd0489b61bd2",
   "metadata": {},
   "outputs": [
    {
     "name": "stdin",
     "output_type": "stream",
     "text": [
      " 4\n",
      " 1 3 5 7\n"
     ]
    },
    {
     "name": "stdout",
     "output_type": "stream",
     "text": [
      "3\n"
     ]
    }
   ],
   "source": [
    "# 1978\n",
    "# 주어진 수 N개 중에서 소수가 몇 개인지 찾아서 출력\n",
    "# 런타임 에러\n",
    "n = int(input())\n",
    "num = list(map(int, input().split()))\n",
    "if 1 in num:\n",
    "    num.remove(1)\n",
    "for i in num:\n",
    "    for j in range(2,i**(0.5)+1):\n",
    "        if i%j == 0:\n",
    "            num.remove(i)\n",
    "print(len(num))"
   ]
  },
  {
   "cell_type": "code",
   "execution_count": 15,
   "id": "5ee3e765-311f-413f-bfcd-bda04178499a",
   "metadata": {},
   "outputs": [
    {
     "name": "stdin",
     "output_type": "stream",
     "text": [
      " 4\n",
      " 1 3 5 7\n"
     ]
    },
    {
     "name": "stdout",
     "output_type": "stream",
     "text": [
      "3\n"
     ]
    }
   ],
   "source": [
    "n = int(input())\n",
    "num = list(map(int, input().split()))\n",
    "num = [i for i in num if i>1 and all(i%j!=0 for j in range(2,int(i**0.5)+1))]\n",
    "print(len(num))"
   ]
  },
  {
   "cell_type": "code",
   "execution_count": 23,
   "id": "66ecd7aa-2179-4d8e-92a3-31c93e5e0af3",
   "metadata": {},
   "outputs": [
    {
     "name": "stdin",
     "output_type": "stream",
     "text": [
      " 60\n",
      " 100\n"
     ]
    },
    {
     "name": "stdout",
     "output_type": "stream",
     "text": [
      "620\n",
      "61\n"
     ]
    }
   ],
   "source": [
    "# 2581\n",
    "# 자연수 M과 N이 주어질 때 M이상 N이하의 자연수 중 소수인 것을 모두 골라 이들 소수의 합과 최솟값을 찾는\n",
    "# M이상 N이하의 자연수 중 소수가 없을 경우는 첫째 줄에 -1을 출력\n",
    "m = int(input())\n",
    "n = int(input())\n",
    "num = [i for i in range(m,n+1) if i>1 and all(i%j != 0 for j in range(2,int(i**0.5)+1))]\n",
    "\n",
    "if num:\n",
    "    print(sum(num))\n",
    "    print(num[0])\n",
    "else:\n",
    "    print(-1)"
   ]
  },
  {
   "cell_type": "code",
   "execution_count": 23,
   "id": "f9ef9914-bc40-4d60-a0a8-314710c38467",
   "metadata": {},
   "outputs": [
    {
     "name": "stdin",
     "output_type": "stream",
     "text": [
      " 72\n"
     ]
    },
    {
     "name": "stdout",
     "output_type": "stream",
     "text": [
      "2\n",
      "2\n",
      "2\n",
      "3\n",
      "3\n"
     ]
    }
   ],
   "source": [
    "# 11653\n",
    "# 소인수분해, N이 1인 경우 아무것도 출력하지 않는다\n",
    "# 틀린 코드\n",
    "n = int(input())\n",
    "mid1 = 0;mid2= 0\n",
    "for i in range(2,int((n+1)**0.5)+1):\n",
    "    if n%i == 0:\n",
    "        mid1 = i\n",
    "        break\n",
    "try:\n",
    "    mid2 = int(n/mid1)\n",
    "    # print(mid1,mid2)\n",
    "    for i in range(2,mid1+1):\n",
    "        while mid1%i == 0:\n",
    "            print(i)\n",
    "            mid1 /= i\n",
    "    for j in range(2,mid2+1):\n",
    "        while mid2%j == 0:\n",
    "            print(j)\n",
    "            mid2 /= j\n",
    "except:\n",
    "    print(n)"
   ]
  },
  {
   "cell_type": "code",
   "execution_count": 59,
   "id": "18ff5212-7c09-4df0-a612-1a9890034cd6",
   "metadata": {},
   "outputs": [
    {
     "name": "stdin",
     "output_type": "stream",
     "text": [
      " 29\n"
     ]
    },
    {
     "name": "stdout",
     "output_type": "stream",
     "text": [
      "29\n"
     ]
    }
   ],
   "source": [
    "n = int(input())\n",
    "\n",
    "# 2부터 n의 제곱근까지 순차적으로 나누어 가장 작은 약수 찾기\n",
    "i = 2\n",
    "while i * i <= n:\n",
    "    # print('i:',i)\n",
    "    while n % i == 0:\n",
    "        print(i)\n",
    "        n //= i  # 계속 정수로 계산해야 하므로 //를 사용, /는 실수형택 된다(ex, 2.0 형식)\n",
    "    i += 1\n",
    "\n",
    "# 남은 n이 1이 아니라면 n은 소수\n",
    "if n > 1:\n",
    "    print(n)"
   ]
  }
 ],
 "metadata": {
  "kernelspec": {
   "display_name": "Python [conda env:base] *",
   "language": "python",
   "name": "conda-base-py"
  },
  "language_info": {
   "codemirror_mode": {
    "name": "ipython",
    "version": 3
   },
   "file_extension": ".py",
   "mimetype": "text/x-python",
   "name": "python",
   "nbconvert_exporter": "python",
   "pygments_lexer": "ipython3",
   "version": "3.12.7"
  }
 },
 "nbformat": 4,
 "nbformat_minor": 5
}
