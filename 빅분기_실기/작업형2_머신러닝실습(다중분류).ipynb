{
 "cells": [
  {
   "cell_type": "code",
   "execution_count": 1,
   "id": "84d889dd-9b20-4fbf-9720-da8d9bf07022",
   "metadata": {},
   "outputs": [],
   "source": [
    "import pandas as pd"
   ]
  },
  {
   "cell_type": "code",
   "execution_count": 2,
   "id": "06ce878e-67c3-4777-bd6e-014fc85eed36",
   "metadata": {},
   "outputs": [
    {
     "data": {
      "text/plain": [
       "((10000, 21), (10000, 20))"
      ]
     },
     "execution_count": 2,
     "metadata": {},
     "output_type": "execute_result"
    }
   ],
   "source": [
    "train = pd.read_csv('./part2/ch5/train.csv')\n",
    "test = pd.read_csv('./part2/ch5/test.csv')\n",
    "\n",
    "train.shape, test.shape"
   ]
  },
  {
   "cell_type": "code",
   "execution_count": 3,
   "id": "dd58b7fe-a204-4a0e-ae22-3337525fe586",
   "metadata": {},
   "outputs": [
    {
     "data": {
      "text/html": [
       "<div>\n",
       "<style scoped>\n",
       "    .dataframe tbody tr th:only-of-type {\n",
       "        vertical-align: middle;\n",
       "    }\n",
       "\n",
       "    .dataframe tbody tr th {\n",
       "        vertical-align: top;\n",
       "    }\n",
       "\n",
       "    .dataframe thead th {\n",
       "        text-align: right;\n",
       "    }\n",
       "</style>\n",
       "<table border=\"1\" class=\"dataframe\">\n",
       "  <thead>\n",
       "    <tr style=\"text-align: right;\">\n",
       "      <th></th>\n",
       "      <th>Delay_from_due_date</th>\n",
       "      <th>Num_of_Delayed_Payment</th>\n",
       "      <th>Num_Credit_Inquiries</th>\n",
       "      <th>Credit_Utilization_Ratio</th>\n",
       "      <th>Credit_History_Age</th>\n",
       "      <th>Payment_of_Min_Amount</th>\n",
       "      <th>Amount_invested_monthly</th>\n",
       "      <th>Monthly_Balance</th>\n",
       "      <th>Credit_Score</th>\n",
       "      <th>Credit_Mix</th>\n",
       "      <th>...</th>\n",
       "      <th>Age</th>\n",
       "      <th>Annual_Income</th>\n",
       "      <th>Num_Bank_Accounts</th>\n",
       "      <th>Num_Credit_Card</th>\n",
       "      <th>Interest_Rate</th>\n",
       "      <th>Num_of_Loan</th>\n",
       "      <th>Monthly_Inhand_Salary</th>\n",
       "      <th>Changed_Credit_Limit</th>\n",
       "      <th>Outstanding_Debt</th>\n",
       "      <th>Total_EMI_per_month</th>\n",
       "    </tr>\n",
       "  </thead>\n",
       "  <tbody>\n",
       "    <tr>\n",
       "      <th>0</th>\n",
       "      <td>56.0</td>\n",
       "      <td>16.0</td>\n",
       "      <td>11.0</td>\n",
       "      <td>35.598217</td>\n",
       "      <td>120.0</td>\n",
       "      <td>Yes</td>\n",
       "      <td>229.093478</td>\n",
       "      <td>252.385965</td>\n",
       "      <td>1</td>\n",
       "      <td>Bad</td>\n",
       "      <td>...</td>\n",
       "      <td>15.0</td>\n",
       "      <td>36597.56</td>\n",
       "      <td>8.0</td>\n",
       "      <td>10.0</td>\n",
       "      <td>29.0</td>\n",
       "      <td>5.0</td>\n",
       "      <td>3143.796667</td>\n",
       "      <td>22.49</td>\n",
       "      <td>2963.18</td>\n",
       "      <td>122.900223</td>\n",
       "    </tr>\n",
       "    <tr>\n",
       "      <th>1</th>\n",
       "      <td>49.0</td>\n",
       "      <td>23.0</td>\n",
       "      <td>12.0</td>\n",
       "      <td>25.553106</td>\n",
       "      <td>120.0</td>\n",
       "      <td>Yes</td>\n",
       "      <td>104.613906</td>\n",
       "      <td>219.105944</td>\n",
       "      <td>1</td>\n",
       "      <td>Bad</td>\n",
       "      <td>...</td>\n",
       "      <td>28.0</td>\n",
       "      <td>32057.30</td>\n",
       "      <td>9.0</td>\n",
       "      <td>8.0</td>\n",
       "      <td>16.0</td>\n",
       "      <td>7.0</td>\n",
       "      <td>2606.441667</td>\n",
       "      <td>1.40</td>\n",
       "      <td>1327.26</td>\n",
       "      <td>164.859426</td>\n",
       "    </tr>\n",
       "    <tr>\n",
       "      <th>2</th>\n",
       "      <td>34.0</td>\n",
       "      <td>20.0</td>\n",
       "      <td>6.0</td>\n",
       "      <td>40.039954</td>\n",
       "      <td>174.0</td>\n",
       "      <td>Yes</td>\n",
       "      <td>338.626965</td>\n",
       "      <td>251.265589</td>\n",
       "      <td>1</td>\n",
       "      <td>Bad</td>\n",
       "      <td>...</td>\n",
       "      <td>46.0</td>\n",
       "      <td>75868.80</td>\n",
       "      <td>6.0</td>\n",
       "      <td>10.0</td>\n",
       "      <td>32.0</td>\n",
       "      <td>7.0</td>\n",
       "      <td>6074.400000</td>\n",
       "      <td>3.60</td>\n",
       "      <td>1432.71</td>\n",
       "      <td>297.547446</td>\n",
       "    </tr>\n",
       "    <tr>\n",
       "      <th>3</th>\n",
       "      <td>21.0</td>\n",
       "      <td>13.0</td>\n",
       "      <td>8.0</td>\n",
       "      <td>25.711678</td>\n",
       "      <td>143.0</td>\n",
       "      <td>NM</td>\n",
       "      <td>116.816864</td>\n",
       "      <td>259.927960</td>\n",
       "      <td>2</td>\n",
       "      <td>Standard</td>\n",
       "      <td>...</td>\n",
       "      <td>46.0</td>\n",
       "      <td>17092.69</td>\n",
       "      <td>7.0</td>\n",
       "      <td>3.0</td>\n",
       "      <td>19.0</td>\n",
       "      <td>7.0</td>\n",
       "      <td>1695.390833</td>\n",
       "      <td>16.40</td>\n",
       "      <td>1417.06</td>\n",
       "      <td>62.794260</td>\n",
       "    </tr>\n",
       "    <tr>\n",
       "      <th>4</th>\n",
       "      <td>19.0</td>\n",
       "      <td>13.0</td>\n",
       "      <td>6.0</td>\n",
       "      <td>39.140463</td>\n",
       "      <td>138.0</td>\n",
       "      <td>Yes</td>\n",
       "      <td>87.262887</td>\n",
       "      <td>626.212330</td>\n",
       "      <td>1</td>\n",
       "      <td>Bad</td>\n",
       "      <td>...</td>\n",
       "      <td>45.0</td>\n",
       "      <td>81471.96</td>\n",
       "      <td>6.0</td>\n",
       "      <td>6.0</td>\n",
       "      <td>25.0</td>\n",
       "      <td>5.0</td>\n",
       "      <td>6763.330000</td>\n",
       "      <td>27.09</td>\n",
       "      <td>2679.69</td>\n",
       "      <td>202.857783</td>\n",
       "    </tr>\n",
       "  </tbody>\n",
       "</table>\n",
       "<p>5 rows × 21 columns</p>\n",
       "</div>"
      ],
      "text/plain": [
       "   Delay_from_due_date  Num_of_Delayed_Payment  Num_Credit_Inquiries  \\\n",
       "0                 56.0                    16.0                  11.0   \n",
       "1                 49.0                    23.0                  12.0   \n",
       "2                 34.0                    20.0                   6.0   \n",
       "3                 21.0                    13.0                   8.0   \n",
       "4                 19.0                    13.0                   6.0   \n",
       "\n",
       "   Credit_Utilization_Ratio  Credit_History_Age Payment_of_Min_Amount  \\\n",
       "0                 35.598217               120.0                   Yes   \n",
       "1                 25.553106               120.0                   Yes   \n",
       "2                 40.039954               174.0                   Yes   \n",
       "3                 25.711678               143.0                    NM   \n",
       "4                 39.140463               138.0                   Yes   \n",
       "\n",
       "   Amount_invested_monthly  Monthly_Balance  Credit_Score Credit_Mix  ...  \\\n",
       "0               229.093478       252.385965             1        Bad  ...   \n",
       "1               104.613906       219.105944             1        Bad  ...   \n",
       "2               338.626965       251.265589             1        Bad  ...   \n",
       "3               116.816864       259.927960             2   Standard  ...   \n",
       "4                87.262887       626.212330             1        Bad  ...   \n",
       "\n",
       "    Age  Annual_Income  Num_Bank_Accounts  Num_Credit_Card  Interest_Rate  \\\n",
       "0  15.0       36597.56                8.0             10.0           29.0   \n",
       "1  28.0       32057.30                9.0              8.0           16.0   \n",
       "2  46.0       75868.80                6.0             10.0           32.0   \n",
       "3  46.0       17092.69                7.0              3.0           19.0   \n",
       "4  45.0       81471.96                6.0              6.0           25.0   \n",
       "\n",
       "   Num_of_Loan  Monthly_Inhand_Salary  Changed_Credit_Limit  Outstanding_Debt  \\\n",
       "0          5.0            3143.796667                 22.49           2963.18   \n",
       "1          7.0            2606.441667                  1.40           1327.26   \n",
       "2          7.0            6074.400000                  3.60           1432.71   \n",
       "3          7.0            1695.390833                 16.40           1417.06   \n",
       "4          5.0            6763.330000                 27.09           2679.69   \n",
       "\n",
       "   Total_EMI_per_month  \n",
       "0           122.900223  \n",
       "1           164.859426  \n",
       "2           297.547446  \n",
       "3            62.794260  \n",
       "4           202.857783  \n",
       "\n",
       "[5 rows x 21 columns]"
      ]
     },
     "execution_count": 3,
     "metadata": {},
     "output_type": "execute_result"
    }
   ],
   "source": [
    "train.head()"
   ]
  },
  {
   "cell_type": "code",
   "execution_count": 4,
   "id": "430c8064-41cd-4170-8ae5-c3484d036247",
   "metadata": {},
   "outputs": [
    {
     "data": {
      "text/html": [
       "<div>\n",
       "<style scoped>\n",
       "    .dataframe tbody tr th:only-of-type {\n",
       "        vertical-align: middle;\n",
       "    }\n",
       "\n",
       "    .dataframe tbody tr th {\n",
       "        vertical-align: top;\n",
       "    }\n",
       "\n",
       "    .dataframe thead th {\n",
       "        text-align: right;\n",
       "    }\n",
       "</style>\n",
       "<table border=\"1\" class=\"dataframe\">\n",
       "  <thead>\n",
       "    <tr style=\"text-align: right;\">\n",
       "      <th></th>\n",
       "      <th>Payment_of_Min_Amount</th>\n",
       "      <th>Credit_Mix</th>\n",
       "      <th>Payment_Behaviour</th>\n",
       "    </tr>\n",
       "  </thead>\n",
       "  <tbody>\n",
       "    <tr>\n",
       "      <th>count</th>\n",
       "      <td>10000</td>\n",
       "      <td>10000</td>\n",
       "      <td>10000</td>\n",
       "    </tr>\n",
       "    <tr>\n",
       "      <th>unique</th>\n",
       "      <td>3</td>\n",
       "      <td>3</td>\n",
       "      <td>6</td>\n",
       "    </tr>\n",
       "    <tr>\n",
       "      <th>top</th>\n",
       "      <td>Yes</td>\n",
       "      <td>Standard</td>\n",
       "      <td>Low_spent_Small_value_payments</td>\n",
       "    </tr>\n",
       "    <tr>\n",
       "      <th>freq</th>\n",
       "      <td>5269</td>\n",
       "      <td>4591</td>\n",
       "      <td>3416</td>\n",
       "    </tr>\n",
       "  </tbody>\n",
       "</table>\n",
       "</div>"
      ],
      "text/plain": [
       "       Payment_of_Min_Amount Credit_Mix               Payment_Behaviour\n",
       "count                  10000      10000                           10000\n",
       "unique                     3          3                               6\n",
       "top                      Yes   Standard  Low_spent_Small_value_payments\n",
       "freq                    5269       4591                            3416"
      ]
     },
     "execution_count": 4,
     "metadata": {},
     "output_type": "execute_result"
    }
   ],
   "source": [
    "train.describe(include='O')"
   ]
  },
  {
   "cell_type": "code",
   "execution_count": 5,
   "id": "607bd349-e6ae-4be8-97f0-f8f741a2283d",
   "metadata": {},
   "outputs": [
    {
     "data": {
      "text/plain": [
       "Delay_from_due_date         0\n",
       "Num_of_Delayed_Payment      0\n",
       "Num_Credit_Inquiries        0\n",
       "Credit_Utilization_Ratio    0\n",
       "Credit_History_Age          0\n",
       "Payment_of_Min_Amount       0\n",
       "Amount_invested_monthly     0\n",
       "Monthly_Balance             0\n",
       "Credit_Score                0\n",
       "Credit_Mix                  0\n",
       "Payment_Behaviour           0\n",
       "Age                         0\n",
       "Annual_Income               0\n",
       "Num_Bank_Accounts           0\n",
       "Num_Credit_Card             0\n",
       "Interest_Rate               0\n",
       "Num_of_Loan                 0\n",
       "Monthly_Inhand_Salary       0\n",
       "Changed_Credit_Limit        0\n",
       "Outstanding_Debt            0\n",
       "Total_EMI_per_month         0\n",
       "dtype: int64"
      ]
     },
     "execution_count": 5,
     "metadata": {},
     "output_type": "execute_result"
    }
   ],
   "source": [
    "train.isnull().sum()"
   ]
  },
  {
   "cell_type": "code",
   "execution_count": 6,
   "id": "99ff5edf-e590-499d-a027-e43af4e46454",
   "metadata": {},
   "outputs": [
    {
     "data": {
      "text/plain": [
       "Delay_from_due_date         0\n",
       "Num_of_Delayed_Payment      0\n",
       "Num_Credit_Inquiries        0\n",
       "Credit_Utilization_Ratio    0\n",
       "Credit_History_Age          0\n",
       "Payment_of_Min_Amount       0\n",
       "Amount_invested_monthly     0\n",
       "Monthly_Balance             0\n",
       "Credit_Mix                  0\n",
       "Payment_Behaviour           0\n",
       "Age                         0\n",
       "Annual_Income               0\n",
       "Num_Bank_Accounts           0\n",
       "Num_Credit_Card             0\n",
       "Interest_Rate               0\n",
       "Num_of_Loan                 0\n",
       "Monthly_Inhand_Salary       0\n",
       "Changed_Credit_Limit        0\n",
       "Outstanding_Debt            0\n",
       "Total_EMI_per_month         0\n",
       "dtype: int64"
      ]
     },
     "execution_count": 6,
     "metadata": {},
     "output_type": "execute_result"
    }
   ],
   "source": [
    "test.isnull().sum()"
   ]
  },
  {
   "cell_type": "code",
   "execution_count": 7,
   "id": "0a160998-4bf4-4b6b-8b43-1c08213c104a",
   "metadata": {},
   "outputs": [
    {
     "data": {
      "text/plain": [
       "Credit_Score\n",
       "2    5237\n",
       "1    2978\n",
       "3    1785\n",
       "Name: count, dtype: int64"
      ]
     },
     "execution_count": 7,
     "metadata": {},
     "output_type": "execute_result"
    }
   ],
   "source": [
    "train['Credit_Score'].value_counts()"
   ]
  },
  {
   "cell_type": "code",
   "execution_count": 8,
   "id": "f0240ec6-3932-4ea8-b7c7-06b35cc8fff4",
   "metadata": {},
   "outputs": [
    {
     "data": {
      "text/plain": [
       "Index(['Payment_of_Min_Amount', 'Credit_Mix', 'Payment_Behaviour'], dtype='object')"
      ]
     },
     "execution_count": 8,
     "metadata": {},
     "output_type": "execute_result"
    }
   ],
   "source": [
    "target = train.pop('Credit_Score')\n",
    "cols = train.columns[train.dtypes==object]\n",
    "cols"
   ]
  },
  {
   "cell_type": "code",
   "execution_count": 9,
   "id": "8d9c30bb-ae44-4e81-95b0-a718ef609543",
   "metadata": {},
   "outputs": [
    {
     "name": "stdout",
     "output_type": "stream",
     "text": [
      "<class 'pandas.core.frame.DataFrame'>\n",
      "RangeIndex: 10000 entries, 0 to 9999\n",
      "Data columns (total 3 columns):\n",
      " #   Column                 Non-Null Count  Dtype   \n",
      "---  ------                 --------------  -----   \n",
      " 0   Payment_of_Min_Amount  10000 non-null  category\n",
      " 1   Credit_Mix             10000 non-null  category\n",
      " 2   Payment_Behaviour      10000 non-null  category\n",
      "dtypes: category(3)\n",
      "memory usage: 29.9 KB\n"
     ]
    }
   ],
   "source": [
    "train['Payment_of_Min_Amount'] = train['Payment_of_Min_Amount'].astype('category')\n",
    "train['Credit_Mix'] = train['Credit_Mix'].astype('category')\n",
    "train['Payment_Behaviour'] = train['Payment_Behaviour'].astype('category')\n",
    "train[cols].info()"
   ]
  },
  {
   "cell_type": "code",
   "execution_count": 25,
   "id": "6803444a-30cd-4dda-8af0-1a45a132b41b",
   "metadata": {},
   "outputs": [
    {
     "name": "stdout",
     "output_type": "stream",
     "text": [
      "<class 'pandas.core.frame.DataFrame'>\n",
      "RangeIndex: 10000 entries, 0 to 9999\n",
      "Data columns (total 3 columns):\n",
      " #   Column                 Non-Null Count  Dtype   \n",
      "---  ------                 --------------  -----   \n",
      " 0   Payment_of_Min_Amount  10000 non-null  category\n",
      " 1   Credit_Mix             10000 non-null  category\n",
      " 2   Payment_Behaviour      10000 non-null  category\n",
      "dtypes: category(3)\n",
      "memory usage: 29.9 KB\n"
     ]
    }
   ],
   "source": [
    "test['Payment_of_Min_Amount'] = test['Payment_of_Min_Amount'].astype('category')\n",
    "test['Credit_Mix'] = test['Credit_Mix'].astype('category')\n",
    "test['Payment_Behaviour'] = test['Payment_Behaviour'].astype('category')\n",
    "test[cols].info()"
   ]
  },
  {
   "cell_type": "code",
   "execution_count": 10,
   "id": "b2e468bb-92e5-42d1-b974-55c40e8c39d7",
   "metadata": {},
   "outputs": [],
   "source": [
    "from sklearn.model_selection import train_test_split"
   ]
  },
  {
   "cell_type": "code",
   "execution_count": 11,
   "id": "7a4b8e43-39f0-4701-96fc-4f018fb62e96",
   "metadata": {},
   "outputs": [
    {
     "data": {
      "text/plain": [
       "((9800, 20), (200, 20), (9800,), (200,))"
      ]
     },
     "execution_count": 11,
     "metadata": {},
     "output_type": "execute_result"
    }
   ],
   "source": [
    "X_train, X_val, y_train, y_val = train_test_split(train, target, test_size=.02, random_state=0)\n",
    "X_train.shape, X_val.shape, y_train.shape, y_val.shape"
   ]
  },
  {
   "cell_type": "code",
   "execution_count": 12,
   "id": "955bc33c-e3a9-42d5-9b83-73d042b041d8",
   "metadata": {},
   "outputs": [],
   "source": [
    "from sklearn.metrics import accuracy_score\n",
    "from sklearn.metrics import f1_score"
   ]
  },
  {
   "cell_type": "code",
   "execution_count": 13,
   "id": "b5fef272-ecf6-48b1-ad85-e945d1901004",
   "metadata": {},
   "outputs": [
    {
     "name": "stdout",
     "output_type": "stream",
     "text": [
      "Requirement already satisfied: lightgbm in c:\\users\\lgdxschool2\\anaconda3\\lib\\site-packages (4.6.0)\n",
      "Requirement already satisfied: numpy>=1.17.0 in c:\\users\\lgdxschool2\\anaconda3\\lib\\site-packages (from lightgbm) (1.26.4)\n",
      "Requirement already satisfied: scipy in c:\\users\\lgdxschool2\\anaconda3\\lib\\site-packages (from lightgbm) (1.13.1)\n",
      "Note: you may need to restart the kernel to use updated packages.\n"
     ]
    }
   ],
   "source": [
    "pip install lightgbm"
   ]
  },
  {
   "cell_type": "code",
   "execution_count": 14,
   "id": "b0cb8fde-9c99-44bb-b59f-cc276d702d9f",
   "metadata": {},
   "outputs": [],
   "source": [
    "from sklearn.ensemble import RandomForestClassifier\n",
    "import lightgbm as lgb"
   ]
  },
  {
   "cell_type": "code",
   "execution_count": 16,
   "id": "880018fe-d776-4771-8b21-eb83c9c33908",
   "metadata": {},
   "outputs": [
    {
     "data": {
      "text/plain": [
       "array([1, 2, 2, 3, 1, 2, 1, 2, 2, 2, 3, 2, 3, 2, 2, 2, 1, 1, 1, 2, 2, 1,\n",
       "       2, 2, 1, 3, 2, 1, 2, 2, 3, 2, 1, 3, 1, 3, 2, 3, 2, 2, 3, 2, 3, 3,\n",
       "       1, 2, 2, 3, 2, 3, 3, 2, 3, 2, 1, 3, 1, 2, 2, 1, 2, 1, 1, 3, 1, 1,\n",
       "       2, 1, 2, 1, 1, 1, 2, 3, 2, 2, 1, 2, 1, 1, 2, 3, 2, 2, 2, 3, 2, 3,\n",
       "       2, 1, 2, 1, 2, 2, 1, 2, 2, 3, 2, 3, 2, 2, 1, 2, 3, 2, 2, 2, 2, 3,\n",
       "       2, 1, 2, 3, 2, 1, 1, 3, 2, 3, 3, 1, 2, 3, 2, 1, 1, 2, 2, 1, 2, 3,\n",
       "       2, 1, 3, 2, 3, 3, 1, 2, 2, 2, 2, 2, 2, 2, 2, 3, 2, 2, 2, 2, 2, 2,\n",
       "       2, 1, 2, 3, 2, 2, 3, 2, 2, 1, 2, 2, 3, 3, 3, 3, 3, 2, 3, 1, 1, 2,\n",
       "       1, 1, 1, 3, 3, 3, 3, 2, 2, 3, 2, 2, 2, 2, 2, 2, 3, 3, 1, 2, 2, 1,\n",
       "       1, 1], dtype=int64)"
      ]
     },
     "execution_count": 16,
     "metadata": {},
     "output_type": "execute_result"
    }
   ],
   "source": [
    "lgbmodel = lgb.LGBMClassifier(random_state=0, verbose=-1)\n",
    "lgbmodel.fit(X_train, y_train)\n",
    "pred = lgbmodel.predict(X_val)\n",
    "pred"
   ]
  },
  {
   "cell_type": "code",
   "execution_count": 18,
   "id": "1c2c8c05-4982-4717-8cbe-1a7f77ff3cd7",
   "metadata": {},
   "outputs": [
    {
     "name": "stdout",
     "output_type": "stream",
     "text": [
      "acc:  0.76\n",
      "f1 :  0.7454655676162326\n"
     ]
    }
   ],
   "source": [
    "acc = accuracy_score(y_val, pred)\n",
    "print('acc: ', acc)\n",
    "f1 = f1_score(y_val, pred, average='macro')\n",
    "print('f1 : ',f1)"
   ]
  },
  {
   "cell_type": "markdown",
   "id": "bd216d1e-04fb-4ed5-9db5-2fc9129bee52",
   "metadata": {},
   "source": [
    "- 모두 1에 가까우면 좋은 성능"
   ]
  },
  {
   "cell_type": "code",
   "execution_count": 27,
   "id": "2248806b-ddfa-41f8-be56-d1f6b53c050a",
   "metadata": {},
   "outputs": [
    {
     "data": {
      "text/plain": [
       "array([3, 1, 1, ..., 1, 1, 2], dtype=int64)"
      ]
     },
     "execution_count": 27,
     "metadata": {},
     "output_type": "execute_result"
    }
   ],
   "source": [
    "pred = lgbmodel.predict(test)\n",
    "pred"
   ]
  },
  {
   "cell_type": "code",
   "execution_count": 29,
   "id": "ac2c53ea-256d-4021-8abc-ed075c105a90",
   "metadata": {},
   "outputs": [],
   "source": [
    "submit = pd.DataFrame({'pred':pred})\n",
    "submit.to_csv(\"result.csv\",index=False)"
   ]
  },
  {
   "cell_type": "code",
   "execution_count": 31,
   "id": "f3543835-889d-4120-a23c-b3bebcc4316a",
   "metadata": {},
   "outputs": [
    {
     "data": {
      "text/html": [
       "<div>\n",
       "<style scoped>\n",
       "    .dataframe tbody tr th:only-of-type {\n",
       "        vertical-align: middle;\n",
       "    }\n",
       "\n",
       "    .dataframe tbody tr th {\n",
       "        vertical-align: top;\n",
       "    }\n",
       "\n",
       "    .dataframe thead th {\n",
       "        text-align: right;\n",
       "    }\n",
       "</style>\n",
       "<table border=\"1\" class=\"dataframe\">\n",
       "  <thead>\n",
       "    <tr style=\"text-align: right;\">\n",
       "      <th></th>\n",
       "      <th>pred</th>\n",
       "    </tr>\n",
       "  </thead>\n",
       "  <tbody>\n",
       "    <tr>\n",
       "      <th>0</th>\n",
       "      <td>3</td>\n",
       "    </tr>\n",
       "    <tr>\n",
       "      <th>1</th>\n",
       "      <td>1</td>\n",
       "    </tr>\n",
       "    <tr>\n",
       "      <th>2</th>\n",
       "      <td>1</td>\n",
       "    </tr>\n",
       "    <tr>\n",
       "      <th>3</th>\n",
       "      <td>2</td>\n",
       "    </tr>\n",
       "    <tr>\n",
       "      <th>4</th>\n",
       "      <td>1</td>\n",
       "    </tr>\n",
       "    <tr>\n",
       "      <th>...</th>\n",
       "      <td>...</td>\n",
       "    </tr>\n",
       "    <tr>\n",
       "      <th>9995</th>\n",
       "      <td>2</td>\n",
       "    </tr>\n",
       "    <tr>\n",
       "      <th>9996</th>\n",
       "      <td>2</td>\n",
       "    </tr>\n",
       "    <tr>\n",
       "      <th>9997</th>\n",
       "      <td>1</td>\n",
       "    </tr>\n",
       "    <tr>\n",
       "      <th>9998</th>\n",
       "      <td>1</td>\n",
       "    </tr>\n",
       "    <tr>\n",
       "      <th>9999</th>\n",
       "      <td>2</td>\n",
       "    </tr>\n",
       "  </tbody>\n",
       "</table>\n",
       "<p>10000 rows × 1 columns</p>\n",
       "</div>"
      ],
      "text/plain": [
       "      pred\n",
       "0        3\n",
       "1        1\n",
       "2        1\n",
       "3        2\n",
       "4        1\n",
       "...    ...\n",
       "9995     2\n",
       "9996     2\n",
       "9997     1\n",
       "9998     1\n",
       "9999     2\n",
       "\n",
       "[10000 rows x 1 columns]"
      ]
     },
     "execution_count": 31,
     "metadata": {},
     "output_type": "execute_result"
    }
   ],
   "source": [
    "pd.read_csv('result.csv')"
   ]
  },
  {
   "cell_type": "code",
   "execution_count": null,
   "id": "a6f7582f-c6a9-428d-9afd-8e44cef011e0",
   "metadata": {},
   "outputs": [],
   "source": []
  }
 ],
 "metadata": {
  "kernelspec": {
   "display_name": "Python [conda env:base] *",
   "language": "python",
   "name": "conda-base-py"
  },
  "language_info": {
   "codemirror_mode": {
    "name": "ipython",
    "version": 3
   },
   "file_extension": ".py",
   "mimetype": "text/x-python",
   "name": "python",
   "nbconvert_exporter": "python",
   "pygments_lexer": "ipython3",
   "version": "3.12.7"
  }
 },
 "nbformat": 4,
 "nbformat_minor": 5
}
