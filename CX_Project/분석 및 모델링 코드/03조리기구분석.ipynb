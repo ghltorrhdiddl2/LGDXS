{
 "cells": [
  {
   "cell_type": "code",
   "execution_count": null,
   "metadata": {
    "colab": {
     "base_uri": "https://localhost:8080/"
    },
    "executionInfo": {
     "elapsed": 222,
     "status": "ok",
     "timestamp": 1741250258832,
     "user": {
      "displayName": "백승학",
      "userId": "09918261089650744053"
     },
     "user_tz": -540
    },
    "id": "fvHzZaqo-SGt",
    "outputId": "5079d937-cb49-4131-a761-df54e78e20c7"
   },
   "outputs": [],
   "source": [
    "  %cd /content/drive/MyDrive/Colab Notebooks/Deep Learning/New"
   ]
  },
  {
   "cell_type": "code",
   "execution_count": null,
   "metadata": {
    "colab": {
     "base_uri": "https://localhost:8080/"
    },
    "executionInfo": {
     "elapsed": 11977,
     "status": "ok",
     "timestamp": 1741250270807,
     "user": {
      "displayName": "백승학",
      "userId": "09918261089650744053"
     },
     "user_tz": -540
    },
    "id": "anDcRLfMUaYS",
    "outputId": "3505a4dd-37fe-4fe0-e672-596bea0ab3f8"
   },
   "outputs": [],
   "source": [
    "from google.colab import drive\n",
    "drive.mount('/content/drive')"
   ]
  },
  {
   "cell_type": "code",
   "execution_count": null,
   "metadata": {
    "executionInfo": {
     "elapsed": 1141,
     "status": "ok",
     "timestamp": 1741250271948,
     "user": {
      "displayName": "백승학",
      "userId": "09918261089650744053"
     },
     "user_tz": -540
    },
    "id": "_JTrL6Hv-o6q"
   },
   "outputs": [],
   "source": [
    "import pickle\n",
    "import numpy as np\n",
    "import pandas as pd\n",
    "import matplotlib.pyplot as plt"
   ]
  },
  {
   "cell_type": "code",
   "execution_count": null,
   "metadata": {
    "executionInfo": {
     "elapsed": 3,
     "status": "ok",
     "timestamp": 1741250271976,
     "user": {
      "displayName": "백승학",
      "userId": "09918261089650744053"
     },
     "user_tz": -540
    },
    "id": "gkLKy3F5-qx-"
   },
   "outputs": [],
   "source": []
  },
  {
   "cell_type": "markdown",
   "metadata": {
    "id": "XTkNG5o7-quZ"
   },
   "source": [
    "- LDAcis 기반 Action 넘버가 매칭 된 모든 클러스터 데이터 로드\n",
    "\n",
    "> 실습용 데이터\n",
    "> - 0번째 Actor -> 7개의 Action\n",
    "> - 1번째 Actor -> 4개의 Action"
   ]
  },
  {
   "cell_type": "code",
   "execution_count": null,
   "metadata": {
    "executionInfo": {
     "elapsed": 790,
     "status": "ok",
     "timestamp": 1741250272768,
     "user": {
      "displayName": "백승학",
      "userId": "09918261089650744053"
     },
     "user_tz": -540
    },
    "id": "pLm770r8-qsB"
   },
   "outputs": [],
   "source": [
    "cluster = 2\n",
    "df_list = []\n",
    "for i in range(cluster):\n",
    "  with open(f'./data/cluster_df_{i}_action.pkl', 'rb') as f:\n",
    "    temp_df = pickle.load(f)\n",
    "  df_list.append(temp_df)"
   ]
  },
  {
   "cell_type": "code",
   "execution_count": null,
   "metadata": {
    "colab": {
     "base_uri": "https://localhost:8080/"
    },
    "executionInfo": {
     "elapsed": 115,
     "status": "ok",
     "timestamp": 1741250272886,
     "user": {
      "displayName": "백승학",
      "userId": "09918261089650744053"
     },
     "user_tz": -540
    },
    "id": "scTygKFh-qpz",
    "outputId": "66de0d6f-5a8d-4d12-dafc-9fa9c96f6d25"
   },
   "outputs": [],
   "source": [
    "df_list"
   ]
  },
  {
   "cell_type": "code",
   "execution_count": null,
   "metadata": {
    "executionInfo": {
     "elapsed": 18,
     "status": "ok",
     "timestamp": 1741250272906,
     "user": {
      "displayName": "백승학",
      "userId": "09918261089650744053"
     },
     "user_tz": -540
    },
    "id": "rOA6u_y7-qm1"
   },
   "outputs": [],
   "source": [
    "# 모든 클러스터에 대한 df를 병합!, index 새로부여\n",
    "df = pd.concat(df_list, ignore_index=True)"
   ]
  },
  {
   "cell_type": "code",
   "execution_count": null,
   "metadata": {
    "colab": {
     "base_uri": "https://localhost:8080/",
     "height": 1000
    },
    "executionInfo": {
     "elapsed": 528,
     "status": "ok",
     "timestamp": 1741250878936,
     "user": {
      "displayName": "백승학",
      "userId": "09918261089650744053"
     },
     "user_tz": -540
    },
    "id": "QQnglcaO-qkR",
    "outputId": "452b6ce5-c656-41f0-fc12-6e13761e6c08"
   },
   "outputs": [],
   "source": [
    "pd.set_option('display.max_colwidth', None)  # 긴 문자열 출력\n",
    "pd.set_option('display.max_rows', None)  # 모든 행 출력\n",
    "\n",
    "# 필터링된 데이터프레임 출력\n",
    "df[(df[\"cluster\"] == 1) & (df[\"action_cluster\"] == 1) & df[\"review_clean\"].str.contains(\"곰팡이\", case=False, na=False)]\n"
   ]
  },
  {
   "cell_type": "markdown",
   "metadata": {
    "id": "zQS9960t-qhm"
   },
   "source": [
    "# 1. 만족도 계산 (satisfaction)\n",
    "- 1.1 감성사전 불러오기\n",
    "- 1.2 리뷰들의 각 토큰과 일치하는 감성 점수 구하는 함수 정의\n",
    "- 1.3 감성 점수 구하기\n",
    "- 1.4 Actor의 각 Action 별 감성점수 계산 후 정규화 -> 만족도"
   ]
  },
  {
   "cell_type": "markdown",
   "metadata": {
    "id": "TLODLLkZ-qfB"
   },
   "source": [
    "### 1.1 감성사전 불러오기\n",
    "- KNU 한국어 감성사전\n",
    "- http://dilab.kunsan.ac.kr/knusl.html"
   ]
  },
  {
   "cell_type": "code",
   "execution_count": null,
   "metadata": {
    "id": "Ma1F5-sm-qcZ"
   },
   "outputs": [],
   "source": [
    "import json  # JSON 파일을 읽고 쓰기 위한 도구"
   ]
  },
  {
   "cell_type": "code",
   "execution_count": null,
   "metadata": {
    "id": "8r3OEWjo-qZ5"
   },
   "outputs": [],
   "source": [
    "with open('./data/SentiWord_info.json', encoding='utf-8-sig', mode='r') as f:\n",
    "  sent_dict = json.load(f)"
   ]
  },
  {
   "cell_type": "code",
   "execution_count": null,
   "metadata": {
    "colab": {
     "base_uri": "https://localhost:8080/"
    },
    "executionInfo": {
     "elapsed": 562,
     "status": "ok",
     "timestamp": 1741225654941,
     "user": {
      "displayName": "백승학",
      "userId": "09918261089650744053"
     },
     "user_tz": -540
    },
    "id": "R-ibQJcW-qXR",
    "outputId": "1b818e92-7de0-4ea4-d9dc-9ea48c8cc875",
    "scrolled": true
   },
   "outputs": [],
   "source": [
    "print(sent_dict)\n",
    "# {'word': 원래 단어 , 'word_root': 단어의 표준형태, 'polarity': 감성극성(ex.1 은 긍정, -1은 부정)}"
   ]
  },
  {
   "cell_type": "code",
   "execution_count": null,
   "metadata": {
    "colab": {
     "base_uri": "https://localhost:8080/"
    },
    "executionInfo": {
     "elapsed": 118,
     "status": "ok",
     "timestamp": 1741225655062,
     "user": {
      "displayName": "백승학",
      "userId": "09918261089650744053"
     },
     "user_tz": -540
    },
    "id": "qmk-QoLj-qU5",
    "outputId": "73545388-81aa-4426-8ecc-d8c5fee690b1"
   },
   "outputs": [],
   "source": [
    "len(sent_dict)"
   ]
  },
  {
   "cell_type": "markdown",
   "metadata": {
    "id": "pbsNenCl-qSu"
   },
   "source": [
    "### 1.2 리뷰들의 각 토큰과 일치하는 감성 점수 구하는 함수 정의\n"
   ]
  },
  {
   "cell_type": "code",
   "execution_count": null,
   "metadata": {
    "colab": {
     "base_uri": "https://localhost:8080/"
    },
    "executionInfo": {
     "elapsed": 3,
     "status": "ok",
     "timestamp": 1741225655066,
     "user": {
      "displayName": "백승학",
      "userId": "09918261089650744053"
     },
     "user_tz": -540
    },
    "id": "3b5VRXSS-qQO",
    "outputId": "d018cae7-18da-4a9b-da65-fbe361efd83a"
   },
   "outputs": [],
   "source": [
    "len(df)"
   ]
  },
  {
   "cell_type": "code",
   "execution_count": null,
   "metadata": {
    "colab": {
     "base_uri": "https://localhost:8080/"
    },
    "executionInfo": {
     "elapsed": 2,
     "status": "ok",
     "timestamp": 1741225655069,
     "user": {
      "displayName": "백승학",
      "userId": "09918261089650744053"
     },
     "user_tz": -540
    },
    "id": "kLYJWC3SHRGG",
    "outputId": "e63a2afc-7f26-426d-b7e3-76b704e66601"
   },
   "outputs": [],
   "source": [
    "# Test -> 각 리뷰 별로 단어 리스트(df[\"tagged_review\"]) 중에 감성 사전에 매칭되는 단어(토큰)가 있는 경우 polarity  부여\n",
    "result_list = []\n",
    "\n",
    "for token in df[\"tagged_review\"].iloc[0]:\n",
    "  for sent_info in sent_dict:\n",
    "    if token == sent_info[\"word\"]: # 감성사전에 해당 token이 매칭되는가??\n",
    "      result_list.append((sent_info[\"polarity\"],sent_info[\"word\"]))\n",
    "print(result_list)\n"
   ]
  },
  {
   "cell_type": "code",
   "execution_count": null,
   "metadata": {
    "id": "QxfIJ5ZL-qLd"
   },
   "outputs": [],
   "source": [
    "# 사용자 함수 정의\n",
    "def sentiment_score(sent_dict, review_token_list): # 감성사전, 리뷰의 토큰 리스트\n",
    "  result_list = [] #(감점점수, 단어)를 담아둘 리스트\n",
    "\n",
    "  for token in review_token_list:\n",
    "    for sent_info in sent_dict:\n",
    "      if token == sent_info[\"word\"]: # 감성사전에 해당 token이 매칭되는가??\n",
    "        result_list.append((sent_info[\"polarity\"],sent_info[\"word\"]))\n",
    "  return result_list"
   ]
  },
  {
   "cell_type": "code",
   "execution_count": null,
   "metadata": {
    "colab": {
     "base_uri": "https://localhost:8080/"
    },
    "executionInfo": {
     "elapsed": 109,
     "status": "ok",
     "timestamp": 1741225655181,
     "user": {
      "displayName": "백승학",
      "userId": "09918261089650744053"
     },
     "user_tz": -540
    },
    "id": "wO-Reyu4-qI5",
    "outputId": "584d95b2-036c-48ea-e63f-d3f3ecb68d00"
   },
   "outputs": [],
   "source": [
    "# 함수 테스트\n",
    "sentiment_score(sent_dict, df[\"tagged_review\"].iloc[0])"
   ]
  },
  {
   "cell_type": "code",
   "execution_count": null,
   "metadata": {
    "colab": {
     "base_uri": "https://localhost:8080/"
    },
    "executionInfo": {
     "elapsed": 2330,
     "status": "ok",
     "timestamp": 1741225657513,
     "user": {
      "displayName": "백승학",
      "userId": "09918261089650744053"
     },
     "user_tz": -540
    },
    "id": "AT0QPEJI-qGc",
    "outputId": "b4926506-2b02-445b-95ab-54aef9bd0497"
   },
   "outputs": [],
   "source": [
    "! pip install konlpy"
   ]
  },
  {
   "cell_type": "code",
   "execution_count": null,
   "metadata": {
    "id": "it49r4qJ-qEN"
   },
   "outputs": [],
   "source": [
    "from konlpy.tag import Okt"
   ]
  },
  {
   "cell_type": "code",
   "execution_count": null,
   "metadata": {
    "id": "nS1W1Sbd-qBL"
   },
   "outputs": [],
   "source": [
    "okt = Okt()"
   ]
  },
  {
   "cell_type": "code",
   "execution_count": null,
   "metadata": {
    "colab": {
     "base_uri": "https://localhost:8080/"
    },
    "executionInfo": {
     "elapsed": 6,
     "status": "ok",
     "timestamp": 1741225657525,
     "user": {
      "displayName": "백승학",
      "userId": "09918261089650744053"
     },
     "user_tz": -540
    },
    "id": "XPE21BSX-p8U",
    "outputId": "1410ac75-26a1-4623-97ff-b394c6dc6578"
   },
   "outputs": [],
   "source": [
    "okt.tagset\n",
    "\n",
    "# Adjective(형용사) : 명사의 성질(또는 상태)를 나타내는 품사 (ex. 좋다, 아름답다 등)\n",
    "# Verb(동사) : 행위나 상태를 나타내는 품사 (ex 가다, 먹다 ,보다 ,하다 등)\n",
    "# Adverb(부사) : 동사, 형용사, 전체 문장을 수식하는 품사 (ex. 천천히, 빨리, 매우 등)\n",
    "# Exclamation(감탄사) : 감탄, 놀라움, 분노, 기쁨 등 감정을 독립적으로 표현하는 품사(ex. 와!, 아!, 우와! 등)"
   ]
  },
  {
   "cell_type": "code",
   "execution_count": null,
   "metadata": {
    "id": "Ik4KXfGv-p5z"
   },
   "outputs": [],
   "source": [
    "# 품사 기준으로 토큰화 하는 함수\n",
    "def okt_pos_taggind(text):\n",
    "  # 품사태깅 + 어간 추출 + 정규화\n",
    "  pos_words = okt.pos(text, stem = True, norm = True)\n",
    "  tagged_list = []  # 감정 점수 계산에 활용될 단어들을 담아둘 리스트\n",
    "  # 품사가 형용사, 동사, 부사, 감탄사 중에 하나라면 -> word를 추출\n",
    "  for word, pos in pos_words:\n",
    "    if pos in [\"Adjective\", \"Verb\", \"Adverb\", \"Exclamation\"]:\n",
    "      tagged_list.append(word)\n",
    "  return tagged_list"
   ]
  },
  {
   "cell_type": "markdown",
   "metadata": {
    "id": "7vqs9xkl-p1F"
   },
   "source": [
    "- 감성 점수 계산"
   ]
  },
  {
   "cell_type": "code",
   "execution_count": null,
   "metadata": {
    "id": "Fxpdhlbp-pyx"
   },
   "outputs": [],
   "source": [
    "from tqdm.auto import tqdm"
   ]
  },
  {
   "cell_type": "code",
   "execution_count": null,
   "metadata": {
    "colab": {
     "base_uri": "https://localhost:8080/",
     "height": 49,
     "referenced_widgets": [
      "fe869adbf8304e30b62d6d57a17801e4",
      "ec47f2dd4f964886a032157abdebd501",
      "2bff4e9cee1b42a5bb28066095db1494",
      "8a18fbd85939406a8332d24e5556ee97",
      "4c5b35c42d8440ad80f45000345d39c1",
      "2f50221b61824a37a6bbd5702b67a16a",
      "e8c8de7843294dfc8ca56ff0ca1d464c",
      "aacb4eea2a604036b7243238945994c3",
      "53f2e64f8e9b48ae957582700cc7755e",
      "293d2f7478d248e8a38eb07b86b604a6",
      "e0d40ac737cd476c8b23fe703bf49d29"
     ]
    },
    "executionInfo": {
     "elapsed": 133553,
     "status": "ok",
     "timestamp": 1741225791083,
     "user": {
      "displayName": "백승학",
      "userId": "09918261089650744053"
     },
     "user_tz": -540
    },
    "id": "Ej6GfVqe-pwo",
    "outputId": "0213cd15-5a0b-40af-cbc8-78ea6d80c84e"
   },
   "outputs": [],
   "source": [
    "sentiment = []\n",
    "\n",
    "for review in tqdm(df[\"review\"]):\n",
    "  pos_tagged = okt_pos_taggind(review) # 감정에 특화 된 품사 기준으로 재토큰화\n",
    "  score = sentiment_score(sent_dict, pos_tagged) # 추출된 단어리스트를 기반으로 감정 점수 계산\n",
    "  sentiment.append(score)"
   ]
  },
  {
   "cell_type": "code",
   "execution_count": null,
   "metadata": {
    "colab": {
     "base_uri": "https://localhost:8080/"
    },
    "executionInfo": {
     "elapsed": 48,
     "status": "ok",
     "timestamp": 1741225791162,
     "user": {
      "displayName": "백승학",
      "userId": "09918261089650744053"
     },
     "user_tz": -540
    },
    "id": "c03p9qQ3-puU",
    "outputId": "43a7e4c2-4bcf-4f6b-d0c5-672e4f5e3e73"
   },
   "outputs": [],
   "source": [
    "len(sentiment)"
   ]
  },
  {
   "cell_type": "markdown",
   "metadata": {
    "id": "aIQBAfSH-psg"
   },
   "source": [
    "- 각 리뷰에 대한 평균 감정점수 구하기"
   ]
  },
  {
   "cell_type": "code",
   "execution_count": null,
   "metadata": {
    "id": "vM5uQQn9-pp2"
   },
   "outputs": [],
   "source": [
    "import numpy as np"
   ]
  },
  {
   "cell_type": "code",
   "execution_count": null,
   "metadata": {
    "id": "mzVN_2vL-pnM"
   },
   "outputs": [],
   "source": [
    "# 각 리뷰의 감성 점수(평균값)를 저장할 리스트\n",
    "avg_sentiment_scores = []\n",
    "for sentiment_result in sentiment:\n",
    "   # 현재 리뷰의 모든 감성 점수를 정수형으로 형변환\n",
    "   scores = [ int(result[0]) for result in sentiment_result]\n",
    "\n",
    "   # 점수가  있으면 평균을 계산하고, 없으면 0을 저장\n",
    "   avg_score = np.mean(scores) if scores  else 0\n",
    "   avg_sentiment_scores.append(avg_score)"
   ]
  },
  {
   "cell_type": "code",
   "execution_count": null,
   "metadata": {
    "colab": {
     "base_uri": "https://localhost:8080/"
    },
    "executionInfo": {
     "elapsed": 5,
     "status": "ok",
     "timestamp": 1741225791297,
     "user": {
      "displayName": "백승학",
      "userId": "09918261089650744053"
     },
     "user_tz": -540
    },
    "id": "H92epv6w-pko",
    "outputId": "b6333c91-65cb-4666-deaa-5f3838eef3ed"
   },
   "outputs": [],
   "source": [
    "print(len(avg_sentiment_scores))\n",
    "print(avg_sentiment_scores[:5])"
   ]
  },
  {
   "cell_type": "markdown",
   "metadata": {
    "id": "Sy6bh0Xy-pia"
   },
   "source": [
    "- df에 평균 감정 점수 추가"
   ]
  },
  {
   "cell_type": "code",
   "execution_count": null,
   "metadata": {
    "id": "cx4zQUDL-pf7"
   },
   "outputs": [],
   "source": [
    "df[\"sentiment_score\"] = avg_sentiment_scores"
   ]
  },
  {
   "cell_type": "code",
   "execution_count": null,
   "metadata": {
    "colab": {
     "base_uri": "https://localhost:8080/",
     "height": 421
    },
    "executionInfo": {
     "elapsed": 143,
     "status": "ok",
     "timestamp": 1741225791528,
     "user": {
      "displayName": "백승학",
      "userId": "09918261089650744053"
     },
     "user_tz": -540
    },
    "id": "Q0dFDfEB-pdj",
    "outputId": "07cbeafc-905c-4b46-8e01-c012c02c399e"
   },
   "outputs": [],
   "source": [
    "df.head(3)"
   ]
  },
  {
   "cell_type": "markdown",
   "metadata": {
    "id": "PEXQ6Drm-pba"
   },
   "source": [
    "## 1.4 각 Actor에 대한 Action 별 감정 점수 계산 후 정규화 -> 만족도"
   ]
  },
  {
   "cell_type": "code",
   "execution_count": null,
   "metadata": {
    "id": "olWcixhn-pZd"
   },
   "outputs": [],
   "source": [
    "action_setiments={}\n",
    "for actor in df[\"cluster\"].unique():\n",
    "  actor_df = df[df[\"cluster\"] == actor]\n",
    "\n",
    "  for action in actor_df[\"action_cluster\"].unique():  # 각 action 별 순회\n",
    "\n",
    "    # 현재 액션에 해당되는 리뷰들의 감정 점수값을 지정\n",
    "    action_score = actor_df[actor_df[\"action_cluster\"] == action][\"sentiment_score\"]\n",
    "\n",
    "    #평균 계산\n",
    "    action_score_mean = np.mean(action_score)\n",
    "\n",
    "    # 계산된 평균 감정 점수와 각 액터 및 액션을 딕셔너리에 저장\n",
    "    action_setiments[f\"Actor{actor}_Action{action}\"] = action_score_mean"
   ]
  },
  {
   "cell_type": "code",
   "execution_count": null,
   "metadata": {
    "id": "67wOpp0BZEWJ"
   },
   "outputs": [],
   "source": [
    "# 키값만 저장 -> 기회영역 시각화 할 때 사용\n",
    "actions = action_setiments.keys()"
   ]
  },
  {
   "cell_type": "code",
   "execution_count": null,
   "metadata": {
    "colab": {
     "base_uri": "https://localhost:8080/"
    },
    "executionInfo": {
     "elapsed": 8,
     "status": "ok",
     "timestamp": 1741227934860,
     "user": {
      "displayName": "백승학",
      "userId": "09918261089650744053"
     },
     "user_tz": -540
    },
    "id": "oTpwmuQlZETn",
    "outputId": "36d15769-cd11-40f1-af4f-02711ebc42d4"
   },
   "outputs": [],
   "source": [
    "action_setiments"
   ]
  },
  {
   "cell_type": "markdown",
   "metadata": {
    "id": "wo2TPy3nZEQ9"
   },
   "source": [
    "- 감정점수 정규화(스케일링) 수행"
   ]
  },
  {
   "cell_type": "code",
   "execution_count": null,
   "metadata": {
    "id": "KVYpGzAIPPqZ"
   },
   "outputs": [],
   "source": [
    "# action_setiments['Actor1_Action1'] = 0.1050922073252171\n",
    "# action_setiments['Actor1_Action3'] = -0.100424483956672"
   ]
  },
  {
   "cell_type": "code",
   "execution_count": null,
   "metadata": {
    "colab": {
     "base_uri": "https://localhost:8080/"
    },
    "executionInfo": {
     "elapsed": 10,
     "status": "ok",
     "timestamp": 1741227936127,
     "user": {
      "displayName": "백승학",
      "userId": "09918261089650744053"
     },
     "user_tz": -540
    },
    "id": "81_xL90yPQFH",
    "outputId": "2b7ebd2d-0851-4d73-de82-b57329dfdfb4"
   },
   "outputs": [],
   "source": [
    "action_setiments"
   ]
  },
  {
   "cell_type": "code",
   "execution_count": null,
   "metadata": {
    "id": "t4dY1Z4xZEOm"
   },
   "outputs": [],
   "source": [
    "from sklearn.preprocessing import MinMaxScaler"
   ]
  },
  {
   "cell_type": "code",
   "execution_count": null,
   "metadata": {
    "id": "f4kh4ZfoZEMC"
   },
   "outputs": [],
   "source": [
    "# 1. 정규화 할 데이터(액션별 평균감정점수) 가져오기\n",
    "raw_scores = list(action_setiments.values())\n",
    "# 2. 형변환 -> 2차원 배열로 형변환 (MinMaxScaler가 요구하는 차원)\n",
    "scores_array = np.array(raw_scores).reshape(-1 ,1)\n",
    "# 3. 스케일러 초기화\n",
    "scaler = min_max_scaler = MinMaxScaler(feature_range= (0,10)) # 끝값 포함!!!\n",
    "# 4. 스케일링 수행\n",
    "scaled_scores = scaler.fit_transform(scores_array)\n",
    "\n",
    "# 5. 스케일링 결과를 1차원 리스트로 형변환(소수점 4자리까지 반올림)\n",
    "scaled_scores_list = scaled_scores.flatten().tolist()\n",
    "scaled_scores_list_round = [round(score, 4) for score in scaled_scores_list]\n",
    "\n",
    "# 6. 스케일링 된 점수를 기존 딕셔너리(action_sentiments)에 업데이트\n",
    "for key,new_score in zip(action_setiments.keys(), scaled_scores_list_round):\n",
    "  action_setiments[key] = new_score\n",
    "\n",
    "# 7. df화\n",
    "action_summary_df = pd.DataFrame(action_setiments.items(),columns = [\"Action\",\"satisfaction\"])"
   ]
  },
  {
   "cell_type": "markdown",
   "metadata": {
    "id": "z2wGVOjjZD0Z"
   },
   "source": [
    "# 2. 중요도(Importance)\n",
    "- importance = (빈도수/전체 빈도수) *100\n",
    "- 2.1 중요도 점수 구하기 -> 전체 토픽에 대한 비중\n",
    "- 2.2 중요도 점수에 대한 정규화(스케일링)"
   ]
  },
  {
   "cell_type": "markdown",
   "metadata": {
    "id": "OX5KzZhnZDyC"
   },
   "source": [
    "### 2.1 중요도 점수 구하기"
   ]
  },
  {
   "cell_type": "code",
   "execution_count": null,
   "metadata": {
    "id": "_vRII9GSZDv8"
   },
   "outputs": [],
   "source": [
    "# 모든 리뷰에 대해서 \"Actor0_Action0\" 형태의 문자열을 생성\n",
    "\n",
    "actor_action_labels = []\n",
    "for actor, action in zip(df[\"cluster\"], df[\"action_cluster\"]):\n",
    "  actor_action_labels.append(f\"Actor{actor}_Action{action}\")"
   ]
  },
  {
   "cell_type": "code",
   "execution_count": null,
   "metadata": {
    "id": "0ggMQbFxe3Qe"
   },
   "outputs": [],
   "source": [
    "# 빈도수 계산\n",
    "from collections import Counter"
   ]
  },
  {
   "cell_type": "code",
   "execution_count": null,
   "metadata": {
    "colab": {
     "base_uri": "https://localhost:8080/"
    },
    "executionInfo": {
     "elapsed": 6,
     "status": "ok",
     "timestamp": 1741227938114,
     "user": {
      "displayName": "백승학",
      "userId": "09918261089650744053"
     },
     "user_tz": -540
    },
    "id": "28pQF1xaZDt7",
    "outputId": "785825a1-d9f0-43d5-e63f-c380d6f09275",
    "scrolled": true
   },
   "outputs": [],
   "source": [
    "label_frequency = Counter(actor_action_labels)\n",
    "label_frequency"
   ]
  },
  {
   "cell_type": "code",
   "execution_count": null,
   "metadata": {
    "id": "0Fb7LohY7LT3"
   },
   "outputs": [],
   "source": [
    "# label_frequency['Actor1_Action1'] = 553"
   ]
  },
  {
   "cell_type": "code",
   "execution_count": null,
   "metadata": {
    "colab": {
     "base_uri": "https://localhost:8080/"
    },
    "executionInfo": {
     "elapsed": 6,
     "status": "ok",
     "timestamp": 1741227938478,
     "user": {
      "displayName": "백승학",
      "userId": "09918261089650744053"
     },
     "user_tz": -540
    },
    "id": "Rwd6NIq_7LJQ",
    "outputId": "ec60bb1c-b31b-4420-e882-85a577a36f2e"
   },
   "outputs": [],
   "source": [
    "label_frequency"
   ]
  },
  {
   "cell_type": "code",
   "execution_count": null,
   "metadata": {
    "colab": {
     "base_uri": "https://localhost:8080/"
    },
    "executionInfo": {
     "elapsed": 5,
     "status": "ok",
     "timestamp": 1741227938636,
     "user": {
      "displayName": "백승학",
      "userId": "09918261089650744053"
     },
     "user_tz": -540
    },
    "id": "uqRRN3bsZDrR",
    "outputId": "07206cae-485b-4a01-be70-cc97f99239a4"
   },
   "outputs": [],
   "source": [
    "# 전체 빈도수 계산\n",
    "total_count = sum(label_frequency.values())\n",
    "total_count"
   ]
  },
  {
   "cell_type": "code",
   "execution_count": null,
   "metadata": {
    "colab": {
     "base_uri": "https://localhost:8080/"
    },
    "executionInfo": {
     "elapsed": 15,
     "status": "ok",
     "timestamp": 1741227938933,
     "user": {
      "displayName": "백승학",
      "userId": "09918261089650744053"
     },
     "user_tz": -540
    },
    "id": "5xQ0t3c3ZDpC",
    "outputId": "99c69914-0f66-4cc3-c7ec-dde59f4b25a5"
   },
   "outputs": [],
   "source": [
    "# 중요도 계산\n",
    "# 중요도 = (해당 action의 빈도수 / 전체 빈도수) * 100\n",
    "importance_dict = { label: (count/total_count)*100 for label, count in label_frequency.items()}\n",
    "importance_dict"
   ]
  },
  {
   "cell_type": "code",
   "execution_count": null,
   "metadata": {
    "colab": {
     "base_uri": "https://localhost:8080/"
    },
    "executionInfo": {
     "elapsed": 15,
     "status": "ok",
     "timestamp": 1741227939069,
     "user": {
      "displayName": "백승학",
      "userId": "09918261089650744053"
     },
     "user_tz": -540
    },
    "id": "_lpZ1Uc0ZDm5",
    "outputId": "096a82cd-499e-4b81-faed-a3d291f6f31c"
   },
   "outputs": [],
   "source": [
    "# 1. 정규화 할 데이터(액션별 정규화 이전의 중요도) 가져오기\n",
    "\n",
    "raw_scores = list(importance_dict.values())\n",
    "\n",
    "# 2. 형변환 -> 2차원 배열로 형변환(MinMaxScaler가 요구하는 차원)\n",
    "\n",
    "scores_array = np.array(raw_scores).reshape(-1, 1)\n",
    "\n",
    "# 3. 스케일러 초기화\n",
    "\n",
    "scaler = MinMaxScaler(feature_range = (0, 10)) # 끝값 포함!\n",
    "\n",
    "# 4. 스케일링 수행\n",
    "\n",
    "scaled_scores = scaler.fit_transform(scores_array)\n",
    "\n",
    "# 5. 스케일링 결과를 1차원 리스트로 형변환(소수점 4자리까지 반올림)\n",
    "\n",
    "scaled_scores_list = scaled_scores.flatten().tolist()\n",
    "\n",
    "scaled_scores_list_round = [round(score, 4) for score in scaled_scores_list]\n",
    "\n",
    "\n",
    "# 6. 스케일링 된 점수를 기존 딕셔너리(importance_dict)에 업데이트\n",
    "\n",
    "for key, new_score in zip(importance_dict.keys(), scaled_scores_list_round) :\n",
    "    importance_dict[key] = new_score\n",
    "importance_dict"
   ]
  },
  {
   "cell_type": "code",
   "execution_count": null,
   "metadata": {
    "colab": {
     "base_uri": "https://localhost:8080/",
     "height": 488
    },
    "executionInfo": {
     "elapsed": 16,
     "status": "ok",
     "timestamp": 1741227939086,
     "user": {
      "displayName": "백승학",
      "userId": "09918261089650744053"
     },
     "user_tz": -540
    },
    "id": "M5o7I7fUZDki",
    "outputId": "79e1415d-8d32-40f7-a7aa-3ed2551955f3"
   },
   "outputs": [],
   "source": [
    "# 7. df에 추가\n",
    "action_summary_df[\"importance\"] = list(importance_dict.values())\n",
    "action_summary_df"
   ]
  },
  {
   "cell_type": "markdown",
   "metadata": {
    "id": "hbEI0FerZDiJ"
   },
   "source": [
    "# 3. 기회 점수(Opportunity)\n",
    "- 3.1 기회점수 계산\n",
    "- 3.2 기회 영역 시각화\n",
    "- 만약에 고객이 어떤 행동을 중요하게 여기지만, 그에 비해 만족도가 낮다면 -> 그 차이가 클수록 고객에게 개선의 여지가 많다(가치가 높다)는 걸 의미하는 분석 방법"
   ]
  },
  {
   "cell_type": "code",
   "execution_count": null,
   "metadata": {
    "id": "SRrq9rcTZDf7"
   },
   "outputs": [],
   "source": [
    "# 기회 점수 계산 함수 정의\n",
    "def opportunity_score(satisfaction, importance):\n",
    "  return importance + max(satisfaction - importance,0)"
   ]
  },
  {
   "cell_type": "code",
   "execution_count": null,
   "metadata": {
    "colab": {
     "base_uri": "https://localhost:8080/"
    },
    "executionInfo": {
     "elapsed": 29,
     "status": "ok",
     "timestamp": 1741227939671,
     "user": {
      "displayName": "백승학",
      "userId": "09918261089650744053"
     },
     "user_tz": -540
    },
    "id": "-T5-gKA-ZDdi",
    "outputId": "24e88761-21b9-4660-d010-e8285f339468"
   },
   "outputs": [],
   "source": [
    "# 계산\n",
    "opportunity_list=[]\n",
    "for s, i in zip(action_summary_df[\"satisfaction\"], action_summary_df[\"importance\"]):\n",
    "  opportunity_list.append(opportunity_score(s,i))\n",
    "opportunity_list"
   ]
  },
  {
   "cell_type": "code",
   "execution_count": null,
   "metadata": {
    "colab": {
     "base_uri": "https://localhost:8080/",
     "height": 488
    },
    "executionInfo": {
     "elapsed": 29,
     "status": "ok",
     "timestamp": 1741227939851,
     "user": {
      "displayName": "백승학",
      "userId": "09918261089650744053"
     },
     "user_tz": -540
    },
    "id": "zeginsL5ZDbZ",
    "outputId": "06963ebf-a39b-4971-a6fb-0128b600043b"
   },
   "outputs": [],
   "source": [
    "# df에 추가\n",
    "action_summary_df[\"opportunity_score\"] = opportunity_list\n",
    "action_summary_df"
   ]
  },
  {
   "cell_type": "code",
   "execution_count": null,
   "metadata": {
    "id": "kj1bApJzZDZj"
   },
   "outputs": [],
   "source": [
    "# 저장\n",
    "action_summary_df.to_csv(\"./data/sent_impo_oppo_score.csv\", index = False)"
   ]
  },
  {
   "cell_type": "markdown",
   "metadata": {
    "id": "FFj5-1ie-pWr"
   },
   "source": [
    "- 기회영역 시각화"
   ]
  },
  {
   "cell_type": "code",
   "execution_count": null,
   "metadata": {
    "colab": {
     "base_uri": "https://localhost:8080/",
     "height": 523
    },
    "executionInfo": {
     "elapsed": 28,
     "status": "ok",
     "timestamp": 1741227941048,
     "user": {
      "displayName": "백승학",
      "userId": "09918261089650744053"
     },
     "user_tz": -540
    },
    "id": "uGjySv-_nmqh",
    "outputId": "526fae43-5b8c-4dc8-d3c2-68fcdf6d3b4e"
   },
   "outputs": [],
   "source": [
    "# 만족도, 중요도, 액션이름(라벨) 가져옴\n",
    "satisfaction = action_summary_df[\"satisfaction\"]\n",
    "importance = action_summary_df[\"importance\"]\n",
    "actions = action_summary_df[\"Action\"]\n",
    "actions # actor0 -> 7 개, actor1 -> 4개"
   ]
  },
  {
   "cell_type": "code",
   "execution_count": null,
   "metadata": {
    "colab": {
     "base_uri": "https://localhost:8080/"
    },
    "executionInfo": {
     "elapsed": 14,
     "status": "ok",
     "timestamp": 1741227941371,
     "user": {
      "displayName": "백승학",
      "userId": "09918261089650744053"
     },
     "user_tz": -540
    },
    "id": "DOBgL_NVoA1l",
    "outputId": "f6726ede-7423-41bb-ebde-999b41f254e4"
   },
   "outputs": [],
   "source": [
    "# 각 액션마다 무작위 색상을 생성\n",
    "colors = np.random.rand(len(actions),3)\n",
    "colors"
   ]
  },
  {
   "cell_type": "code",
   "execution_count": null,
   "metadata": {
    "id": "A3oA4hYVn7vA"
   },
   "outputs": [],
   "source": [
    "import matplotlib.pyplot as plt"
   ]
  },
  {
   "cell_type": "code",
   "execution_count": null,
   "metadata": {
    "colab": {
     "base_uri": "https://localhost:8080/",
     "height": 543
    },
    "executionInfo": {
     "elapsed": 2971,
     "status": "ok",
     "timestamp": 1741227945139,
     "user": {
      "displayName": "백승학",
      "userId": "09918261089650744053"
     },
     "user_tz": -540
    },
    "id": "dlGppHphn_SN",
    "outputId": "4359439f-3944-45e8-8615-68fd890da77c"
   },
   "outputs": [],
   "source": [
    "plt.figure(figsize = (17, 10))\n",
    "\n",
    "# 산점도\n",
    "plt.scatter(\n",
    "    importance,\n",
    "    satisfaction,\n",
    "    s = 35,          # 마커 크기\n",
    "    c = colors,      # 각 마커의 색상(임의의 랜덤값)\n",
    "    edgecolors = 'black' # 마커의 테두리\n",
    "\n",
    ")\n",
    "\n",
    "plt.xlabel('Importance')     # x축 이름\n",
    "plt.ylabel('Satisfaction')   # y축 이름\n",
    "\n",
    "\n",
    "# 첫번째 영역 분할 선\n",
    "xdata = [0, 10]\n",
    "ydata = [satisfaction.mean(), 10]\n",
    "plt.plot(xdata, ydata, 'r')\n",
    "\n",
    "# 두 번째 영역 분할 선\n",
    "x_data = [importance.mean(), 10]\n",
    "y_data = [0, 10]\n",
    "plt.plot(x_data, y_data, 'g')\n",
    "\n",
    "# 각 액션에 이름(텍스트) 추가\n",
    "for i, action in enumerate(actions):\n",
    "    plt.text(\n",
    "        importance[i], satisfaction[i],\n",
    "        action,\n",
    "        fontsize = 10,\n",
    "        ha = 'left' # 왼쪽 정렬\n",
    "    )\n",
    "\n",
    "# 범례 표시를 위한 빈 산점도 그리기\n",
    "for i, action in enumerate(actions):\n",
    "    plt.scatter(\n",
    "        [], [],\n",
    "        s = 10,\n",
    "        c = [colors[i]],\n",
    "        label = action,\n",
    "        edgecolors = 'black'\n",
    "    )\n",
    "\n",
    "# 범례 표시\n",
    "plt.legend(\n",
    "    title = 'Actions',\n",
    "    fontsize = 8,\n",
    "    title_fontsize = '10',\n",
    "    loc = 'upper left',   # 범례들이 왼쪽 상단에 위치\n",
    "    bbox_to_anchor=(1, 1) # 범례를 플롯 외부 오른쪽 상단에 고정\n",
    ")\n",
    "\n",
    "plt.grid()\n",
    "\n",
    "# 그래프를 저장한다\n",
    "plt.savefig(\n",
    "    './data/Opportunity_area.png',\n",
    "    dpi = 300,\n",
    "    bbox_inches = 'tight'  # 여백을 최소화\n",
    ")\n",
    "plt.show()\n"
   ]
  },
  {
   "cell_type": "code",
   "execution_count": null,
   "metadata": {
    "id": "idPnZYM7n_QF"
   },
   "outputs": [],
   "source": []
  },
  {
   "cell_type": "code",
   "execution_count": null,
   "metadata": {
    "id": "-C_1PsfQn_N2"
   },
   "outputs": [],
   "source": []
  },
  {
   "cell_type": "code",
   "execution_count": null,
   "metadata": {
    "id": "pnvgJIdcn_L2"
   },
   "outputs": [],
   "source": []
  }
 ],
 "metadata": {
  "colab": {
   "authorship_tag": "ABX9TyNlj9tBJUmylSCC123h5dZD",
   "mount_file_id": "1gfYVGn9AaQ96RgeVPws007nnSMM0LcAw",
   "provenance": []
  },
  "kernelspec": {
   "display_name": "Python [conda env:opencv_study]",
   "language": "python",
   "name": "conda-env-opencv_study-py"
  },
  "language_info": {
   "codemirror_mode": {
    "name": "ipython",
    "version": 3
   },
   "file_extension": ".py",
   "mimetype": "text/x-python",
   "name": "python",
   "nbconvert_exporter": "python",
   "pygments_lexer": "ipython3",
   "version": "3.12.9"
  },
  "widgets": {
   "application/vnd.jupyter.widget-state+json": {
    "293d2f7478d248e8a38eb07b86b604a6": {
     "model_module": "@jupyter-widgets/base",
     "model_module_version": "1.2.0",
     "model_name": "LayoutModel",
     "state": {
      "_model_module": "@jupyter-widgets/base",
      "_model_module_version": "1.2.0",
      "_model_name": "LayoutModel",
      "_view_count": null,
      "_view_module": "@jupyter-widgets/base",
      "_view_module_version": "1.2.0",
      "_view_name": "LayoutView",
      "align_content": null,
      "align_items": null,
      "align_self": null,
      "border": null,
      "bottom": null,
      "display": null,
      "flex": null,
      "flex_flow": null,
      "grid_area": null,
      "grid_auto_columns": null,
      "grid_auto_flow": null,
      "grid_auto_rows": null,
      "grid_column": null,
      "grid_gap": null,
      "grid_row": null,
      "grid_template_areas": null,
      "grid_template_columns": null,
      "grid_template_rows": null,
      "height": null,
      "justify_content": null,
      "justify_items": null,
      "left": null,
      "margin": null,
      "max_height": null,
      "max_width": null,
      "min_height": null,
      "min_width": null,
      "object_fit": null,
      "object_position": null,
      "order": null,
      "overflow": null,
      "overflow_x": null,
      "overflow_y": null,
      "padding": null,
      "right": null,
      "top": null,
      "visibility": null,
      "width": null
     }
    },
    "2bff4e9cee1b42a5bb28066095db1494": {
     "model_module": "@jupyter-widgets/controls",
     "model_module_version": "1.5.0",
     "model_name": "FloatProgressModel",
     "state": {
      "_dom_classes": [],
      "_model_module": "@jupyter-widgets/controls",
      "_model_module_version": "1.5.0",
      "_model_name": "FloatProgressModel",
      "_view_count": null,
      "_view_module": "@jupyter-widgets/controls",
      "_view_module_version": "1.5.0",
      "_view_name": "ProgressView",
      "bar_style": "success",
      "description": "",
      "description_tooltip": null,
      "layout": "IPY_MODEL_aacb4eea2a604036b7243238945994c3",
      "max": 4418,
      "min": 0,
      "orientation": "horizontal",
      "style": "IPY_MODEL_53f2e64f8e9b48ae957582700cc7755e",
      "value": 4418
     }
    },
    "2f50221b61824a37a6bbd5702b67a16a": {
     "model_module": "@jupyter-widgets/base",
     "model_module_version": "1.2.0",
     "model_name": "LayoutModel",
     "state": {
      "_model_module": "@jupyter-widgets/base",
      "_model_module_version": "1.2.0",
      "_model_name": "LayoutModel",
      "_view_count": null,
      "_view_module": "@jupyter-widgets/base",
      "_view_module_version": "1.2.0",
      "_view_name": "LayoutView",
      "align_content": null,
      "align_items": null,
      "align_self": null,
      "border": null,
      "bottom": null,
      "display": null,
      "flex": null,
      "flex_flow": null,
      "grid_area": null,
      "grid_auto_columns": null,
      "grid_auto_flow": null,
      "grid_auto_rows": null,
      "grid_column": null,
      "grid_gap": null,
      "grid_row": null,
      "grid_template_areas": null,
      "grid_template_columns": null,
      "grid_template_rows": null,
      "height": null,
      "justify_content": null,
      "justify_items": null,
      "left": null,
      "margin": null,
      "max_height": null,
      "max_width": null,
      "min_height": null,
      "min_width": null,
      "object_fit": null,
      "object_position": null,
      "order": null,
      "overflow": null,
      "overflow_x": null,
      "overflow_y": null,
      "padding": null,
      "right": null,
      "top": null,
      "visibility": null,
      "width": null
     }
    },
    "4c5b35c42d8440ad80f45000345d39c1": {
     "model_module": "@jupyter-widgets/base",
     "model_module_version": "1.2.0",
     "model_name": "LayoutModel",
     "state": {
      "_model_module": "@jupyter-widgets/base",
      "_model_module_version": "1.2.0",
      "_model_name": "LayoutModel",
      "_view_count": null,
      "_view_module": "@jupyter-widgets/base",
      "_view_module_version": "1.2.0",
      "_view_name": "LayoutView",
      "align_content": null,
      "align_items": null,
      "align_self": null,
      "border": null,
      "bottom": null,
      "display": null,
      "flex": null,
      "flex_flow": null,
      "grid_area": null,
      "grid_auto_columns": null,
      "grid_auto_flow": null,
      "grid_auto_rows": null,
      "grid_column": null,
      "grid_gap": null,
      "grid_row": null,
      "grid_template_areas": null,
      "grid_template_columns": null,
      "grid_template_rows": null,
      "height": null,
      "justify_content": null,
      "justify_items": null,
      "left": null,
      "margin": null,
      "max_height": null,
      "max_width": null,
      "min_height": null,
      "min_width": null,
      "object_fit": null,
      "object_position": null,
      "order": null,
      "overflow": null,
      "overflow_x": null,
      "overflow_y": null,
      "padding": null,
      "right": null,
      "top": null,
      "visibility": null,
      "width": null
     }
    },
    "53f2e64f8e9b48ae957582700cc7755e": {
     "model_module": "@jupyter-widgets/controls",
     "model_module_version": "1.5.0",
     "model_name": "ProgressStyleModel",
     "state": {
      "_model_module": "@jupyter-widgets/controls",
      "_model_module_version": "1.5.0",
      "_model_name": "ProgressStyleModel",
      "_view_count": null,
      "_view_module": "@jupyter-widgets/base",
      "_view_module_version": "1.2.0",
      "_view_name": "StyleView",
      "bar_color": null,
      "description_width": ""
     }
    },
    "8a18fbd85939406a8332d24e5556ee97": {
     "model_module": "@jupyter-widgets/controls",
     "model_module_version": "1.5.0",
     "model_name": "HTMLModel",
     "state": {
      "_dom_classes": [],
      "_model_module": "@jupyter-widgets/controls",
      "_model_module_version": "1.5.0",
      "_model_name": "HTMLModel",
      "_view_count": null,
      "_view_module": "@jupyter-widgets/controls",
      "_view_module_version": "1.5.0",
      "_view_name": "HTMLView",
      "description": "",
      "description_tooltip": null,
      "layout": "IPY_MODEL_293d2f7478d248e8a38eb07b86b604a6",
      "placeholder": "​",
      "style": "IPY_MODEL_e0d40ac737cd476c8b23fe703bf49d29",
      "value": " 4418/4418 [02:13&lt;00:00, 21.42it/s]"
     }
    },
    "aacb4eea2a604036b7243238945994c3": {
     "model_module": "@jupyter-widgets/base",
     "model_module_version": "1.2.0",
     "model_name": "LayoutModel",
     "state": {
      "_model_module": "@jupyter-widgets/base",
      "_model_module_version": "1.2.0",
      "_model_name": "LayoutModel",
      "_view_count": null,
      "_view_module": "@jupyter-widgets/base",
      "_view_module_version": "1.2.0",
      "_view_name": "LayoutView",
      "align_content": null,
      "align_items": null,
      "align_self": null,
      "border": null,
      "bottom": null,
      "display": null,
      "flex": null,
      "flex_flow": null,
      "grid_area": null,
      "grid_auto_columns": null,
      "grid_auto_flow": null,
      "grid_auto_rows": null,
      "grid_column": null,
      "grid_gap": null,
      "grid_row": null,
      "grid_template_areas": null,
      "grid_template_columns": null,
      "grid_template_rows": null,
      "height": null,
      "justify_content": null,
      "justify_items": null,
      "left": null,
      "margin": null,
      "max_height": null,
      "max_width": null,
      "min_height": null,
      "min_width": null,
      "object_fit": null,
      "object_position": null,
      "order": null,
      "overflow": null,
      "overflow_x": null,
      "overflow_y": null,
      "padding": null,
      "right": null,
      "top": null,
      "visibility": null,
      "width": null
     }
    },
    "e0d40ac737cd476c8b23fe703bf49d29": {
     "model_module": "@jupyter-widgets/controls",
     "model_module_version": "1.5.0",
     "model_name": "DescriptionStyleModel",
     "state": {
      "_model_module": "@jupyter-widgets/controls",
      "_model_module_version": "1.5.0",
      "_model_name": "DescriptionStyleModel",
      "_view_count": null,
      "_view_module": "@jupyter-widgets/base",
      "_view_module_version": "1.2.0",
      "_view_name": "StyleView",
      "description_width": ""
     }
    },
    "e8c8de7843294dfc8ca56ff0ca1d464c": {
     "model_module": "@jupyter-widgets/controls",
     "model_module_version": "1.5.0",
     "model_name": "DescriptionStyleModel",
     "state": {
      "_model_module": "@jupyter-widgets/controls",
      "_model_module_version": "1.5.0",
      "_model_name": "DescriptionStyleModel",
      "_view_count": null,
      "_view_module": "@jupyter-widgets/base",
      "_view_module_version": "1.2.0",
      "_view_name": "StyleView",
      "description_width": ""
     }
    },
    "ec47f2dd4f964886a032157abdebd501": {
     "model_module": "@jupyter-widgets/controls",
     "model_module_version": "1.5.0",
     "model_name": "HTMLModel",
     "state": {
      "_dom_classes": [],
      "_model_module": "@jupyter-widgets/controls",
      "_model_module_version": "1.5.0",
      "_model_name": "HTMLModel",
      "_view_count": null,
      "_view_module": "@jupyter-widgets/controls",
      "_view_module_version": "1.5.0",
      "_view_name": "HTMLView",
      "description": "",
      "description_tooltip": null,
      "layout": "IPY_MODEL_2f50221b61824a37a6bbd5702b67a16a",
      "placeholder": "​",
      "style": "IPY_MODEL_e8c8de7843294dfc8ca56ff0ca1d464c",
      "value": "100%"
     }
    },
    "fe869adbf8304e30b62d6d57a17801e4": {
     "model_module": "@jupyter-widgets/controls",
     "model_module_version": "1.5.0",
     "model_name": "HBoxModel",
     "state": {
      "_dom_classes": [],
      "_model_module": "@jupyter-widgets/controls",
      "_model_module_version": "1.5.0",
      "_model_name": "HBoxModel",
      "_view_count": null,
      "_view_module": "@jupyter-widgets/controls",
      "_view_module_version": "1.5.0",
      "_view_name": "HBoxView",
      "box_style": "",
      "children": [
       "IPY_MODEL_ec47f2dd4f964886a032157abdebd501",
       "IPY_MODEL_2bff4e9cee1b42a5bb28066095db1494",
       "IPY_MODEL_8a18fbd85939406a8332d24e5556ee97"
      ],
      "layout": "IPY_MODEL_4c5b35c42d8440ad80f45000345d39c1"
     }
    }
   }
  }
 },
 "nbformat": 4,
 "nbformat_minor": 4
}
