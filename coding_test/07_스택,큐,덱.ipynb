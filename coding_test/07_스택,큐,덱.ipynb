{
 "cells": [
  {
   "cell_type": "code",
   "execution_count": 99,
   "id": "333068b8-317e-48b0-9d1e-257c2d9c6c2d",
   "metadata": {},
   "outputs": [
    {
     "name": "stdin",
     "output_type": "stream",
     "text": [
      " 9\n"
     ]
    },
    {
     "ename": "IndexError",
     "evalue": "list index out of range",
     "output_type": "error",
     "traceback": [
      "\u001b[1;31m---------------------------------------------------------------------------\u001b[0m",
      "\u001b[1;31mIndexError\u001b[0m                                Traceback (most recent call last)",
      "Cell \u001b[1;32mIn[99], line 9\u001b[0m\n\u001b[0;32m      6\u001b[0m \u001b[38;5;28;01mfor\u001b[39;00m _ \u001b[38;5;129;01min\u001b[39;00m \u001b[38;5;28mrange\u001b[39m(n):\n\u001b[0;32m      7\u001b[0m     order \u001b[38;5;241m=\u001b[39m sys\u001b[38;5;241m.\u001b[39mstdin\u001b[38;5;241m.\u001b[39mreadline()\u001b[38;5;241m.\u001b[39msplit()\n\u001b[1;32m----> 9\u001b[0m     \u001b[38;5;28;01mif\u001b[39;00m order[\u001b[38;5;241m0\u001b[39m]\u001b[38;5;241m==\u001b[39m\u001b[38;5;124m'\u001b[39m\u001b[38;5;124m1\u001b[39m\u001b[38;5;124m'\u001b[39m:\n\u001b[0;32m     10\u001b[0m         st\u001b[38;5;241m.\u001b[39mappend(order[\u001b[38;5;241m1\u001b[39m])\n\u001b[0;32m     11\u001b[0m     \u001b[38;5;28;01melif\u001b[39;00m order[\u001b[38;5;241m0\u001b[39m]\u001b[38;5;241m==\u001b[39m\u001b[38;5;124m'\u001b[39m\u001b[38;5;124m2\u001b[39m\u001b[38;5;124m'\u001b[39m:\n",
      "\u001b[1;31mIndexError\u001b[0m: list index out of range"
     ]
    }
   ],
   "source": [
    "# 28278\n",
    "# 시간초과 -> sys.stdin.readline() 사용!\n",
    "import sys\n",
    "st = []\n",
    "n = int(input())\n",
    "for _ in range(n):\n",
    "    order = sys.stdin.readline().split()\n",
    "    \n",
    "    if order[0]=='1':\n",
    "        st.append(order[1])\n",
    "    elif order[0]=='2':\n",
    "        print(st.pop()) if st else print(-1)\n",
    "    elif order[0]=='3':\n",
    "        print(len(st))\n",
    "    elif order[0]=='4':\n",
    "        print(0) if st else print(1)\n",
    "    elif order[0]=='5':\n",
    "        print(st[-1]) if st else print(-1)"
   ]
  },
  {
   "cell_type": "markdown",
   "id": "63d6f377-ee97-4a15-8b81-122fb44075b9",
   "metadata": {},
   "source": [
    "- 백준 제출은 맞았음"
   ]
  },
  {
   "cell_type": "code",
   "execution_count": 3,
   "id": "935879ef-558a-45c6-841b-ef99f4f3e6a4",
   "metadata": {},
   "outputs": [
    {
     "name": "stdin",
     "output_type": "stream",
     "text": [
      " 10\n",
      " 1\n",
      " 3\n",
      " 5\n",
      " 4\n",
      " 0\n",
      " 0\n",
      " 7\n",
      " 0\n",
      " 0\n",
      " 6\n"
     ]
    },
    {
     "name": "stdout",
     "output_type": "stream",
     "text": [
      "7\n"
     ]
    }
   ],
   "source": [
    "# 10773\n",
    "n = int(input())\n",
    "st = []\n",
    "for _ in range(n):\n",
    "    a = int(input())\n",
    "    st.pop() if a == 0 else st.append(a)\n",
    "\n",
    "print(sum(st))"
   ]
  },
  {
   "cell_type": "code",
   "execution_count": 99,
   "id": "a0fcc27a-2d00-444e-8957-978c9846622e",
   "metadata": {},
   "outputs": [
    {
     "name": "stdin",
     "output_type": "stream",
     "text": [
      " 6\n",
      " (())())\n"
     ]
    },
    {
     "name": "stdout",
     "output_type": "stream",
     "text": [
      "NO\n"
     ]
    },
    {
     "name": "stdin",
     "output_type": "stream",
     "text": [
      " (((()())()\n"
     ]
    },
    {
     "name": "stdout",
     "output_type": "stream",
     "text": [
      "NO\n"
     ]
    },
    {
     "name": "stdin",
     "output_type": "stream",
     "text": [
      " (()())((()))\n"
     ]
    },
    {
     "name": "stdout",
     "output_type": "stream",
     "text": [
      "YES\n"
     ]
    },
    {
     "name": "stdin",
     "output_type": "stream",
     "text": [
      " ((()()(()))(((())))()\n"
     ]
    },
    {
     "name": "stdout",
     "output_type": "stream",
     "text": [
      "NO\n"
     ]
    },
    {
     "name": "stdin",
     "output_type": "stream",
     "text": [
      " ()()()()(()()())()\n"
     ]
    },
    {
     "name": "stdout",
     "output_type": "stream",
     "text": [
      "YES\n"
     ]
    },
    {
     "name": "stdin",
     "output_type": "stream",
     "text": [
      " (()((())()(\n"
     ]
    },
    {
     "name": "stdout",
     "output_type": "stream",
     "text": [
      "NO\n"
     ]
    }
   ],
   "source": [
    "# 9012\n",
    "#  “(())()”와 “((()))” 는 VPS 이지만 “(()(”, “(())()))” , 그리고 “(()” 는 모두 VPS 가 아닌 문자열\n",
    "# 하나의 괄호 문자열의 길이는 2 이상 50 이하\n",
    "for _ in range(int(input())):\n",
    "    st = []\n",
    "    a = input()\n",
    "    for i in a:\n",
    "        if i == '(':\n",
    "            st.append(1)\n",
    "        else:\n",
    "            if st:\n",
    "                st.pop()\n",
    "            else:\n",
    "                print(\"NO\")\n",
    "                break\n",
    "    else:\n",
    "        print(\"NO\") if st else print(\"YES\")"
   ]
  },
  {
   "cell_type": "code",
   "execution_count": 31,
   "id": "678e655c-7494-4d33-8b7a-70ececb708f3",
   "metadata": {},
   "outputs": [
    {
     "name": "stdin",
     "output_type": "stream",
     "text": [
      " So when I die (the [first] I will see in (heaven) is a score list).\n"
     ]
    },
    {
     "name": "stdout",
     "output_type": "stream",
     "text": [
      "YES\n"
     ]
    },
    {
     "name": "stdin",
     "output_type": "stream",
     "text": [
      " [ first in ] ( first out ).\n"
     ]
    },
    {
     "name": "stdout",
     "output_type": "stream",
     "text": [
      "YES\n"
     ]
    },
    {
     "name": "stdin",
     "output_type": "stream",
     "text": [
      " Half Moon tonight (At least it is better than no Moon at all].\n"
     ]
    },
    {
     "name": "stdout",
     "output_type": "stream",
     "text": [
      "NO\n"
     ]
    },
    {
     "name": "stdin",
     "output_type": "stream",
     "text": [
      " A rope may form )( a trail in a maze.\n"
     ]
    },
    {
     "name": "stdout",
     "output_type": "stream",
     "text": [
      "NO\n"
     ]
    },
    {
     "name": "stdin",
     "output_type": "stream",
     "text": [
      " Help( I[m being held prisoner in a fortune cookie factory)].\n"
     ]
    },
    {
     "name": "stdout",
     "output_type": "stream",
     "text": [
      "NO\n"
     ]
    },
    {
     "name": "stdin",
     "output_type": "stream",
     "text": [
      " ([ (([( [ ] ) ( ) (( ))] )) ]).\n"
     ]
    },
    {
     "name": "stdout",
     "output_type": "stream",
     "text": [
      "YES\n"
     ]
    },
    {
     "name": "stdin",
     "output_type": "stream",
     "text": [
      "  .\n"
     ]
    },
    {
     "name": "stdout",
     "output_type": "stream",
     "text": [
      "YES\n"
     ]
    },
    {
     "name": "stdin",
     "output_type": "stream",
     "text": [
      " .\n"
     ]
    }
   ],
   "source": [
    "# 4949\n",
    "# \" .\"와 같이 괄호가 하나도 없는 경우도 균형잡힌 문자열로 간주할 수 있다\n",
    "while True:\n",
    "    st = []\n",
    "    a = input()\n",
    "    if a == '.':\n",
    "        break\n",
    "    for i in a:\n",
    "        if i == '(' or i=='[':\n",
    "            st.append(i)\n",
    "        elif i == ')':\n",
    "            if st and st[-1]=='(':\n",
    "                st.pop()\n",
    "            else:\n",
    "                print(\"no\")\n",
    "                break\n",
    "        elif i == ']':\n",
    "            if st and st[-1]=='[':\n",
    "                st.pop()\n",
    "            else:\n",
    "                print(\"no\")\n",
    "                break\n",
    "    else:\n",
    "        print(\"no\") if st else print(\"yes\")"
   ]
  },
  {
   "attachments": {
    "2bf07e69-8313-438c-bbf9-84be04520adb.png": {
     "image/png": "[encoded data removed]"
    }
   },
   "cell_type": "markdown",
   "id": "88db8ebb-5181-40b1-94cf-83f6e9cb8fef",
   "metadata": {},
   "source": [
    "![image.png](attachment:2bf07e69-8313-438c-bbf9-84be04520adb.png)"
   ]
  },
  {
   "cell_type": "code",
   "execution_count": 122,
   "id": "4a93dbc5-56ac-4ab5-9596-7070931e9f14",
   "metadata": {},
   "outputs": [
    {
     "name": "stdin",
     "output_type": "stream",
     "text": [
      " 5\n",
      " 5 4 1 3 2\n"
     ]
    },
    {
     "name": "stdout",
     "output_type": "stream",
     "text": [
      "Nice\n"
     ]
    }
   ],
   "source": [
    "# 12789\n",
    "n = int(input())\n",
    "st = []\n",
    "arr= list(map(int, input().split()))\n",
    "\n",
    "cnt = 1\n",
    "for i in arr:\n",
    "    st.append(i)\n",
    "    while st and st[-1] == cnt:\n",
    "        st.pop()\n",
    "        cnt+=1\n",
    "\n",
    "print('Sad') if st else print('Nice')"
   ]
  },
  {
   "cell_type": "code",
   "execution_count": null,
   "id": "92188045-c0a7-4fca-b275-5354218c73f7",
   "metadata": {},
   "outputs": [],
   "source": [
    "# 18258\n",
    "# stack 사용 -> 시간초과\n",
    "import sys\n",
    "st = []\n",
    "n = int(input())\n",
    "for _ in range(n):\n",
    "    order = sys.stdin.readline().split()\n",
    "    \n",
    "    if order[0]=='push':\n",
    "        st.append(order[1])\n",
    "    elif order[0]=='pop':\n",
    "        print(st.pop()) if st else print(-1)\n",
    "    elif order[0]=='size':\n",
    "        print(len(st))\n",
    "    elif order[0]=='empty':\n",
    "        print(0) if st else print(1)\n",
    "    elif order[0]=='front':\n",
    "        print(st[-1]) if st else print(-1)\n",
    "    elif order[0]=='back':\n",
    "        print(st.pop(0)) if st else print(-1)"
   ]
  },
  {
   "cell_type": "code",
   "execution_count": null,
   "id": "240b5af3-17c8-4097-9ce3-9b33ccaa04df",
   "metadata": {},
   "outputs": [],
   "source": [
    "# deque 사용 -> 통과\n",
    "import sys\n",
    "from collections import deque\n",
    "\n",
    "input = sys.stdin.readline\n",
    "\n",
    "n = int(input())\n",
    "queue = deque()\n",
    "\n",
    "for _ in range(n):\n",
    "    order = input().split()\n",
    "    if order[0] == 'push':\n",
    "        queue.append(order[1])\n",
    "    elif order[0] == 'pop':\n",
    "        print(queue.popleft()) if queue else print('-1')\n",
    "    elif order[0] == 'size':\n",
    "        print(len(queue))\n",
    "    elif order[0] == 'empty':\n",
    "        print('0') if queue else print('1')\n",
    "    elif order[0] == 'front':\n",
    "        print(queue[0]) if queue else print('-1')\n",
    "    elif order[0] == 'back':\n",
    "        print(queue[-1]) if queue else print('-1')"
   ]
  },
  {
   "cell_type": "code",
   "execution_count": 29,
   "id": "f180f2e0-fc80-4a8d-8e99-92fe6f677684",
   "metadata": {},
   "outputs": [
    {
     "name": "stdin",
     "output_type": "stream",
     "text": [
      " 6\n"
     ]
    },
    {
     "name": "stdout",
     "output_type": "stream",
     "text": [
      "4\n"
     ]
    }
   ],
   "source": [
    "# 2164\n",
    "from collections import deque\n",
    "\n",
    "arr = deque()\n",
    "n = int(input())\n",
    "\n",
    "for i in range(1,n+1):\n",
    "    arr.append(i)\n",
    "while len(arr)>1:\n",
    "    arr.popleft()\n",
    "    arr.append(arr.popleft())\n",
    "\n",
    "print(arr[0])"
   ]
  },
  {
   "cell_type": "code",
   "execution_count": 57,
   "id": "cd5c5d9a-ecee-4093-91db-fc8ee46f9ef0",
   "metadata": {},
   "outputs": [
    {
     "name": "stdin",
     "output_type": "stream",
     "text": [
      " 7 3\n"
     ]
    },
    {
     "name": "stdout",
     "output_type": "stream",
     "text": [
      "<3, 6, 2, 7, 5, 1, 4>\n"
     ]
    }
   ],
   "source": [
    "# 11866\n",
    "from collections import deque\n",
    "\n",
    "qu = deque()\n",
    "result=[]\n",
    "\n",
    "n,k = map(int, input().split())\n",
    "\n",
    "for i in range(1,n+1):\n",
    "    qu.append(i)\n",
    "\n",
    "while qu:\n",
    "    for _ in range(k-1):   # 0,1\n",
    "        qu.append(qu.popleft())\n",
    "        # print('qu ',qu)\n",
    "    result.append(qu.popleft())\n",
    "    # print('result ',result)\n",
    "print(str(result).replace('[','<').replace(']','>'))"
   ]
  },
  {
   "cell_type": "code",
   "execution_count": 61,
   "id": "06657954-a123-40b5-aba7-23dbc03a20fb",
   "metadata": {},
   "outputs": [
    {
     "name": "stdin",
     "output_type": "stream",
     "text": [
      " 2\n",
      " 1 3\n",
      " 2 5\n"
     ]
    }
   ],
   "source": [
    "# 28279\n",
    "import sys\n",
    "from collections import deque\n",
    "\n",
    "input = sys.stdin.readline\n",
    "de = deque()\n",
    "\n",
    "for _ in range(int(input())):\n",
    "    order = input().split()\n",
    "    if order[0]=='1':\n",
    "        de.appendleft(order[1])\n",
    "    elif order[0]=='2':\n",
    "        de.append(order[1])\n",
    "    elif order[0]=='3':\n",
    "        print(de.popleft() if de else -1)\n",
    "    elif order[0]=='4':\n",
    "        print(de.pop() if de else -1)\n",
    "    elif order[0]=='5':\n",
    "        print(len(de))\n",
    "    elif order[0]=='6':\n",
    "        print(0 if de else 1)\n",
    "    elif order[0]=='7':\n",
    "        print(de[0] if de else -1)\n",
    "    elif order[0]=='8':\n",
    "        print(de[-1] if de else -1)"
   ]
  },
  {
   "cell_type": "code",
   "execution_count": 41,
   "id": "953e1586-3d37-4804-9fcf-753143ad259f",
   "metadata": {},
   "outputs": [
    {
     "name": "stdin",
     "output_type": "stream",
     "text": [
      " 5\n",
      " 3 2 1 -3 -1\n"
     ]
    },
    {
     "name": "stdout",
     "output_type": "stream",
     "text": [
      "1 4 5 3 2\n"
     ]
    }
   ],
   "source": [
    "# 2346\n",
    "# 이동할 때에는 이미 터진 풍선은 빼고 이동\n",
    "from collections import deque\n",
    "\n",
    "n = int(input())\n",
    "de = deque(enumerate(map(int, input().split())))\n",
    "arr = []\n",
    "\n",
    "while de:\n",
    "    i, paper = de.popleft()\n",
    "    arr.append(i+1)\n",
    "\n",
    "    if paper > 0:\n",
    "        de.rotate(-(paper -1))\n",
    "    elif paper < 0:\n",
    "        de.rotate(-paper) # 음수이기 때문에 -를 붙여 +로 만들어준다\n",
    "    # print(de)\n",
    "print(' '.join(map(str, arr)))"
   ]
  },
  {
   "cell_type": "code",
   "execution_count": 39,
   "id": "151f5a8b-26fc-4c1b-ba8a-90b00e0f72a4",
   "metadata": {},
   "outputs": [
    {
     "name": "stdin",
     "output_type": "stream",
     "text": [
      " 5\n",
      " 3 2 1 -3 -1\n"
     ]
    },
    {
     "name": "stdout",
     "output_type": "stream",
     "text": [
      "1 4 5 3 2\n"
     ]
    }
   ],
   "source": [
    "# 24511\n"
   ]
  },
  {
   "cell_type": "code",
   "execution_count": 65,
   "id": "9bddf7e5-9434-4d96-9173-483e2f8210a9",
   "metadata": {},
   "outputs": [
    {
     "data": {
      "text/plain": [
       "'3'"
      ]
     },
     "execution_count": 65,
     "metadata": {},
     "output_type": "execute_result"
    }
   ],
   "source": [
    "5\n",
    "3 2 1 -3 -1"
   ]
  },
  {
   "cell_type": "code",
   "execution_count": null,
   "id": "2d26228c-ae56-4c8f-b540-4b7846d5c108",
   "metadata": {},
   "outputs": [],
   "source": []
  }
 ],
 "metadata": {
  "kernelspec": {
   "display_name": "Python [conda env:base] *",
   "language": "python",
   "name": "conda-base-py"
  },
  "language_info": {
   "codemirror_mode": {
    "name": "ipython",
    "version": 3
   },
   "file_extension": ".py",
   "mimetype": "text/x-python",
   "name": "python",
   "nbconvert_exporter": "python",
   "pygments_lexer": "ipython3",
   "version": "3.12.7"
  }
 },
 "nbformat": 4,
 "nbformat_minor": 5
}
