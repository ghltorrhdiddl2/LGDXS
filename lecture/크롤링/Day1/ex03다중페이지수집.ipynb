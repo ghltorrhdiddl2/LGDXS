{
 "cells": [
  {
   "cell_type": "markdown",
   "id": "93547647-d01c-44f5-b2d3-6c1c80e60e5f",
   "metadata": {},
   "source": [
    "# req를 통해서 여러페이지 수집\n",
    "- req는 url을 통해서 데이터를 요청하는 라이브러리\n",
    "- 데이터를 로딩하는 방법 크게 2가지\n",
    "  - 방법1 : 스크롤을 내려서 데이터를 로딩받는 방식(네이버 뉴스, 유튜브)\n",
    "  - 방법2 : 요청하는 url을 변형하는 방식\n",
    "  - 방법1을 처리하기 위해서는 브라우저를 직접 조작 -> req로는 불가능\n",
    "  - 방법2를 활용해서 여러페이지 전환하며 수집\n",
    "## 실습 : 여러페이지 수집\n",
    "- 학습할 내용 1 : 선택자를 분석하는 방법 🌟\n",
    "- 학습할 내용 2 : 페이지를 전환하는 방법"
   ]
  },
  {
   "cell_type": "code",
   "execution_count": 3,
   "id": "37b5718f-e719-4837-93d7-3e7e1dbd952e",
   "metadata": {},
   "outputs": [],
   "source": [
    "import requests as req\n",
    "from bs4 import BeautifulSoup as bs"
   ]
  },
  {
   "cell_type": "code",
   "execution_count": 5,
   "id": "c01491aa-fb0c-4ff0-bfa6-9048452db7d5",
   "metadata": {},
   "outputs": [
    {
     "data": {
      "text/plain": [
       "<Response [200]>"
      ]
     },
     "execution_count": 5,
     "metadata": {},
     "output_type": "execute_result"
    }
   ],
   "source": [
    "# 1. 사이트 요청\n",
    "res = req.get(\"https://zdnet.co.kr/newskey/?lstcode=CES2025\")\n",
    "res"
   ]
  },
  {
   "cell_type": "code",
   "execution_count": 9,
   "id": "25ac0c3c-d6a7-4723-a829-7d859c4ea64d",
   "metadata": {},
   "outputs": [],
   "source": [
    "# 2. 데이터 파싱작업 string -> html변환\n",
    "soup = bs(res.text,\"lxml\")"
   ]
  },
  {
   "cell_type": "code",
   "execution_count": 29,
   "id": "0edea5c0-b8c7-45c9-897c-c98f5a86170d",
   "metadata": {},
   "outputs": [
    {
     "data": {
      "text/plain": [
       "[<h3>KB국민카드가 CES 2025혁신상 받은 이유?</h3>,\n",
       " <h3>AI 집사로봇 '볼리' 출시...삼성, 깜짝 발표에 청중 환호</h3>,\n",
       " <h3>세라젬, CES서 '건강한 미래의 집' 청사진 제시</h3>,\n",
       " <h3>로봇 팔 달린 로봇청소기…로보락, '사로스 Z70' 공개</h3>,\n",
       " <h3>AI 드론에 배터리 교체·냉각까지…세계가 주목한 韓 '드론 스테이션'</h3>,\n",
       " <h3>에코백스, CES서 '롤러 자동세척 물걸레' 로봇청소기 선봬</h3>,\n",
       " <h3>AIDC 내세운 SKT, CES서 32종 AI 기술 공개</h3>,\n",
       " <h3>\"CES 효과일까?\"…엔비디아, 주가 149달러 기록하며 AI 기대감 '고조'</h3>,\n",
       " <h3>뮤지션 윌아이엠, LG CES 무대에 '깜짝 등장'...\"LG 엑스붐 재창조\"</h3>,\n",
       " <h3>인텔, 데스크톱PC용 코어 울트라 200S 추가 출시</h3>,\n",
       " <h3>전장 힘주는 LG이노텍, CES 부스도 모빌리티 '올인'</h3>,\n",
       " <h3>인텔 \"올해 PC 시장 4% 성장 전망...기업 교체 수요 기대\"</h3>,\n",
       " <h3>한종희 \"삼성, 스마트홈 리더십 100년까지 이어갈 것\"</h3>,\n",
       " <h3>AMD, 3D V캐시 탑재 라이젠 9 9950X3D 공개</h3>,\n",
       " <h3>MS와 손잡은 LG전자, 공감지능 더 강력해진다</h3>,\n",
       " <h3>인텔, 코어 울트라 200 v프로 CPU 공개</h3>,\n",
       " <h3>\"삼성 TV는 AI 더한 세계 베스트셀러\"</h3>]"
      ]
     },
     "execution_count": 29,
     "metadata": {},
     "output_type": "execute_result"
    }
   ],
   "source": [
    "# 3. 뉴스제목 수집\n",
    "title = soup.select('div.assetText > a > h3')\n",
    "title"
   ]
  },
  {
   "cell_type": "code",
   "execution_count": 27,
   "id": "33684a10-894d-43ae-a787-1750b6ea1e2b",
   "metadata": {},
   "outputs": [
    {
     "data": {
      "text/plain": [
       "'KB국민카드가 CES 2025혁신상 받은 이유?'"
      ]
     },
     "execution_count": 27,
     "metadata": {},
     "output_type": "execute_result"
    }
   ],
   "source": [
    "title[0].text"
   ]
  },
  {
   "cell_type": "markdown",
   "id": "ad21f970-2274-4816-b3dc-e47830093664",
   "metadata": {},
   "source": [
    "# 선택자를 분석하는 방법\n",
    "- 내가 원하는 태그를 확인 -> id, class같은 구분자가 없는 경우? -> 부모를 활용하는 계층선택자 사용\n",
    "- 부모를 활용할 때도 반드시 부모태그가 id, class같은 구분자가 있을 때까지 찾아준다.\n",
    "- Why? 범위를 명확하게 좁히기 위해서\n",
    "## 선택자를 한번에 복사해오는 방법\n",
    "- How? 개발자도구 -> 원하는 태그 우클릭 -> copy -> selector\n",
    "- 주의점! 선택자를 복사해오면 오직 내가 선택한 태그 한 개만 가져오는 선택자(단수)\n",
    "- 복수개가 필요하다면? 선택자 수정 🌟\n",
    "- 단수를 의미하는 선택자를 지워준다(id, nth-child)\n",
    "- 선택자는 반드시 뒤에서부터 수정\n",
    "- 복수개가 필요하면 뒤에서부터 단수를 지우자 🌟"
   ]
  },
  {
   "cell_type": "code",
   "execution_count": 33,
   "id": "4d6fc566-9ea7-41ea-a176-10bb8b1634e4",
   "metadata": {},
   "outputs": [
    {
     "data": {
      "text/plain": [
       "[<h3>KB국민카드가 CES 2025혁신상 받은 이유?</h3>]"
      ]
     },
     "execution_count": 33,
     "metadata": {},
     "output_type": "execute_result"
    }
   ],
   "source": [
    "soup.select(\"body > div.contentWrapper > div > div.left_cont > div.news_box > div:nth-child(1) > div.assetText > a > h3\")"
   ]
  },
  {
   "cell_type": "code",
   "execution_count": 35,
   "id": "7836972b-e978-4cfc-a890-f9d4c960d63c",
   "metadata": {},
   "outputs": [
    {
     "data": {
      "text/plain": [
       "[<h3>AI 집사로봇 '볼리' 출시...삼성, 깜짝 발표에 청중 환호</h3>]"
      ]
     },
     "execution_count": 35,
     "metadata": {},
     "output_type": "execute_result"
    }
   ],
   "source": [
    "soup.select(\"body > div.contentWrapper > div > div.left_cont > div.news_box > div:nth-child(2) > div.assetText > a > h3\")"
   ]
  },
  {
   "cell_type": "code",
   "execution_count": 37,
   "id": "9419e6b5-03bb-4c4d-8554-2c54bd64d806",
   "metadata": {},
   "outputs": [
    {
     "data": {
      "text/plain": [
       "[<h3>KB국민카드가 CES 2025혁신상 받은 이유?</h3>,\n",
       " <h3>AI 집사로봇 '볼리' 출시...삼성, 깜짝 발표에 청중 환호</h3>,\n",
       " <h3>세라젬, CES서 '건강한 미래의 집' 청사진 제시</h3>,\n",
       " <h3>로봇 팔 달린 로봇청소기…로보락, '사로스 Z70' 공개</h3>,\n",
       " <h3>AI 드론에 배터리 교체·냉각까지…세계가 주목한 韓 '드론 스테이션'</h3>,\n",
       " <h3>에코백스, CES서 '롤러 자동세척 물걸레' 로봇청소기 선봬</h3>,\n",
       " <h3>AIDC 내세운 SKT, CES서 32종 AI 기술 공개</h3>,\n",
       " <h3>\"CES 효과일까?\"…엔비디아, 주가 149달러 기록하며 AI 기대감 '고조'</h3>,\n",
       " <h3>뮤지션 윌아이엠, LG CES 무대에 '깜짝 등장'...\"LG 엑스붐 재창조\"</h3>,\n",
       " <h3>인텔, 데스크톱PC용 코어 울트라 200S 추가 출시</h3>,\n",
       " <h3>전장 힘주는 LG이노텍, CES 부스도 모빌리티 '올인'</h3>,\n",
       " <h3>인텔 \"올해 PC 시장 4% 성장 전망...기업 교체 수요 기대\"</h3>,\n",
       " <h3>한종희 \"삼성, 스마트홈 리더십 100년까지 이어갈 것\"</h3>,\n",
       " <h3>AMD, 3D V캐시 탑재 라이젠 9 9950X3D 공개</h3>,\n",
       " <h3>MS와 손잡은 LG전자, 공감지능 더 강력해진다</h3>,\n",
       " <h3>인텔, 코어 울트라 200 v프로 CPU 공개</h3>,\n",
       " <h3>\"삼성 TV는 AI 더한 세계 베스트셀러\"</h3>]"
      ]
     },
     "execution_count": 37,
     "metadata": {},
     "output_type": "execute_result"
    }
   ],
   "source": [
    "# 선택자 수정\n",
    "soup.select(\"body > div.contentWrapper > div > div.left_cont > div.news_box > div > div.assetText > a > h3\")"
   ]
  },
  {
   "cell_type": "code",
   "execution_count": 40,
   "id": "f531bb2a-5243-496a-9c42-745397d39770",
   "metadata": {},
   "outputs": [
    {
     "data": {
      "text/plain": [
       "['KB국민카드가 CES 2025혁신상 받은 이유?',\n",
       " \"AI 집사로봇 '볼리' 출시...삼성, 깜짝 발표에 청중 환호\",\n",
       " \"세라젬, CES서 '건강한 미래의 집' 청사진 제시\",\n",
       " \"로봇 팔 달린 로봇청소기…로보락, '사로스 Z70' 공개\",\n",
       " \"AI 드론에 배터리 교체·냉각까지…세계가 주목한 韓 '드론 스테이션'\",\n",
       " \"에코백스, CES서 '롤러 자동세척 물걸레' 로봇청소기 선봬\",\n",
       " 'AIDC 내세운 SKT, CES서 32종 AI 기술 공개',\n",
       " '\"CES 효과일까?\"…엔비디아, 주가 149달러 기록하며 AI 기대감 \\'고조\\'',\n",
       " '뮤지션 윌아이엠, LG CES 무대에 \\'깜짝 등장\\'...\"LG 엑스붐 재창조\"',\n",
       " '인텔, 데스크톱PC용 코어 울트라 200S 추가 출시',\n",
       " \"전장 힘주는 LG이노텍, CES 부스도 모빌리티 '올인'\",\n",
       " '인텔 \"올해 PC 시장 4% 성장 전망...기업 교체 수요 기대\"',\n",
       " '한종희 \"삼성, 스마트홈 리더십 100년까지 이어갈 것\"',\n",
       " 'AMD, 3D V캐시 탑재 라이젠 9 9950X3D 공개',\n",
       " 'MS와 손잡은 LG전자, 공감지능 더 강력해진다',\n",
       " '인텔, 코어 울트라 200 v프로 CPU 공개',\n",
       " '\"삼성 TV는 AI 더한 세계 베스트셀러\"']"
      ]
     },
     "execution_count": 40,
     "metadata": {},
     "output_type": "execute_result"
    }
   ],
   "source": [
    "# 컨텐츠만 저장\n",
    "title = soup.select(\"body > div.contentWrapper > div > div.left_cont > div.news_box > div > div.assetText > a > h3\")\n",
    "\n",
    "title_list = []\n",
    "for i in title:\n",
    "    title_list.append(i.text)\n",
    "\n",
    "title_list"
   ]
  },
  {
   "cell_type": "markdown",
   "id": "ab46cf28-6d3c-4888-9284-400efa057f91",
   "metadata": {},
   "source": [
    "## 현재 사이트는 ?\n",
    "- 완료 : 첫번째 페이지의 뉴스타이틀 수집 완료\n",
    "- 사람이라면 밑에 있는 페이지의 숫자를 클릭\n",
    "- url보면 &page=? 변경\n",
    "- 일반적 사고 : 페이지가 변하면 -> url뒤에 page값이 바뀌는 구나\n",
    "- 프로그래밍 사고 : 요청하고 수집이 끝나면 page번호를 바꾼다\n",
    "- 요청 -> 수집 -> 요청 -> 수집 -> 반복 (for) 사용한다"
   ]
  },
  {
   "cell_type": "code",
   "execution_count": 45,
   "id": "22189a5d-1033-4e75-b8b0-6582c1f4e77a",
   "metadata": {},
   "outputs": [],
   "source": [
    "title_list = []\n",
    "for j in range(1,6):\n",
    "    res = req.get(f\"https://zdnet.co.kr/newskey/?lstcode=CES2025&page={j}\")\n",
    "    soup = bs(res.text, \"lxml\")\n",
    "    title = soup.select(\"body > div.contentWrapper > div > div.left_cont > div.news_box > div > div.assetText > a > h3\")\n",
    "    \n",
    "    for i in title:\n",
    "        title_list.append(i.text)"
   ]
  },
  {
   "cell_type": "code",
   "execution_count": 47,
   "id": "ced54d85-bf33-4cfb-9983-344d93dd2892",
   "metadata": {
    "scrolled": true
   },
   "outputs": [
    {
     "data": {
      "text/plain": [
       "['\"스테인드글라스? TV?\"…LG 22억짜리 초대형 미디어 아트 시선 강탈',\n",
       " '엔비디아, PC용 지포스 RTX 50시리즈 GPU 공개',\n",
       " \"CES 무대 나선 통신사, 'AI 사업' 확장 글로벌 협력 박차\",\n",
       " '미래의료 한 자리 CES서 K-헬스케어 기업들 종횡무진',\n",
       " '위로보틱스, CES서 웨어러블 로봇 선봬',\n",
       " '\"도시 전체가 모빌리티 테스트 코스\"…올 가을 토요타 우븐시티 오픈',\n",
       " 'KB국민카드가 CES 2025혁신상 받은 이유?',\n",
       " \"AI 집사로봇 '볼리' 출시...삼성, 깜짝 발표에 청중 환호\",\n",
       " \"세라젬, CES서 '건강한 미래의 집' 청사진 제시\",\n",
       " \"로봇 팔 달린 로봇청소기…로보락, '사로스 Z70' 공개\",\n",
       " \"AI 드론에 배터리 교체·냉각까지…세계가 주목한 韓 '드론 스테이션'\",\n",
       " \"에코백스, CES서 '롤러 자동세척 물걸레' 로봇청소기 선봬\",\n",
       " 'AIDC 내세운 SKT, CES서 32종 AI 기술 공개',\n",
       " '\"CES 효과일까?\"…엔비디아, 주가 149달러 기록하며 AI 기대감 \\'고조\\'',\n",
       " '뮤지션 윌아이엠, LG CES 무대에 \\'깜짝 등장\\'...\"LG 엑스붐 재창조\"',\n",
       " '인텔, 데스크톱PC용 코어 울트라 200S 추가 출시',\n",
       " \"전장 힘주는 LG이노텍, CES 부스도 모빌리티 '올인'\",\n",
       " '인텔 \"올해 PC 시장 4% 성장 전망...기업 교체 수요 기대\"',\n",
       " '한종희 \"삼성, 스마트홈 리더십 100년까지 이어갈 것\"',\n",
       " 'AMD, 3D V캐시 탑재 라이젠 9 9950X3D 공개',\n",
       " 'MS와 손잡은 LG전자, 공감지능 더 강력해진다',\n",
       " '인텔, 코어 울트라 200 v프로 CPU 공개',\n",
       " '\"삼성 TV는 AI 더한 세계 베스트셀러\"',\n",
       " '침으로 스트레스 수치 확인한다',\n",
       " '과기정통부, CES에서 국내 디지털 기술 글로벌 사업화 방안 모색',\n",
       " '\"떨어진 양말도 치운다\"…\\'로봇 팔 탑재\\' 로봇 청소기 등장',\n",
       " \"피부 상태 진단하고 화장품 추천도...미래 '뷰티 미러' 체험해보니\",\n",
       " \"로보락, CES서 '팔 달린 로봇청소기' 선봬\",\n",
       " '안마의자도 AI 시대…바디프랜드, CES서 헬스케어로봇 선봬',\n",
       " \"TV 1위 수성 위한 삼성의 신무기 'AI 비전'…실시간 번역도 OK\",\n",
       " '삼성, 초개인화 \\'홈 AI\\' 공개…\"맞춤형집 제안\"',\n",
       " '\"가전을 비서처럼\"…삼성, 집안 곳곳 알아서 돌보는 \\'홈 AI\\' 선봬',\n",
       " \"LG전자, 3배 밝아지고 AI 덧입힌 '올레드 에보' 공개\",\n",
       " '테솔로, CES 2025서 로봇 그리퍼 선봬',\n",
       " '최태원 직접 뛴다...SK, CES 2025서 글로벌 AI 협력모델 제시',\n",
       " '\"비데로 건강 모니터링\"…코웨이, CES혁신상 3관왕',\n",
       " '\"기침하면 온수 제안\"…LG전자, 일상으로 스며든 공감지능 소개',\n",
       " \"삼성디스플레이, 'CES 2025'서 프리미엄 모니터 패널 QD-OLED 공개\",\n",
       " '\"몰입할 준비 되셨나요\"…미리 엿본 CES 2025 현장',\n",
       " \"[ZD브리핑] 윤석열 내란 혐의 진상규명 첫 회의…美 CES에 삼성·LG·엔비디아 '총출동'\",\n",
       " \"엔비디아·삼성·현대차 '총출동'…CES 2025서 등장할 혁신 기술·제품 '기대'\",\n",
       " 'CES 2025서 PC용 새 프로세서 대거 등장 예정',\n",
       " '미리보는 슬라이더블폰?…삼성D, OLED 신제품 대거 공개',\n",
       " '에이트테크, CES 2025서 폐기물 선별로봇 기술 선봬',\n",
       " '7일 개막 CES 핵심 키워드는...\"AI 세상으로 몰입하세요\"',\n",
       " '인디제이, CES 2025에 감정인지 AI 기반 커넥티드카 인포테인먼트 비서 등 공개',\n",
       " \"딥인사이트, 'CES 2025'서 차량 실내 모니터링 시스템 공개\",\n",
       " \"삼성전자, TV에 구글과 공동 개발한 '3D 오디오' 기술 탑재\",\n",
       " \"CES 2025 '통합한국관'에 445개사 참여...2년 연속 최대\",\n",
       " '삼성SDS부터 스타트업까지, SW 기업 CES 2025 대거 출격',\n",
       " \"LG전자, CES 2025서 프리미엄 가전 '시그니처' 신제품 공개\",\n",
       " '대동, CES 2025서 AI 미래농업 청사진 공개',\n",
       " \"뷰런테크놀로지, CES 2025서 '뷰엑스' 공개\",\n",
       " \"딜로이트가 꼽은 'CES 2025' 키워드 10선\",\n",
       " 'SKT, CES 2025서 AI 역량 과시한다',\n",
       " '솔루엠, CES 2025서 50kW급 전기차 충전기용 파워모듈 공개',\n",
       " '\"그래도 가야돼\" CES 향하는 中 기업들…비자 문제는 변수',\n",
       " '레노버, 내년 초 롤러블 노트북 공개…이런 모습?',\n",
       " '영림원소프트랩, CES 2025 참가…기업용 앱개발 플랫폼 글로벌 공략',\n",
       " '다쏘시스템, 버추얼 트윈으로 그린 헬스케어 미래 제시',\n",
       " \"삼성전자, CES 2025서 'AI 홈' 탑재 스크린 가전 대거 공개\",\n",
       " '세계 놀래킨 K-로봇…CES 혁신상 잇따라',\n",
       " \"LG이노텍, CES 2025서 '미래 모빌리티' 집중…핵심부품 41종 전시\",\n",
       " 'AMD \"CES 2025서 일반 소비자·상업용 신제품 공개\"',\n",
       " '가민, 2년 연속 CES 최고혁신상',\n",
       " '바디프랜드, CES 2025 혁신상 3관왕',\n",
       " \"솔루엠, CES 2025서 '친환경 에너지·AI 리테일' 기술 선보여\",\n",
       " '\"드론 정밀진단 10초 만에\"…위플로, CES 2025 혁신상',\n",
       " \"대동 'AI 가정용 재배기', CES 2025 혁신상\",\n",
       " '누비랩, CES 2025 디지털 헬스 혁신상',\n",
       " '텐마인즈, CES 혁신상 5번째 수상',\n",
       " '세라젬, CES 2025 혁신상 6관왕',\n",
       " \"니어스랩 '드론 스테이션', CES 2025 최고 혁신상\",\n",
       " 'LS 일렉트릭-LS전선, 초전도 기술로 CES 혁신상 수상',\n",
       " '삼성전자, CES 2025 혁신상 29개 수상',\n",
       " '삼성SDI, CES 2025 첫 출품…혁신상 4개 수상',\n",
       " \"LG전자, 올레드 TV 등 3개 제품 'CES 2025' 최고 혁신상 수상\",\n",
       " \"LG이노텍, 차량용 조명 모듈 'CES 2025' 혁신상 수상\",\n",
       " \"위로보틱스, 2년 연속 'CES 혁신상'\",\n",
       " '내년 CES \\'AI 혁명\\' 주목…\"디지털 트윈·로봇 새 물결\"',\n",
       " '젠슨 황 엔비디아 CEO, 내년 CES 2025서 기조연설 나서',\n",
       " 'CES 2025, 내년 1월 7일 개막... 현장 참가등록 개시']"
      ]
     },
     "execution_count": 47,
     "metadata": {},
     "output_type": "execute_result"
    }
   ],
   "source": [
    "title_list"
   ]
  },
  {
   "cell_type": "markdown",
   "id": "1ddd5976-519d-483f-960b-3295e961b5c2",
   "metadata": {},
   "source": [
    "## 반복문 작성하는 방법\n",
    "- 반복문 : 일정한 코드가 반복을 하면서 동작하는 문법\n",
    "- 크롤링 데이터를 수집할 때는 반복횟수가 정해진 경우가 많다 -> for문을 쓸 일이 많음\n",
    "- 반복문을 작성할 때 for를 먼저 생각하지 말고, 반복할 코드를 먼저 작성\n",
    "- for로 감싼 후, i의 위치만 찾아준다"
   ]
  },
  {
   "cell_type": "code",
   "execution_count": 77,
   "id": "38fb2dc2-a246-4747-b915-5f03100d9dd8",
   "metadata": {},
   "outputs": [],
   "source": [
    "# 링크 추가\n",
    "title_url = []\n",
    "for j in range(1,6):\n",
    "    res = req.get(f\"https://zdnet.co.kr/newskey/?lstcode=CES2025&page={j}\")\n",
    "    soup = bs(res.text, \"lxml\")\n",
    "    title = soup.select(\"body > div.contentWrapper > div > div.left_cont > div.news_box > div > div.assetText > a\")\n",
    "    \n",
    "    for i in title:\n",
    "        title_url.append('https://zdnet.co.kr'+i['href'])"
   ]
  },
  {
   "cell_type": "code",
   "execution_count": 79,
   "id": "fa8b8d91-9dfc-443d-8828-6116c06fd63a",
   "metadata": {
    "scrolled": true
   },
   "outputs": [
    {
     "data": {
      "text/plain": [
       "['https://zdnet.co.kr/view/?no=20250107163956',\n",
       " 'https://zdnet.co.kr/view/?no=20250107145129',\n",
       " 'https://zdnet.co.kr/view/?no=20250107161518',\n",
       " 'https://zdnet.co.kr/view/?no=20250107161136',\n",
       " 'https://zdnet.co.kr/view/?no=20250107153333',\n",
       " 'https://zdnet.co.kr/view/?no=20250107154638',\n",
       " 'https://zdnet.co.kr/view/?no=20250107153417',\n",
       " 'https://zdnet.co.kr/view/?no=20250107143433',\n",
       " 'https://zdnet.co.kr/view/?no=20250107143427',\n",
       " 'https://zdnet.co.kr/view/?no=20250107122431',\n",
       " 'https://zdnet.co.kr/view/?no=20250107102533',\n",
       " 'https://zdnet.co.kr/view/?no=20250107102514',\n",
       " 'https://zdnet.co.kr/view/?no=20250107095332',\n",
       " 'https://zdnet.co.kr/view/?no=20250107102209',\n",
       " 'https://zdnet.co.kr/view/?no=20250107005122',\n",
       " 'https://zdnet.co.kr/view/?no=20250107092348',\n",
       " 'https://zdnet.co.kr/view/?no=20250107101428',\n",
       " 'https://zdnet.co.kr/view/?no=20250107091912',\n",
       " 'https://zdnet.co.kr/view/?no=20250107055456',\n",
       " 'https://zdnet.co.kr/view/?no=20250107080351',\n",
       " 'https://zdnet.co.kr/view/?no=20250106073250',\n",
       " 'https://zdnet.co.kr/view/?no=20250107071403',\n",
       " 'https://zdnet.co.kr/view/?no=20250104015036',\n",
       " 'https://zdnet.co.kr/view/?no=20250106170457',\n",
       " 'https://zdnet.co.kr/view/?no=20250106120252',\n",
       " 'https://zdnet.co.kr/view/?no=20250106141744',\n",
       " 'https://zdnet.co.kr/view/?no=20250106154232',\n",
       " 'https://zdnet.co.kr/view/?no=20250106170323',\n",
       " 'https://zdnet.co.kr/view/?no=20250106165621',\n",
       " 'https://zdnet.co.kr/view/?no=20250106133814',\n",
       " 'https://zdnet.co.kr/view/?no=20250106150647',\n",
       " 'https://zdnet.co.kr/view/?no=20250106143011',\n",
       " 'https://zdnet.co.kr/view/?no=20250106144945',\n",
       " 'https://zdnet.co.kr/view/?no=20250105163504',\n",
       " 'https://zdnet.co.kr/view/?no=20250104005858',\n",
       " 'https://zdnet.co.kr/view/?no=20250105165758',\n",
       " 'https://zdnet.co.kr/view/?no=20250104130408',\n",
       " 'https://zdnet.co.kr/view/?no=20250106105418',\n",
       " 'https://zdnet.co.kr/view/?no=20250106102734',\n",
       " 'https://zdnet.co.kr/view/?no=20250106102401',\n",
       " 'https://zdnet.co.kr/view/?no=20250104112248',\n",
       " 'https://zdnet.co.kr/view/?no=20250106093029',\n",
       " 'https://zdnet.co.kr/view/?no=20250106071219',\n",
       " 'https://zdnet.co.kr/view/?no=20250105134237',\n",
       " 'https://zdnet.co.kr/view/?no=20250104072419',\n",
       " 'https://zdnet.co.kr/view/?no=20250104201637',\n",
       " 'https://zdnet.co.kr/view/?no=20250104012830',\n",
       " 'https://zdnet.co.kr/view/?no=20250103170407',\n",
       " 'https://zdnet.co.kr/view/?no=20250102172215',\n",
       " 'https://zdnet.co.kr/view/?no=20250103111804',\n",
       " 'https://zdnet.co.kr/view/?no=20250103085034',\n",
       " 'https://zdnet.co.kr/view/?no=20250103081636',\n",
       " 'https://zdnet.co.kr/view/?no=20241231152337',\n",
       " 'https://zdnet.co.kr/view/?no=20241230121816',\n",
       " 'https://zdnet.co.kr/view/?no=20241230085447',\n",
       " 'https://zdnet.co.kr/view/?no=20241226143930',\n",
       " 'https://zdnet.co.kr/view/?no=20241226103950',\n",
       " 'https://zdnet.co.kr/view/?no=20241223193932',\n",
       " 'https://zdnet.co.kr/view/?no=20241223084628',\n",
       " 'https://zdnet.co.kr/view/?no=20241220144623',\n",
       " 'https://zdnet.co.kr/view/?no=20241220154606',\n",
       " 'https://zdnet.co.kr/view/?no=20241220100410',\n",
       " 'https://zdnet.co.kr/view/?no=20241219165248',\n",
       " 'https://zdnet.co.kr/view/?no=20241218101023',\n",
       " 'https://zdnet.co.kr/view/?no=20241218083539',\n",
       " 'https://zdnet.co.kr/view/?no=20241213155103',\n",
       " 'https://zdnet.co.kr/view/?no=20241209082450',\n",
       " 'https://zdnet.co.kr/view/?no=20241204104552',\n",
       " 'https://zdnet.co.kr/view/?no=20241128160134',\n",
       " 'https://zdnet.co.kr/view/?no=20241121111751',\n",
       " 'https://zdnet.co.kr/view/?no=20241120173902',\n",
       " 'https://zdnet.co.kr/view/?no=20241119172946',\n",
       " 'https://zdnet.co.kr/view/?no=20241118145013',\n",
       " 'https://zdnet.co.kr/view/?no=20241115172948',\n",
       " 'https://zdnet.co.kr/view/?no=20241115142238',\n",
       " 'https://zdnet.co.kr/view/?no=20241115113344',\n",
       " 'https://zdnet.co.kr/view/?no=20241115112526',\n",
       " 'https://zdnet.co.kr/view/?no=20241115090710',\n",
       " 'https://zdnet.co.kr/view/?no=20241115084436',\n",
       " 'https://zdnet.co.kr/view/?no=20241115083428',\n",
       " 'https://zdnet.co.kr/view/?no=20241115082514',\n",
       " 'https://zdnet.co.kr/view/?no=20241115081922',\n",
       " 'https://zdnet.co.kr/view/?no=20241114095043',\n",
       " 'https://zdnet.co.kr/view/?no=20241022180058',\n",
       " 'https://zdnet.co.kr/view/?no=20241008081004',\n",
       " 'https://zdnet.co.kr/view/?no=20240925100723']"
      ]
     },
     "execution_count": 79,
     "metadata": {},
     "output_type": "execute_result"
    }
   ],
   "source": [
    "title_url"
   ]
  },
  {
   "cell_type": "code",
   "execution_count": 81,
   "id": "a0030242-41d5-43a1-b429-a8c2e829bf9d",
   "metadata": {},
   "outputs": [
    {
     "data": {
      "text/plain": [
       "['https://zdnet.co.kr/view/?no=20241115090710',\n",
       " 'https://zdnet.co.kr/view/?no=20241115084436',\n",
       " 'https://zdnet.co.kr/view/?no=20241115083428',\n",
       " 'https://zdnet.co.kr/view/?no=20241115082514',\n",
       " 'https://zdnet.co.kr/view/?no=20241115081922',\n",
       " 'https://zdnet.co.kr/view/?no=20241114095043',\n",
       " 'https://zdnet.co.kr/view/?no=20241022180058',\n",
       " 'https://zdnet.co.kr/view/?no=20241008081004',\n",
       " 'https://zdnet.co.kr/view/?no=20240925100723']"
      ]
     },
     "execution_count": 81,
     "metadata": {},
     "output_type": "execute_result"
    }
   ],
   "source": [
    "# 강사님 코드\n",
    "url = soup.select(\"body > div.contentWrapper > div > div.left_cont > div.news_box > div > div.assetText > a\")\n",
    "\n",
    "url_list = []\n",
    "for i in url:\n",
    "    url_list.append(\"https://zdnet.co.kr\"+i['href'])\n",
    "\n",
    "url_list"
   ]
  },
  {
   "cell_type": "markdown",
   "id": "c5e5d1c5-1ffe-4c8b-a7d9-7531c141d57e",
   "metadata": {},
   "source": [
    "- 수집한 링크는 \"상대경로\"수집\n",
    "- 활용가치가 떨어지는 데이터 -> 가치 올리기 위해서 -> 절대경로로 변경\n",
    "- 절대 경로로 변경할 때는 -> 메인 서버의 주소를 더해준다\n",
    "- 태그에 올렸을 때 보이는 주소를 작성 -> 현재 보고 있는 사이트의 주소를 활용"
   ]
  },
  {
   "cell_type": "markdown",
   "id": "073373dd-96bb-4264-856e-0b2e32dcb602",
   "metadata": {},
   "source": [
    "# 이번파일 정리\n",
    "- req를 통해서 여러 페이지를 수집할 때는 url의 변화에 주목하자\n",
    "- url을 통해 전달하는 값을 파라미터(parameter)라고 부른다\n",
    "- 파라미터값의 숫자가 변한다면, 반복문(for)문을 활용해 작성\n",
    "- 반복문을 작성할 때, 문법을 먼저 작성하지 말고 반복할 코드를 먼저 작성\n",
    "- 코드 통합 -> for문으로 감싸주기 -> 변하는 곳에 i 넣어주기 -> 완성\n",
    "- url을 수집할 때 절대경로, 상대경로 잘 파악하기\n",
    "  - 상대경로는 개발자가 쓰는 경로이므로 가치가 없음\n",
    "  - 절대경로 활용 -> 서버의 주소 더하기"
   ]
  }
 ],
 "metadata": {
  "kernelspec": {
   "display_name": "Python [conda env:base] *",
   "language": "python",
   "name": "conda-base-py"
  },
  "language_info": {
   "codemirror_mode": {
    "name": "ipython",
    "version": 3
   },
   "file_extension": ".py",
   "mimetype": "text/x-python",
   "name": "python",
   "nbconvert_exporter": "python",
   "pygments_lexer": "ipython3",
   "version": "3.12.7"
  }
 },
 "nbformat": 4,
 "nbformat_minor": 5
}
