{
 "cells": [
  {
   "cell_type": "code",
   "execution_count": 27,
   "id": "52346a78-8ca6-4d75-9d00-88e89ef3ae78",
   "metadata": {},
   "outputs": [
    {
     "name": "stdout",
     "output_type": "stream",
     "text": [
      " 0 30\n"
     ]
    },
    {
     "name": "stdout",
     "output_type": "stream",
     "text": [
      "23 45\n"
     ]
    }
   ],
   "source": [
    "# 2884\n",
    "\n",
    "a, b = input().split()\n",
    "\n",
    "a, b = int(a), int(b)\n",
    "\n",
    "if b < 45:\n",
    "    a -= 1\n",
    "    b += 15\n",
    "    if a < 0:\n",
    "        a = 23\n",
    "else:\n",
    "    b -= 45\n",
    "\n",
    "print(a,b)"
   ]
  },
  {
   "cell_type": "code",
   "execution_count": 35,
   "id": "f3eaa533-6f22-4de7-b619-91f3055155b9",
   "metadata": {},
   "outputs": [
    {
     "name": "stdout",
     "output_type": "stream",
     "text": [
      " 23 48\n",
      " 35\n"
     ]
    },
    {
     "name": "stdout",
     "output_type": "stream",
     "text": [
      "0 23\n"
     ]
    }
   ],
   "source": [
    "# 2525\n",
    "\n",
    "a, b = input().split()\n",
    "a, b = int(a), int(b)\n",
    "t = int(input())\n",
    "\n",
    "b += t\n",
    "if b >= 60:\n",
    "    a += b//60\n",
    "    b %= 60\n",
    "    if a >= 24:\n",
    "        a -= 24\n",
    "\n",
    "print(a, b)"
   ]
  },
  {
   "cell_type": "code",
   "execution_count": 7,
   "id": "a7090d9d-ab11-4ebc-9df6-c2d4367ec605",
   "metadata": {},
   "outputs": [
    {
     "name": "stdin",
     "output_type": "stream",
     "text": [
      " 6 2 5\n"
     ]
    },
    {
     "name": "stdout",
     "output_type": "stream",
     "text": [
      "600\n"
     ]
    }
   ],
   "source": [
    "# 2480\n",
    "\n",
    "a, b, c = input().split()\n",
    "a, b, c = int(a), int(b), int(c)\n",
    "prize = 0\n",
    "arr = []\n",
    "\n",
    "if a==b and b==c and c==a:\n",
    "    prize = 10000 + a*1000\n",
    "elif a!=b and b!=c and c!=a:\n",
    "    prize = max(a,b,c)*100\n",
    "else:\n",
    "    arr = [a,b,b]\n",
    "    dum = []; dum2 = []\n",
    "    for i in arr:\n",
    "        if i not in dum:\n",
    "            dum.append(i)\n",
    "        else:\n",
    "            if i not in dum2:\n",
    "                dum2.append(i)\n",
    "    prize = 1000 + dum2[0]*100\n",
    "\n",
    "print(prize)"
   ]
  },
  {
   "cell_type": "code",
   "execution_count": 19,
   "id": "8d00e3d7-e9e2-4826-90f4-7a996ed38eaa",
   "metadata": {},
   "outputs": [
    {
     "name": "stdin",
     "output_type": "stream",
     "text": [
      " 20\n"
     ]
    },
    {
     "name": "stdout",
     "output_type": "stream",
     "text": [
      "long long long long long int"
     ]
    }
   ],
   "source": [
    "# 25314\n",
    "# long int = 4\n",
    "# long long int = 8\n",
    "\n",
    "a = int(input())\n",
    "\n",
    "print(int(a/4)*'long ',end='int')"
   ]
  },
  {
   "cell_type": "code",
   "execution_count": 25,
   "id": "0f6ec4eb-9178-475d-9878-a465791b97e0",
   "metadata": {},
   "outputs": [
    {
     "name": "stdin",
     "output_type": "stream",
     "text": [
      " 5\n",
      " 1 1\n"
     ]
    },
    {
     "name": "stdout",
     "output_type": "stream",
     "text": [
      "Case #1: 1 + 1 = 2\n"
     ]
    },
    {
     "name": "stdin",
     "output_type": "stream",
     "text": [
      " 2 3\n"
     ]
    },
    {
     "name": "stdout",
     "output_type": "stream",
     "text": [
      "Case #2: 2 + 3 = 5\n"
     ]
    },
    {
     "name": "stdin",
     "output_type": "stream",
     "text": [
      " 3 4\n"
     ]
    },
    {
     "name": "stdout",
     "output_type": "stream",
     "text": [
      "Case #3: 3 + 4 = 7\n"
     ]
    },
    {
     "name": "stdin",
     "output_type": "stream",
     "text": [
      " 9 8\n"
     ]
    },
    {
     "name": "stdout",
     "output_type": "stream",
     "text": [
      "Case #4: 9 + 8 = 17\n"
     ]
    },
    {
     "name": "stdin",
     "output_type": "stream",
     "text": [
      " 5 2\n"
     ]
    },
    {
     "name": "stdout",
     "output_type": "stream",
     "text": [
      "Case #5: 5 + 2 = 7\n"
     ]
    }
   ],
   "source": [
    "# 11022\n",
    "x = int(input())\n",
    "for i in range(x):\n",
    "    a, b = input().split()\n",
    "    a, b = int(a), int(b)\n",
    "\n",
    "    print(f'Case #{i+1}: {a} + {b} = {a+b}')"
   ]
  },
  {
   "cell_type": "code",
   "execution_count": 25,
   "id": "a34269fd-5020-4c10-8e82-8c866f9cb6d0",
   "metadata": {},
   "outputs": [
    {
     "name": "stdin",
     "output_type": "stream",
     "text": [
      " 5\n"
     ]
    },
    {
     "name": "stdout",
     "output_type": "stream",
     "text": [
      "    *\n",
      "   **\n",
      "  ***\n",
      " ****\n",
      "*****\n"
     ]
    }
   ],
   "source": [
    "# 2439\n",
    "n = int(input())\n",
    "\n",
    "for i in range(n,0,-1):\n",
    "    print(\" \"*(i-1)+ \"*\"*(n-i+1))\n",
    "   "
   ]
  },
  {
   "cell_type": "code",
   "execution_count": 27,
   "id": "da6850c8-5d34-4126-b792-903cc08e475a",
   "metadata": {},
   "outputs": [
    {
     "name": "stdin",
     "output_type": "stream",
     "text": [
      " 5\n"
     ]
    },
    {
     "name": "stdout",
     "output_type": "stream",
     "text": [
      "    *\n",
      "   **\n",
      "  ***\n",
      " ****\n",
      "*****\n"
     ]
    }
   ],
   "source": [
    "# 2439\n",
    "n = int(input())\n",
    "\n",
    "for i in range(1, n+1):\n",
    "    print(' '*(n-i)+\"*\"*i)"
   ]
  },
  {
   "cell_type": "code",
   "execution_count": 81,
   "id": "82ed6404-dfda-4def-93a4-e1a7a1bcd6f8",
   "metadata": {},
   "outputs": [
    {
     "name": "stdin",
     "output_type": "stream",
     "text": [
      " 1 1\n"
     ]
    },
    {
     "name": "stdout",
     "output_type": "stream",
     "text": [
      "2\n"
     ]
    },
    {
     "name": "stdin",
     "output_type": "stream",
     "text": [
      " 7 6\n"
     ]
    },
    {
     "name": "stdout",
     "output_type": "stream",
     "text": [
      "13\n"
     ]
    },
    {
     "name": "stdin",
     "output_type": "stream",
     "text": [
      " 0 0\n"
     ]
    }
   ],
   "source": [
    "# 10952\n",
    "while True:\n",
    "    a, b = input().split()\n",
    "    a, b = int(a), int(b)\n",
    "    if a==0 & b==0:break\n",
    "    print(a+b)"
   ]
  },
  {
   "cell_type": "code",
   "execution_count": 85,
   "id": "053deaee-a702-4250-8a80-34d69acf4d76",
   "metadata": {},
   "outputs": [
    {
     "name": "stdin",
     "output_type": "stream",
     "text": [
      " 1 1\n"
     ]
    },
    {
     "name": "stdout",
     "output_type": "stream",
     "text": [
      "2\n"
     ]
    },
    {
     "name": "stdin",
     "output_type": "stream",
     "text": [
      " 3 3\n"
     ]
    },
    {
     "name": "stdout",
     "output_type": "stream",
     "text": [
      "6\n"
     ]
    },
    {
     "name": "stdin",
     "output_type": "stream",
     "text": [
      " de\n"
     ]
    }
   ],
   "source": [
    "# 10951\n",
    "while True:\n",
    "    try:\n",
    "        a,b = map(int, input().split())\n",
    "        print(a+b)\n",
    "    except: break"
   ]
  },
  {
   "cell_type": "code",
   "execution_count": null,
   "id": "dda8c335-4705-4aab-a03b-3446a7164a62",
   "metadata": {},
   "outputs": [],
   "source": []
  }
 ],
 "metadata": {
  "kernelspec": {
   "display_name": "Python [conda env:base] *",
   "language": "python",
   "name": "conda-base-py"
  },
  "language_info": {
   "codemirror_mode": {
    "name": "ipython",
    "version": 3
   },
   "file_extension": ".py",
   "mimetype": "text/x-python",
   "name": "python",
   "nbconvert_exporter": "python",
   "pygments_lexer": "ipython3",
   "version": "3.12.7"
  }
 },
 "nbformat": 4,
 "nbformat_minor": 5
}
