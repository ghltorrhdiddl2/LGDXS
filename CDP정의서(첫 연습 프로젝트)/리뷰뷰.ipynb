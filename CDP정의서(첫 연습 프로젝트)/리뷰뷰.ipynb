{
 "cells": [
  {
   "cell_type": "code",
   "execution_count": 1,
   "id": "35ce9391-0952-44f1-beba-f591e75d092b",
   "metadata": {},
   "outputs": [],
   "source": [
    "import pandas as pd"
   ]
  },
  {
   "cell_type": "code",
   "execution_count": 3,
   "id": "836a5c54-c476-47a6-bf3a-849592115a06",
   "metadata": {},
   "outputs": [
    {
     "data": {
      "text/html": [
       "<div>\n",
       "<style scoped>\n",
       "    .dataframe tbody tr th:only-of-type {\n",
       "        vertical-align: middle;\n",
       "    }\n",
       "\n",
       "    .dataframe tbody tr th {\n",
       "        vertical-align: top;\n",
       "    }\n",
       "\n",
       "    .dataframe thead th {\n",
       "        text-align: right;\n",
       "    }\n",
       "</style>\n",
       "<table border=\"1\" class=\"dataframe\">\n",
       "  <thead>\n",
       "    <tr style=\"text-align: right;\">\n",
       "      <th></th>\n",
       "      <th>Review</th>\n",
       "    </tr>\n",
       "  </thead>\n",
       "  <tbody>\n",
       "    <tr>\n",
       "      <th>0</th>\n",
       "      <td>리뷰 더보기 접기 평점 5  . 신고 주거형태10평 미만싱글 날씨가 정말 추웠는데도...</td>\n",
       "    </tr>\n",
       "    <tr>\n",
       "      <th>1</th>\n",
       "      <td>리뷰 더보기 접기 평점 5  . 신고 한달사용아직겨울이라사용전이지만 정확한 설치날자...</td>\n",
       "    </tr>\n",
       "    <tr>\n",
       "      <th>2</th>\n",
       "      <td>이 구매자의 처음 리뷰보기</td>\n",
       "    </tr>\n",
       "    <tr>\n",
       "      <th>3</th>\n",
       "      <td>리뷰 더보기 접기 평점 5  . 신고 한달사용아직 틀지는못했지만 브랜드믿고 만족하고...</td>\n",
       "    </tr>\n",
       "    <tr>\n",
       "      <th>4</th>\n",
       "      <td>리뷰 더보기 접기 평점 5  . 신고 주거형태10평 미만신혼 부부 빠르고 친절한 설...</td>\n",
       "    </tr>\n",
       "    <tr>\n",
       "      <th>...</th>\n",
       "      <td>...</td>\n",
       "    </tr>\n",
       "    <tr>\n",
       "      <th>197</th>\n",
       "      <td>판매자  . 신고 부모님 선물용으로도 많이들 구매하시는 가성비 좋은 제품입니다 삼성...</td>\n",
       "    </tr>\n",
       "    <tr>\n",
       "      <th>198</th>\n",
       "      <td>리뷰 더보기 접기 평점 5  . 신고 제품선택 삼성스탠드에어컨 17평 유풍 9000...</td>\n",
       "    </tr>\n",
       "    <tr>\n",
       "      <th>199</th>\n",
       "      <td>판매자  . 신고 요즘 서비스센터가 많이 밀렸나보네요 , 저희하늘에어컨은 , 설치날...</td>\n",
       "    </tr>\n",
       "    <tr>\n",
       "      <th>200</th>\n",
       "      <td>리뷰 더보기 접기 평점 5  . 신고 제품선택 삼성스탠드에어컨 17평 유풍 9000...</td>\n",
       "    </tr>\n",
       "    <tr>\n",
       "      <th>201</th>\n",
       "      <td>판매자  . 신고 한달사용리뷰 감사드립니다 만족해 하신만큼 매년여름 시원하게 잘보내...</td>\n",
       "    </tr>\n",
       "  </tbody>\n",
       "</table>\n",
       "<p>202 rows × 1 columns</p>\n",
       "</div>"
      ],
      "text/plain": [
       "                                                Review\n",
       "0    리뷰 더보기 접기 평점 5  . 신고 주거형태10평 미만싱글 날씨가 정말 추웠는데도...\n",
       "1    리뷰 더보기 접기 평점 5  . 신고 한달사용아직겨울이라사용전이지만 정확한 설치날자...\n",
       "2                                       이 구매자의 처음 리뷰보기\n",
       "3    리뷰 더보기 접기 평점 5  . 신고 한달사용아직 틀지는못했지만 브랜드믿고 만족하고...\n",
       "4    리뷰 더보기 접기 평점 5  . 신고 주거형태10평 미만신혼 부부 빠르고 친절한 설...\n",
       "..                                                 ...\n",
       "197  판매자  . 신고 부모님 선물용으로도 많이들 구매하시는 가성비 좋은 제품입니다 삼성...\n",
       "198  리뷰 더보기 접기 평점 5  . 신고 제품선택 삼성스탠드에어컨 17평 유풍 9000...\n",
       "199  판매자  . 신고 요즘 서비스센터가 많이 밀렸나보네요 , 저희하늘에어컨은 , 설치날...\n",
       "200  리뷰 더보기 접기 평점 5  . 신고 제품선택 삼성스탠드에어컨 17평 유풍 9000...\n",
       "201  판매자  . 신고 한달사용리뷰 감사드립니다 만족해 하신만큼 매년여름 시원하게 잘보내...\n",
       "\n",
       "[202 rows x 1 columns]"
      ]
     },
     "execution_count": 3,
     "metadata": {},
     "output_type": "execute_result"
    }
   ],
   "source": [
    "data = pd.read_csv('./에어컨_reviews.csv')\n",
    "\n",
    "data"
   ]
  },
  {
   "cell_type": "code",
   "execution_count": 13,
   "id": "b8ec523b-d70a-4e45-8684-c13a26538117",
   "metadata": {},
   "outputs": [
    {
     "data": {
      "text/html": [
       "<div>\n",
       "<style scoped>\n",
       "    .dataframe tbody tr th:only-of-type {\n",
       "        vertical-align: middle;\n",
       "    }\n",
       "\n",
       "    .dataframe tbody tr th {\n",
       "        vertical-align: top;\n",
       "    }\n",
       "\n",
       "    .dataframe thead th {\n",
       "        text-align: right;\n",
       "    }\n",
       "</style>\n",
       "<table border=\"1\" class=\"dataframe\">\n",
       "  <thead>\n",
       "    <tr style=\"text-align: right;\">\n",
       "      <th></th>\n",
       "      <th>Review</th>\n",
       "      <th>product_category</th>\n",
       "      <th>score</th>\n",
       "      <th>score_category</th>\n",
       "    </tr>\n",
       "  </thead>\n",
       "  <tbody>\n",
       "    <tr>\n",
       "      <th>0</th>\n",
       "      <td>리뷰 더보기 접기 평점 5  . 신고 주거형태30평대거주인원 2인 한달사용삼성냉장고...</td>\n",
       "      <td>냉장고</td>\n",
       "      <td>5.0</td>\n",
       "      <td>좋음</td>\n",
       "    </tr>\n",
       "    <tr>\n",
       "      <th>1</th>\n",
       "      <td>판매자  . 신고 안녕하세요, 고객님. 삼성전자 온라인 공식 인증점 평강프라자입니다...</td>\n",
       "      <td>냉장고</td>\n",
       "      <td>NaN</td>\n",
       "      <td>나쁨</td>\n",
       "    </tr>\n",
       "    <tr>\n",
       "      <th>2</th>\n",
       "      <td>이 구매자의 처음 리뷰보기</td>\n",
       "      <td>냉장고</td>\n",
       "      <td>NaN</td>\n",
       "      <td>나쁨</td>\n",
       "    </tr>\n",
       "    <tr>\n",
       "      <th>3</th>\n",
       "      <td>리뷰 더보기 접기 평점 5  . 신고 주거형태30평대거주인원 3인영유아 가정 한달사...</td>\n",
       "      <td>냉장고</td>\n",
       "      <td>5.0</td>\n",
       "      <td>좋음</td>\n",
       "    </tr>\n",
       "    <tr>\n",
       "      <th>4</th>\n",
       "      <td>판매자  . 신고 안녕하세요, 고객님. 삼성전자 온라인 공식 인증점 평강프라자입니다...</td>\n",
       "      <td>냉장고</td>\n",
       "      <td>NaN</td>\n",
       "      <td>나쁨</td>\n",
       "    </tr>\n",
       "    <tr>\n",
       "      <th>...</th>\n",
       "      <td>...</td>\n",
       "      <td>...</td>\n",
       "      <td>...</td>\n",
       "      <td>...</td>\n",
       "    </tr>\n",
       "    <tr>\n",
       "      <th>1468</th>\n",
       "      <td>평점 5  . 신고 한달사용재구매여전히 만족하면서 사용하고 있습니다 0</td>\n",
       "      <td>공기청정기</td>\n",
       "      <td>5.0</td>\n",
       "      <td>좋음</td>\n",
       "    </tr>\n",
       "    <tr>\n",
       "      <th>1469</th>\n",
       "      <td>평점 5  . 신고 한달사용숨쉬기 편해진 것 같아요 만족하면서 사용중이에요 0</td>\n",
       "      <td>공기청정기</td>\n",
       "      <td>5.0</td>\n",
       "      <td>좋음</td>\n",
       "    </tr>\n",
       "    <tr>\n",
       "      <th>1470</th>\n",
       "      <td>평점 5  . 신고 한달사용디자인 너무 마음에 들고, 확실히 국내 제조라 그런지 공...</td>\n",
       "      <td>공기청정기</td>\n",
       "      <td>5.0</td>\n",
       "      <td>좋음</td>\n",
       "    </tr>\n",
       "    <tr>\n",
       "      <th>1471</th>\n",
       "      <td>평점 5  . 신고 한달사용재구매가족이 모두 편백향에 빠졌어요 심신의 안정때문인지 ...</td>\n",
       "      <td>공기청정기</td>\n",
       "      <td>5.0</td>\n",
       "      <td>좋음</td>\n",
       "    </tr>\n",
       "    <tr>\n",
       "      <th>1472</th>\n",
       "      <td>평점 5 132  . 신고 한달사용3달째 너무 잘쓰고있어요! 내구성도 좋아요 0</td>\n",
       "      <td>공기청정기</td>\n",
       "      <td>5.0</td>\n",
       "      <td>좋음</td>\n",
       "    </tr>\n",
       "  </tbody>\n",
       "</table>\n",
       "<p>1473 rows × 4 columns</p>\n",
       "</div>"
      ],
      "text/plain": [
       "                                                 Review product_category  \\\n",
       "0     리뷰 더보기 접기 평점 5  . 신고 주거형태30평대거주인원 2인 한달사용삼성냉장고...              냉장고   \n",
       "1     판매자  . 신고 안녕하세요, 고객님. 삼성전자 온라인 공식 인증점 평강프라자입니다...              냉장고   \n",
       "2                                        이 구매자의 처음 리뷰보기              냉장고   \n",
       "3     리뷰 더보기 접기 평점 5  . 신고 주거형태30평대거주인원 3인영유아 가정 한달사...              냉장고   \n",
       "4     판매자  . 신고 안녕하세요, 고객님. 삼성전자 온라인 공식 인증점 평강프라자입니다...              냉장고   \n",
       "...                                                 ...              ...   \n",
       "1468            평점 5  . 신고 한달사용재구매여전히 만족하면서 사용하고 있습니다 0            공기청정기   \n",
       "1469        평점 5  . 신고 한달사용숨쉬기 편해진 것 같아요 만족하면서 사용중이에요 0            공기청정기   \n",
       "1470  평점 5  . 신고 한달사용디자인 너무 마음에 들고, 확실히 국내 제조라 그런지 공...            공기청정기   \n",
       "1471  평점 5  . 신고 한달사용재구매가족이 모두 편백향에 빠졌어요 심신의 안정때문인지 ...            공기청정기   \n",
       "1472       평점 5 132  . 신고 한달사용3달째 너무 잘쓰고있어요! 내구성도 좋아요 0            공기청정기   \n",
       "\n",
       "      score score_category  \n",
       "0       5.0             좋음  \n",
       "1       NaN             나쁨  \n",
       "2       NaN             나쁨  \n",
       "3       5.0             좋음  \n",
       "4       NaN             나쁨  \n",
       "...     ...            ...  \n",
       "1468    5.0             좋음  \n",
       "1469    5.0             좋음  \n",
       "1470    5.0             좋음  \n",
       "1471    5.0             좋음  \n",
       "1472    5.0             좋음  \n",
       "\n",
       "[1473 rows x 4 columns]"
      ]
     },
     "execution_count": 13,
     "metadata": {},
     "output_type": "execute_result"
    }
   ],
   "source": [
    "review = pd.read_csv('./concated_review.csv')\n",
    "review"
   ]
  },
  {
   "cell_type": "code",
   "execution_count": 17,
   "id": "d20ebc96-6c2f-4ded-bace-b9e233ec6350",
   "metadata": {},
   "outputs": [
    {
     "data": {
      "text/plain": [
       "array(['냉장고', '식기세척기', '세탁기', '건조기', '에어컨', 'TV', '공기청정기'], dtype=object)"
      ]
     },
     "execution_count": 17,
     "metadata": {},
     "output_type": "execute_result"
    }
   ],
   "source": [
    "review['product_category'].unique()"
   ]
  },
  {
   "cell_type": "code",
   "execution_count": 19,
   "id": "1f6465f1-6fc5-402f-8a47-9a19ff4b8701",
   "metadata": {},
   "outputs": [
    {
     "name": "stdout",
     "output_type": "stream",
     "text": [
      "<class 'pandas.core.frame.DataFrame'>\n",
      "RangeIndex: 1473 entries, 0 to 1472\n",
      "Data columns (total 4 columns):\n",
      " #   Column            Non-Null Count  Dtype  \n",
      "---  ------            --------------  -----  \n",
      " 0   Review            1473 non-null   object \n",
      " 1   product_category  1473 non-null   object \n",
      " 2   score             1153 non-null   float64\n",
      " 3   score_category    1473 non-null   object \n",
      "dtypes: float64(1), object(3)\n",
      "memory usage: 46.2+ KB\n"
     ]
    }
   ],
   "source": [
    "review.info()"
   ]
  },
  {
   "cell_type": "markdown",
   "id": "37d0eccf-4eb5-4e41-91a4-e7db1d9c318b",
   "metadata": {},
   "source": [
    "### NaN 값 삭제"
   ]
  },
  {
   "cell_type": "code",
   "execution_count": 21,
   "id": "b9650367-f7be-4684-b865-9d97b0278a6d",
   "metadata": {},
   "outputs": [
    {
     "name": "stdout",
     "output_type": "stream",
     "text": [
      "<class 'pandas.core.frame.DataFrame'>\n",
      "Index: 1153 entries, 0 to 1472\n",
      "Data columns (total 4 columns):\n",
      " #   Column            Non-Null Count  Dtype  \n",
      "---  ------            --------------  -----  \n",
      " 0   Review            1153 non-null   object \n",
      " 1   product_category  1153 non-null   object \n",
      " 2   score             1153 non-null   float64\n",
      " 3   score_category    1153 non-null   object \n",
      "dtypes: float64(1), object(3)\n",
      "memory usage: 45.0+ KB\n"
     ]
    }
   ],
   "source": [
    "review.dropna(axis=0, inplace=True)\n",
    "\n",
    "review.info()"
   ]
  },
  {
   "cell_type": "code",
   "execution_count": 68,
   "id": "8b0cc984-4e6c-47ed-a20b-7c151ada8ae9",
   "metadata": {
    "scrolled": true
   },
   "outputs": [
    {
     "data": {
      "text/html": [
       "<div>\n",
       "<style scoped>\n",
       "    .dataframe tbody tr th:only-of-type {\n",
       "        vertical-align: middle;\n",
       "    }\n",
       "\n",
       "    .dataframe tbody tr th {\n",
       "        vertical-align: top;\n",
       "    }\n",
       "\n",
       "    .dataframe thead th {\n",
       "        text-align: right;\n",
       "    }\n",
       "</style>\n",
       "<table border=\"1\" class=\"dataframe\">\n",
       "  <thead>\n",
       "    <tr style=\"text-align: right;\">\n",
       "      <th></th>\n",
       "      <th>Review</th>\n",
       "      <th>product_category</th>\n",
       "      <th>score</th>\n",
       "      <th>score_category</th>\n",
       "    </tr>\n",
       "  </thead>\n",
       "  <tbody>\n",
       "    <tr>\n",
       "      <th>0</th>\n",
       "      <td>리뷰 더보기 접기 평점 5  . 신고 주거형태30평대거주인원 2인 한달사용삼성냉장고...</td>\n",
       "      <td>냉장고</td>\n",
       "      <td>5.0</td>\n",
       "      <td>좋음</td>\n",
       "    </tr>\n",
       "    <tr>\n",
       "      <th>1</th>\n",
       "      <td>리뷰 더보기 접기 평점 5  . 신고 주거형태30평대거주인원 3인영유아 가정 한달사...</td>\n",
       "      <td>냉장고</td>\n",
       "      <td>5.0</td>\n",
       "      <td>좋음</td>\n",
       "    </tr>\n",
       "    <tr>\n",
       "      <th>2</th>\n",
       "      <td>리뷰 더보기 접기 평점 5 7  . 신고 주거형태10평대거주인원 2인신혼 부부 한달...</td>\n",
       "      <td>냉장고</td>\n",
       "      <td>5.0</td>\n",
       "      <td>좋음</td>\n",
       "    </tr>\n",
       "    <tr>\n",
       "      <th>3</th>\n",
       "      <td>리뷰 더보기 접기 평점 5 4  . 신고 기사님이 전날오후에 전화주셔서 언제 설치할...</td>\n",
       "      <td>냉장고</td>\n",
       "      <td>5.0</td>\n",
       "      <td>좋음</td>\n",
       "    </tr>\n",
       "    <tr>\n",
       "      <th>4</th>\n",
       "      <td>리뷰 더보기 접기 평점 5 8  . 신고 주거형태20평대거주인원 4인대가족 한달사용...</td>\n",
       "      <td>냉장고</td>\n",
       "      <td>5.0</td>\n",
       "      <td>좋음</td>\n",
       "    </tr>\n",
       "    <tr>\n",
       "      <th>...</th>\n",
       "      <td>...</td>\n",
       "      <td>...</td>\n",
       "      <td>...</td>\n",
       "      <td>...</td>\n",
       "    </tr>\n",
       "    <tr>\n",
       "      <th>1148</th>\n",
       "      <td>평점 5  . 신고 한달사용재구매여전히 만족하면서 사용하고 있습니다 0</td>\n",
       "      <td>공기청정기</td>\n",
       "      <td>5.0</td>\n",
       "      <td>좋음</td>\n",
       "    </tr>\n",
       "    <tr>\n",
       "      <th>1149</th>\n",
       "      <td>평점 5  . 신고 한달사용숨쉬기 편해진 것 같아요 만족하면서 사용중이에요 0</td>\n",
       "      <td>공기청정기</td>\n",
       "      <td>5.0</td>\n",
       "      <td>좋음</td>\n",
       "    </tr>\n",
       "    <tr>\n",
       "      <th>1150</th>\n",
       "      <td>평점 5  . 신고 한달사용디자인 너무 마음에 들고, 확실히 국내 제조라 그런지 공...</td>\n",
       "      <td>공기청정기</td>\n",
       "      <td>5.0</td>\n",
       "      <td>좋음</td>\n",
       "    </tr>\n",
       "    <tr>\n",
       "      <th>1151</th>\n",
       "      <td>평점 5  . 신고 한달사용재구매가족이 모두 편백향에 빠졌어요 심신의 안정때문인지 ...</td>\n",
       "      <td>공기청정기</td>\n",
       "      <td>5.0</td>\n",
       "      <td>좋음</td>\n",
       "    </tr>\n",
       "    <tr>\n",
       "      <th>1152</th>\n",
       "      <td>평점 5 132  . 신고 한달사용3달째 너무 잘쓰고있어요! 내구성도 좋아요 0</td>\n",
       "      <td>공기청정기</td>\n",
       "      <td>5.0</td>\n",
       "      <td>좋음</td>\n",
       "    </tr>\n",
       "  </tbody>\n",
       "</table>\n",
       "<p>1153 rows × 4 columns</p>\n",
       "</div>"
      ],
      "text/plain": [
       "                                                 Review product_category  \\\n",
       "0     리뷰 더보기 접기 평점 5  . 신고 주거형태30평대거주인원 2인 한달사용삼성냉장고...              냉장고   \n",
       "1     리뷰 더보기 접기 평점 5  . 신고 주거형태30평대거주인원 3인영유아 가정 한달사...              냉장고   \n",
       "2     리뷰 더보기 접기 평점 5 7  . 신고 주거형태10평대거주인원 2인신혼 부부 한달...              냉장고   \n",
       "3     리뷰 더보기 접기 평점 5 4  . 신고 기사님이 전날오후에 전화주셔서 언제 설치할...              냉장고   \n",
       "4     리뷰 더보기 접기 평점 5 8  . 신고 주거형태20평대거주인원 4인대가족 한달사용...              냉장고   \n",
       "...                                                 ...              ...   \n",
       "1148            평점 5  . 신고 한달사용재구매여전히 만족하면서 사용하고 있습니다 0            공기청정기   \n",
       "1149        평점 5  . 신고 한달사용숨쉬기 편해진 것 같아요 만족하면서 사용중이에요 0            공기청정기   \n",
       "1150  평점 5  . 신고 한달사용디자인 너무 마음에 들고, 확실히 국내 제조라 그런지 공...            공기청정기   \n",
       "1151  평점 5  . 신고 한달사용재구매가족이 모두 편백향에 빠졌어요 심신의 안정때문인지 ...            공기청정기   \n",
       "1152       평점 5 132  . 신고 한달사용3달째 너무 잘쓰고있어요! 내구성도 좋아요 0            공기청정기   \n",
       "\n",
       "      score score_category  \n",
       "0       5.0             좋음  \n",
       "1       5.0             좋음  \n",
       "2       5.0             좋음  \n",
       "3       5.0             좋음  \n",
       "4       5.0             좋음  \n",
       "...     ...            ...  \n",
       "1148    5.0             좋음  \n",
       "1149    5.0             좋음  \n",
       "1150    5.0             좋음  \n",
       "1151    5.0             좋음  \n",
       "1152    5.0             좋음  \n",
       "\n",
       "[1153 rows x 4 columns]"
      ]
     },
     "execution_count": 68,
     "metadata": {},
     "output_type": "execute_result"
    }
   ],
   "source": [
    "review.reset_index(drop=True, inplace=True)\n",
    "review"
   ]
  },
  {
   "cell_type": "code",
   "execution_count": 70,
   "id": "af0cda48-1346-40c9-aa28-d347b28273cc",
   "metadata": {},
   "outputs": [
    {
     "data": {
      "text/plain": [
       "score\n",
       "5.0    1023\n",
       "4.0     104\n",
       "3.0      18\n",
       "1.0       6\n",
       "2.0       2\n",
       "Name: count, dtype: int64"
      ]
     },
     "execution_count": 70,
     "metadata": {},
     "output_type": "execute_result"
    }
   ],
   "source": [
    "review['score'].value_counts()"
   ]
  },
  {
   "cell_type": "code",
   "execution_count": 72,
   "id": "b7773006-59d2-45d9-b32f-4c653065c38c",
   "metadata": {
    "scrolled": true
   },
   "outputs": [
    {
     "data": {
      "text/plain": [
       "'리뷰 더보기 접기 평점 5  . 신고 주거형태30평대거주인원 2인 한달사용삼성냉장고. 완전. 최고최고입니다 냉동실 냉동도 완벽하게 최상이고 냉장실 또한. 1 로 설정을 해놓아도. 채소 케일.브로콜리.양배추.상추.우엉.당근.비트등등 가 아주 싱싱하고. 푸릇푸릇하게 오래. 잘. 유지가되며. 절대 얼지않아서 . 너무너무 좋고. 대만족 최상 . 최고 . 입니다. 수납칸의. 활용도와. 냉온 냉장 상태가. 가격대비. 가성비가. 매우. 우수한. 제품임을. 알려드립니다 색상도 인터넷 화면의. 색상보다. 실제 실물이 이름값답게 아주 젠틀젠틀한. 품격있는 멋진블랙입니다 허리가 불편한. 저에게는 4도어보다. 2도어가 완전. 딱맞고 막상 사용하여보니 제품 만점도는. 100점만점에. 1000점 입니다. 크게 신뢰가. 가는 평강프라자 번창번영하시고 새해복많이 받으세요. 진심으로. 너무. 좋은 제품 싸게 판매하여주셔서 정말. 감사합니다 더보기 사진 비디오 수 4 이미지 펼쳐보기 0'"
      ]
     },
     "execution_count": 72,
     "metadata": {},
     "output_type": "execute_result"
    }
   ],
   "source": [
    "review['Review'][0]"
   ]
  },
  {
   "cell_type": "code",
   "execution_count": 82,
   "id": "86e19f57-4378-457b-88da-9269003bc839",
   "metadata": {},
   "outputs": [
    {
     "data": {
      "text/plain": [
       "'리뷰 더보기 접기 평점 5  . 신고 주거형태30평대거주인원 3인영유아 가정 한달사용설치할 때 기사님들도 신속하게 친절하게 설치해주시고, 사용법도 설명해주셨어요. 스마트폰 연동되는 냉장고도 처음써보고요.. 일단 852 대용량답게 식재료가 엄청 들어갑니다. 다만 아쉬운 점은 냉장고가 안으로 들어가는 깊이감 때문에 용량이 큰 것이라 식재료를 많이 넣게되면, 안에 있는 재료들을 꺼내기 힘들더라고요. 그래서 안쪽에는 손질하지 않은 식재료 및 김치통을 보관하고 있어요. 가장 불편한 것은 계란 정리대가 없어 오른쪽 냉장 랙쪽에 보관하는데, 터지면.. 대참사.. 그래도 이 가격에 고용량 삼성 냉장고라면 구매 결정해도 될 것 같습니다. 2등급이라.. 한전에서 지원도 해주고요. 처음에 사진 달고 리뷰썼는데, 네이버 오류인지.. 사진 안올라가서 리뷰가 달렸네요. 50 만 적립되는 것인가요? 10150원 포인트 미적립 아쉽네요 더보기 사진 비디오 수 5 이미지 펼쳐보기 0'"
      ]
     },
     "execution_count": 82,
     "metadata": {},
     "output_type": "execute_result"
    }
   ],
   "source": [
    "review['Review'][1]"
   ]
  },
  {
   "cell_type": "code",
   "execution_count": null,
   "id": "d28b5ffe-1bc8-4a0a-82c3-46c91cfe78a7",
   "metadata": {},
   "outputs": [],
   "source": [
    "'냉장고', '식기세척기', '세탁기', '건조기', '에어컨', 'TV', '공기청정기'"
   ]
  },
  {
   "cell_type": "code",
   "execution_count": 74,
   "id": "a1547258-3c0c-41c5-8d08-9f319c37a56f",
   "metadata": {},
   "outputs": [
    {
     "data": {
      "text/html": [
       "<div>\n",
       "<style scoped>\n",
       "    .dataframe tbody tr th:only-of-type {\n",
       "        vertical-align: middle;\n",
       "    }\n",
       "\n",
       "    .dataframe tbody tr th {\n",
       "        vertical-align: top;\n",
       "    }\n",
       "\n",
       "    .dataframe thead th {\n",
       "        text-align: right;\n",
       "    }\n",
       "</style>\n",
       "<table border=\"1\" class=\"dataframe\">\n",
       "  <thead>\n",
       "    <tr style=\"text-align: right;\">\n",
       "      <th></th>\n",
       "      <th>Review</th>\n",
       "      <th>product_category</th>\n",
       "      <th>score</th>\n",
       "      <th>score_category</th>\n",
       "    </tr>\n",
       "  </thead>\n",
       "  <tbody>\n",
       "    <tr>\n",
       "      <th>0</th>\n",
       "      <td>리뷰 더보기 접기 평점 5  . 신고 주거형태30평대거주인원 2인 한달사용삼성냉장고...</td>\n",
       "      <td>냉장고</td>\n",
       "      <td>5.0</td>\n",
       "      <td>좋음</td>\n",
       "    </tr>\n",
       "    <tr>\n",
       "      <th>1</th>\n",
       "      <td>리뷰 더보기 접기 평점 5  . 신고 주거형태30평대거주인원 3인영유아 가정 한달사...</td>\n",
       "      <td>냉장고</td>\n",
       "      <td>5.0</td>\n",
       "      <td>좋음</td>\n",
       "    </tr>\n",
       "    <tr>\n",
       "      <th>2</th>\n",
       "      <td>리뷰 더보기 접기 평점 5 7  . 신고 주거형태10평대거주인원 2인신혼 부부 한달...</td>\n",
       "      <td>냉장고</td>\n",
       "      <td>5.0</td>\n",
       "      <td>좋음</td>\n",
       "    </tr>\n",
       "    <tr>\n",
       "      <th>3</th>\n",
       "      <td>리뷰 더보기 접기 평점 5 4  . 신고 기사님이 전날오후에 전화주셔서 언제 설치할...</td>\n",
       "      <td>냉장고</td>\n",
       "      <td>5.0</td>\n",
       "      <td>좋음</td>\n",
       "    </tr>\n",
       "    <tr>\n",
       "      <th>4</th>\n",
       "      <td>리뷰 더보기 접기 평점 5 8  . 신고 주거형태20평대거주인원 4인대가족 한달사용...</td>\n",
       "      <td>냉장고</td>\n",
       "      <td>5.0</td>\n",
       "      <td>좋음</td>\n",
       "    </tr>\n",
       "    <tr>\n",
       "      <th>...</th>\n",
       "      <td>...</td>\n",
       "      <td>...</td>\n",
       "      <td>...</td>\n",
       "      <td>...</td>\n",
       "    </tr>\n",
       "    <tr>\n",
       "      <th>143</th>\n",
       "      <td>리뷰 더보기 접기 평점 5  . 신고 주거형태30평대거주인원 2인취학자녀 가정 본가...</td>\n",
       "      <td>냉장고</td>\n",
       "      <td>5.0</td>\n",
       "      <td>좋음</td>\n",
       "    </tr>\n",
       "    <tr>\n",
       "      <th>144</th>\n",
       "      <td>리뷰 더보기 접기 평점 5  . 신고 주거형태20평대거주인원 2인신혼 부부 이보다 ...</td>\n",
       "      <td>냉장고</td>\n",
       "      <td>5.0</td>\n",
       "      <td>좋음</td>\n",
       "    </tr>\n",
       "    <tr>\n",
       "      <th>145</th>\n",
       "      <td>리뷰 더보기 접기 평점 5  . 신고 주거형태거주인원 3인취학자녀 가정 주문하고 7...</td>\n",
       "      <td>냉장고</td>\n",
       "      <td>5.0</td>\n",
       "      <td>좋음</td>\n",
       "    </tr>\n",
       "    <tr>\n",
       "      <th>146</th>\n",
       "      <td>리뷰 더보기 접기 평점 5  . 신고 주문후 4일후 받음 기사님 설치잘해주시고 기조...</td>\n",
       "      <td>냉장고</td>\n",
       "      <td>5.0</td>\n",
       "      <td>좋음</td>\n",
       "    </tr>\n",
       "    <tr>\n",
       "      <th>147</th>\n",
       "      <td>리뷰 더보기 접기 평점 5  . 신고 주거형태30평대거주인원 3인 여기저기 알아보고...</td>\n",
       "      <td>냉장고</td>\n",
       "      <td>5.0</td>\n",
       "      <td>좋음</td>\n",
       "    </tr>\n",
       "  </tbody>\n",
       "</table>\n",
       "<p>148 rows × 4 columns</p>\n",
       "</div>"
      ],
      "text/plain": [
       "                                                Review product_category  \\\n",
       "0    리뷰 더보기 접기 평점 5  . 신고 주거형태30평대거주인원 2인 한달사용삼성냉장고...              냉장고   \n",
       "1    리뷰 더보기 접기 평점 5  . 신고 주거형태30평대거주인원 3인영유아 가정 한달사...              냉장고   \n",
       "2    리뷰 더보기 접기 평점 5 7  . 신고 주거형태10평대거주인원 2인신혼 부부 한달...              냉장고   \n",
       "3    리뷰 더보기 접기 평점 5 4  . 신고 기사님이 전날오후에 전화주셔서 언제 설치할...              냉장고   \n",
       "4    리뷰 더보기 접기 평점 5 8  . 신고 주거형태20평대거주인원 4인대가족 한달사용...              냉장고   \n",
       "..                                                 ...              ...   \n",
       "143  리뷰 더보기 접기 평점 5  . 신고 주거형태30평대거주인원 2인취학자녀 가정 본가...              냉장고   \n",
       "144  리뷰 더보기 접기 평점 5  . 신고 주거형태20평대거주인원 2인신혼 부부 이보다 ...              냉장고   \n",
       "145  리뷰 더보기 접기 평점 5  . 신고 주거형태거주인원 3인취학자녀 가정 주문하고 7...              냉장고   \n",
       "146  리뷰 더보기 접기 평점 5  . 신고 주문후 4일후 받음 기사님 설치잘해주시고 기조...              냉장고   \n",
       "147  리뷰 더보기 접기 평점 5  . 신고 주거형태30평대거주인원 3인 여기저기 알아보고...              냉장고   \n",
       "\n",
       "     score score_category  \n",
       "0      5.0             좋음  \n",
       "1      5.0             좋음  \n",
       "2      5.0             좋음  \n",
       "3      5.0             좋음  \n",
       "4      5.0             좋음  \n",
       "..     ...            ...  \n",
       "143    5.0             좋음  \n",
       "144    5.0             좋음  \n",
       "145    5.0             좋음  \n",
       "146    5.0             좋음  \n",
       "147    5.0             좋음  \n",
       "\n",
       "[148 rows x 4 columns]"
      ]
     },
     "execution_count": 74,
     "metadata": {},
     "output_type": "execute_result"
    }
   ],
   "source": [
    "review[review['product_category']=='냉장고']"
   ]
  },
  {
   "cell_type": "code",
   "execution_count": 76,
   "id": "d78898da-e3d6-430f-845d-c2d76e998e9d",
   "metadata": {},
   "outputs": [
    {
     "data": {
      "text/plain": [
       "'리뷰 더보기 접기 평점 5  . 신고 주문후 4일후 받음 기사님 설치잘해주시고 기조랭장고도 잘수거해가심 87리터 대용량에 매직스페이스가 2개라 편리함 이미지 펼쳐보기 0'"
      ]
     },
     "execution_count": 76,
     "metadata": {},
     "output_type": "execute_result"
    }
   ],
   "source": [
    "review['Review'][146]"
   ]
  },
  {
   "cell_type": "code",
   "execution_count": 78,
   "id": "a2832e1b-85ba-472f-bba1-d39fee738c7b",
   "metadata": {},
   "outputs": [
    {
     "data": {
      "text/plain": [
       "'리뷰 더보기 접기 평점 5  . 신고 주거형태20평대거주인원 2인신혼 부부 이보다 만족할 수 없어요 이미지 펼쳐보기 0'"
      ]
     },
     "execution_count": 78,
     "metadata": {},
     "output_type": "execute_result"
    }
   ],
   "source": [
    "review['Review'][144]"
   ]
  },
  {
   "cell_type": "code",
   "execution_count": null,
   "id": "807b9835-d4fb-4b6b-bee6-32b5037e7ee8",
   "metadata": {},
   "outputs": [],
   "source": []
  },
  {
   "cell_type": "code",
   "execution_count": 80,
   "id": "6f2eb0f5-0188-48e8-a78a-d76bee8e37f1",
   "metadata": {},
   "outputs": [
    {
     "name": "stdout",
     "output_type": "stream",
     "text": [
      "[]\n"
     ]
    }
   ],
   "source": [
    "import re\n",
    "pattern = r'주거형태+\\d+평'\n",
    "\n",
    "# 결과를 저장할 리스트\n",
    "result = []\n",
    "\n",
    "# 리스트에서 각 항목에 대해 \"평\"이 포함된 부분을 찾아 추출\n",
    "for item in review:\n",
    "    matches = re.findall(pattern, item)\n",
    "    result.extend(matches)\n",
    "\n",
    "# 결과 출력\n",
    "print(result)"
   ]
  },
  {
   "cell_type": "code",
   "execution_count": 65,
   "id": "8f2eef44-a473-45fe-a036-f431c85d2fd8",
   "metadata": {},
   "outputs": [
    {
     "data": {
      "text/plain": [
       "0       리뷰 더보기 접기 평점 5  . 신고 주거형태30평대거주인원 2인 한달사용삼성냉장고...\n",
       "3       리뷰 더보기 접기 평점 5  . 신고 주거형태30평대거주인원 3인영유아 가정 한달사...\n",
       "5       리뷰 더보기 접기 평점 5 7  . 신고 주거형태10평대거주인원 2인신혼 부부 한달...\n",
       "7       리뷰 더보기 접기 평점 5 4  . 신고 기사님이 전날오후에 전화주셔서 언제 설치할...\n",
       "9       리뷰 더보기 접기 평점 5 8  . 신고 주거형태20평대거주인원 4인대가족 한달사용...\n",
       "                              ...                        \n",
       "1468              평점 5  . 신고 한달사용재구매여전히 만족하면서 사용하고 있습니다 0\n",
       "1469          평점 5  . 신고 한달사용숨쉬기 편해진 것 같아요 만족하면서 사용중이에요 0\n",
       "1470    평점 5  . 신고 한달사용디자인 너무 마음에 들고, 확실히 국내 제조라 그런지 공...\n",
       "1471    평점 5  . 신고 한달사용재구매가족이 모두 편백향에 빠졌어요 심신의 안정때문인지 ...\n",
       "1472         평점 5 132  . 신고 한달사용3달째 너무 잘쓰고있어요! 내구성도 좋아요 0\n",
       "Name: Review, Length: 1153, dtype: object"
      ]
     },
     "execution_count": 65,
     "metadata": {},
     "output_type": "execute_result"
    }
   ],
   "source": [
    "review['Review']"
   ]
  },
  {
   "cell_type": "code",
   "execution_count": null,
   "id": "06a23c2a-f783-4bb6-ad85-2ecc035f9581",
   "metadata": {},
   "outputs": [],
   "source": []
  }
 ],
 "metadata": {
  "kernelspec": {
   "display_name": "Python [conda env:base] *",
   "language": "python",
   "name": "conda-base-py"
  },
  "language_info": {
   "codemirror_mode": {
    "name": "ipython",
    "version": 3
   },
   "file_extension": ".py",
   "mimetype": "text/x-python",
   "name": "python",
   "nbconvert_exporter": "python",
   "pygments_lexer": "ipython3",
   "version": "3.12.7"
  }
 },
 "nbformat": 4,
 "nbformat_minor": 5
}
