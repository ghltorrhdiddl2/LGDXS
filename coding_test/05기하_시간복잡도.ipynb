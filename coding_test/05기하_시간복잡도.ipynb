{
 "cells": [
  {
   "cell_type": "code",
   "execution_count": 3,
   "id": "6157a1e1-a685-4f4d-8594-31f964ff3de3",
   "metadata": {},
   "outputs": [
    {
     "name": "stdin",
     "output_type": "stream",
     "text": [
      " 4\n",
      " 4\n"
     ]
    },
    {
     "name": "stdout",
     "output_type": "stream",
     "text": [
      "16\n"
     ]
    }
   ],
   "source": [
    "# 27323\n",
    "a = int(input())\n",
    "b = int(input())\n",
    "print(a*b)"
   ]
  },
  {
   "cell_type": "code",
   "execution_count": 23,
   "id": "3353bc38-12c6-459b-b716-9d91d06707be",
   "metadata": {},
   "outputs": [
    {
     "name": "stdin",
     "output_type": "stream",
     "text": [
      " 653 375 1000 1000\n"
     ]
    },
    {
     "name": "stdout",
     "output_type": "stream",
     "text": [
      "347\n"
     ]
    }
   ],
   "source": [
    "# 1085\n",
    "# 왼쪽 아래 꼭짓점은 (0, 0), 오른쪽 위 꼭짓점은 (w, h)\n",
    "x, y, w, h = map(int, input().split())\n",
    "# x꼭짓점 = 0,x,w\n",
    "# y꼭짓접 = 0,y,h\n",
    "\n",
    "x=x if x < w-x else w-x\n",
    "y=y if y < h-y else h-y\n",
    "\n",
    "print(x) if x<y else print(y)"
   ]
  },
  {
   "cell_type": "code",
   "execution_count": 11,
   "id": "86c0e283-740c-4cf7-8976-b78fe587e5cb",
   "metadata": {},
   "outputs": [
    {
     "name": "stdin",
     "output_type": "stream",
     "text": [
      " 5 5\n",
      " 5 7\n",
      " 7 5\n"
     ]
    },
    {
     "name": "stdout",
     "output_type": "stream",
     "text": [
      "7 7 "
     ]
    }
   ],
   "source": [
    "# 3009\n",
    "# 직사각형의 네 번째 점의 좌표를 출력\n",
    "# x 좌표들: 5, 5, 7\n",
    "# y 좌표들: 5, 7, 5\n",
    "from collections import Counter \n",
    "x_arr = []; y_arr=[]\n",
    "for _ in range(3):\n",
    "    x, y = map(int, input().split())\n",
    "    x_arr.append(x)\n",
    "    y_arr.append(y)\n",
    "\n",
    "X_arr = dict(Counter(x_arr))\n",
    "Y_arr = dict(Counter(y_arr))\n",
    "for k,v in X_arr.items():\n",
    "    if v%2!=0:\n",
    "        print(k,end=' ')\n",
    "\n",
    "for k,v in Y_arr.items():\n",
    "    if v%2!=0:\n",
    "        print(k,end=' ')"
   ]
  },
  {
   "cell_type": "code",
   "execution_count": null,
   "id": "2b58892d-9d6e-4346-b227-012e2ed2b4f3",
   "metadata": {},
   "outputs": [],
   "source": [
    "# 15894\n",
    "n = int(input())\n",
    "print(4*n)"
   ]
  },
  {
   "cell_type": "code",
   "execution_count": 25,
   "id": "920a9780-34e9-438b-ad40-906ea36e36f4",
   "metadata": {},
   "outputs": [
    {
     "name": "stdin",
     "output_type": "stream",
     "text": [
      " 4\n",
      " 2 1\n",
      " 3 2\n",
      " 5 2\n",
      " 3 4\n"
     ]
    },
    {
     "name": "stdout",
     "output_type": "stream",
     "text": [
      "9\n"
     ]
    }
   ],
   "source": [
    "#9063\n",
    "# N 개의 점을 둘러싸는 최소 크기의 직사각형의 넓이\n",
    "n = int(input())\n",
    "x_arr, y_arr = [],[]\n",
    "for _ in range(n):\n",
    "    x, y = map(int, input().split())\n",
    "    x_arr.append(x)\n",
    "    y_arr.append(y)\n",
    "print((max(x_arr)-min(x_arr))*(max(y_arr)-min(y_arr)))"
   ]
  },
  {
   "cell_type": "code",
   "execution_count": 35,
   "id": "dac652f6-5b59-4dc3-a6ce-68e7a60151f6",
   "metadata": {},
   "outputs": [
    {
     "name": "stdin",
     "output_type": "stream",
     "text": [
      " 60\n",
      " 70\n",
      " 50\n"
     ]
    },
    {
     "name": "stdout",
     "output_type": "stream",
     "text": [
      "Scalene\n"
     ]
    }
   ],
   "source": [
    "# 10101\n",
    "arr = []\n",
    "for i in range(3):\n",
    "    a = int(input())\n",
    "    arr.append(a)\n",
    "if sum(arr)==180 and len(set(arr))==1:\n",
    "    print('Equilateral')\n",
    "elif sum(arr)==180 and len(set(arr))==2:\n",
    "    print('Isosceles')\n",
    "elif sum(arr)==180 and len(set(arr))==3:\n",
    "    print('Scalene')\n",
    "elif sum(arr)!=180:\n",
    "    print('Error')"
   ]
  },
  {
   "cell_type": "code",
   "execution_count": 26,
   "id": "27efe633-2c81-43c7-9a22-6ea9fd325a0c",
   "metadata": {},
   "outputs": [
    {
     "name": "stdin",
     "output_type": "stream",
     "text": [
      " 7 7 7\n"
     ]
    },
    {
     "name": "stdout",
     "output_type": "stream",
     "text": [
      "[7, 7, 7]\n",
      "Equilateral\n"
     ]
    },
    {
     "name": "stdin",
     "output_type": "stream",
     "text": [
      " 6 5 4\n"
     ]
    },
    {
     "name": "stdout",
     "output_type": "stream",
     "text": [
      "[4, 5, 6]\n",
      "Scalene\n"
     ]
    },
    {
     "name": "stdin",
     "output_type": "stream",
     "text": [
      " 3 2 5\n"
     ]
    },
    {
     "name": "stdout",
     "output_type": "stream",
     "text": [
      "[2, 3, 5]\n",
      "Invalid\n"
     ]
    },
    {
     "name": "stdin",
     "output_type": "stream",
     "text": [
      " 0 0 0\n"
     ]
    }
   ],
   "source": [
    "# 5073\n",
    "# 가장 긴 변의 길이보다 나머지 두 변의 길이의 합이 길지 않으면 삼각형의 조건을 만족하지 못한다 a<b+c\n",
    "while True:\n",
    "    for _ in range(3):\n",
    "        arr = []\n",
    "        a,b,c = map(int,input().split())\n",
    "        if a==0:\n",
    "            break\n",
    "        arr.extend([a,b,c])\n",
    "        arr.sort()\n",
    "        print(arr)\n",
    "        if arr[2]>=arr[0]+arr[1]:\n",
    "            print('Invalid')\n",
    "        else:\n",
    "            if len(set(arr))==1:\n",
    "                print('Equilateral')\n",
    "            elif len(set(arr))==2:\n",
    "                print('Isosceles')\n",
    "            else:\n",
    "                print('Scalene')\n",
    "    if a==0:\n",
    "        break"
   ]
  },
  {
   "cell_type": "code",
   "execution_count": 54,
   "id": "cc022017-7c2c-4656-978b-b334f5c0f394",
   "metadata": {},
   "outputs": [
    {
     "name": "stdin",
     "output_type": "stream",
     "text": [
      " 41 64 16\n"
     ]
    },
    {
     "name": "stdout",
     "output_type": "stream",
     "text": [
      "113\n"
     ]
    }
   ],
   "source": [
    "# 14215\n",
    "# a, b, c가 주어졌을 때, 만들 수 있는 가장 큰 둘레\n",
    "# 각 막대의 길이를 마음대로 줄일 수 있다\n",
    "arr = []\n",
    "a,b,c = map(int, input().split())\n",
    "arr.extend([a,b,c])\n",
    "arr.sort()\n",
    "if arr[2]>=arr[0]+arr[1]:\n",
    "    arr[2]=arr[0]+arr[1]-1\n",
    "print(sum(arr))"
   ]
  },
  {
   "cell_type": "code",
   "execution_count": 58,
   "id": "4d3a1470-fe16-42cb-a35b-38b6474e74d8",
   "metadata": {},
   "outputs": [
    {
     "name": "stdout",
     "output_type": "stream",
     "text": [
      "1\n",
      "0\n"
     ]
    }
   ],
   "source": [
    "# 24262\n",
    "print(1)\n",
    "print(0)"
   ]
  },
  {
   "cell_type": "code",
   "execution_count": 3,
   "id": "ce6cb240-51e5-434b-b5dd-878bafc26863",
   "metadata": {},
   "outputs": [
    {
     "name": "stdin",
     "output_type": "stream",
     "text": [
      " 7\n"
     ]
    },
    {
     "name": "stdout",
     "output_type": "stream",
     "text": [
      "7\n",
      "1\n"
     ]
    }
   ],
   "source": [
    "# 24263\n",
    "print(int(input()))\n",
    "print(1)"
   ]
  },
  {
   "cell_type": "code",
   "execution_count": 5,
   "id": "a0c1b742-dbff-4dce-b7dd-ecd2be677716",
   "metadata": {},
   "outputs": [
    {
     "name": "stdin",
     "output_type": "stream",
     "text": [
      " 7\n"
     ]
    },
    {
     "name": "stdout",
     "output_type": "stream",
     "text": [
      "49\n",
      "2\n"
     ]
    }
   ],
   "source": [
    "# 24264\n",
    "print(int(input())**2)\n",
    "print(2)"
   ]
  },
  {
   "cell_type": "code",
   "execution_count": null,
   "id": "4fb93e73-a298-4ba2-868b-480d9ea5260c",
   "metadata": {},
   "outputs": [],
   "source": [
    "# 24265\n",
    "#틀림\n",
    "print(int(input()*3))\n",
    "print(2)"
   ]
  },
  {
   "cell_type": "code",
   "execution_count": 11,
   "id": "a3590003-f8fb-4a7b-9432-e3f0aa080916",
   "metadata": {},
   "outputs": [
    {
     "name": "stdin",
     "output_type": "stream",
     "text": [
      " 7\n"
     ]
    },
    {
     "name": "stdout",
     "output_type": "stream",
     "text": [
      "21\n",
      "2\n"
     ]
    }
   ],
   "source": [
    "# 24265\n",
    "n = int(input())\n",
    "print(int((n-1)*n/2))\n",
    "print(2)"
   ]
  },
  {
   "cell_type": "code",
   "execution_count": 15,
   "id": "689c573e-5c89-4e1f-bbd5-3cad6c2befa2",
   "metadata": {},
   "outputs": [
    {
     "name": "stdin",
     "output_type": "stream",
     "text": [
      " 7\n"
     ]
    },
    {
     "name": "stdout",
     "output_type": "stream",
     "text": [
      "343\n",
      "3\n"
     ]
    }
   ],
   "source": [
    "# 24266\n",
    "print(int(input())**3)\n",
    "print(3)"
   ]
  },
  {
   "cell_type": "code",
   "execution_count": 29,
   "id": "ce8ccdca-62f2-4e5e-92b2-d229be5981d2",
   "metadata": {},
   "outputs": [
    {
     "name": "stdin",
     "output_type": "stream",
     "text": [
      " 7\n"
     ]
    },
    {
     "name": "stdout",
     "output_type": "stream",
     "text": [
      "35\n",
      "3\n"
     ]
    },
    {
     "name": "stdin",
     "output_type": "stream",
     "text": [
      " 7\n"
     ]
    },
    {
     "name": "stdout",
     "output_type": "stream",
     "text": [
      "35\n",
      "3\n"
     ]
    }
   ],
   "source": [
    "# 24267 ==> 뭔소리인지 모르겠음\n",
    "\n",
    "# i 1\n",
    "# j 2\n",
    "# k 3~7\n",
    "\n",
    "# 123, 124,125,126,127, 134\n",
    "\n",
    "# nC3 = (n)(n-1)(n-2)/6\n",
    "\n",
    "n = int(input())\n",
    "print(int(n*(n-1)*(n-2)/6))\n",
    "print(3)\n",
    "\n",
    "# 다른 사람 코드\n",
    "n = int(input())\n",
    "print(n*(n-1)*(n-2)//6)\n",
    "print(3)"
   ]
  }
 ],
 "metadata": {
  "kernelspec": {
   "display_name": "Python [conda env:base] *",
   "language": "python",
   "name": "conda-base-py"
  },
  "language_info": {
   "codemirror_mode": {
    "name": "ipython",
    "version": 3
   },
   "file_extension": ".py",
   "mimetype": "text/x-python",
   "name": "python",
   "nbconvert_exporter": "python",
   "pygments_lexer": "ipython3",
   "version": "3.12.7"
  }
 },
 "nbformat": 4,
 "nbformat_minor": 5
}
