{
 "cells": [
  {
   "cell_type": "code",
   "execution_count": 15,
   "id": "0555844a-336e-4fc7-b297-f0d8da63ed84",
   "metadata": {},
   "outputs": [
    {
     "name": "stdout",
     "output_type": "stream",
     "text": [
      "         ,r'\"7\n",
      "r`-_   ,'  ,/\n",
      " \\. \". L_r'\n",
      "   `~\\/\n",
      "      |\n",
      "      |\n"
     ]
    },
    {
     "name": "stderr",
     "output_type": "stream",
     "text": [
      "<>:4: SyntaxWarning: invalid escape sequence '\\.'\n",
      "<>:5: SyntaxWarning: invalid escape sequence '\\/'\n",
      "<>:4: SyntaxWarning: invalid escape sequence '\\.'\n",
      "<>:5: SyntaxWarning: invalid escape sequence '\\/'\n",
      "C:\\Users\\lgdxschool2\\AppData\\Local\\Temp\\ipykernel_15248\\2303049181.py:4: SyntaxWarning: invalid escape sequence '\\.'\n",
      "  print(' \\. \"'\". L_r'\")\n",
      "C:\\Users\\lgdxschool2\\AppData\\Local\\Temp\\ipykernel_15248\\2303049181.py:5: SyntaxWarning: invalid escape sequence '\\/'\n",
      "  print('   `~\\/')\n"
     ]
    }
   ],
   "source": [
    "# 25083\n",
    "print(\"         ,r'\"'\"7')\n",
    "print(\"r`-_   ,'  ,/\")\n",
    "print(' \\. \"'\". L_r'\")\n",
    "print('   `~\\/')\n",
    "print('      |')\n",
    "print('      |')"
   ]
  },
  {
   "cell_type": "code",
   "execution_count": 27,
   "id": "7a4d4df1-3578-4d13-b30a-f590b798cc7e",
   "metadata": {},
   "outputs": [
    {
     "name": "stdin",
     "output_type": "stream",
     "text": [
      " 2 1 2 1 2 1\n"
     ]
    },
    {
     "name": "stdout",
     "output_type": "stream",
     "text": [
      "-1 0 0 1 0 7 "
     ]
    }
   ],
   "source": [
    "# 3003\n",
    "# 체스는 총 16개의 피스를 사용하며, \n",
    "# 킹 1개, 퀸 1개, 룩 2개, 비숍 2개, 나이트 2개, 폰 8개로 구성\n",
    "# 킹,     퀸,     룩,     비숍,     나이트,     폰 순서\n",
    "coll = [1,1,2,2,2,8]\n",
    "n = map(int, input().split())\n",
    "n_list = list(n)\n",
    "for i in range(len(coll)):\n",
    "    print(coll[i]-n_list[i], end=' ')"
   ]
  },
  {
   "cell_type": "code",
   "execution_count": 72,
   "id": "92a5ad78-3d03-4af5-81ee-d14e7219f6f3",
   "metadata": {},
   "outputs": [
    {
     "name": "stdin",
     "output_type": "stream",
     "text": [
      " 5\n"
     ]
    },
    {
     "name": "stdout",
     "output_type": "stream",
     "text": [
      "    *\n",
      "   ***\n",
      "  *****\n",
      " *******\n",
      "*********\n",
      " *******\n",
      "  *****\n",
      "   ***\n",
      "    *\n"
     ]
    }
   ],
   "source": [
    "# 2444\n",
    "# 1,3,5,7,9\n",
    "# 1,2,3,4,5\n",
    "# 4,3,2,1,0\n",
    "n = int(input())\n",
    "for i in range(1,n):\n",
    "    print(' '*(n-i)+'*'*(2*i-1))\n",
    "\n",
    "for i in range(n,0,-1):\n",
    "    print(' '*(n-i)+'*'*(2*i-1))"
   ]
  },
  {
   "cell_type": "code",
   "execution_count": 90,
   "id": "42317aa3-38e6-4ee0-85f6-01ca34438817",
   "metadata": {},
   "outputs": [
    {
     "name": "stdin",
     "output_type": "stream",
     "text": [
      " baekjoon\n"
     ]
    },
    {
     "name": "stdout",
     "output_type": "stream",
     "text": [
      "0\n"
     ]
    }
   ],
   "source": [
    "# 10988\n",
    "s = input()\n",
    "print(1) if s == s[::-1] else print(0)"
   ]
  },
  {
   "cell_type": "code",
   "execution_count": 15,
   "id": "e13dbb92-731b-4cbe-999b-7ac269d8a3a5",
   "metadata": {},
   "outputs": [
    {
     "name": "stdin",
     "output_type": "stream",
     "text": [
      " ljes=njak\n"
     ]
    },
    {
     "name": "stdout",
     "output_type": "stream",
     "text": [
      "6\n"
     ]
    }
   ],
   "source": [
    "# 2941\n",
    "cro = ['c=','c-','dz=','d-','lj','nj','s=','z=']\n",
    "s = input()\n",
    "for i in cro:\n",
    "    s = s.replace(i,'*')\n",
    "print(len(s))"
   ]
  },
  {
   "cell_type": "code",
   "execution_count": 61,
   "id": "05a6c2b5-fb1c-43ad-bb4f-814a1dbbbca0",
   "metadata": {},
   "outputs": [
    {
     "name": "stdin",
     "output_type": "stream",
     "text": [
      " 4\n",
      " aba\n",
      " abab\n",
      " abcabc\n",
      " a\n"
     ]
    },
    {
     "name": "stdout",
     "output_type": "stream",
     "text": [
      "1\n"
     ]
    }
   ],
   "source": [
    "# 1316\n",
    "n = int(input())\n",
    "cnt = n\n",
    "\n",
    "for _ in range(n):\n",
    "    word = input()\n",
    "    for i in range(len(word)-1):\n",
    "        if word[i] == word[i+1]:\n",
    "            pass\n",
    "        elif word[i] in word[i+1:]:\n",
    "            cnt -= 1\n",
    "            break\n",
    "\n",
    "print(cnt)"
   ]
  },
  {
   "cell_type": "code",
   "execution_count": 97,
   "id": "1c4c72f2-c712-4be0-b10b-7a501d8493f1",
   "metadata": {},
   "outputs": [
    {
     "name": "stdin",
     "output_type": "stream",
     "text": [
      " ObjectOrientedProgramming1 3.0 A+\n",
      " IntroductiontoComputerEngineering 3.0 A+\n",
      " ObjectOrientedProgramming2 3.0 A0\n"
     ]
    },
    {
     "name": "stdout",
     "output_type": "stream",
     "text": [
      "['ObjectOrientedProgramming1', 3.0, 4.5, 'IntroductiontoComputerEngineering', 3.0, 4.5, 'ObjectOrientedProgramming2', 3.0, 4.0]\n",
      "4.333333333333333\n"
     ]
    }
   ],
   "source": [
    "# 25206\n",
    "# 전공평점 계산\n",
    "# P/F과목 -> P이면 계산에서 제외시킴\n",
    "arr = []; sum1 = 0; sum2 = 0  # 전공과목별 (학점 × 과목평점)의 합을 학점의 총합으로 나눈 값\n",
    "grade = {'A+':4.5,'A0':4.0,'B+':3.5,'B0':3.0,'C+':2.5,'C0':2.0,'D+':1.5,'D0':1.0,'F':0.0}\n",
    "for _ in range(20):\n",
    "    a, b, c = map(str, input().split())\n",
    "    b = float(b)\n",
    "\n",
    "    if c == 'P':\n",
    "        continue\n",
    "    c = grade[c]\n",
    "    arr.extend([a, b, c])\n",
    "    sum1 += b*c\n",
    "    sum2 += b\n",
    "\n",
    "# print(arr)\n",
    "print(sum1/sum2)"
   ]
  },
  {
   "cell_type": "code",
   "execution_count": 127,
   "id": "b450c8b2-5403-4f8f-8877-be80282a86f3",
   "metadata": {},
   "outputs": [
    {
     "name": "stdin",
     "output_type": "stream",
     "text": [
      " 3 3\n",
      " 1 1 1\n",
      " 2 2 2\n",
      " 0 1 0\n",
      " 3 3 3\n",
      " 4 4 4\n",
      " 5 5 100\n"
     ]
    },
    {
     "name": "stdout",
     "output_type": "stream",
     "text": [
      "4 4 4\n",
      "6 6 6\n",
      "5 6 100\n"
     ]
    }
   ],
   "source": [
    "# 2738\n",
    "# N개의 줄에 행렬 A의 원소 M개\n",
    "n, m = map(int, input().split())\n",
    "arr = []; arr2 = []\n",
    "for i in range(n*2):\n",
    "    a, b, c = map(int, input().split())\n",
    "    arr.extend([a,b,c])\n",
    "\n",
    "for j in range(n*m):\n",
    "    arr2.append(arr[j]+arr[j+n*m])\n",
    "\n",
    "for k in range(0, n*m, m):\n",
    "    print(*arr2[k:k+3])\n",
    "\n",
    "#==> 런타임 에러"
   ]
  },
  {
   "cell_type": "code",
   "execution_count": 171,
   "id": "a375dc96-ca76-4a7e-96ad-ea1d24bb23dd",
   "metadata": {},
   "outputs": [
    {
     "name": "stdin",
     "output_type": "stream",
     "text": [
      " 3 3\n",
      " 1 1 1\n",
      " 2 2 2\n",
      " 0 1 0\n",
      " 3 3 3\n",
      " 4 4 4\n",
      " 5 5 100\n"
     ]
    },
    {
     "name": "stdout",
     "output_type": "stream",
     "text": [
      "4 4 4\n",
      "6 6 6\n",
      "5 6 100\n"
     ]
    }
   ],
   "source": [
    "# 2738\n",
    "# N개의 줄에 행렬 A의 원소 M개\n",
    "n, m = map(int, input().split())\n",
    "arr = [list(map(int, input().split())) for _ in range(n * 2)]\n",
    "\n",
    "add_list = [arr[i][j] + arr[i + n][j] for i in range(n) for j in range(m)]\n",
    "\n",
    "for k in range(0, n * m, 3):\n",
    "    print(*add_list[k:k + 3])"
   ]
  },
  {
   "cell_type": "code",
   "execution_count": 241,
   "id": "460c88f5-9e8c-4854-8bf0-79764db59753",
   "metadata": {},
   "outputs": [
    {
     "name": "stdin",
     "output_type": "stream",
     "text": [
      " 3 23 85 34 17 74 25 52 65\n",
      " 10 7 39 42 88 52 14 72 63\n",
      " 87 42 18 78 53 45 18 84 53\n",
      " 34 28 64 85 12 16 75 36 55\n",
      " 21 77 45 35 28 75 90 76 1\n",
      " 25 87 65 15 28 11 37 28 74\n",
      " 65 27 75 41 7 89 78 64 39\n",
      " 47 47 70 45 23 65 3 41 44\n",
      " 87 13 82 38 31 12 29 29 80\n"
     ]
    },
    {
     "name": "stdout",
     "output_type": "stream",
     "text": [
      "90\n",
      "5 7\n"
     ]
    }
   ],
   "source": [
    "# 2566\n",
    "# 최댓값을 찾고 그 최댓값이 몇 행 몇 열에 위치한 수인지 구하는 프로그램 (9*9)\n",
    "arr = []; max_num = 0; row = 0\n",
    "arr = [list(map(int, input().split())) for _ in range(9)]\n",
    "# print(arr)\n",
    "arr_rank = []\n",
    "for i in range(9):\n",
    "    arr_rank.append(max(arr[i]))\n",
    "\n",
    "# print(arr_rank)\n",
    "max_num = max(arr_rank)\n",
    "print(max_num)\n",
    "\n",
    "row = arr_rank.index(max_num)\n",
    "print(row+1, arr[row].index(max_num)+1)"
   ]
  },
  {
   "cell_type": "code",
   "execution_count": 9,
   "id": "c2d08012-8116-4e47-aa5b-8463a792c439",
   "metadata": {},
   "outputs": [
    {
     "name": "stdin",
     "output_type": "stream",
     "text": [
      " AABCDD\n",
      " afzz\n",
      " 09121\n",
      " a8EWg6\n",
      " P5h3kx\n"
     ]
    },
    {
     "name": "stdout",
     "output_type": "stream",
     "text": [
      "Aa0aPAf985Bz1EhCz2W3D1gkD6x\n"
     ]
    }
   ],
   "source": [
    "# 10798\n",
    "arr = []; word = ''\n",
    "for _ in range(5):\n",
    "    arr.append(input())\n",
    "    \n",
    "for j in range(15):\n",
    "    for i in range(15):\n",
    "        try:\n",
    "            word += arr[i][j]\n",
    "        except: continue\n",
    "            \n",
    "print(word)"
   ]
  },
  {
   "attachments": {
    "b50356ce-a6e5-44fc-bf9e-bd20d3dea89a.png": {
     "image/png": "[encoded data removed]"
    }
   },
   "cell_type": "markdown",
   "id": "30439370-7208-469f-a44f-2bc3f4e0ec3f",
   "metadata": {},
   "source": [
    "> 2563\n",
    "![image.png](attachment:b50356ce-a6e5-44fc-bf9e-bd20d3dea89a.png)"
   ]
  },
  {
   "cell_type": "markdown",
   "id": "338804d9-b15e-419c-b482-07ae3bcf26a5",
   "metadata": {},
   "source": [
    "#### 틀린 코드"
   ]
  },
  {
   "cell_type": "code",
   "execution_count": 17,
   "id": "2aef0336-7ecd-4dfa-ac33-773411cdacbd",
   "metadata": {},
   "outputs": [
    {
     "name": "stdin",
     "output_type": "stream",
     "text": [
      " 3\n",
      " 3 7\n",
      " 15 7\n",
      " 5 2\n"
     ]
    },
    {
     "name": "stdout",
     "output_type": "stream",
     "text": [
      "260\n"
     ]
    }
   ],
   "source": [
    "# 2563\n",
    "# 가로, 세로의 크기가 각각 10인 정사각형 모양의 검은색 색종이\n",
    "n = int(input()); area = 100*n\n",
    "w=[];h=[]\n",
    "arr1 = []; arr2=[]\n",
    "\n",
    "for i in range(n):\n",
    "    a, b = map(int, input().split())\n",
    "    arr1.append(a)\n",
    "    arr2.append(b)\n",
    "arr1.sort()\n",
    "arr2.sort()\n",
    "for i in range(n-1):\n",
    "    for j in range(n-1):\n",
    "        if abs(arr1[i]-arr1[j+1])<10 and (arr1[i]-arr1[j+1])!=0:\n",
    "            w.append(arr1[i]+10 - arr1[j+1])\n",
    "        if abs(arr2[i]-arr2[j+1])<10 and (arr2[i]-arr2[j+1])!=0:\n",
    "            h.append(arr2[i]+10 - arr2[j+1])\n",
    "\n",
    "for i in range(len(w)):\n",
    "    area -= w[i]*h[i]\n",
    "\n",
    "# print(arr1)\n",
    "# print(arr2)\n",
    "# print('가로',w, '\\t세로',h)\n",
    "print(area)"
   ]
  },
  {
   "cell_type": "code",
   "execution_count": 15,
   "id": "9884ce43-6155-49b4-a4dc-b3ffc653b274",
   "metadata": {},
   "outputs": [
    {
     "name": "stdin",
     "output_type": "stream",
     "text": [
      " 3\n",
      " 3 7\n",
      " 15 7\n",
      " 5 2\n"
     ]
    },
    {
     "name": "stdout",
     "output_type": "stream",
     "text": [
      "260\n"
     ]
    }
   ],
   "source": [
    "# 2563\n",
    "# 가로, 세로의 크기가 각각 10인 정사각형 모양의 검은색 색종이\n",
    "\n",
    "n = int(input())\n",
    "paper = [[0 for _ in range(100)] for _ in range(100)] # 2차원 색종이 면적 100*100에 0 입력(초기화)\n",
    "\n",
    "for _ in range(n):\n",
    "    x,y = map(int, input().split())\n",
    "    for xx in range(x,x+10):\n",
    "        for yy in range(y,y+10):\n",
    "            if xx>=100 or yy>=100:\n",
    "                break\n",
    "            paper[xx][yy]=1\n",
    "sum = 0\n",
    "for row in range(100):\n",
    "    sum += paper[row].count(1)\n",
    "\n",
    "print(sum)"
   ]
  },
  {
   "cell_type": "markdown",
   "id": "89076e57-14f5-4046-bf76-51322dbdbde7",
   "metadata": {},
   "source": [
    "- 참고 사이트 : https://ymg5218.tistory.com/11"
   ]
  }
 ],
 "metadata": {
  "kernelspec": {
   "display_name": "Python [conda env:base] *",
   "language": "python",
   "name": "conda-base-py"
  },
  "language_info": {
   "codemirror_mode": {
    "name": "ipython",
    "version": 3
   },
   "file_extension": ".py",
   "mimetype": "text/x-python",
   "name": "python",
   "nbconvert_exporter": "python",
   "pygments_lexer": "ipython3",
   "version": "3.12.7"
  }
 },
 "nbformat": 4,
 "nbformat_minor": 5
}
