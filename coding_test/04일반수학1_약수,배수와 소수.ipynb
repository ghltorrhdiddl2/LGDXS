{
 "cells": [
  {
   "cell_type": "code",
   "execution_count": 47,
   "id": "4589ae47-32c0-4eee-8c84-22b8675e06e6",
   "metadata": {},
   "outputs": [
    {
     "name": "stdin",
     "output_type": "stream",
     "text": [
      " ZZZZZ 36\n"
     ]
    },
    {
     "name": "stdout",
     "output_type": "stream",
     "text": [
      "4\n",
      "3\n",
      "2\n",
      "1\n",
      "0\n",
      "60466175\n"
     ]
    }
   ],
   "source": [
    "# 2745\n",
    "# B진법 수 N이 주어진다. 이 수를 10진법으로 바꿔 출력\n",
    "# A: 10, B: 11, ..., F: 15, ..., Y: 34, Z: 35\n",
    "# 12×36^2 + 11×36^1 + 3×36^0 \n",
    "\n",
    "n, b = map(str, input().split())\n",
    "b = int(b)\n",
    "\n",
    "alphaList = [chr(c) for c in range(ord('A'), ord('Z')+1)]\n",
    "sum = 0\n",
    "for i in range(len(n)-1,-1,-1):\n",
    "    print(i)\n",
    "    sum += (alphaList.index(n[i])+10)*(b**i)\n",
    "\n",
    "print(sum)"
   ]
  },
  {
   "cell_type": "code",
   "execution_count": 59,
   "id": "e3c15389-f024-4a88-ad2b-483fd43c705c",
   "metadata": {},
   "outputs": [
    {
     "name": "stdin",
     "output_type": "stream",
     "text": [
      " ZZZA3 36\n"
     ]
    },
    {
     "name": "stdout",
     "output_type": "stream",
     "text": [
      "0 3\n",
      "1 A\n",
      "2 Z\n",
      "3 Z\n",
      "4 Z\n",
      "60465243\n"
     ]
    }
   ],
   "source": [
    "n, b = input().split()\n",
    "b = int(b) # 진수\n",
    "\n",
    "sum = 0\n",
    "for i, char in enumerate(reversed(n)):\n",
    "    print(i,char)\n",
    "    try:\n",
    "        sum += int(char)*(b**i)\n",
    "    except:\n",
    "        sum += (ord(char) - ord('A') + 10) * (b ** i)\n",
    "\n",
    "print(sum)"
   ]
  },
  {
   "cell_type": "code",
   "execution_count": 71,
   "id": "2af02185-4ba9-484b-9804-6c6b0975977a",
   "metadata": {},
   "outputs": [
    {
     "name": "stdin",
     "output_type": "stream",
     "text": [
      " ZZZA3 36\n"
     ]
    },
    {
     "name": "stdout",
     "output_type": "stream",
     "text": [
      "60465243\n"
     ]
    }
   ],
   "source": [
    "a,b=input().split()\n",
    "print(int(a,int(b))) "
   ]
  },
  {
   "cell_type": "markdown",
   "id": "b9e272d4-3d76-4e4a-b212-7bb7988f0bff",
   "metadata": {},
   "source": [
    "### 파이썬에서는 진법 변환 int() 기능을 지원한다!!"
   ]
  },
  {
   "cell_type": "code",
   "execution_count": 83,
   "id": "ab82f14c-b4e3-45e5-abd1-2625a4b25213",
   "metadata": {},
   "outputs": [
    {
     "name": "stdout",
     "output_type": "stream",
     "text": [
      "417\n"
     ]
    }
   ],
   "source": [
    "print(int('1A1',16))"
   ]
  },
  {
   "cell_type": "code",
   "execution_count": 148,
   "id": "deba8f11-1397-4a3c-8519-f07aa69cdb67",
   "metadata": {},
   "outputs": [
    {
     "name": "stdin",
     "output_type": "stream",
     "text": [
      " 60465243 36\n"
     ]
    },
    {
     "name": "stdout",
     "output_type": "stream",
     "text": [
      "ZZZA3"
     ]
    }
   ],
   "source": [
    "# 11005\n",
    "# 10진법 수 N을 B진법으로 출력\n",
    "\n",
    "# 틀린 코드\n",
    "n, b = map(int, input().split())\n",
    "\n",
    "arr = []\n",
    "while True:\n",
    "    arr.append(n%b)\n",
    "    n //= b\n",
    "    if n<b:\n",
    "        arr.append(n)\n",
    "        break\n",
    "arr.reverse()\n",
    "for i in arr:\n",
    "    if i>=10:\n",
    "        print(chr(i+55), end='')\n",
    "    else:\n",
    "        print(str(i), end='')"
   ]
  },
  {
   "cell_type": "code",
   "execution_count": 128,
   "id": "a6d3925b-2ab4-4386-bc58-ad55322403f9",
   "metadata": {},
   "outputs": [
    {
     "data": {
      "text/plain": [
       "'A'"
      ]
     },
     "execution_count": 128,
     "metadata": {},
     "output_type": "execute_result"
    }
   ],
   "source": [
    "chr(65-10)"
   ]
  },
  {
   "cell_type": "code",
   "execution_count": 150,
   "id": "e6114beb-e3fb-4437-b491-09ad7b301abc",
   "metadata": {},
   "outputs": [
    {
     "name": "stdin",
     "output_type": "stream",
     "text": [
      " 60465243 36\n"
     ]
    },
    {
     "name": "stdout",
     "output_type": "stream",
     "text": [
      "ZZZA3\n"
     ]
    }
   ],
   "source": [
    "# 맞은 드드\n",
    "n, b = map(int, input().split())\n",
    "\n",
    "result = \"\"\n",
    "while n:\n",
    "    result = (str(n % b) if n % b < 10 else chr(n % b + 55)) + result\n",
    "    n //= b\n",
    "\n",
    "print(result)"
   ]
  },
  {
   "cell_type": "code",
   "execution_count": 144,
   "id": "b73c37b2-f735-47a6-a82a-90568589eebd",
   "metadata": {},
   "outputs": [
    {
     "data": {
      "text/plain": [
       "'1'"
      ]
     },
     "execution_count": 144,
     "metadata": {},
     "output_type": "execute_result"
    }
   ],
   "source": [
    "str(17%16)"
   ]
  },
  {
   "cell_type": "code",
   "execution_count": null,
   "id": "ecaabbc4-1749-476a-a944-44d7da73d95f",
   "metadata": {},
   "outputs": [],
   "source": []
  }
 ],
 "metadata": {
  "kernelspec": {
   "display_name": "Python [conda env:base] *",
   "language": "python",
   "name": "conda-base-py"
  },
  "language_info": {
   "codemirror_mode": {
    "name": "ipython",
    "version": 3
   },
   "file_extension": ".py",
   "mimetype": "text/x-python",
   "name": "python",
   "nbconvert_exporter": "python",
   "pygments_lexer": "ipython3",
   "version": "3.12.7"
  }
 },
 "nbformat": 4,
 "nbformat_minor": 5
}
