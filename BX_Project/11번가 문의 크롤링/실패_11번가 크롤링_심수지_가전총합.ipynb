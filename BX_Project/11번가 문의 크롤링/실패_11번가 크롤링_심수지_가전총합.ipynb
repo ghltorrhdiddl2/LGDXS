{
 "cells": [
  {
   "cell_type": "code",
   "execution_count": 1,
   "id": "cc5d27e8-a4e3-4f9c-ac90-eef0bb534212",
   "metadata": {},
   "outputs": [],
   "source": [
    "# 포함할 단어\n",
    "# \"가로\",\"깊이\",\"사이즈\",\"세로\",\"cm\",\"mm\",\"냉장고장\"\n",
    "# contain_word = [\"가로\",\"깊이\",\"사이즈\",\"세로\",\"cm\",\"mm\",\"냉장고장\"]\n",
    "\n",
    "contain_word = [\"가로\", \"깊이\", \"사이즈\", \"세로\", \"cm\", \"mm\", \"냉장고장\",\"높이\", \"폭\", \"부피\", \"측정\", \"실측\", \"공간\", \"위치\", \"배치\", \n",
    "                \"설치공간\", \"배선\", \"콘센트\", \"전원\", \"연결\", \"제약\", \"제한\", \"문제\", \"트러블\", \"조정\", \"조립\", \"위치조정\", \n",
    "                \"기사\", \"설치사\", \"방문\", \"방문비\", \"유료\", \"무료\", \"서비스\", \"지원\", \"고객지원\", \"지원서비스\", \"요금\",\"연장선\", \n",
    "                \"설계\", \"조립도구\", \"설치장소\", \"설치환경\", \"설치조건\",\"전력\", \"선호\", \"제한사항\", \"공간제약\", \"배치문제\", \"배치이슈\",\"불편\", \n",
    "                \"어려움\", \"불만\", \"만족\", \"추천\", \"비추천\", \"편리함\", \"불편함\", \"좁은 공간\", \"높은 곳\", \"전력 공급\", \"배선 문제\",\"인치\" ]"
   ]
  },
  {
   "cell_type": "code",
   "execution_count": 3,
   "id": "2cb47ae2-79b5-4ac4-888f-85c5c4da231a",
   "metadata": {},
   "outputs": [],
   "source": [
    "import undetected_chromedriver as uc\n",
    "from selenium.webdriver.common.by import By\n",
    "from selenium.webdriver.common.keys import Keys\n",
    "import time\n",
    "import pandas as pd"
   ]
  },
  {
   "cell_type": "code",
   "execution_count": 103,
   "id": "1f70b351-5023-431a-9126-dd783a39ab5c",
   "metadata": {
    "scrolled": true
   },
   "outputs": [
    {
     "ename": "NoSuchElementException",
     "evalue": "Message: no such element: Unable to locate element: {\"method\":\"css selector\",\"selector\":\"#tSearch > form > fieldset > input\"}\n  (Session info: chrome=132.0.6834.84); For documentation on this error, please visit: https://www.selenium.dev/documentation/webdriver/troubleshooting/errors#no-such-element-exception\nStacktrace:\n\tGetHandleVerifier [0x00970A13+25091]\n\t(No symbol) [0x008FA584]\n\t(No symbol) [0x007DB3B3]\n\t(No symbol) [0x0081F4A0]\n\t(No symbol) [0x0081F61B]\n\t(No symbol) [0x0085D882]\n\t(No symbol) [0x00841EF4]\n\t(No symbol) [0x0085B43E]\n\t(No symbol) [0x00841C46]\n\t(No symbol) [0x00813175]\n\t(No symbol) [0x008142FD]\n\tGetHandleVerifier [0x00C66493+3128451]\n\tGetHandleVerifier [0x00C7994B+3207483]\n\tGetHandleVerifier [0x00C745F2+3186146]\n\tGetHandleVerifier [0x00A070C0+641200]\n\t(No symbol) [0x009036BD]\n\t(No symbol) [0x00900738]\n\t(No symbol) [0x009008D6]\n\t(No symbol) [0x008F3040]\n\tBaseThreadInitThunk [0x75E47BA9+25]\n\tRtlInitializeExceptionChain [0x76EBC0CB+107]\n\tRtlClearBits [0x76EBC04F+191]\n",
     "output_type": "error",
     "traceback": [
      "\u001b[1;31m---------------------------------------------------------------------------\u001b[0m",
      "\u001b[1;31mNoSuchElementException\u001b[0m                    Traceback (most recent call last)",
      "Cell \u001b[1;32mIn[103], line 10\u001b[0m\n\u001b[0;32m      8\u001b[0m home_appliances \u001b[38;5;241m=\u001b[39m [\u001b[38;5;124m\"\u001b[39m\u001b[38;5;124mLG TV\u001b[39m\u001b[38;5;124m\"\u001b[39m,\u001b[38;5;124m\"\u001b[39m\u001b[38;5;124mLG오브제냉장고\u001b[39m\u001b[38;5;124m\"\u001b[39m,\u001b[38;5;124m\"\u001b[39m\u001b[38;5;124mLG세탁기\u001b[39m\u001b[38;5;124m\"\u001b[39m,\u001b[38;5;124m\"\u001b[39m\u001b[38;5;124mLG건조기\u001b[39m\u001b[38;5;124m\"\u001b[39m,\u001b[38;5;124m\"\u001b[39m\u001b[38;5;124mLG에어컨\u001b[39m\u001b[38;5;124m\"\u001b[39m]\n\u001b[0;32m      9\u001b[0m \u001b[38;5;28;01mfor\u001b[39;00m home \u001b[38;5;129;01min\u001b[39;00m home_appliances:\n\u001b[1;32m---> 10\u001b[0m     search \u001b[38;5;241m=\u001b[39m driver\u001b[38;5;241m.\u001b[39mfind_element(By\u001b[38;5;241m.\u001b[39mCSS_SELECTOR,\u001b[38;5;124m\"\u001b[39m\u001b[38;5;124m#tSearch > form > fieldset > input\u001b[39m\u001b[38;5;124m\"\u001b[39m)\n\u001b[0;32m     11\u001b[0m     search\u001b[38;5;241m.\u001b[39msend_keys(Keys\u001b[38;5;241m.\u001b[39mCONTROL,\u001b[38;5;124m'\u001b[39m\u001b[38;5;124ma\u001b[39m\u001b[38;5;124m'\u001b[39m)\n\u001b[0;32m     12\u001b[0m     search\u001b[38;5;241m.\u001b[39msend_keys(Keys\u001b[38;5;241m.\u001b[39mDELETE) \u001b[38;5;66;03m# 검색창 초기화\u001b[39;00m\n",
      "File \u001b[1;32m~\\anaconda3\\Lib\\site-packages\\selenium\\webdriver\\remote\\webdriver.py:770\u001b[0m, in \u001b[0;36mWebDriver.find_element\u001b[1;34m(self, by, value)\u001b[0m\n\u001b[0;32m    767\u001b[0m         \u001b[38;5;28;01mraise\u001b[39;00m NoSuchElementException(\u001b[38;5;124mf\u001b[39m\u001b[38;5;124m\"\u001b[39m\u001b[38;5;124mCannot locate relative element with: \u001b[39m\u001b[38;5;132;01m{\u001b[39;00mby\u001b[38;5;241m.\u001b[39mroot\u001b[38;5;132;01m}\u001b[39;00m\u001b[38;5;124m\"\u001b[39m)\n\u001b[0;32m    768\u001b[0m     \u001b[38;5;28;01mreturn\u001b[39;00m elements[\u001b[38;5;241m0\u001b[39m]\n\u001b[1;32m--> 770\u001b[0m \u001b[38;5;28;01mreturn\u001b[39;00m \u001b[38;5;28mself\u001b[39m\u001b[38;5;241m.\u001b[39mexecute(Command\u001b[38;5;241m.\u001b[39mFIND_ELEMENT, {\u001b[38;5;124m\"\u001b[39m\u001b[38;5;124musing\u001b[39m\u001b[38;5;124m\"\u001b[39m: by, \u001b[38;5;124m\"\u001b[39m\u001b[38;5;124mvalue\u001b[39m\u001b[38;5;124m\"\u001b[39m: value})[\u001b[38;5;124m\"\u001b[39m\u001b[38;5;124mvalue\u001b[39m\u001b[38;5;124m\"\u001b[39m]\n",
      "File \u001b[1;32m~\\anaconda3\\Lib\\site-packages\\selenium\\webdriver\\remote\\webdriver.py:384\u001b[0m, in \u001b[0;36mWebDriver.execute\u001b[1;34m(self, driver_command, params)\u001b[0m\n\u001b[0;32m    382\u001b[0m response \u001b[38;5;241m=\u001b[39m \u001b[38;5;28mself\u001b[39m\u001b[38;5;241m.\u001b[39mcommand_executor\u001b[38;5;241m.\u001b[39mexecute(driver_command, params)\n\u001b[0;32m    383\u001b[0m \u001b[38;5;28;01mif\u001b[39;00m response:\n\u001b[1;32m--> 384\u001b[0m     \u001b[38;5;28mself\u001b[39m\u001b[38;5;241m.\u001b[39merror_handler\u001b[38;5;241m.\u001b[39mcheck_response(response)\n\u001b[0;32m    385\u001b[0m     response[\u001b[38;5;124m\"\u001b[39m\u001b[38;5;124mvalue\u001b[39m\u001b[38;5;124m\"\u001b[39m] \u001b[38;5;241m=\u001b[39m \u001b[38;5;28mself\u001b[39m\u001b[38;5;241m.\u001b[39m_unwrap_value(response\u001b[38;5;241m.\u001b[39mget(\u001b[38;5;124m\"\u001b[39m\u001b[38;5;124mvalue\u001b[39m\u001b[38;5;124m\"\u001b[39m, \u001b[38;5;28;01mNone\u001b[39;00m))\n\u001b[0;32m    386\u001b[0m     \u001b[38;5;28;01mreturn\u001b[39;00m response\n",
      "File \u001b[1;32m~\\anaconda3\\Lib\\site-packages\\selenium\\webdriver\\remote\\errorhandler.py:232\u001b[0m, in \u001b[0;36mErrorHandler.check_response\u001b[1;34m(self, response)\u001b[0m\n\u001b[0;32m    230\u001b[0m         alert_text \u001b[38;5;241m=\u001b[39m value[\u001b[38;5;124m\"\u001b[39m\u001b[38;5;124malert\u001b[39m\u001b[38;5;124m\"\u001b[39m]\u001b[38;5;241m.\u001b[39mget(\u001b[38;5;124m\"\u001b[39m\u001b[38;5;124mtext\u001b[39m\u001b[38;5;124m\"\u001b[39m)\n\u001b[0;32m    231\u001b[0m     \u001b[38;5;28;01mraise\u001b[39;00m exception_class(message, screen, stacktrace, alert_text)  \u001b[38;5;66;03m# type: ignore[call-arg]  # mypy is not smart enough here\u001b[39;00m\n\u001b[1;32m--> 232\u001b[0m \u001b[38;5;28;01mraise\u001b[39;00m exception_class(message, screen, stacktrace)\n",
      "\u001b[1;31mNoSuchElementException\u001b[0m: Message: no such element: Unable to locate element: {\"method\":\"css selector\",\"selector\":\"#tSearch > form > fieldset > input\"}\n  (Session info: chrome=132.0.6834.84); For documentation on this error, please visit: https://www.selenium.dev/documentation/webdriver/troubleshooting/errors#no-such-element-exception\nStacktrace:\n\tGetHandleVerifier [0x00970A13+25091]\n\t(No symbol) [0x008FA584]\n\t(No symbol) [0x007DB3B3]\n\t(No symbol) [0x0081F4A0]\n\t(No symbol) [0x0081F61B]\n\t(No symbol) [0x0085D882]\n\t(No symbol) [0x00841EF4]\n\t(No symbol) [0x0085B43E]\n\t(No symbol) [0x00841C46]\n\t(No symbol) [0x00813175]\n\t(No symbol) [0x008142FD]\n\tGetHandleVerifier [0x00C66493+3128451]\n\tGetHandleVerifier [0x00C7994B+3207483]\n\tGetHandleVerifier [0x00C745F2+3186146]\n\tGetHandleVerifier [0x00A070C0+641200]\n\t(No symbol) [0x009036BD]\n\t(No symbol) [0x00900738]\n\t(No symbol) [0x009008D6]\n\t(No symbol) [0x008F3040]\n\tBaseThreadInitThunk [0x75E47BA9+25]\n\tRtlInitializeExceptionChain [0x76EBC0CB+107]\n\tRtlClearBits [0x76EBC04F+191]\n"
     ]
    }
   ],
   "source": [
    "driver = uc.Chrome()\n",
    "driver.get(\"https://www.11st.co.kr/?gclid=CjwKCAiAnKi8BhB0EiwA58DA4RyGJVWD-UEPgBXu925_lOKs7RUrY62ogwYZtMPwlaxTrDK7Nfh1bRoC6cMQAvD_BwE&gad_source=1&utm_term=11+%B9%F8%B0%A1&utm_campaign=%B1%B8%B1%DBPC_11%B9%F8%B0%A1&utm_source=%B1%B8%B1%DB_PC_S&utm_medium=%B0%CB%BB%F6\")\n",
    "driver.maximize_window()\n",
    "time.sleep(0.5)\n",
    "\n",
    "all_qna_list = []\n",
    "\n",
    "home_appliances = [\"LG TV\",\"LG오브제냉장고\",\"LG세탁기\",\"LG건조기\",\"LG에어컨\"]\n",
    "for home in home_appliances:\n",
    "    search = driver.find_element(By.CSS_SELECTOR,\"#tSearch > form > fieldset > input\")\n",
    "    #tSearch > form > fieldset > input\n",
    "    search.send_keys(Keys.CONTROL,'a')\n",
    "    search.send_keys(Keys.DELETE) # 검색창 초기화\n",
    "    time.sleep(1)\n",
    "    search.send_keys(home,Keys.ENTER) # 검색\n",
    "    #tSearch > form > fieldset > input\n",
    "    time.sleep(1)\n",
    "    refri_url = driver.find_elements(By.CSS_SELECTOR,\"#section_list > div > ul > li > div > a\")\n",
    "    url_list = []\n",
    "    for i in refri_url:\n",
    "        url_list.append(i.get_attribute('href'))\n",
    "    \n",
    "    # print(url_list)\n",
    "    # len(url_list)  # 한 페이지에 25개 아이템\n",
    "    for k in range(len(url_list)):\n",
    "        driver.get(url_list[k]) # 첫 번째 페이지로 이동\n",
    "        time.sleep(1)\n",
    "        ifrmQnA = driver.find_element(By.CSS_SELECTOR,\"#ifrmQnA\") # QnA iframe으로 이동\n",
    "        driver.switch_to.frame(ifrmQnA)\n",
    "        # qna[0].text\n",
    "        # len(qna) # 한 페이지에 10개 문의글\n",
    "    #     # ------------------------\n",
    "        qna = driver.find_elements(By.CSS_SELECTOR,\"#showCloseDetail\")\n",
    "        \n",
    "        page = driver.find_elements(By.CSS_SELECTOR,\"#paging_page\")\n",
    "        for i in qna:\n",
    "            if any(word in i.text for word in contain_word):  # 관련 단어가 들어가 있으면 리스트에 추가\n",
    "                all_qna_list.append(i.text)\n",
    "    \n",
    "        for j in range(len(page)):\n",
    "            driver.find_elements(By.CSS_SELECTOR,\"#paging_page\")[j].click() # 0이 2 페이지로 이동, 8이 10페이지로 이동\n",
    "            time.sleep(1)\n",
    "            qna = driver.find_elements(By.CSS_SELECTOR,\"#showCloseDetail\")\n",
    "            for i in qna:\n",
    "                if any(word in i.text for word in contain_word):  # 관련 단어가 들어가 있으면 리스트에 추가\n",
    "                    all_qna_list.append(i.text)\n",
    "        \n",
    "# driver.quit()"
   ]
  },
  {
   "cell_type": "code",
   "execution_count": 107,
   "id": "9e6e5e6d-7897-44f2-bfd9-0d1c7d1fa9b3",
   "metadata": {},
   "outputs": [
    {
     "data": {
      "text/plain": [
       "['lg qned 86인치를 주문했는데, 벽이 대리석이라 무타공 시공 가능한가요? 설치비용은 얼마인가요?',\n",
       " '제품은 배송 기사님이 직접 설치해주시나요?',\n",
       " '제품은 배송 기사님이 직접 설치해주시나요?',\n",
       " '86인치 구매 하였습니다. 무타공으로 설치 예정인데 따로 추가비용 발생하나요? 금액이랑 자세히 설명부탁드립니다.',\n",
       " '86인치 구매 하였습니다. 무타공으로 설치 예정인데 따로 추가비용 발생하나요? 금액이랑 자세히 설명부탁드립니다.',\n",
       " '86인치 구매 하였습니다. 무타공으로 설치 예정인데 따로 추가비용 발생하나요? 금액이랑 자세히 설명부탁드립니다.',\n",
       " 'LG전자 2024 LED QNED 217cm (86QNED70TEA 이제풍이 4K가 맞나요?',\n",
       " '벽걸이로 주문하면 추가비용없이 설치가가능한가요?',\n",
       " '사운드바가없어도 소리는 tv 자체에서 잘나는거 맞나요? 제가 산 상품의 모델명이 65UR642S0NC, 65인치 4k 맞나요? 강원도 원주까지 설치비가 무료인게맞나요?',\n",
       " '안녕하세요 12월7일에 배송요청드렸는데주말만 가능하니 꼭 날짜에 와주셨으면 합니다. 그리고 티비놓는 장의 넓이가 133cm정도인데 해당제품 구입해도 가능할까요?',\n",
       " '방금 주문 했어요 폐가전 tv 도 수거 부탁 드려요 설치는 언제 될까요 바쁠실텐데 자꾸 문의 드려서 죄송 합니다',\n",
       " '안녕하세요 티비가 설치 당일부터 화면이 갑자기 깜빡거리는 고장이 있었고 9월 21일 토요일에 설치해서 다음주 월요일인 23일에 as신청하고 제일 빠른날이 10월 7일이라고해서 as기다리고 있는데 그냥 새걸로 교환하는게 맞는거 같아서요. 교환도 lg고객센터에 말해야 하나요?',\n",
       " '동축케이블 연결하여 TV시청 가능한가요?',\n",
       " '안녕하세요 티비주문했는데 새티비를 설치하면 기존티비에 깔려있던 넷플릭스도 새로 깔아야할까요',\n",
       " '무선 헤드폰ㆍ이어폰 연결 가능한가요?..',\n",
       " '어제 설치했고 상품 4K라고 되어있는데 기사님께선 4K 아니라고 하셨어요. 뭐가 맞는 건가요? 그리고 색감이랑 화질이 너무 안좋은데 이게 불량인 건지 원래 그런 건지 모르겠어서 확인받고 싶습니다. 어떻게 해야 하나요?',\n",
       " '며칠전 구입한고객입니다.,핸드폰과 미러링이 안됩니다. 요즘 미러링이 안돼는 티비가 있나요? 그럼 케이블연결하면 되는지요?',\n",
       " '포토 상품평 작성하였는데 상품권이 발송되지 않고 있습니다. 배송설치일자는 5월8일 완료 되었구요 . 익월말일 이라과 해서 기다리고 있는데 현재 6월27일인데 발송되지 않고 있는데 정확히 언제쯤 발송되는지요 . 양식 있는대로 구글폼 양식에 맞춰서 포토 상품평 올려놨습니다.스샷도 찍어놨구요. 안내에 로켓설치 스마일배송은 제외라고 써있던데 슈팅배송은 관계없는거겠지요 확인해주시고 답변 바랍니다.',\n",
       " '정격소비전력이랑 일반소비전력 차이가 크던데요 이게 무슨뜻인가요? 그리고 미러링은 가능한건가요???',\n",
       " '오늘 설치 했는데 원래 LG TV는 전원을 키고 10초 후에 화면이 나오는게 맞나요?? 셋탑리모컨이든 LG리모컨이든 로딩이 10초 걸리는데요.',\n",
       " '현재 삼성파브벽걸이쓰고있는데 브라켓은 어떻게해주시는지요? 그리고 쓰던티비무상수거해주시나요?벽걸이시 무상설치인지요?',\n",
       " '안녕하세요! 벽걸이주문했는데 벽걸이로 달아주나요? 설치해주는지 궁금하고 비용은따로있는지도 궁금하네요',\n",
       " 'usb 연결.가능한가요?',\n",
       " '이젤형거치대에 설치되는지요',\n",
       " '기사님 방문해서 설치해주나요?',\n",
       " '인터넷 티비 요금제로 상담 받다가 스마트티비가 아니어도 센탑만 있으면 볼수있다고 하는데 그렇게 하면 오티티 채널들 볼수 있을까요?',\n",
       " '리퍼제품인가요? 엘지정품인가요? 혹시 고장시 엘지에서 서비스 받을수 있는지? 3가지 답변해 주시면 확인후 구매할께요',\n",
       " '티비에서 ott 지원 안되도 lg 셋탑박스에 ott 가능 있으면 볼수 있는건가요???',\n",
       " '기존 티비 설치자리에 달려있는 벽걸이 티비 해체 가능한가요 ? 설치되어 있는 티비도 엘지티비 입니다.',\n",
       " '벽걸이형문의인데요~ 브라켓도 무료설치인가요? 고정형인가요? 아님 좌우가능한건가요?',\n",
       " '티비 가로 사이즈가 어떻게 되나요?',\n",
       " '오늘 주문하고 보니 티비 수거 체크 란이 없는것 같습니다. 설치하시고 폐티비는 수거해주세요.',\n",
       " '기존 티비벽걸이 설치사용중인데 고장나서 이제품으로 구매하려하는데 기존 벽걸이에 장착가능할까요?',\n",
       " '벽걸이형으로사면 와서 설치해주시는건가요? 추가비용이더있을까요?',\n",
       " '벽걸이형으로 선택하면 벽걸이로 타공해서 설치 해주나요?',\n",
       " '11월 3일물건받고 오늘 싸이트보니 구입가격보다 9만원이더 저렴하게 나왔네요 어떻게 가격이 10프로이상떨어지나요 기분이 정말안좋네요 사기당한기부 가격조정해주세요',\n",
       " '새상품LG본사 설치맞나요?벽걸이로 구매하면 벽걸이블라켓오고 콘크리트 설치비까지 무료맞나요 추가비용은없나요',\n",
       " '주문전 헷갈려서 그러는데 기가지니 셋탑연결하면 넷플릭스 되는거 아닌가요',\n",
       " '현재 기가지니 이용중인데 연결하면 넷플볼수있나요 유튜브랑 인터넷만 가능한건가요',\n",
       " '그럼 as는 엘지전자수리점 으로 연락하거나 방문하는건가요',\n",
       " '스카이라이프 연결되나요?',\n",
       " 'ott 이용이 안된다는데 세톱박스연결 해도 안된다는건가요?',\n",
       " '안녕하세요 지금 핫딜뜬거 70인치짜리는 후기보니 벽걸이 무료설치라던데 맞나요? 이것도 무료설치 되는 대상인지 궁금합니다. 가격이 좋아 사고 싶은데 70인치는 저희 집 거실에 너무 클거같아서..',\n",
       " '주문하기전 문의드립니다 현재 50인치 lg 벽걸이티비가 있는데 이 상품 주문시 기존벽걸이 그대로 설치가 되는걸까요? 타공이나 추가설치가 필요한걸까요? 그리고 벽걸이설치시 비용이 추가될까요?',\n",
       " 'Btv 셋탑박스 설치하고 사용할껀데 유트브말고 넷플이나 다른 ott서비스는 못보는건가요??',\n",
       " 'TV가 가로로 울렁거리다 위아래로 갈라져요. 빠른조치 바랍니다',\n",
       " '벽걸이 설치시 추가 설치 비용이 드나요? 설치비용이 든다면 얼마 인가요?',\n",
       " '넷플릭스지원되나요 지금구매시 1/6 설치가능할까요',\n",
       " 'LG전문기사님이 설치해주시나요? 기존 티비도 수거해주시나요?',\n",
       " 'ott 서비스가 된다고 하셨는데, 별도로 설치해야 하는 것 없이 넷플릭스, 디즈니플러스, 티빙 3개 서비스 모두 가능한가요?',\n",
       " '벽결이 선택함 설치해 주시는거죠?',\n",
       " '주문했는데 기존티비 수거요청을 안했네요 설치시 수거부탁드려요',\n",
       " '벽걸이설치시 설치비용과 자재비용이 궁금합니다',\n",
       " '벽걸이설치시 설치비용과 자재비용이 궁금합니다',\n",
       " '8/2 12시 설치요청',\n",
       " '시골 나주에 부모님 쓰실 티비 구입하려고 하는데 벽걸이형으로 사려고 합니다. 벽걸이로 하려 하는데 설치는 어떻게 되는지 문의 드립니다. 설치는 어디로 연락을 해야하는지 설치비는 어떻게 되는지 등등',\n",
       " '동관 케이블 연결해서 사용가능한가요??? 시골집에서 사용 할 티비를 찾고 있어서요. 동관케이블로 연결하면 티비시청시 사운드가 좀 다른가요? 그리고 전북지역인데 배송비가 드나요?? 스텐드 간격은 수정이 가능한가요?? 아님 고정인가요??',\n",
       " '아이패드와 연결 시 미러링어플을 설치해야 하는데 안되는 종류도 많아서 쉽게 다운받기가 어렵네요 어떤 어플을 다운받아야 할까요‘?',\n",
       " '8월7일 주문 배송은 빨랐습니다 이동식스텐드에 연결하는 티비 뒷부분에 하자가 있어 방문 요청!!! 휴가라고 해서 기다렸는데 도대체 휴가는 얼마동안 입니까? 중간에 서비스기사님 전화와서 본사에서 부품이 안내려왔다는 말뿐!!!!!!! 티비를 모셔둘려고 구매했을까요? 언제 까지 모셔두고 있을까요????',\n",
       " '기사직접배송 자가설치시 티비를 문앞까지만 배송해주시는건가요?',\n",
       " '이동식 스탠드에 설치 할려고 했는데 나사를 넣어서 조여야 하는 부분에 구멍만 있고 나사가 돌아가지 않게 되어있어서 스탠드에 조립을 못했습니다 사진 첨부를 어떻게 할지 몰라서 못했습니다 연락주시면 사진 보내드릴께요',\n",
       " '상기 23년형 더함노바65인치제품 셋탑박스와 HDMI케이블만 연결하면 TV시청가능한지 여부 궁금해여 ~^^',\n",
       " '안녕하세요 수업용으로 구매하고 싶은데 아이패드와 연결 가능할까요? 그리고 HDMI선은 무조건 증정일까요?',\n",
       " '자가설치 스탠드형으로 할려면 다리를 따로 구매해야 하나요? 제풀에 다리가 포함되어 있는것 아닌가요?',\n",
       " '12월31일 설치문의드립니다 지정일 배송가능한가요?',\n",
       " '구글 안드로이드 스마트 TV를 시청하려면 인터넷이 연결되어 있어야 하나요?',\n",
       " '다릿발하나가 아예부품포함빠져있는데 빨리 배송좀부탁드립니다 배송되고 지금 풀자마자 급하게 연락드립니다 이것때문에 설치가 안되고있습니다',\n",
       " 'TV연결은 셋톱 없이 케이블만으로도 되나요? 안방은 셋톱인데, 작은방에 놓을 건데요. 작은방은 셋톱 없이 케이블만으로도 화질 잘 나오거든요. 유튜브 를 주로 볼거구요. 유튜브 보면서 잠들면 자동 꺼짐 설정 가능하지요?',\n",
       " '가격이 더내림.? 주문후 배송정보 및 위치확인 안되어서.. 구매한곳 첫화면 들어가보니 대략 57만에서55만 으로 줄어든것 머하자는건지요! 가격장난질 하는것도 아니고 이건 좀 아니지 않아요 캡처는 해？는데 올릴수 잇는곳이 없네요.. 배송은 저번주 토욜 (9.3일)도착예정인데 아직도(9.6일) 미도착이네요..',\n",
       " '해당 상품 설치 포함 상품으로 설치까지 받으셔야됩니다. 단순배송 불가하십니다. 라는 답변을 받았는데 거실에 무타공 설치 의뢰를 할건데 실제로 오셔서 설치가 불가능하다 라고하면 어떻게 되는건가요? 다른 동 호수에서 몇몇 다른 엘지 TV 기사님들이 무타공 설치 못한다고 해서 저도 염두해두고 쓴 글이거든요. 설치 가능하고 잘 해주신다면야 저야 문제 없습니다만.',\n",
       " '설치도 무료로 해주시는건가요?',\n",
       " '배송형태에 1.기사직접배송(고객자가설치) 2. 기본스탠드(TV다리) 기사방문설치 이 두개 차이가 뭔가요? 1번도 스탠드 다리 들어있는거죠? 2번이 다리하나 붙이는데 3만원이나 더 붙는건가요?',\n",
       " '혹시 벽걸이 설치 시도가 불가한 경우가 생기면 브라켓값은 환불될까요?',\n",
       " '어제 받은 티비 패널을 깨버려서 알려주신 번호로 전화해봤더니 고치는비용이 30이라길래 그냥 하나 더 주문했는데 혹시 패널 깨진 티비 무료회수 가능한가요?',\n",
       " '혹시 설치는 안해주시죠?? 전에 쓰던 티비 수거도 해쥬시나요??ㅠㅠㅠ 구매하기전에 너무 고민이 되서 이렇게 문의드려요',\n",
       " '벽걸이로 설치 하려고 브라켓을 연결하는데 베사홀 나사가 들어가는 홀의 깊이가 위, 아래가 원래 서로 다르나요? 봉동된 베사홀용 나사는 아래쪽에만 사용하는것 같은데, 위쪽에 베사홀에 사용되는 나사 규격과 홀의 깊이를 알려주시면 감사하겠습니다. 위쪽 베사홀에 있는 본래의 나사 길이로는 브라켓을 대고 연결이 안 됩니다ㅠ',\n",
       " '벽걸이 상하좌우 브라켓 자가 설치로 주문했는데 설치용 칼블럭 포함 되어 있나요? 있다면 맞는 드릴 직경 좀 알려주세요.',\n",
       " '인터넷만 연결하면 지상파 채널이 나오나요?? 나오면 채널수가 어떻게 되나요??',\n",
       " '제품설명에는 스탠드 두개 한쌍으로 구성품에 포함이 된걸로 있는데 스탠드를 추가로 구입해야 하나요??',\n",
       " '자가설치시 ㄷ니비 스텐드 포함인가요?',\n",
       " '고객자가설치와 기사님 설치해주시는 자재(TV 다리)는 동일한 자재인가요??',\n",
       " '안녕하세요 직접설치하고싶은데(배송기사 배송만..) 그럴경우 구성품에 다리는 있나요~?',\n",
       " '동측케이블 연결 가능하지요? 결재완료했는데 최대한 빨리 배송부탁드립니다',\n",
       " '기존에 LG TV벽걸이 사용하고 있는 상태이고 벽걸이형으로 주문하면 설치비는 어떻게 되나요?',\n",
       " '마지막으로 뭐 하나만 더 여쭤볼게요 무타공설치를 원해서 스탠드형으로 사서 사설업체 통해 설치하려고 하는데요~ 혹시 스탠드랑 벽걸이랑 외적으로 제품의 차이가 있나요? 예를들면 스탠드에는 뗄수 없는 다리가 달려 잇다거나 그런 부분들이 궁금합니다. 결국 스탠드로 사서 벽걸이로 걸거라서 티비다리가 달려있으면 안이쁠것 같아서요..! 자세한 답변 부탁드립니다',\n",
       " '사설 무타공설치 원한다면 스탠드로 주문해서 사설업체 맡겨도 상관 없을까요? 벽걸이로 걸 수 있게 스탠드 받침대가 탈부착 가능한가요?',\n",
       " '저흰 상품 받아서 무타공 설치하고 싶은데 그냥 상품만 받을 순 없는거에요?',\n",
       " '벽걸이인지 스탠드인지 물건받는날 결정해도 되나요? 집에 어떤게 어울릴지 대보고 설치 받고 싶어서요. 배송일정 해피콜 같은거 오면 그때 벽걸이인지 스탠드인지 여부 상담드려도 되나요?',\n",
       " '문의했던 사람입니다 방금전 배송메세지에 *각도조절벽걸이형으로 기재하고 믿고 주문했습니다. 배송은 언제쯤되는지 배송톡이나 연락은 lg기사님이 언제쯤 주시고 배송설치해주시는지 문의드립니다 선물용구매라 빠른답변바랍니다.',\n",
       " '밑에 문의한사람 입니다 일단 각도조절벽걸이로 주문예정인데요. 혹시 lg기사님이보시고 오셔서 스탠드로 해야된다고 하시면 취소안하고 개봉전 스탠드로 다시 교환은 되나요 온라인이라 혹시경우에 문의드립니다.',\n",
       " '선물용구매라 주문전 문의드립니다 Lg전자정품 박스포장된새상품이고 lg기사님이 배송.설치.as다 lg에서 해주시는거 맞나요 온라인으로 가전을 구매안해봐서 선물용구매라 빠른답변바랍니다',\n",
       " '리퍼 상품이 아닌 새상품 맞을까요?? 그리고 엘지 as도 되는건지요 무타공으로 설치 받을 예정인데 벽걸이로 선택후 무타공설치 업체한테 연락하면 될까요?',\n",
       " '리퍼 상품이 아닌 새상품 맞을까요?? 그리고 엘지 as도 되는건지요 무타공으로 설치 받을 예정인데 벽걸이로 선택후 무타공설치 업체한테 연락하면 될까요?',\n",
       " '75인치 벽걸이 tv 75UT8300NNA 제품 문의합니다. 설치 전 거실 가벽 두께에 따라 벽걸이용으로 설치가 안될수도 있나요? 가벽이 얇다면 추가 덧댐을 해서 설치를 해주시는건지 스탠드형으로 써야하는건지 문의합니다. 벽걸이형으로 쓰려고 구매하는거라 중요한 부분이라서요',\n",
       " 'HDMI ARC 기능을 꼭 써야 하는대 초기불량을 제외한 호완성 문제로 접수되었던적이 있을까요?',\n",
       " '2020년 12월에 구매하고 몇달뒤에 화면안나와서 6만원인가 주고 as받고 사용하다 며칠전부터 또 전원이 안켜지네요 고객센터 연결도 잘안되고 또 유상수리받아야 하나요? 포기해야하나요?',\n",
       " '이놈에 tv 진짜짜증나네요 싼맛에 두번샀다가 진짜왕짜증 자주소리가안나와요 전원껏다켜야나오고 뭐야 역시 전자제품은 그지같은이런상품쓰면 안돼요',\n",
       " '아파트 작은방에서 기본채널만 시청 하려고합니다 어떻게 설치해야 하나요?',\n",
       " '기존에 쓰던 타회사 티비가 고장나 검색중 이걸로 주문했어요. 오늘 꼭 당일 발송 해주시고요. 32인치 티비 맞죠? 폰과 티비에 미러캐스트 연결하면 넷플릭스 볼수 있나요?',\n",
       " '안녕하세요~벽걸이 설치하려고하는데 브라켓은 따로 구입 해야하나요?',\n",
       " '컴퓨터 모니터 겸용으로 구입하는데 PC 사용시 화질 문제 없나요? 문제없다면 구입합니다.',\n",
       " '블루투스 와이파이 연결방법알수있을까요 티비모니터겸용입니다',\n",
       " '방문설치 가능한가요?가능하다면 얼마인지.',\n",
       " '모니터로 사용을 할려고 합니다. HDMI로만 연결이 가능한가요? RGB난 DVI 단자는 없습니까?',\n",
       " '벽걸이 방문 추가하려고 하는데 벽 높이에 따라서 추가비용이 발생하는지 여쭤보려고 합니다.',\n",
       " '2021년 구매자 입니다 HDCP 1.3이상 지원하나요? (미러링 때문)',\n",
       " '구매자 입니다. HDCP 1.3이상 지원되나요',\n",
       " '설치는 자가설치인가요',\n",
       " '동축케이블 구매해야한다고 상품내용에 기재를 해주셔야 하는거 아닌가요?티비다 설치되는줄 알고 할머니 할아버지 집에 티비 시켰더니 캐이블은 알아서 사라고 하고 가고 설치비를 코드 꼽으려고 35000원 이나 내나요?약속시간은 맘대로 1시간 뒤에 오고 주문한것도 일주일걸려서 안와 전화하니 그제서야 안간냐고 하고요....전화는 왜 안받는건거요?',\n",
       " '받아보았는데 설치못하겠다하시는데.. 방문설치 추가로 가능한가요?',\n",
       " 'TV리모컨 전원을 끄면 안방전등이 같이 꺼집니다. 고객센터 전화를 안받아 이렇게 글남깁니다. 문제 해결 부탁드립니다.',\n",
       " '휴대폰에 넷플릭스와 연결이될까요?',\n",
       " '기존에 벽결이티비 사용중인데요 기존에 사용하던 벽걸이브라켓으로 호환이될까요? 기사님 방문설치요청드리려고합니다.',\n",
       " '컴퓨터 연결 가능하나요?',\n",
       " '방문수령 가능한가요?',\n",
       " 'PC연결해서 모니터로 사용하려고합니다 제 pc에는 hdmi포트가 없고 RGB만 있는데요 PC에 연결하려면 어떤 케이블을 구입해야하나요? 컴 본체에 보면 RGB 연결하는거와 usb와 모니터연결(DVI)케이블만 있어요',\n",
       " '32인치는 연결포트가 오른쪽에만 있는건가요?',\n",
       " '상품은잘받았습니다 오늘설치를했는데요 소리가너무작네요 음랑 20까지높여도 너무작습니다 답변좀주세요',\n",
       " '리모콘고장이났습니다 본체 전원버튼은 어디있을까요?',\n",
       " '안녕하세요 3년전에 구입해서 사용하고있는데 리모콘이 고장이 났습니다 본체에 전원버튼이어디있나요? 리모콘은 별도로 구입가능한가요?예를들어서 lgtv에는 작동되는 만능리모콘으로도 유맥스 티비에 사용가능한가요? 답변부탁드립니다',\n",
       " '아래 문의글 남긴 구매자인데요.. 그럼 셋톱박스를 바꿔야하는건가요..?? 아니면 hdmi 케이블을 사서 연결하면 되는걸까요..?? 여기서 구매할건데 어떤걸 사서 연결하면 되는지 알려주세요..',\n",
       " '받아서 주말에 설치했는데 화면없음..이라고 뜹니다.. ㅠ 전에 쓰던거보니 셋톱박스랑 연결선이 5개 꼽히더라구여.. 빨강.파랑.초록.그리고 다시 빨강.하양.노랑인데 노랑은 굳이 안꽂아서 사용했건든여.. 근데 이번에 산 유맥스는 셋톱박스 꼽는곳이 3군데입니다.. 뭐가 잘못되서 화면없음이 뜨는지 모르겠어요..',\n",
       " '시골에도 설치해주자나요?',\n",
       " '컴포넌트??(컴포지트??) 단자로 티비연결해서 봤는데 이것도 가능한가요? 음성까지?? 빨간색이랑 파랑색 녹색 등등 5개선으로 되어있구요. 지역 회사에서 셉톱박스로 연결 되었습니다. ㅠ,ㅠ HDMI케이블은 돈 든다며..자신도 판매하지만 굳이 돈 슬꺼 머있나며..화질차이도 얼마 안난다며... 그냥 쓰던데로 쓰라며 이렇게 연결하고 가서...틀린말도 아닌거 같아 그냥 이렇게 연결해서 티비 보다가 브랜드 티비였는데..... 일년 만에 떨어짐 사고로 고장나면서급하게 이것저것 알아보다가 가성비 좋다는 말에 구매하고 싶은데,,, 케이블이 제품에 포함되어 있지 않다고 해서 케이블을 꼭 사야하는 지 알아보려고 문의 합니다. usb 사용 설명 화면에서 컴포넌트 단자가 있어보여서 문의하는 겁니다 ^^; 케이블을 따로 구매해야 한다면 hdmi 1.4 로 사야하나요? 아님 2.0으로 사야하나요?',\n",
       " '이거 사서 설치는 어렵나요? Sk브로드밴드 티비 신청해서 연결해서 보려하는데 셋팅하고 이런방법이 어려운지요',\n",
       " 'CCTV 모니터용 으로사용하려고 합니다 RGB케이블 연결가능한가요',\n",
       " '직접 설치 해주시나요? 여자인 저는 기계치라 ㅜ',\n",
       " '세톱박스로 유선방송을 보고 있는데 구매한 TV로 연결해서 TV를 볼수 있습니까?',\n",
       " '문의드립니다. pc 모니터용으로 사용하는데 컴퓨터 켤때마다 tv리모컨으로 전원을 켜야되나요 일반모니터처럼 절전모드에서 pc켜면 자동으로 켜지는건 안되는건가요?',\n",
       " '차량내에 전원220V나 12V에 연결하고 시중에 판매되는 HD케이블을 연결하면 공중파 시청이 가능한 제품인가요?',\n",
       " '벽걸이로 하고싶은데 혹시 설치는 안해주시나요?',\n",
       " '설명서에 나사 4개를 스탠드에 조립하라했는데 나사가 두개밖에 안쓰여요 자세한 설명 좀 부탁드릴께요',\n",
       " '삼성 스마트폰9+ 사용중인데 모니터랑 무선연결 가능한가요',\n",
       " '셋톱박스랑ㅡ연결해서.봐야되는데.HDMI 케이블이없는데.티브이셋트에 포함 되어있지않다고.하시는가같은데 그러면 따로 구매해서 연결해서 봐야돼나요? 이림 구매시에 추가ㅡ구매가 가능한지요? 아참 그리고집에셋톱박스에 연견 하려면 무조간 HDMI 케이블이 있어야되늘건가요? 그리고hdmi2.0은 뭐고 hdmi1.4는 뭔가요가격차이도ㅡ 나고요 ？ㆍ딘걸로사야되는건가요?',\n",
       " '유선방송 연결해서 볼 수 잇나요?',\n",
       " 'tv하구연결하는케이블 같이오나요 설치할줄몰라서요',\n",
       " '동축 연결단자 있나요.',\n",
       " '벽걸이설치하고 싶은데, 추가상품 구입을 못했어요. 따로 추가 살수 있을까요? 처음에 주문할때 했어야 됐는데... 죄송합니다',\n",
       " '기존LG벽걸이 티비가있는데 그걸 떼어내고 설치가능할까요 그리고 기존티비 수거도 가능한지 문의드려요',\n",
       " '1. 동관케이블 연결 가능한 모델인가요? (RF단자) 2. 재고 있나요?다른 곳은 2주씩이나 기다리라고해서 ㅠㅠ',\n",
       " '자가설치 어려운가요?',\n",
       " 'LG 정품이 맞나요? TV배송하시는 분이 직접 설치 다해주시나요?',\n",
       " 'TV에 안테나 선(RF)만 연결해서 시청하면 되는 것인가요? 혹시 아니라면, 이 TV는 어떤 선을 연결하면 시청이 가능한 것인가요?']"
      ]
     },
     "execution_count": 107,
     "metadata": {},
     "output_type": "execute_result"
    }
   ],
   "source": [
    "all_qna_list"
   ]
  },
  {
   "cell_type": "code",
   "execution_count": 59,
   "id": "606fbe63-a081-44ee-b305-a3575e6b71a4",
   "metadata": {},
   "outputs": [],
   "source": [
    "driver.get(url_list[1]) # 첫 번째 페이지로 이동\n",
    "time.sleep(1)\n",
    "ifrmQnA = driver.find_element(By.CSS_SELECTOR,\"#ifrmQnA\") # QnA iframe으로 이동\n",
    "driver.switch_to.frame(ifrmQnA)\n",
    "\n"
   ]
  },
  {
   "cell_type": "code",
   "execution_count": 61,
   "id": "053723dc-615a-4244-a4de-d9d198db018e",
   "metadata": {},
   "outputs": [
    {
     "data": {
      "text/plain": [
       "10"
      ]
     },
     "execution_count": 61,
     "metadata": {},
     "output_type": "execute_result"
    }
   ],
   "source": [
    "qna = driver.find_elements(By.CSS_SELECTOR,\"#showCloseDetail\")\n",
    "len(qna)"
   ]
  },
  {
   "cell_type": "code",
   "execution_count": 92,
   "id": "1101ed84-0120-46ce-a419-32a18a897e1e",
   "metadata": {},
   "outputs": [
    {
     "data": {
      "text/plain": [
       "4"
      ]
     },
     "execution_count": 92,
     "metadata": {},
     "output_type": "execute_result"
    }
   ],
   "source": [
    "page = driver.find_elements(By.CSS_SELECTOR,\"#paging_page\")\n",
    "len(page)"
   ]
  },
  {
   "cell_type": "code",
   "execution_count": 79,
   "id": "c6c9c1b5-b645-4824-be15-b101890033ad",
   "metadata": {},
   "outputs": [
    {
     "data": {
      "text/plain": [
       "'2'"
      ]
     },
     "execution_count": 79,
     "metadata": {},
     "output_type": "execute_result"
    }
   ],
   "source": [
    "#tSearch > form > fieldset > input"
   ]
  },
  {
   "cell_type": "code",
   "execution_count": null,
   "id": "736bab4b-39cd-4fe2-81d7-e3abeb7e0880",
   "metadata": {},
   "outputs": [],
   "source": [
    "len(all_qna_list)"
   ]
  },
  {
   "cell_type": "code",
   "execution_count": 109,
   "id": "e404b714-b43b-4c3d-bb97-c691e7a223c6",
   "metadata": {
    "scrolled": true
   },
   "outputs": [],
   "source": [
    "driver = uc.Chrome()\n",
    "driver.get(\"https://www.11st.co.kr/?gclid=CjwKCAiAnKi8BhB0EiwA58DA4RyGJVWD-UEPgBXu925_lOKs7RUrY62ogwYZtMPwlaxTrDK7Nfh1bRoC6cMQAvD_BwE&gad_source=1&utm_term=11+%B9%F8%B0%A1&utm_campaign=%B1%B8%B1%DBPC_11%B9%F8%B0%A1&utm_source=%B1%B8%B1%DB_PC_S&utm_medium=%B0%CB%BB%F6\")\n",
    "home_appliances = [\"LG TV\",\"LG오브제냉장고\",\"LG세탁기\",\"LG건조기\",\"LG에어컨\"]\n",
    "\n",
    "for home in home_appliances:\n",
    "    search = driver.find_element(By.CSS_SELECTOR,\"#tSearch > form > fieldset > input\")\n",
    "    search.send_keys(Keys.CONTROL,'a')\n",
    "    search.send_keys(Keys.DELETE)\n",
    "    time.sleep(1)\n",
    "    search.send_keys(home,Keys.ENTER)\n",
    "    #tSearch > form > fieldset > input\n",
    "    time.sleep(2)"
   ]
  },
  {
   "cell_type": "code",
   "execution_count": 55,
   "id": "55a55cf1-ee63-4ab8-abfe-9a40b9389632",
   "metadata": {},
   "outputs": [],
   "source": [
    "driver.find_element(By.CSS_SELECTOR,\"#tSearch > form > fieldset > input\").send_keys(\"냉장고\",Keys.ENTER)"
   ]
  },
  {
   "cell_type": "code",
   "execution_count": 95,
   "id": "7e8d3c60-b26f-4264-96ae-211474e90cb6",
   "metadata": {},
   "outputs": [],
   "source": [
    "driver.find_element(By.CSS_SELECTOR,\"#tSearch > form > fieldset > input\").clear()"
   ]
  },
  {
   "cell_type": "code",
   "execution_count": 93,
   "id": "c0f62b87-b5bc-455f-91d1-96e805206141",
   "metadata": {},
   "outputs": [
    {
     "ename": "StaleElementReferenceException",
     "evalue": "Message: stale element reference: stale element not found\n  (Session info: chrome=132.0.6834.84); For documentation on this error, please visit: https://www.selenium.dev/documentation/webdriver/troubleshooting/errors#stale-element-reference-exception\nStacktrace:\n\tGetHandleVerifier [0x00970A13+25091]\n\t(No symbol) [0x008FA584]\n\t(No symbol) [0x007DB3B3]\n\t(No symbol) [0x007EACA9]\n\t(No symbol) [0x007E9D75]\n\t(No symbol) [0x007E1723]\n\t(No symbol) [0x007DFAD6]\n\t(No symbol) [0x007E2CEA]\n\t(No symbol) [0x007E2D67]\n\t(No symbol) [0x0081FEBA]\n\t(No symbol) [0x0081FF41]\n\t(No symbol) [0x00817E3A]\n\t(No symbol) [0x00841EAC]\n\t(No symbol) [0x00814DE4]\n\t(No symbol) [0x00842144]\n\t(No symbol) [0x0085B43E]\n\t(No symbol) [0x00841C46]\n\t(No symbol) [0x00813175]\n\t(No symbol) [0x008142FD]\n\tGetHandleVerifier [0x00C66493+3128451]\n\tGetHandleVerifier [0x00C7994B+3207483]\n\tGetHandleVerifier [0x00C745F2+3186146]\n\tGetHandleVerifier [0x00A070C0+641200]\n\t(No symbol) [0x009036BD]\n\t(No symbol) [0x00900738]\n\t(No symbol) [0x009008D6]\n\t(No symbol) [0x008F3040]\n\tBaseThreadInitThunk [0x75E47BA9+25]\n\tRtlInitializeExceptionChain [0x76EBC0CB+107]\n\tRtlClearBits [0x76EBC04F+191]\n",
     "output_type": "error",
     "traceback": [
      "\u001b[1;31m---------------------------------------------------------------------------\u001b[0m",
      "\u001b[1;31mStaleElementReferenceException\u001b[0m            Traceback (most recent call last)",
      "Cell \u001b[1;32mIn[93], line 1\u001b[0m\n\u001b[1;32m----> 1\u001b[0m search\u001b[38;5;241m.\u001b[39msend_keys(Keys\u001b[38;5;241m.\u001b[39mDELETE)\n",
      "File \u001b[1;32m~\\anaconda3\\Lib\\site-packages\\selenium\\webdriver\\remote\\webelement.py:231\u001b[0m, in \u001b[0;36mWebElement.send_keys\u001b[1;34m(self, *value)\u001b[0m\n\u001b[0;32m    228\u001b[0m             remote_files\u001b[38;5;241m.\u001b[39mappend(\u001b[38;5;28mself\u001b[39m\u001b[38;5;241m.\u001b[39m_upload(file))\n\u001b[0;32m    229\u001b[0m         value \u001b[38;5;241m=\u001b[39m \u001b[38;5;28mtuple\u001b[39m(\u001b[38;5;124m\"\u001b[39m\u001b[38;5;130;01m\\n\u001b[39;00m\u001b[38;5;124m\"\u001b[39m\u001b[38;5;241m.\u001b[39mjoin(remote_files))\n\u001b[1;32m--> 231\u001b[0m \u001b[38;5;28mself\u001b[39m\u001b[38;5;241m.\u001b[39m_execute(\n\u001b[0;32m    232\u001b[0m     Command\u001b[38;5;241m.\u001b[39mSEND_KEYS_TO_ELEMENT, {\u001b[38;5;124m\"\u001b[39m\u001b[38;5;124mtext\u001b[39m\u001b[38;5;124m\"\u001b[39m: \u001b[38;5;124m\"\u001b[39m\u001b[38;5;124m\"\u001b[39m\u001b[38;5;241m.\u001b[39mjoin(keys_to_typing(value)), \u001b[38;5;124m\"\u001b[39m\u001b[38;5;124mvalue\u001b[39m\u001b[38;5;124m\"\u001b[39m: keys_to_typing(value)}\n\u001b[0;32m    233\u001b[0m )\n",
      "File \u001b[1;32m~\\anaconda3\\Lib\\site-packages\\selenium\\webdriver\\remote\\webelement.py:395\u001b[0m, in \u001b[0;36mWebElement._execute\u001b[1;34m(self, command, params)\u001b[0m\n\u001b[0;32m    393\u001b[0m     params \u001b[38;5;241m=\u001b[39m {}\n\u001b[0;32m    394\u001b[0m params[\u001b[38;5;124m\"\u001b[39m\u001b[38;5;124mid\u001b[39m\u001b[38;5;124m\"\u001b[39m] \u001b[38;5;241m=\u001b[39m \u001b[38;5;28mself\u001b[39m\u001b[38;5;241m.\u001b[39m_id\n\u001b[1;32m--> 395\u001b[0m \u001b[38;5;28;01mreturn\u001b[39;00m \u001b[38;5;28mself\u001b[39m\u001b[38;5;241m.\u001b[39m_parent\u001b[38;5;241m.\u001b[39mexecute(command, params)\n",
      "File \u001b[1;32m~\\anaconda3\\Lib\\site-packages\\selenium\\webdriver\\remote\\webdriver.py:384\u001b[0m, in \u001b[0;36mWebDriver.execute\u001b[1;34m(self, driver_command, params)\u001b[0m\n\u001b[0;32m    382\u001b[0m response \u001b[38;5;241m=\u001b[39m \u001b[38;5;28mself\u001b[39m\u001b[38;5;241m.\u001b[39mcommand_executor\u001b[38;5;241m.\u001b[39mexecute(driver_command, params)\n\u001b[0;32m    383\u001b[0m \u001b[38;5;28;01mif\u001b[39;00m response:\n\u001b[1;32m--> 384\u001b[0m     \u001b[38;5;28mself\u001b[39m\u001b[38;5;241m.\u001b[39merror_handler\u001b[38;5;241m.\u001b[39mcheck_response(response)\n\u001b[0;32m    385\u001b[0m     response[\u001b[38;5;124m\"\u001b[39m\u001b[38;5;124mvalue\u001b[39m\u001b[38;5;124m\"\u001b[39m] \u001b[38;5;241m=\u001b[39m \u001b[38;5;28mself\u001b[39m\u001b[38;5;241m.\u001b[39m_unwrap_value(response\u001b[38;5;241m.\u001b[39mget(\u001b[38;5;124m\"\u001b[39m\u001b[38;5;124mvalue\u001b[39m\u001b[38;5;124m\"\u001b[39m, \u001b[38;5;28;01mNone\u001b[39;00m))\n\u001b[0;32m    386\u001b[0m     \u001b[38;5;28;01mreturn\u001b[39;00m response\n",
      "File \u001b[1;32m~\\anaconda3\\Lib\\site-packages\\selenium\\webdriver\\remote\\errorhandler.py:232\u001b[0m, in \u001b[0;36mErrorHandler.check_response\u001b[1;34m(self, response)\u001b[0m\n\u001b[0;32m    230\u001b[0m         alert_text \u001b[38;5;241m=\u001b[39m value[\u001b[38;5;124m\"\u001b[39m\u001b[38;5;124malert\u001b[39m\u001b[38;5;124m\"\u001b[39m]\u001b[38;5;241m.\u001b[39mget(\u001b[38;5;124m\"\u001b[39m\u001b[38;5;124mtext\u001b[39m\u001b[38;5;124m\"\u001b[39m)\n\u001b[0;32m    231\u001b[0m     \u001b[38;5;28;01mraise\u001b[39;00m exception_class(message, screen, stacktrace, alert_text)  \u001b[38;5;66;03m# type: ignore[call-arg]  # mypy is not smart enough here\u001b[39;00m\n\u001b[1;32m--> 232\u001b[0m \u001b[38;5;28;01mraise\u001b[39;00m exception_class(message, screen, stacktrace)\n",
      "\u001b[1;31mStaleElementReferenceException\u001b[0m: Message: stale element reference: stale element not found\n  (Session info: chrome=132.0.6834.84); For documentation on this error, please visit: https://www.selenium.dev/documentation/webdriver/troubleshooting/errors#stale-element-reference-exception\nStacktrace:\n\tGetHandleVerifier [0x00970A13+25091]\n\t(No symbol) [0x008FA584]\n\t(No symbol) [0x007DB3B3]\n\t(No symbol) [0x007EACA9]\n\t(No symbol) [0x007E9D75]\n\t(No symbol) [0x007E1723]\n\t(No symbol) [0x007DFAD6]\n\t(No symbol) [0x007E2CEA]\n\t(No symbol) [0x007E2D67]\n\t(No symbol) [0x0081FEBA]\n\t(No symbol) [0x0081FF41]\n\t(No symbol) [0x00817E3A]\n\t(No symbol) [0x00841EAC]\n\t(No symbol) [0x00814DE4]\n\t(No symbol) [0x00842144]\n\t(No symbol) [0x0085B43E]\n\t(No symbol) [0x00841C46]\n\t(No symbol) [0x00813175]\n\t(No symbol) [0x008142FD]\n\tGetHandleVerifier [0x00C66493+3128451]\n\tGetHandleVerifier [0x00C7994B+3207483]\n\tGetHandleVerifier [0x00C745F2+3186146]\n\tGetHandleVerifier [0x00A070C0+641200]\n\t(No symbol) [0x009036BD]\n\t(No symbol) [0x00900738]\n\t(No symbol) [0x009008D6]\n\t(No symbol) [0x008F3040]\n\tBaseThreadInitThunk [0x75E47BA9+25]\n\tRtlInitializeExceptionChain [0x76EBC0CB+107]\n\tRtlClearBits [0x76EBC04F+191]\n"
     ]
    }
   ],
   "source": [
    "search.send_keys(Keys.DELETE)"
   ]
  }
 ],
 "metadata": {
  "kernelspec": {
   "display_name": "Python [conda env:base] *",
   "language": "python",
   "name": "conda-base-py"
  },
  "language_info": {
   "codemirror_mode": {
    "name": "ipython",
    "version": 3
   },
   "file_extension": ".py",
   "mimetype": "text/x-python",
   "name": "python",
   "nbconvert_exporter": "python",
   "pygments_lexer": "ipython3",
   "version": "3.12.7"
  }
 },
 "nbformat": 4,
 "nbformat_minor": 5
}
