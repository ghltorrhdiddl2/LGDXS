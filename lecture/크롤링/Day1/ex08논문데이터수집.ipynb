{
 "cells": [
  {
   "cell_type": "markdown",
   "id": "a2d2cda5-aabf-4467-94b4-7080fae6faad",
   "metadata": {},
   "source": [
    "# 논문에서 타이틀과 논문 링크수집 -> 다중페이지 처리\n",
    "- 속성 수집하는 방법\n",
    "- selenium으로 페이지 전환하는 방법\n",
    "- 사람처럼 코딩 짜는 방법"
   ]
  },
  {
   "cell_type": "code",
   "execution_count": 20,
   "id": "4986d9db-2b10-48ff-95f1-f7f432c26db1",
   "metadata": {},
   "outputs": [],
   "source": [
    "from selenium import webdriver as wb\n",
    "from selenium.webdriver.common.by import By\n",
    "from selenium.webdriver.common.keys import Keys\n",
    "import time"
   ]
  },
  {
   "cell_type": "code",
   "execution_count": 40,
   "id": "4f4e90ff-8414-4ea7-8936-e99268054ce4",
   "metadata": {},
   "outputs": [],
   "source": [
    "# 1. 브라우저 실행하고 사이트 이동\n",
    "driver = wb.Chrome()\n",
    "driver.get(\"https://scholar.google.co.kr/\")"
   ]
  },
  {
   "cell_type": "code",
   "execution_count": 26,
   "id": "ed9d6780-4895-4134-a836-449a2d0d8dec",
   "metadata": {},
   "outputs": [],
   "source": [
    "# 2. 화면을 최대화 시키기\n",
    "driver.maximize_window()"
   ]
  },
  {
   "cell_type": "code",
   "execution_count": 42,
   "id": "c9ec1663-d8be-44e1-a085-24059466572c",
   "metadata": {},
   "outputs": [],
   "source": [
    "# 검색창에 \"크롤링\"입력 후 검색하기\n",
    "# 검색창 찾기 -> 값을 입력 -> 검색\n",
    "driver.find_element(By.CSS_SELECTOR,\"#gs_hdr_tsi\").send_keys(\"크롤링\")\n",
    "driver.find_element(By.CSS_SELECTOR,\"#gs_hdr_tsb\").click()"
   ]
  },
  {
   "cell_type": "markdown",
   "id": "dc0c41ce-6516-460c-ae65-d782ebea08be",
   "metadata": {},
   "source": [
    "## 서버에서 selenium을 로봇으로 감지한 경우\n",
    "- 최근 크롤링을 막는 추세 -> 데이터 보안, 서버공격 등..\n",
    "- 방법을 2가지로 해결이 가능 -> req로 시도, 새로운 감지되지 않는 브라우저 필요\n",
    "  - 감지되지 않는 크롬 드라이버 : undetected-chromedriver"
   ]
  },
  {
   "cell_type": "code",
   "execution_count": 46,
   "id": "a6d2cda8-9be0-4a3c-8d0a-35da2d26d4d5",
   "metadata": {
    "scrolled": true
   },
   "outputs": [
    {
     "name": "stdout",
     "output_type": "stream",
     "text": [
      "Collecting undetected-chromedriver\n",
      "  Downloading undetected-chromedriver-3.5.5.tar.gz (65 kB)\n",
      "  Preparing metadata (setup.py): started\n",
      "  Preparing metadata (setup.py): finished with status 'done'\n",
      "Requirement already satisfied: selenium>=4.9.0 in c:\\users\\lgdxschool2\\anaconda3\\lib\\site-packages (from undetected-chromedriver) (4.27.1)\n",
      "Requirement already satisfied: requests in c:\\users\\lgdxschool2\\anaconda3\\lib\\site-packages (from undetected-chromedriver) (2.32.3)\n",
      "Collecting websockets (from undetected-chromedriver)\n",
      "  Downloading websockets-14.1-cp312-cp312-win_amd64.whl.metadata (6.9 kB)\n",
      "Requirement already satisfied: urllib3<3,>=1.26 in c:\\users\\lgdxschool2\\anaconda3\\lib\\site-packages (from urllib3[socks]<3,>=1.26->selenium>=4.9.0->undetected-chromedriver) (2.2.3)\n",
      "Requirement already satisfied: trio~=0.17 in c:\\users\\lgdxschool2\\anaconda3\\lib\\site-packages (from selenium>=4.9.0->undetected-chromedriver) (0.28.0)\n",
      "Requirement already satisfied: trio-websocket~=0.9 in c:\\users\\lgdxschool2\\anaconda3\\lib\\site-packages (from selenium>=4.9.0->undetected-chromedriver) (0.11.1)\n",
      "Requirement already satisfied: certifi>=2021.10.8 in c:\\users\\lgdxschool2\\anaconda3\\lib\\site-packages (from selenium>=4.9.0->undetected-chromedriver) (2024.12.14)\n",
      "Requirement already satisfied: typing_extensions~=4.9 in c:\\users\\lgdxschool2\\anaconda3\\lib\\site-packages (from selenium>=4.9.0->undetected-chromedriver) (4.11.0)\n",
      "Requirement already satisfied: websocket-client~=1.8 in c:\\users\\lgdxschool2\\anaconda3\\lib\\site-packages (from selenium>=4.9.0->undetected-chromedriver) (1.8.0)\n",
      "Requirement already satisfied: charset-normalizer<4,>=2 in c:\\users\\lgdxschool2\\anaconda3\\lib\\site-packages (from requests->undetected-chromedriver) (3.3.2)\n",
      "Requirement already satisfied: idna<4,>=2.5 in c:\\users\\lgdxschool2\\anaconda3\\lib\\site-packages (from requests->undetected-chromedriver) (3.7)\n",
      "Requirement already satisfied: attrs>=23.2.0 in c:\\users\\lgdxschool2\\anaconda3\\lib\\site-packages (from trio~=0.17->selenium>=4.9.0->undetected-chromedriver) (24.3.0)\n",
      "Requirement already satisfied: sortedcontainers in c:\\users\\lgdxschool2\\anaconda3\\lib\\site-packages (from trio~=0.17->selenium>=4.9.0->undetected-chromedriver) (2.4.0)\n",
      "Requirement already satisfied: outcome in c:\\users\\lgdxschool2\\anaconda3\\lib\\site-packages (from trio~=0.17->selenium>=4.9.0->undetected-chromedriver) (1.3.0.post0)\n",
      "Requirement already satisfied: sniffio>=1.3.0 in c:\\users\\lgdxschool2\\anaconda3\\lib\\site-packages (from trio~=0.17->selenium>=4.9.0->undetected-chromedriver) (1.3.0)\n",
      "Requirement already satisfied: cffi>=1.14 in c:\\users\\lgdxschool2\\anaconda3\\lib\\site-packages (from trio~=0.17->selenium>=4.9.0->undetected-chromedriver) (1.17.1)\n",
      "Requirement already satisfied: wsproto>=0.14 in c:\\users\\lgdxschool2\\anaconda3\\lib\\site-packages (from trio-websocket~=0.9->selenium>=4.9.0->undetected-chromedriver) (1.2.0)\n",
      "Requirement already satisfied: pysocks!=1.5.7,<2.0,>=1.5.6 in c:\\users\\lgdxschool2\\anaconda3\\lib\\site-packages (from urllib3[socks]<3,>=1.26->selenium>=4.9.0->undetected-chromedriver) (1.7.1)\n",
      "Requirement already satisfied: pycparser in c:\\users\\lgdxschool2\\anaconda3\\lib\\site-packages (from cffi>=1.14->trio~=0.17->selenium>=4.9.0->undetected-chromedriver) (2.21)\n",
      "Requirement already satisfied: h11<1,>=0.9.0 in c:\\users\\lgdxschool2\\anaconda3\\lib\\site-packages (from wsproto>=0.14->trio-websocket~=0.9->selenium>=4.9.0->undetected-chromedriver) (0.14.0)\n",
      "Downloading websockets-14.1-cp312-cp312-win_amd64.whl (163 kB)\n",
      "Building wheels for collected packages: undetected-chromedriver\n",
      "  Building wheel for undetected-chromedriver (setup.py): started\n",
      "  Building wheel for undetected-chromedriver (setup.py): finished with status 'done'\n",
      "  Created wheel for undetected-chromedriver: filename=undetected_chromedriver-3.5.5-py3-none-any.whl size=47130 sha256=b964c0fcd43903628a8ba6c66f3a00521fbce1f6af54d67f3b53adb63b86bd16\n",
      "  Stored in directory: c:\\users\\lgdxschool2\\appdata\\local\\pip\\cache\\wheels\\c4\\f1\\aa\\9de6cf276210554d91e9c0526864563e850a428c5e76da4914\n",
      "Successfully built undetected-chromedriver\n",
      "Installing collected packages: websockets, undetected-chromedriver\n",
      "Successfully installed undetected-chromedriver-3.5.5 websockets-14.1\n"
     ]
    }
   ],
   "source": [
    "# 라이브러리 설치\n",
    "!pip install undetected-chromedriver"
   ]
  },
  {
   "cell_type": "code",
   "execution_count": 48,
   "id": "4ec3e23c-c7e3-42b4-8fb5-f08ef76615c6",
   "metadata": {},
   "outputs": [],
   "source": [
    "import undetected_chromedriver as uc"
   ]
  },
  {
   "cell_type": "code",
   "execution_count": 55,
   "id": "824f9565-e6ac-43ad-b317-52739dc57461",
   "metadata": {},
   "outputs": [],
   "source": [
    "# 사용법은 selenium과 다 똑같음 -> 실행하는 주체만 다르다\n",
    "driver = uc.Chrome()\n",
    "driver.get(\"https://scholar.google.co.kr/\")"
   ]
  },
  {
   "cell_type": "code",
   "execution_count": 52,
   "id": "6ab33763-c0f7-4068-a7ca-6062a3e3095d",
   "metadata": {},
   "outputs": [],
   "source": [
    "driver.find_element(By.CSS_SELECTOR,\"#gs_hdr_tsi\").send_keys(\"크롤링\")\n",
    "driver.find_element(By.CSS_SELECTOR,\"#gs_hdr_tsb\").click()"
   ]
  },
  {
   "cell_type": "markdown",
   "id": "a96f4b53-736f-477a-9135-a2e8c1cb41e3",
   "metadata": {},
   "source": [
    "- 막힘. ==> 불가능한 사이트 이다"
   ]
  },
  {
   "cell_type": "code",
   "execution_count": null,
   "id": "c67a8422-32be-487f-b0fb-e1ae20f6aa0e",
   "metadata": {},
   "outputs": [],
   "source": []
  }
 ],
 "metadata": {
  "kernelspec": {
   "display_name": "Python [conda env:base] *",
   "language": "python",
   "name": "conda-base-py"
  },
  "language_info": {
   "codemirror_mode": {
    "name": "ipython",
    "version": 3
   },
   "file_extension": ".py",
   "mimetype": "text/x-python",
   "name": "python",
   "nbconvert_exporter": "python",
   "pygments_lexer": "ipython3",
   "version": "3.12.7"
  }
 },
 "nbformat": 4,
 "nbformat_minor": 5
}
