{
 "cells": [
  {
   "cell_type": "markdown",
   "id": "a5fc90c3-1b75-4c5f-ae9c-d60f6bdb3f1c",
   "metadata": {},
   "source": [
    "#### 동영상 출력\n",
    "- https://www.pexels.com/ko-kr/"
   ]
  },
  {
   "cell_type": "code",
   "execution_count": 1,
   "id": "4d3d2c3e-eb19-4295-a04d-932663222a83",
   "metadata": {},
   "outputs": [
    {
     "name": "stdout",
     "output_type": "stream",
     "text": [
      "동영상 종료\n"
     ]
    }
   ],
   "source": [
    "import cv2\n",
    "cap = cv2.VideoCapture('./data/happyCat_25fps.mp4')\n",
    "# 영상이 언제 끝날지 모름\n",
    "# -- 사진 몇 장 출력될지 모르지만, 계속됨\n",
    "while True:\n",
    "    ret, frame = cap.read() # ret: 성공여부(True, False), frame: 받아온 이미지(프레임)\n",
    "    if not ret:\n",
    "        print('동영상 재생 끝')\n",
    "        break\n",
    "    # 동영상 frame 출력\n",
    "    cv2.imshow('happyCat_25fps',frame)\n",
    "    \n",
    "    if cv2.waitKey(26) == ord('q'):\n",
    "        print('동영상 종료')\n",
    "        break\n",
    "# 카메라, 동영상 cap기능 상실\n",
    "cap.release() # 자원해제\n",
    "cv2.destroyAllWindows() # 모든 창 닫기"
   ]
  },
  {
   "cell_type": "markdown",
   "id": "fd3a4f16-9f06-4df4-b205-b25b8a490ee2",
   "metadata": {},
   "source": [
    "- cv2.waitKey(delay) 함수: 프레임간의 간격을 제어하고 사용자의 입력을 처리할 수 있음\n",
    "  - 주어진 시간(밀리초) 동안 사용자의 키 입력을 기다림, 사용자의 입력이 들어올때가지 대기하며, 해당 키의 아스키 코드를 반환\n",
    "  - 매개변수 delay는 대기 시간을 나타내는 값으로 밀리초 단위. 30이 적히면 30밀리초 동안 사용자의 키 입력 대기\n",
    "  - 1000ms는 1s 대기, 500ms는 0.5s 대기, 0은 무한대기"
   ]
  },
  {
   "cell_type": "markdown",
   "id": "a4eee51c-d87a-44b5-8318-bd1b1b17267b",
   "metadata": {},
   "source": [
    "#### 카메라 출력"
   ]
  },
  {
   "cell_type": "code",
   "execution_count": 2,
   "id": "a6cbe85a-bfae-4f8a-ae71-9f4a70b94c3d",
   "metadata": {},
   "outputs": [
    {
     "name": "stdout",
     "output_type": "stream",
     "text": [
      "동영상 종료\n"
     ]
    }
   ],
   "source": [
    "import cv2\n",
    "# cap = cv2.VideoCapture('./data/happyCat_25fps.mp4')   # 동영상 파일 연결\n",
    "cap = cv2.VideoCapture(1)     # 1번 카메라 연결\n",
    "\n",
    "while True:\n",
    "    ret, frame = cap.read()\n",
    "    if not ret:\n",
    "        print('동영상 재생 끝')\n",
    "        break\n",
    "    # 동영상 frame 출력\n",
    "    cv2.imshow('camera capture',frame)\n",
    "    \n",
    "    if cv2.waitKey(26) == ord('q'):\n",
    "        print('동영상 종료')\n",
    "        break\n",
    "\n",
    "cap.release() # 자원해제\n",
    "cv2.destroyAllWindows()"
   ]
  },
  {
   "cell_type": "code",
   "execution_count": 3,
   "id": "00f7ca36-e4a6-425c-a127-0b04ef5fd6db",
   "metadata": {},
   "outputs": [
    {
     "ename": "SyntaxError",
     "evalue": "invalid syntax (1262326594.py, line 26)",
     "output_type": "error",
     "traceback": [
      "\u001b[1;36m  Cell \u001b[1;32mIn[3], line 26\u001b[1;36m\u001b[0m\n\u001b[1;33m    b        print(f'./data/cat{cnt}.png 파일 저장')\u001b[0m\n\u001b[1;37m             ^\u001b[0m\n\u001b[1;31mSyntaxError\u001b[0m\u001b[1;31m:\u001b[0m invalid syntax\n"
     ]
    }
   ],
   "source": [
    "import cv2\n",
    "# 카메라가 안읽어질 때, cv2 에러 -> 커널 다운\n",
    "try:\n",
    "    cap = cv2.VideoCapture('./data/happyCat_25fps.mp4')\n",
    "    print('비디오 캡쳐 시작')\n",
    "except:\n",
    "    print('비디오 캡쳐 실패')\n",
    "\n",
    "cnt=0\n",
    "while True:\n",
    "    ret, frame = cap.read()\n",
    "    if not ret:\n",
    "        print('비디오 읽기 실패 또는 비디오 모두 읽음')\n",
    "        break\n",
    "\n",
    "    cv2.imshow('camera capture',frame) # 출력하는 코드\n",
    "    key = cv2.waitKey(33)\n",
    "    \n",
    "    if key == ord('q'):\n",
    "        print('동영상 종료')\n",
    "        break\n",
    "    # 'w' frame 저장(사진찍기)\n",
    "    if key == ord('w'):\n",
    "        # 저장 기능 연결\n",
    "        cnt += 1\n",
    "        print(f'./data/cat{cnt}.png 파일 저장')\n",
    "        cv2.imwrite(f'./data/cat{cnt}.png', frame, params=[cv2.IMWRITE_PNG_COMPRESSION,0])   # COMPRESSION:압축률 0은 압축하지 않는다는 의미\n",
    "\n",
    "cap.release()\n",
    "cv2.destroyAllWindows()"
   ]
  },
  {
   "cell_type": "markdown",
   "id": "9b6a910e-a6a9-4c05-a7e6-1f7a85c2544e",
   "metadata": {},
   "source": [
    "#### 카메라를 출력(capture)하고 frame 단위로 이미지 저장"
   ]
  },
  {
   "cell_type": "code",
   "execution_count": null,
   "id": "1ee9fcc7-d4f9-41a5-81eb-2d6dcfa3bd8a",
   "metadata": {},
   "outputs": [],
   "source": [
    "import cv2\n",
    "# 카메라가 안읽어질 때, cv2 에러 -> 커널 다운\n",
    "try:\n",
    "    cap = cv2.VideoCapture(1)\n",
    "    print('비디오 캡쳐 시작')\n",
    "except:\n",
    "    print('비디오 캡쳐 실패')\n",
    "\n",
    "cnt=0\n",
    "while True:\n",
    "    ret, frame = cap.read()\n",
    "    if not ret:\n",
    "        print('비디오 읽기 실패 또는 비디오 모두 읽음')\n",
    "        break\n",
    "\n",
    "    cv2.imshow('camera capture',frame) # 출력하는 코드\n",
    "    key = cv2.waitKey(33)\n",
    "    \n",
    "    if key == ord('q'):\n",
    "        print('동영상 종료')\n",
    "        break\n",
    "    # 'w' frame 저장(사진찍기)\n",
    "    if key == ord('w'):\n",
    "        # 저장 기능 연결\n",
    "        cnt += 1\n",
    "        print(f'./data/cam{cnt}.png 파일 저장')\n",
    "        cv2.imwrite(f'./data/cam{cnt}.png', frame, params=[cv2.IMWRITE_PNG_COMPRESSION,0])   # COMPRESSION:압축률 0은 압축하지 않는다는 의미\n",
    "\n",
    "cap.release()\n",
    "cv2.destroyAllWindows()"
   ]
  },
  {
   "cell_type": "markdown",
   "id": "4f4a06fa-8902-4227-8330-6ba83699d6c3",
   "metadata": {},
   "source": [
    "#### 저장된 이미지 불러와서 인생네컷처럼 표현하기"
   ]
  },
  {
   "cell_type": "code",
   "execution_count": null,
   "id": "11c4766b-968e-44ee-99d1-e9024384b7c1",
   "metadata": {},
   "outputs": [],
   "source": [
    "import matplotlib.pyplot as plt\n",
    "\n",
    "for i in range(1,5):\n",
    "    selca = cv2.imread(f\"./data/cam{i}.png\")\n",
    "    # plt. brg -> rgb\n",
    "    selca = cv2.cvtColor(selca, cv2.COLOR_BGR2RGB)\n",
    "    \n",
    "    # subplot()\n",
    "    plt.subplot(2,2,i)\n",
    "    plt.axis('off')\n",
    "    plt.title(f'selca{i}')\n",
    "    plt.imshow(selca)"
   ]
  },
  {
   "cell_type": "code",
   "execution_count": null,
   "id": "809cec88-0959-4f5e-9212-73dd6576823d",
   "metadata": {},
   "outputs": [],
   "source": [
    "import matplotlib.pyplot as plt\n",
    "\n",
    "for i in range(1,5):\n",
    "    cat = cv2.imread(f\"./data/cat{i}.png\")\n",
    "    # plt. brg -> rgb\n",
    "    cat = cv2.cvtColor(cat, cv2.COLOR_BGR2RGB)\n",
    "    \n",
    "    # subplot()\n",
    "    plt.subplot(2,2,i)\n",
    "    plt.axis('off')\n",
    "    plt.title(f'cat{i}')\n",
    "    plt.imshow(cat)"
   ]
  },
  {
   "cell_type": "markdown",
   "id": "78ee7744-f941-4f26-b0a9-3f9bbb70f36e",
   "metadata": {},
   "source": [
    "- cv2.imwrite() : 현재 프레임을 저장\n",
    "  - filename : 저장할 파일 이름\n",
    "  - frame : 저장할 프레임\n",
    "  - params=[cv2.IMWRITE_PNG_COMPRESSION, 0]) : 압축 하지 않는 PNG, 세 번째 파라미터는 압축률로 0~9까지 설정 가능 (0은 압축 없음)\n",
    "- pic.png 파일이 저장되었는지 확인"
   ]
  },
  {
   "cell_type": "markdown",
   "id": "4be22b19-56af-454f-81f2-60a021b567f5",
   "metadata": {},
   "source": [
    "----"
   ]
  },
  {
   "cell_type": "markdown",
   "id": "743d0078-3aa1-4233-980e-2a37ab2571cc",
   "metadata": {},
   "source": [
    "#### 얼굴영역 선택해서 바운딩박스 표현하기\n",
    "- Bounding Box(경계선 박스, 영역 박스 표시): 사각형의 박스모양 표시\n",
    "- 이미지 위에 사각형 도형을 좌표를 찍어서 그리는 실습"
   ]
  },
  {
   "cell_type": "code",
   "execution_count": null,
   "id": "20e2efc7-9a72-4f45-a87e-3fc71c3f861d",
   "metadata": {},
   "outputs": [],
   "source": [
    "!pip list"
   ]
  },
  {
   "cell_type": "code",
   "execution_count": null,
   "id": "d9957a57-3df4-406f-b8e4-60c42d0baf76",
   "metadata": {},
   "outputs": [],
   "source": [
    "# X,Y\n",
    "# 열,행"
   ]
  },
  {
   "attachments": {
    "77915391-f45f-423d-a129-4ddb8ec9c044.png": {
     "image/png": "[encoded data removed]"
    }
   },
   "cell_type": "markdown",
   "id": "18527a19-7f05-4510-ae5d-35cd9fbf19cc",
   "metadata": {},
   "source": [
    "- cv2.rectangle(): 사각형 그리는 기능\n",
    "  <br><br>\n",
    "<img src=\"attachment:77915391-f45f-423d-a129-4ddb8ec9c044.png\" width=\"490\" height=\"490\"/>"
   ]
  },
  {
   "cell_type": "code",
   "execution_count": null,
   "id": "15d7d632-8d23-4540-aabb-2a0111f3e965",
   "metadata": {},
   "outputs": [],
   "source": [
    "# 예시\n",
    "import cv2\n",
    "import numpy as np\n",
    "# 검은색 배경의 배열 이미지 생성\n",
    "img = np.zeros((480,640,3))  # 컬러이미지\n",
    "# cv2.rectangle(img,(x,y),(x,y), 색상, 두께)\n",
    "cv2.rectangle(img, (0,0),(320,240), [255,0,0], 5)  # 속이 빈 사각형, 선의 두께 지정\n",
    "cv2.rectangle(img, (0,240),(400,480), [255,255,0], cv2.FILLED)  # 속이 찬 사각형, 두께를 지정하지 않고 cv2.FILLED\n",
    "\n",
    "cv2.imshow('zeros',img)\n",
    "cv2.waitKey(0)\n",
    "cv2.destroyAllWindows()"
   ]
  },
  {
   "cell_type": "markdown",
   "id": "e706bfba-bf34-46dd-88ec-12b2442e561b",
   "metadata": {},
   "source": [
    "##### text 표현하기"
   ]
  },
  {
   "cell_type": "code",
   "execution_count": null,
   "id": "93f09043-7be1-4032-aa83-dcdc9d39d284",
   "metadata": {},
   "outputs": [],
   "source": [
    "img = np.zeros((480,640,3))\n",
    "\n",
    "cv2.rectangle(img, (0,0),(320,240), [255,0,0], 5)\n",
    "cv2.rectangle(img, (0,240),(400,480), [255,255,0], cv2.FILLED)\n",
    "\n",
    "# 텍스트 추가: cv2.putText(배경이미지, 텍스트내용, 시작위치(x,y), 폰트종류, 크기, 색상, 두께)\n",
    "cv2.putText(img, 'Happy cat', (20,200), cv2.FONT_HERSHEY_PLAIN,4,[0,255,255],4)\n",
    "cv2.putText(img, 'cat face', (20,400), cv2.FONT_HERSHEY_DUPLEX,3,[255,0,0],3)\n",
    "cv2.putText(img, 'cat face', (400,200), cv2.FONT_HERSHEY_PLAIN,3,[200,100,155],3)\n",
    "cv2.imshow('zeros',img)\n",
    "cv2.waitKey(0)\n",
    "cv2.destroyAllWindows()"
   ]
  },
  {
   "cell_type": "markdown",
   "id": "c41bf32e-9658-4f03-b712-9aa9f9c45212",
   "metadata": {},
   "source": [
    "- cat 이미지 1장 불러와서 얼굴 1개의 B-Box 표시하고, 텍스트로 00's face 출력하기"
   ]
  },
  {
   "cell_type": "code",
   "execution_count": 14,
   "id": "aac1cdf7-4d6b-4762-b442-03367f322e24",
   "metadata": {},
   "outputs": [],
   "source": [
    "import matplotlib.pyplot as plt\n",
    "\n",
    "cat_img = cv2.imread('./data/cat3.png')\n",
    "# plt.axis('off')\n",
    "# plt.show()\n",
    "\n",
    "cv2.rectangle(cat_img,(200,110),(350,240),[0,150,255],4)\n",
    "cv2.putText(cat_img,\"cat's face\",(160,100), cv2.FONT_HERSHEY_PLAIN, 3,[0,150,255],3)\n",
    "cv2.imshow('cat_face',cat_img)\n",
    "cv2.waitKey(0)\n",
    "cv2.destroyAllWindows()"
   ]
  },
  {
   "cell_type": "markdown",
   "id": "c1b3c553-a579-4897-8fb9-be9fe34626cd",
   "metadata": {},
   "source": [
    "### cvlib 얼굴 영역 인식하기\n",
    "- !pip install cvlib\n",
    "- 얼굴 영역 확인 코드 실행"
   ]
  },
  {
   "cell_type": "code",
   "execution_count": 7,
   "id": "7593fdf7-4937-46f7-9718-6559770960ec",
   "metadata": {
    "scrolled": true
   },
   "outputs": [
    {
     "name": "stdout",
     "output_type": "stream",
     "text": [
      "Requirement already satisfied: cvlib in c:\\users\\lgdxschool2\\anaconda3\\envs\\opencv_study\\lib\\site-packages (0.2.7)\n",
      "Requirement already satisfied: numpy in c:\\users\\lgdxschool2\\anaconda3\\envs\\opencv_study\\lib\\site-packages (from cvlib) (2.2.3)\n",
      "Requirement already satisfied: progressbar in c:\\users\\lgdxschool2\\anaconda3\\envs\\opencv_study\\lib\\site-packages (from cvlib) (2.5)\n",
      "Requirement already satisfied: requests in c:\\users\\lgdxschool2\\anaconda3\\envs\\opencv_study\\lib\\site-packages (from cvlib) (2.32.3)\n",
      "Requirement already satisfied: pillow in c:\\users\\lgdxschool2\\anaconda3\\envs\\opencv_study\\lib\\site-packages (from cvlib) (11.1.0)\n",
      "Requirement already satisfied: imageio in c:\\users\\lgdxschool2\\anaconda3\\envs\\opencv_study\\lib\\site-packages (from cvlib) (2.37.0)\n",
      "Requirement already satisfied: imutils in c:\\users\\lgdxschool2\\anaconda3\\envs\\opencv_study\\lib\\site-packages (from cvlib) (0.5.4)\n",
      "Requirement already satisfied: charset-normalizer<4,>=2 in c:\\users\\lgdxschool2\\anaconda3\\envs\\opencv_study\\lib\\site-packages (from requests->cvlib) (3.4.1)\n",
      "Requirement already satisfied: idna<4,>=2.5 in c:\\users\\lgdxschool2\\anaconda3\\envs\\opencv_study\\lib\\site-packages (from requests->cvlib) (3.10)\n",
      "Requirement already satisfied: urllib3<3,>=1.21.1 in c:\\users\\lgdxschool2\\anaconda3\\envs\\opencv_study\\lib\\site-packages (from requests->cvlib) (2.3.0)\n",
      "Requirement already satisfied: certifi>=2017.4.17 in c:\\users\\lgdxschool2\\anaconda3\\envs\\opencv_study\\lib\\site-packages (from requests->cvlib) (2025.1.31)\n"
     ]
    }
   ],
   "source": [
    "# !pip install cvlib"
   ]
  },
  {
   "cell_type": "code",
   "execution_count": 2,
   "id": "59578fc6-cac3-42e1-8bc2-d68f7d92114b",
   "metadata": {},
   "outputs": [],
   "source": [
    "import cv2 # opencv\n",
    "import cvlib as cv  # cvlib\n",
    "import numpy as np"
   ]
  },
  {
   "cell_type": "code",
   "execution_count": 28,
   "id": "6db5036d-66c7-4f2f-a386-6771a15b3af9",
   "metadata": {},
   "outputs": [
    {
     "name": "stdout",
     "output_type": "stream",
     "text": [
      "[[np.int64(257), np.int64(195), np.int64(369), np.int64(349)]] [np.float32(0.99347275)]\n"
     ]
    }
   ],
   "source": [
    "img = cv2.imread('./data/cam2.png')\n",
    "\n",
    "faces,confs = cv.detect_face(img)\n",
    "print(faces,confs)\n",
    "# (얼굴좌표(x,y,x,y), 확신하는 정도(confidence))\n",
    "\n",
    "cv2.rectangle(img,(faces[0][0],faces[0][1]),(faces[0][2],faces[0][3]),[0,150,255],4)\n",
    "cv2.putText(img,\"face\",(faces[0][0],faces[0][0]-100), cv2.FONT_HERSHEY_PLAIN, 3,[0,150,255],3)\n",
    "cv2.imshow('face',img)\n",
    "cv2.waitKey(0)\n",
    "cv2.destroyAllWindows()"
   ]
  },
  {
   "cell_type": "markdown",
   "id": "0f778c7d-65d9-4b87-bd19-ecfa6411d2e1",
   "metadata": {},
   "source": [
    "#### 카메라에서 얼굴 탐지해서 B-Box 표시하기"
   ]
  },
  {
   "cell_type": "code",
   "execution_count": 12,
   "id": "d314e1a5-7714-4470-af4e-695a31b86d77",
   "metadata": {},
   "outputs": [
    {
     "name": "stdout",
     "output_type": "stream",
     "text": [
      "동영상을 종료\n"
     ]
    }
   ],
   "source": [
    "cap = cv2.VideoCapture(1)\n",
    "\n",
    "while True:\n",
    "    ret, frame = cap.read()\n",
    "    if not ret:\n",
    "        print('동영상 재생 끝')\n",
    "        break\n",
    "    # 얼굴 탐지\n",
    "    faces,confs = cv.detect_face(frame)\n",
    "    # 얼굴 여러개 탐지 경우\n",
    "    for (x,y,x2,y2), conf in zip(faces,confs):\n",
    "        cv2.rectangle(frame,(x,y),(x2,y2),[0,150,255],4)\n",
    "        data_conf = conf*100\n",
    "        cv2.putText(frame,f'{data_conf:.2f}%',(x,y-50), cv2.FONT_HERSHEY_PLAIN, 2,[0,150,255],2)\n",
    "\n",
    "    cv2.imshow('camera capture', frame)\n",
    "    if cv2.waitKey(33) == ord('q'):\n",
    "        print('동영상을 종료')\n",
    "        break\n",
    " \n",
    "cap.release()\n",
    "cv2.destroyAllWindows()"
   ]
  },
  {
   "cell_type": "code",
   "execution_count": null,
   "id": "a3ff337b-110b-4bcb-9fcf-76fa738bc616",
   "metadata": {},
   "outputs": [],
   "source": [
    "for i, face in enumerate(faces):\n",
    "            # 얼굴 주위에 사각형 그리기\n",
    "            cv2.rectangle(frame, (face[0], face[1]), (face[2], face[3]), color, line_th)\n",
    "            # 얼굴 위에 신뢰도 표시\n",
    "            cv2.putText(frame, f'{conf[i]:.2f}', (face[0], face[1] - 10), cv2.FONT_HERSHEY_PLAIN, 2, color, 2)"
   ]
  }
 ],
 "metadata": {
  "kernelspec": {
   "display_name": "Python 3 (ipykernel)",
   "language": "python",
   "name": "python3"
  },
  "language_info": {
   "codemirror_mode": {
    "name": "ipython",
    "version": 3
   },
   "file_extension": ".py",
   "mimetype": "text/x-python",
   "name": "python",
   "nbconvert_exporter": "python",
   "pygments_lexer": "ipython3",
   "version": "3.12.9"
  }
 },
 "nbformat": 4,
 "nbformat_minor": 5
}
