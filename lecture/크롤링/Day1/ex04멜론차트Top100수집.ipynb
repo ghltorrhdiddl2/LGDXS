{
 "cells": [
  {
   "cell_type": "markdown",
   "id": "4d88886c-da60-4735-a3b2-6f9bbbab69df",
   "metadata": {},
   "source": [
    "# 음악 데이터로 트렌드를 읽는 똑똑한 음악 소비자 되기\n",
    "[배경 이야기] <br>\n",
    "음악을 사랑하는 대학생 C씨는 멜론에서 최신 인기곡을 자주 듣습니다. 최근 동아리 활동에서 DJ 역할을 맡게 되어, 매주 모임에서 대중이 좋아할 음악을 선곡하는 임무를 받았습니다. 하지만 매번 멜론 앱에서 일일이 인기 차트를 확인하고 선곡을 준비하는 데 시간이 너무 많이 걸려 고민이었습니다.\n",
    " \n",
    "한편, 음악 프로듀서를 꿈꾸는 D씨는 요즘 대중이 어떤 음악을 좋아하는지 데이터로 분석해 새로운 곡을 만들고 싶어합니다. 두 사람은 함께 멜론 차트 데이터를 수집해 대중음악 트렌드를 분석하고 활용하기로 했습니다.\n",
    " \n",
    "### BX : 멜론의 브랜드와 음악 트렌드 신뢰성\n",
    "- 멜론은 국내 대표 음악 스트리밍 플랫폼으로, 실시간 차트를 통해 대중음악 트렌드를 가장 빠르게 보여줍니다.\n",
    "### CX : 사용자 맞춤형 음악 데이터 활용\n",
    "- 매일 실시간으로 바뀌는 인기 차트를 자동으로 수집해, 사용자 경험을 개선합니다.\n",
    "### DX : 자동화된 음악 데이터 수집과 시각화\n",
    "-  Requests와 BeautifulSoup를 활용해 멜론의 Top 100 차트를 자동으로 크롤링하고 분석합니다."
   ]
  },
  {
   "cell_type": "code",
   "execution_count": 2,
   "id": "a20aa6a0-d7cd-4642-b6a7-06946fe89f22",
   "metadata": {},
   "outputs": [],
   "source": [
    "import requests as req\n",
    "from bs4 import BeautifulSoup as bs\n",
    "import pandas as pd"
   ]
  },
  {
   "cell_type": "code",
   "execution_count": 10,
   "id": "4c574ece-7e7c-4745-bfb1-685f2953344b",
   "metadata": {},
   "outputs": [
    {
     "data": {
      "text/plain": [
       "<Response [406]>"
      ]
     },
     "execution_count": 10,
     "metadata": {},
     "output_type": "execute_result"
    }
   ],
   "source": [
    "# 1. 멜론차트 사이트 요청해서 받아오기\n",
    "res = req.get(\"https://www.melon.com/chart/index.htm\")\n",
    "res  # [406] ==> 요청에 문제가 있다.(클라이언트 문제_코드로 수정 가능)"
   ]
  },
  {
   "cell_type": "markdown",
   "id": "8a93875f-9e18-4e79-b43e-cb1cb807045d",
   "metadata": {},
   "source": [
    "### 응답코드가 400번대가 나왔다?\n",
    "- Why? 400번대 응답은 요청이 문제 (서버가 요청하는 방식을 거절당함)\n",
    "    - 서버가 브라우저가 아닌 코드로 요청 감지\n",
    "- How? 코드로 요청은 할 건데, 브라우저인척 속이는 작업 -> 브라우저만 가지고 있는 정보를 같이 보내기"
   ]
  },
  {
   "cell_type": "code",
   "execution_count": 78,
   "id": "3f657352-3907-4a41-a5c1-00a823973e26",
   "metadata": {},
   "outputs": [
    {
     "data": {
      "text/plain": [
       "<Response [200]>"
      ]
     },
     "execution_count": 78,
     "metadata": {},
     "output_type": "execute_result"
    }
   ],
   "source": [
    "# 브라우저를 의미하는 데이터를 제작 -> http요청\n",
    "header = {\"User-Agent\":\"Mozilla/5.0 (Windows NT 10.0; Win64; x64) AppleWebKit/537.36 (KHTML, like Gecko) Chrome/131.0.0.0 Safari/537.36\"}\n",
    "# 브라우저 정보를 담아서 재요청\n",
    "res = req.get(\"https://www.melon.com/chart/index.htm\", headers=header)\n",
    "res"
   ]
  },
  {
   "cell_type": "code",
   "execution_count": 146,
   "id": "8fa88627-c960-4458-8897-4740399d7f2a",
   "metadata": {},
   "outputs": [],
   "source": [
    "# 데이터 파싱작업\n",
    "soup = bs(res.text)\n",
    "# 순위 데이터 수집\n",
    "rank = soup.select('td:nth-child(2) > div > span.rank')\n",
    "# 노래제목 수집\n",
    "title = soup.select('div.ellipsis.rank01 > span > a')\n",
    "# 가수이름 수집\n",
    "singer = soup.select('td:nth-child(6) > div > div > div.ellipsis.rank02 > span')\n",
    "\n",
    "rank_list = [];title_list = [];singer_list = []\n",
    "for i in range(100):\n",
    "    rank_list.append(rank[i].text)\n",
    "    title_list.append(title[i].text)\n",
    "    singer_list.append(singer[i].text)"
   ]
  },
  {
   "cell_type": "code",
   "execution_count": 148,
   "id": "9e79bba8-63d5-4032-988c-23e0bd1025fe",
   "metadata": {
    "scrolled": true
   },
   "outputs": [
    {
     "name": "stdout",
     "output_type": "stream",
     "text": [
      "G-DRAGON\n",
      "로제 (ROSÉ), Bruno Mars\n",
      "aespa\n",
      "황가람\n",
      "로제 (ROSÉ)\n"
     ]
    }
   ],
   "source": [
    "# 데이터 중복여부 검사\n",
    "for i in singer[:5]:\n",
    "    print(i.text)"
   ]
  },
  {
   "cell_type": "code",
   "execution_count": 118,
   "id": "8d0c63fc-265b-45f5-b397-46f24a99f81b",
   "metadata": {},
   "outputs": [
    {
     "name": "stdout",
     "output_type": "stream",
     "text": [
      "100 100 100\n"
     ]
    }
   ],
   "source": [
    "# 데이터의 개수가 중요한 경우에는 반드시 개수를 검증하자\n",
    "print(len(rank),len(title),len(singer))  # rank 0 : 순위"
   ]
  },
  {
   "cell_type": "code",
   "execution_count": 122,
   "id": "67ce1136-97dd-4e20-b0b3-5c3e99c6ca65",
   "metadata": {},
   "outputs": [
    {
     "name": "stdout",
     "output_type": "stream",
     "text": [
      "1 HOME SWEET HOME (feat. 태양, 대성) G-DRAGON\n"
     ]
    }
   ],
   "source": [
    "print(rank[0].text,title[0].text,singer[0].text)"
   ]
  },
  {
   "cell_type": "code",
   "execution_count": 150,
   "id": "2bbb9531-16f3-4cfd-a603-27b86b9c2e27",
   "metadata": {},
   "outputs": [],
   "source": [
    "data = {'순위':rank_list,'노래제목':title_list,'가수이름':singer_list}"
   ]
  },
  {
   "cell_type": "code",
   "execution_count": 152,
   "id": "8705bd44-a5b4-4d99-8b19-ca5f9f10af1f",
   "metadata": {},
   "outputs": [
    {
     "data": {
      "text/html": [
       "<div>\n",
       "<style scoped>\n",
       "    .dataframe tbody tr th:only-of-type {\n",
       "        vertical-align: middle;\n",
       "    }\n",
       "\n",
       "    .dataframe tbody tr th {\n",
       "        vertical-align: top;\n",
       "    }\n",
       "\n",
       "    .dataframe thead th {\n",
       "        text-align: right;\n",
       "    }\n",
       "</style>\n",
       "<table border=\"1\" class=\"dataframe\">\n",
       "  <thead>\n",
       "    <tr style=\"text-align: right;\">\n",
       "      <th></th>\n",
       "      <th>순위</th>\n",
       "      <th>노래제목</th>\n",
       "      <th>가수이름</th>\n",
       "    </tr>\n",
       "  </thead>\n",
       "  <tbody>\n",
       "    <tr>\n",
       "      <th>0</th>\n",
       "      <td>1</td>\n",
       "      <td>HOME SWEET HOME (feat. 태양, 대성)</td>\n",
       "      <td>G-DRAGON</td>\n",
       "    </tr>\n",
       "    <tr>\n",
       "      <th>1</th>\n",
       "      <td>2</td>\n",
       "      <td>APT.</td>\n",
       "      <td>로제 (ROSÉ), Bruno Mars</td>\n",
       "    </tr>\n",
       "    <tr>\n",
       "      <th>2</th>\n",
       "      <td>3</td>\n",
       "      <td>Whiplash</td>\n",
       "      <td>aespa</td>\n",
       "    </tr>\n",
       "    <tr>\n",
       "      <th>3</th>\n",
       "      <td>4</td>\n",
       "      <td>나는 반딧불</td>\n",
       "      <td>황가람</td>\n",
       "    </tr>\n",
       "    <tr>\n",
       "      <th>4</th>\n",
       "      <td>5</td>\n",
       "      <td>toxic till the end</td>\n",
       "      <td>로제 (ROSÉ)</td>\n",
       "    </tr>\n",
       "    <tr>\n",
       "      <th>...</th>\n",
       "      <td>...</td>\n",
       "      <td>...</td>\n",
       "      <td>...</td>\n",
       "    </tr>\n",
       "    <tr>\n",
       "      <th>95</th>\n",
       "      <td>96</td>\n",
       "      <td>Nice Guy</td>\n",
       "      <td>BOYNEXTDOOR</td>\n",
       "    </tr>\n",
       "    <tr>\n",
       "      <th>96</th>\n",
       "      <td>97</td>\n",
       "      <td>HERO (From the Film “소방관”)</td>\n",
       "      <td>박효신</td>\n",
       "    </tr>\n",
       "    <tr>\n",
       "      <th>97</th>\n",
       "      <td>98</td>\n",
       "      <td>가까운 듯 먼 그대여</td>\n",
       "      <td>카더가든</td>\n",
       "    </tr>\n",
       "    <tr>\n",
       "      <th>98</th>\n",
       "      <td>99</td>\n",
       "      <td>눈사람</td>\n",
       "      <td>정승환</td>\n",
       "    </tr>\n",
       "    <tr>\n",
       "      <th>99</th>\n",
       "      <td>100</td>\n",
       "      <td>시작의 아이</td>\n",
       "      <td>마크툽 (MAKTUB)</td>\n",
       "    </tr>\n",
       "  </tbody>\n",
       "</table>\n",
       "<p>100 rows × 3 columns</p>\n",
       "</div>"
      ],
      "text/plain": [
       "     순위                            노래제목                   가수이름\n",
       "0     1  HOME SWEET HOME (feat. 태양, 대성)               G-DRAGON\n",
       "1     2                            APT.  로제 (ROSÉ), Bruno Mars\n",
       "2     3                        Whiplash                  aespa\n",
       "3     4                          나는 반딧불                    황가람\n",
       "4     5              toxic till the end              로제 (ROSÉ)\n",
       "..  ...                             ...                    ...\n",
       "95   96                        Nice Guy            BOYNEXTDOOR\n",
       "96   97      HERO (From the Film “소방관”)                    박효신\n",
       "97   98                     가까운 듯 먼 그대여                   카더가든\n",
       "98   99                             눈사람                    정승환\n",
       "99  100                          시작의 아이           마크툽 (MAKTUB)\n",
       "\n",
       "[100 rows x 3 columns]"
      ]
     },
     "execution_count": 152,
     "metadata": {},
     "output_type": "execute_result"
    }
   ],
   "source": [
    "song_df = pd.DataFrame(data)\n",
    "song_df"
   ]
  },
  {
   "cell_type": "code",
   "execution_count": 128,
   "id": "2e21c86a-414c-4949-92fc-cd41d0bda2e2",
   "metadata": {},
   "outputs": [
    {
     "name": "stdout",
     "output_type": "stream",
     "text": [
      "<class 'pandas.core.frame.DataFrame'>\n",
      "RangeIndex: 100 entries, 0 to 99\n",
      "Data columns (total 3 columns):\n",
      " #   Column  Non-Null Count  Dtype \n",
      "---  ------  --------------  ----- \n",
      " 0   순위      100 non-null    object\n",
      " 1   노래제목    100 non-null    object\n",
      " 2   가수이름    100 non-null    object\n",
      "dtypes: object(3)\n",
      "memory usage: 2.5+ KB\n"
     ]
    }
   ],
   "source": [
    "song_df.info()"
   ]
  },
  {
   "cell_type": "code",
   "execution_count": 154,
   "id": "928db96a-c10d-4a4a-8a46-449a8532823a",
   "metadata": {
    "scrolled": true
   },
   "outputs": [],
   "source": [
    "song_df.to_csv('멜론차트Top100수집.csv', index=False,encoding='utf-8-sig')"
   ]
  },
  {
   "cell_type": "markdown",
   "id": "dc1bf56b-7a8a-40df-b960-adc53bf63da2",
   "metadata": {},
   "source": [
    "## 이번파일 정리\n",
    "- req로 요청 보냈을 때 400번대 응답이 나오면 브라우저 정보 담아서 보내주기\n",
    "- 데이터를 수집할 때 개수가 중요하면 반드시 개수, 중복여부 검증해보기\n",
    "- 개발자도구의 element탭에 있는 테그들을 분석 -> 주변에 있는 태그들을 분석해보자"
   ]
  }
 ],
 "metadata": {
  "kernelspec": {
   "display_name": "Python [conda env:base] *",
   "language": "python",
   "name": "conda-base-py"
  },
  "language_info": {
   "codemirror_mode": {
    "name": "ipython",
    "version": 3
   },
   "file_extension": ".py",
   "mimetype": "text/x-python",
   "name": "python",
   "nbconvert_exporter": "python",
   "pygments_lexer": "ipython3",
   "version": "3.12.7"
  }
 },
 "nbformat": 4,
 "nbformat_minor": 5
}
