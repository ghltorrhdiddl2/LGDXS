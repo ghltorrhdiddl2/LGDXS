{
 "cells": [
  {
   "cell_type": "code",
   "execution_count": 1,
   "id": "938c87a0-6f31-445d-9591-7bbdae8de3b5",
   "metadata": {},
   "outputs": [],
   "source": [
    "from selenium import webdriver as wb\n",
    "from selenium.webdriver.common.by import By\n",
    "from selenium.webdriver.common.keys import Keys\n",
    "import time"
   ]
  },
  {
   "cell_type": "code",
   "execution_count": 20,
   "id": "c1e9eb0b-4445-4469-a3f3-a1557f80434a",
   "metadata": {},
   "outputs": [],
   "source": [
    "# 브라우저 실행 -> 네이버지도 이동\n",
    "driver = wb.Chrome()\n",
    "driver.get(\"https://map.naver.com/p?c=15.00,0,0,0,dh\")\n",
    "driver.maximize_window()"
   ]
  },
  {
   "cell_type": "code",
   "execution_count": 21,
   "id": "a30f8e0e-ecad-4021-a03b-2145c4ed97af",
   "metadata": {},
   "outputs": [],
   "source": [
    "# 검색창에 동명동맛집 입력 -> 검색\n",
    "# 선택자가 랜덤으로 변하는 경우가 있다.\n",
    "# How? 변하지 않는 선택자를 찾자 ex) class, 계층선택자\n",
    "search = driver.find_element(By.CSS_SELECTOR,\"input.input_search\")\n",
    "search.send_keys(\"동명동맛집\")\n",
    "search.send_keys(Keys.ENTER)"
   ]
  },
  {
   "cell_type": "code",
   "execution_count": 7,
   "id": "e6bb8cb0-9219-4c18-8e39-bc2c2822929f",
   "metadata": {},
   "outputs": [
    {
     "data": {
      "text/plain": [
       "0"
      ]
     },
     "execution_count": 7,
     "metadata": {},
     "output_type": "execute_result"
    }
   ],
   "source": [
    "# 검색된 가게들의 태그를 수집\n",
    "# Why-> 하나씩 클릭하기 위해서\n",
    "title = driver.find_elements(By.CSS_SELECTOR,\"#_pcmap_list_scroll_container > ul > li > div.CHC5F > a.tzwk0\")\n",
    "len(title)"
   ]
  },
  {
   "cell_type": "markdown",
   "id": "f21ff269-a847-4dd4-9a77-88fa11acdc45",
   "metadata": {},
   "source": [
    "## 화면에는 보이는데.. 접근이 안된다..?\n",
    "- iframe을 의심해봐라\n",
    "- iframe = 다른 서버에 저장된 데이터를 보여주기만 하는 태그\n",
    "- 우리가 필요한건 실제 서버의 주소 -> src속 경로를 파악했다.\n",
    "- 상대경로이면 -> 절대경로로 변경 -> req로 크롤링할 때 사용하는 방식\n",
    "- But! selenium은 브라우저 자체를 제억하는 목적 -> 링크를 옮겨가는게 아닌 화면에서 조작 실행\n",
    "- How? driver가 현재 가지고있는 화면을(처음 검색된 결과) iframe으로 변경"
   ]
  },
  {
   "cell_type": "code",
   "execution_count": 22,
   "id": "ae8cfac3-c1c1-4a65-905b-7cb2bc74f220",
   "metadata": {},
   "outputs": [],
   "source": [
    "# 원본데이터에서 iframe으로 변경\n",
    "# 이동할 iframe태그 찾기 -> 드라이버에게 변경 명령 내리기\n",
    "# 원본에서 iframe으로 변경 -> switch_to.frame(iframe의 태그위치(선택자))\n",
    "search_iframe = driver.find_element(By.CSS_SELECTOR,\"#searchIframe\")\n",
    "driver.switch_to.frame(search_iframe)"
   ]
  },
  {
   "cell_type": "code",
   "execution_count": 9,
   "id": "3ff2c9e8-3614-4aaf-acd8-3c117ade7781",
   "metadata": {},
   "outputs": [
    {
     "data": {
      "text/plain": [
       "30"
      ]
     },
     "execution_count": 9,
     "metadata": {},
     "output_type": "execute_result"
    }
   ],
   "source": [
    "# 다시 수집해보기\n",
    "title = driver.find_elements(By.CSS_SELECTOR,\"#_pcmap_list_scroll_container > ul > li > div.CHC5F > a.tzwk0\")\n",
    "len(title)"
   ]
  },
  {
   "cell_type": "code",
   "execution_count": 23,
   "id": "0a42c67e-07cf-4ffd-b62e-56cb44f26db6",
   "metadata": {},
   "outputs": [],
   "source": [
    "# 전체 결과가 아니다 -> 스크롤링 필요\n",
    "# 기존방식 : body태그에게 키보드의 end를 보내는 방식을 사용\n",
    "# iframe인 경우에는 body에게 스크롤을 명령할 수가 없다.\n",
    "# 해결책 : iframe속 데이터를 담고있는 태그(div) -> 옆에 scroll이라고 태그가 붙은 div가 존재\n",
    "div = driver.find_element(By.CSS_SELECTOR,\"#_pcmap_list_scroll_container\")\n",
    "div.send_keys(Keys.END)"
   ]
  },
  {
   "cell_type": "code",
   "execution_count": 24,
   "id": "c2cd4a3d-29dc-4d6f-8552-1d290dd23a1b",
   "metadata": {},
   "outputs": [],
   "source": [
    "# 기존스크롤 : 임의 횟수만큼 for으로 작성\n",
    "# 단점 : 반복 횟수가 낭비 될 수 있다, 부족할 수 도있다.\n",
    "# while문을 통해서 알아서 끝가지 반복하는 문법\n",
    "# 대화 : 스크롤을 내리기전 데이터와 스크롤을 내린 후 데이터를 비교해라\n",
    "# 만약에 두 데이터가 다르다면 ? 스크롤이 된다 -> 스크롤 해라\n",
    "# 만약에 두 데이터가 같다면? 스크롤이 안된다 -> 스크롤을 멈춰라\n",
    "div = driver.find_element(By.CSS_SELECTOR,\"#_pcmap_list_scroll_container\")\n",
    "while True :\n",
    "    # 내리기 전 데이터를 저장\n",
    "    first_data = driver.page_source\n",
    "    # 스크롤을 내리기\n",
    "    div.send_keys(Keys.END)\n",
    "    # 시간부여\n",
    "    time.sleep(0.5)\n",
    "    # 내린 후 데이터를 저장\n",
    "    last_data = driver.page_source\n",
    "    # 멈추는 조건 부여\n",
    "    if first_data == last_data :\n",
    "        break"
   ]
  },
  {
   "cell_type": "code",
   "execution_count": null,
   "id": "1e1411fc-0179-4c3b-bf78-2315db8d87e9",
   "metadata": {},
   "outputs": [],
   "source": [
    "# 다른 코드에 활용할 때는 div -> body태그로 변경\n",
    "body = driver.find_element(By.CSS_SELECTOR,\"body\")\n",
    "while True :\n",
    "    first_data = driver.page_source\n",
    "    body.send_keys(Keys.END)\n",
    "    time.sleep(0.5)\n",
    "    last_data = driver.page_source\n",
    "    if first_data == last_data :\n",
    "        break"
   ]
  },
  {
   "cell_type": "code",
   "execution_count": 25,
   "id": "3efdf57c-8230-4164-870a-7378ce9dd676",
   "metadata": {},
   "outputs": [
    {
     "data": {
      "text/plain": [
       "76"
      ]
     },
     "execution_count": 25,
     "metadata": {},
     "output_type": "execute_result"
    }
   ],
   "source": [
    "# 스크롤후 데이터 다시 수집\n",
    "title = driver.find_elements(By.CSS_SELECTOR,\"#_pcmap_list_scroll_container > ul > li > div.CHC5F > a.tzwk0\")\n",
    "len(title)"
   ]
  },
  {
   "cell_type": "code",
   "execution_count": 26,
   "id": "65fb665f-0d9a-4d3c-92fe-a32a6461886a",
   "metadata": {},
   "outputs": [],
   "source": [
    "# 첫번째 가게 클릭 -> 디테일 정보\n",
    "title[0].click()"
   ]
  },
  {
   "cell_type": "code",
   "execution_count": null,
   "id": "a4f6b1f5-54e4-44ac-a360-aa4429e9fcc7",
   "metadata": {},
   "outputs": [],
   "source": [
    "# 디테일 창에서 가게이름 수집\n",
    "# 새로운 iframe으로 변환\n",
    "entry_iframe = driver.find_element(By.CSS_SELECTOR,\"#entryIframe\")\n",
    "driver.switch_to.frame(entry_iframe)"
   ]
  },
  {
   "cell_type": "code",
   "execution_count": 27,
   "id": "36fc8134-2d53-44b5-9acf-ae27b228d77b",
   "metadata": {},
   "outputs": [],
   "source": [
    "# 해당 코드가 오류가 나는 이유\n",
    "# 2번 iframe과 3번 iframe은 서로 모르는 관계\n",
    "# how? 2번 -> 원본 -> 3번 \n",
    "# iframe에서 원본으로 이동하는 방법\n",
    "driver.switch_to.default_content()"
   ]
  },
  {
   "cell_type": "code",
   "execution_count": 28,
   "id": "4b1799fa-3201-45a1-893f-6b0282eb8de3",
   "metadata": {},
   "outputs": [],
   "source": [
    "# 다시 iframe으로 이동\n",
    "entry_iframe = driver.find_element(By.CSS_SELECTOR,\"#entryIframe\")\n",
    "driver.switch_to.frame(entry_iframe)"
   ]
  },
  {
   "cell_type": "code",
   "execution_count": 29,
   "id": "3ca08732-1717-4450-be6a-81d5fbe3ebc7",
   "metadata": {},
   "outputs": [
    {
     "data": {
      "text/plain": [
       "'쭈꾸미잡스'"
      ]
     },
     "execution_count": 29,
     "metadata": {},
     "output_type": "execute_result"
    }
   ],
   "source": [
    "# 디테일 속의 가게 이름 수집\n",
    "store_name = driver.find_element(By.CSS_SELECTOR,\"#_title > div > span.GHAhO\")\n",
    "store_name.text"
   ]
  },
  {
   "cell_type": "code",
   "execution_count": 30,
   "id": "591ac22b-af6a-408c-8d0f-7129fb0b1869",
   "metadata": {},
   "outputs": [
    {
     "data": {
      "text/plain": [
       "'아이다요'"
      ]
     },
     "execution_count": 30,
     "metadata": {},
     "output_type": "execute_result"
    }
   ],
   "source": [
    "# 목적 : 2번째 검색 결과를 클릭 후, 디테일 정보 중 가게타이틀 수집\n",
    "# 키포인트 : 현재 위치는 3번 iframe\n",
    "# 1) 원본으로 이동 2) 2번 iframe으로 이동 3) 가게클릭 4) 원본이동 5) 3번 iframe이동 6) 수집\n",
    "driver.switch_to.default_content()\n",
    "driver.switch_to.frame(search_iframe)\n",
    "title[1].click()\n",
    "time.sleep(1)\n",
    "driver.switch_to.default_content()\n",
    "entry_iframe = driver.find_element(By.CSS_SELECTOR,\"#entryIframe\")\n",
    "driver.switch_to.frame(entry_iframe)\n",
    "store_name = driver.find_element(By.CSS_SELECTOR,\"#_title > div > span.GHAhO\")\n",
    "store_name.text"
   ]
  },
  {
   "cell_type": "code",
   "execution_count": 33,
   "id": "f34c7044-a95a-4e54-8da7-8c228055f4d4",
   "metadata": {},
   "outputs": [
    {
     "ename": "KeyboardInterrupt",
     "evalue": "",
     "output_type": "error",
     "traceback": [
      "\u001b[1;31m---------------------------------------------------------------------------\u001b[0m",
      "\u001b[1;31mKeyboardInterrupt\u001b[0m                         Traceback (most recent call last)",
      "Cell \u001b[1;32mIn[33], line 7\u001b[0m\n\u001b[0;32m      5\u001b[0m driver\u001b[38;5;241m.\u001b[39mswitch_to\u001b[38;5;241m.\u001b[39mframe(search_iframe)\n\u001b[0;32m      6\u001b[0m title[i]\u001b[38;5;241m.\u001b[39mclick()\n\u001b[1;32m----> 7\u001b[0m time\u001b[38;5;241m.\u001b[39msleep(\u001b[38;5;241m3\u001b[39m)\n\u001b[0;32m      8\u001b[0m driver\u001b[38;5;241m.\u001b[39mswitch_to\u001b[38;5;241m.\u001b[39mdefault_content()\n\u001b[0;32m      9\u001b[0m entry_iframe \u001b[38;5;241m=\u001b[39m driver\u001b[38;5;241m.\u001b[39mfind_element(By\u001b[38;5;241m.\u001b[39mCSS_SELECTOR,\u001b[38;5;124m\"\u001b[39m\u001b[38;5;124m#entryIframe\u001b[39m\u001b[38;5;124m\"\u001b[39m)\n",
      "\u001b[1;31mKeyboardInterrupt\u001b[0m: "
     ]
    }
   ],
   "source": [
    "# 반복문을 통해서 모든 가게 정보 수집\n",
    "name_list = []\n",
    "for i in range(len(title)) :\n",
    "    driver.switch_to.default_content()\n",
    "    driver.switch_to.frame(search_iframe)\n",
    "    title[i].click()\n",
    "    time.sleep(3)\n",
    "    driver.switch_to.default_content()\n",
    "    entry_iframe = driver.find_element(By.CSS_SELECTOR,\"#entryIframe\")\n",
    "    driver.switch_to.frame(entry_iframe)\n",
    "    store_name = driver.find_element(By.CSS_SELECTOR,\"#_title > div > span.GHAhO\")\n",
    "    name_list.append(store_name.text)"
   ]
  },
  {
   "cell_type": "markdown",
   "id": "8d0cc1e6-4390-4bda-bdaa-88cd6f000516",
   "metadata": {},
   "source": [
    "# 오늘 파일 정리\n",
    "- 아이디가 바뀌는 선택자 존재 -> class, 계층을 활용하자\n",
    "- selenium에서 iframe을 처리하는 방법\n",
    "- 1) 원본데이터 -> iframe 이동 = driver.swtich_to.frame(이동할 iframe 위치)\n",
    "  2) frame -> frame 불가능 = frame -> 원본 -> frame 이동\n",
    "     - driver.switch_to.default_content()로 이동 후에 변환 가능\n",
    "- 태그를 수집할 때 그냥 검색된거 수집하지 말고 태그를 분석하자\n",
    "  - 글자를 클릭했을 때 화면이 바뀐다면 반드시 a태그를 수집\n",
    "  - 글자를 입력하는 공간을 수집할 때는 반드시 input태그를 수집하자\n",
    "  - 광고같은 키워드로 인해서 클릭이 되지 않는 경우 -> 큰 영역을 수집하자\n",
    "- iframe에서 스크롤 작업할 때 body가 안되는 경우가 있다\n",
    "  - 영역을 포함한 div들 중 옆에 태그로 scroll을 확인후, 그 div에게 end 보내기\n",
    "- 앞으로 스크롤 내리는 작업할 때는 while문 코드 사용하기"
   ]
  },
  {
   "cell_type": "markdown",
   "id": "5f1c3aad-7616-4c59-a689-31805dccd3c6",
   "metadata": {},
   "source": [
    "### 최종코드 통합본"
   ]
  },
  {
   "cell_type": "code",
   "execution_count": null,
   "id": "118dda45-2414-48c1-9030-d61bd2c3786e",
   "metadata": {
    "scrolled": true
   },
   "outputs": [],
   "source": [
    "#브라우저 실행\n",
    "driver = wb.Chrome()\n",
    "driver.get(\"https://map.naver.com/p?c=15.00,0,0,0,dh\")\n",
    "driver.maximize_window()\n",
    "time.sleep(1)\n",
    "# 검색어 입력\n",
    "search = driver.find_element(By.CSS_SELECTOR,\"input.input_search\")\n",
    "search.send_keys(\"동명동맛집\")\n",
    "search.send_keys(Keys.ENTER)\n",
    "time.sleep(1)\n",
    "# 검색결과 iframe 이동\n",
    "search_iframe = driver.find_element(By.CSS_SELECTOR,\"#searchIframe\")\n",
    "driver.switch_to.frame(search_iframe)\n",
    "# 스크롤\n",
    "div = driver.find_element(By.CSS_SELECTOR,\"#_pcmap_list_scroll_container\")\n",
    "while True :\n",
    "    first_data = driver.page_source\n",
    "    div.send_keys(Keys.END)\n",
    "    time.sleep(0.5)\n",
    "    last_data = driver.page_source\n",
    "    if first_data == last_data :\n",
    "        break\n",
    "# 가게리스트 수집 -> 클릭하기 위해서\n",
    "title = driver.find_elements(By.CSS_SELECTOR,\"#_pcmap_list_scroll_container > ul > li > div.CHC5F > a.tzwk0\")\n",
    "# 반복해서 수집\n",
    "name_list = []\n",
    "for i in range(len(title)) :\n",
    "    driver.switch_to.default_content()\n",
    "    driver.switch_to.frame(search_iframe)\n",
    "    title[i].click()\n",
    "    time.sleep(3)\n",
    "    driver.switch_to.default_content()\n",
    "    entry_iframe = driver.find_element(By.CSS_SELECTOR,\"#entryIframe\")\n",
    "    driver.switch_to.frame(entry_iframe)\n",
    "    store_name = driver.find_element(By.CSS_SELECTOR,\"#_title > div > span.GHAhO\")\n",
    "    name_list.append(store_name.text)"
   ]
  }
 ],
 "metadata": {
  "kernelspec": {
   "display_name": "Python [conda env:base] *",
   "language": "python",
   "name": "conda-base-py"
  },
  "language_info": {
   "codemirror_mode": {
    "name": "ipython",
    "version": 3
   },
   "file_extension": ".py",
   "mimetype": "text/x-python",
   "name": "python",
   "nbconvert_exporter": "python",
   "pygments_lexer": "ipython3",
   "version": "3.12.7"
  }
 },
 "nbformat": 4,
 "nbformat_minor": 5
}
